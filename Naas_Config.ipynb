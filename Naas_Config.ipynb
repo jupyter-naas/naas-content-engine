{
 "cells": [
  {
   "cell_type": "markdown",
   "id": "injured-evolution",
   "metadata": {
    "papermill": {},
    "tags": []
   },
   "source": [
    "<img width=\"10%\" alt=\"Naas\" src=\"https://landen.imgix.net/jtci2pxwjczr/assets/5ice39g4.png?w=160\"/>"
   ]
  },
  {
   "cell_type": "markdown",
   "id": "substantial-decline",
   "metadata": {
    "papermill": {},
    "tags": []
   },
   "source": [
    "# Naas Brand-Content Engine - Configuration\n",
    "<a href=\"https://app.naas.ai/user-redirect/naas/downloader?url=https://raw.githubusercontent.com/jupyter-naas/awesome-notebooks/master/Naas/Naas_Secret_demo.ipynb\" target=\"_parent\"><img src=\"https://naasai-public.s3.eu-west-3.amazonaws.com/open_in_naas.svg\"/></a>"
   ]
  },
  {
   "cell_type": "markdown",
   "id": "00619b69-5ce8-417a-b8b1-c81af6342f9c",
   "metadata": {
    "papermill": {},
    "tags": []
   },
   "source": [
    "**Tags:** #naas #automation #linkedin"
   ]
  },
  {
   "cell_type": "markdown",
   "id": "1446840e-74d1-4c76-afb6-4752a6b4a0c4",
   "metadata": {
    "papermill": {},
    "tags": []
   },
   "source": [
    "**Author:** [Florent Ravenel](https://www.linkedin.com/in/florent-ravenel/)"
   ]
  },
  {
   "cell_type": "markdown",
   "id": "dd3d4d6a-f15d-47f9-83ac-4208edf13bf9",
   "metadata": {
    "tags": []
   },
   "source": [
    "Description"
   ]
  },
  {
   "cell_type": "code",
   "execution_count": 11,
   "id": "6d457ab3-5c6a-44af-8014-0db9eddba851",
   "metadata": {
    "execution": {
     "iopub.execute_input": "2022-06-29T08:35:23.081741Z",
     "iopub.status.busy": "2022-06-29T08:35:23.081461Z",
     "iopub.status.idle": "2022-06-29T08:35:26.533923Z",
     "shell.execute_reply": "2022-06-29T08:35:26.533031Z",
     "shell.execute_reply.started": "2022-06-29T08:35:23.081714Z"
    },
    "papermill": {},
    "tags": []
   },
   "outputs": [],
   "source": [
    "import naas\n",
    "import pandas as pd"
   ]
  },
  {
   "cell_type": "markdown",
   "id": "import_cell",
   "metadata": {
    "papermill": {},
    "tags": []
   },
   "source": [
    "## Step 1. Pull repo"
   ]
  },
  {
   "cell_type": "code",
   "execution_count": 14,
   "id": "fbb8b2a3-59e1-4709-a22e-99a3b7d69c2b",
   "metadata": {
    "execution": {
     "iopub.execute_input": "2022-06-29T08:37:42.818420Z",
     "iopub.status.busy": "2022-06-29T08:37:42.818147Z",
     "iopub.status.idle": "2022-06-29T08:37:43.725462Z",
     "shell.execute_reply": "2022-06-29T08:37:43.724265Z",
     "shell.execute_reply.started": "2022-06-29T08:37:42.818388Z"
    },
    "tags": []
   },
   "outputs": [
    {
     "name": "stdout",
     "output_type": "stream",
     "text": [
      "fatal: destination path '/home/ftp/Naas Content Engine' already exists and is not an empty directory.\n",
      "HEAD is now at 6084689 Update README.md\n",
      "Already up to date.\n"
     ]
    }
   ],
   "source": [
    "GIT_REPO_PATH = \"/home/ftp/Naas Content Engine\"\n",
    "!git clone \"https://github.com/jupyter-naas/naas-content-engine.git\" \"$GIT_REPO_PATH\" || (cd \"$GIT_REPO_PATH\" && git reset --hard && git pull)"
   ]
  },
  {
   "cell_type": "markdown",
   "id": "749a32f5-c0b9-4e26-8b6e-e02f8330a5fa",
   "metadata": {},
   "source": [
    "## Step 2. Setup Notion"
   ]
  },
  {
   "cell_type": "code",
   "execution_count": 5,
   "id": "c399cfd7-0574-4ac3-87e3-6198eaf824c2",
   "metadata": {
    "execution": {
     "iopub.execute_input": "2022-06-27T17:28:34.298481Z",
     "iopub.status.busy": "2022-06-27T17:28:34.298293Z",
     "iopub.status.idle": "2022-06-27T17:28:34.405539Z",
     "shell.execute_reply": "2022-06-27T17:28:34.404951Z",
     "shell.execute_reply.started": "2022-06-27T17:28:34.298460Z"
    }
   },
   "outputs": [],
   "source": [
    "# Notion\n",
    "NOTION_API_KEY = \"\"\n",
    "NOTION_DATABASE_URL = \"\"\n",
    "NOTION_CONTENT_DB = \"\"\n",
    "\n",
    "# Notion\n",
    "naas.secret.add(name=\"NOTION_TOKEN\", secret=NOTION_API_KEY)\n",
    "naas.secret.add(name=\"NOTION_DATABASE_URL\", secret=NOTION_DATABASE_URL)\n",
    "naas.secret.add(name=\"NOTION_CONTENT_DB\", secret=NOTION_CONTENT_DB)"
   ]
  },
  {
   "cell_type": "markdown",
   "id": "d16633c6-b319-4835-913e-5cdb2d0d63bf",
   "metadata": {
    "execution": {
     "iopub.execute_input": "2021-10-05T13:40:52.351618Z",
     "iopub.status.busy": "2021-10-05T13:40:52.351364Z",
     "iopub.status.idle": "2021-10-05T13:40:52.355642Z",
     "shell.execute_reply": "2021-10-05T13:40:52.354027Z",
     "shell.execute_reply.started": "2021-10-05T13:40:52.351555Z"
    },
    "papermill": {},
    "tags": []
   },
   "source": [
    "## Step 3. Setup LinkedIn"
   ]
  },
  {
   "cell_type": "code",
   "execution_count": 2,
   "id": "5add4faa-8d51-4444-8920-36e03ed405cf",
   "metadata": {
    "execution": {
     "iopub.execute_input": "2022-06-27T17:28:34.061873Z",
     "iopub.status.busy": "2022-06-27T17:28:34.061688Z",
     "iopub.status.idle": "2022-06-27T17:28:34.064747Z",
     "shell.execute_reply": "2022-06-27T17:28:34.064153Z",
     "shell.execute_reply.started": "2022-06-27T17:28:34.061854Z"
    },
    "tags": []
   },
   "outputs": [],
   "source": [
    "# LinkedIn credentials\n",
    "LINKEDIN_LIAT_KEY = \"\"\n",
    "LINKEDIN_JESSION_KEY = \"\"\n",
    "\n",
    "# LinkedIn URL\n",
    "LINKEDIN_PROFILE_URL = \"\"\n",
    "LINKEDIN_COMPANY_URL = \"\"\n",
    "\n",
    "# LinkedIn\n",
    "naas.secret.add(name=\"LI_AT\", secret=LINKEDIN_LIAT_KEY)\n",
    "naas.secret.add(name=\"JSESSIONID\", secret=LINKEDIN_JESSION_KEY)\n",
    "naas.secret.add(name=\"LINKEDIN_PROFILE_URL\", secret=str(LINKEDIN_PROFILE_URL))\n",
    "naas.secret.add(name=\"LINKEDIN_COMPANY_URL\", secret=str(LINKEDIN_COMPANY_URL))"
   ]
  },
  {
   "cell_type": "markdown",
   "id": "5037516f-c3d3-4fdc-a22c-d8d20264c1af",
   "metadata": {},
   "source": [
    "## Step 4. Setup YouTube"
   ]
  },
  {
   "cell_type": "code",
   "execution_count": 3,
   "id": "63f3f65e-b1dc-4ff2-9fa0-89438e99e306",
   "metadata": {
    "execution": {
     "iopub.execute_input": "2022-06-27T17:28:34.066299Z",
     "iopub.status.busy": "2022-06-27T17:28:34.065900Z",
     "iopub.status.idle": "2022-06-27T17:28:34.180681Z",
     "shell.execute_reply": "2022-06-27T17:28:34.180020Z",
     "shell.execute_reply.started": "2022-06-27T17:28:34.066270Z"
    }
   },
   "outputs": [],
   "source": [
    "# YouTube API key\n",
    "YOUTUBE_API_KEY = \"\"\n",
    "\n",
    "# YouTube\n",
    "naas.secret.add('YOUTUBE_API_KEY', YOUTUBE_API_KEY)"
   ]
  },
  {
   "cell_type": "markdown",
   "id": "3d5a02e7-5338-4e81-84b2-c1ebd4a07a1e",
   "metadata": {},
   "source": [
    "## Step 5. Setup Twitter"
   ]
  },
  {
   "cell_type": "code",
   "execution_count": 4,
   "id": "bf3d4648-ae1f-42f5-ab90-0599c1d1a3ae",
   "metadata": {
    "execution": {
     "iopub.execute_input": "2022-06-27T17:28:34.182097Z",
     "iopub.status.busy": "2022-06-27T17:28:34.181670Z",
     "iopub.status.idle": "2022-06-27T17:28:34.295728Z",
     "shell.execute_reply": "2022-06-27T17:28:34.295160Z",
     "shell.execute_reply.started": "2022-06-27T17:28:34.182067Z"
    },
    "papermill": {},
    "tags": []
   },
   "outputs": [],
   "source": [
    "# Twitter\n",
    "TWITTER_CONSUMER_KEY = \"\"\n",
    "TWITTER_CONSUMER_SECRET = \"\"\n",
    "TWITTER_BEARER_TOKEN = \"\"\n",
    "TWITTER_ACCESS_TOKEN = \"\"\n",
    "TWITTER_ACCESS_TOKEN_SECRET = \"\"\n",
    "\n",
    "# Twitter\n",
    "naas.secret.add('TWITTER_CONSUMER_KEY', TWITTER_CONSUMER_KEY)\n",
    "naas.secret.add('TWITTER_CONSUMER_SECRET', TWITTER_CONSUMER_SECRET)\n",
    "naas.secret.add('TWITTER_BEARER_TOKEN', TWITTER_BEARER_TOKEN)\n",
    "naas.secret.add('TWITTER_ACCESS_TOKEN', TWITTER_ACCESS_TOKEN)\n",
    "naas.secret.add('TWITTER_ACCESS_TOKEN_SECRET', TWITTER_ACCESS_TOKEN_SECRET)"
   ]
  },
  {
   "cell_type": "markdown",
   "id": "16f6259c-bf5c-4a03-aa74-c45cbdcf5f85",
   "metadata": {},
   "source": [
    "## Step 6. Instagram"
   ]
  },
  {
   "cell_type": "code",
   "execution_count": null,
   "id": "43e40fc6-fe75-48e5-b32d-f87ef9ab3ed7",
   "metadata": {},
   "outputs": [],
   "source": []
  },
  {
   "cell_type": "markdown",
   "id": "e93c027f-0725-4541-877f-b10d2dfb7021",
   "metadata": {},
   "source": [
    "## Step 7. TikTok"
   ]
  },
  {
   "cell_type": "code",
   "execution_count": null,
   "id": "471d09ea-53b1-4fcb-80ef-90e16b0e82e6",
   "metadata": {},
   "outputs": [],
   "source": []
  },
  {
   "cell_type": "markdown",
   "id": "2e927d16-f64c-48b9-bc67-77d3bf315375",
   "metadata": {},
   "source": [
    "## Step 8. Setup Naas scheduler "
   ]
  },
  {
   "cell_type": "code",
   "execution_count": 6,
   "id": "24956bdc-fd92-4054-9b9c-95b2426cf1e9",
   "metadata": {
    "execution": {
     "iopub.execute_input": "2022-06-27T17:28:34.408246Z",
     "iopub.status.busy": "2022-06-27T17:28:34.408044Z",
     "iopub.status.idle": "2022-06-27T17:28:34.509995Z",
     "shell.execute_reply": "2022-06-27T17:28:34.508975Z",
     "shell.execute_reply.started": "2022-06-27T17:28:34.408223Z"
    },
    "tags": []
   },
   "outputs": [],
   "source": [
    "# the default settings below will make the notebook run everyday at 8:00\n",
    "# for information on changing this setting, please check https://crontab.guru/ for information on the required CRON syntax \n",
    "naas.scheduler.add(path=\"Naas_Engine.ipynb\", cron=\"30 8,16 * * *\")\n",
    "\n",
    "# to de-schedule this notebook, simply run the following command: \n",
    "# naas.scheduler.delete()"
   ]
  }
 ],
 "metadata": {
  "kernelspec": {
   "display_name": "Python 3",
   "language": "python",
   "name": "python3"
  },
  "language_info": {
   "codemirror_mode": {
    "name": "ipython",
    "version": 3
   },
   "file_extension": ".py",
   "mimetype": "text/x-python",
   "name": "python",
   "nbconvert_exporter": "python",
   "pygments_lexer": "ipython3",
   "version": "3.9.6"
  },
  "naas": {
   "notebook_id": "77b7f93a-fb2a-483e-b98b-80735e426a64",
   "notebook_path": "Naas/Naas_Secret_demo.ipynb"
  },
  "papermill": {
   "default_parameters": {},
   "environment_variables": {},
   "parameters": {},
   "version": "2.3.3"
  },
  "widgets": {
   "application/vnd.jupyter.widget-state+json": {
    "state": {},
    "version_major": 2,
    "version_minor": 0
   }
  }
 },
 "nbformat": 4,
 "nbformat_minor": 5
}
