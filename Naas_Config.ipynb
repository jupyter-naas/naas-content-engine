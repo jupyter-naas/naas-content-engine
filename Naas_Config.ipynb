{
 "cells": [
  {
   "cell_type": "markdown",
   "id": "injured-evolution",
   "metadata": {
    "papermill": {},
    "tags": []
   },
   "source": [
    "<img width=\"10%\" alt=\"Naas\" src=\"https://landen.imgix.net/jtci2pxwjczr/assets/5ice39g4.png?w=160\"/>"
   ]
  },
  {
   "cell_type": "markdown",
   "id": "substantial-decline",
   "metadata": {
    "papermill": {},
    "tags": []
   },
   "source": [
    "# Naas Brand-Content Engine - Configuration\n",
    "<a href=\"https://app.naas.ai/user-redirect/naas/downloader?url=https://raw.githubusercontent.com/jupyter-naas/awesome-notebooks/master/Naas/Naas_Secret_demo.ipynb\" target=\"_parent\"><img src=\"https://naasai-public.s3.eu-west-3.amazonaws.com/open_in_naas.svg\"/></a>"
   ]
  },
  {
   "cell_type": "markdown",
   "id": "00619b69-5ce8-417a-b8b1-c81af6342f9c",
   "metadata": {
    "papermill": {},
    "tags": []
   },
   "source": [
    "**Tags:** #naas #automation #linkedin"
   ]
  },
  {
   "cell_type": "markdown",
   "id": "1446840e-74d1-4c76-afb6-4752a6b4a0c4",
   "metadata": {
    "papermill": {},
    "tags": []
   },
   "source": [
    "**Author:** [Florent Ravenel](https://www.linkedin.com/in/florent-ravenel/)"
   ]
  },
  {
   "cell_type": "markdown",
   "id": "dd3d4d6a-f15d-47f9-83ac-4208edf13bf9",
   "metadata": {
    "tags": []
   },
   "source": [
    "This notebook allows you to get the [Naas Brand-Content Engine](https://github.com/jupyter-naas/naas-content-engine) and run it on your naas.\n",
    "\n",
    "Please follow the step below to setup this project."
   ]
  },
  {
   "cell_type": "markdown",
   "id": "9dff654e-e349-475f-be47-13b889672861",
   "metadata": {},
   "source": [
    "## Input"
   ]
  },
  {
   "cell_type": "markdown",
   "id": "import_cell",
   "metadata": {
    "papermill": {},
    "tags": []
   },
   "source": [
    "### Step 1. Install/Pull GitHub project"
   ]
  },
  {
   "cell_type": "markdown",
   "id": "310bb257-8558-4452-b177-082c6e06caec",
   "metadata": {},
   "source": [
    "#### Setup repo"
   ]
  },
  {
   "cell_type": "code",
   "execution_count": 1,
   "id": "fbb8b2a3-59e1-4709-a22e-99a3b7d69c2b",
   "metadata": {
    "execution": {
     "iopub.execute_input": "2022-07-12T11:25:53.341748Z",
     "iopub.status.busy": "2022-07-12T11:25:53.340844Z",
     "iopub.status.idle": "2022-07-12T11:25:56.523793Z",
     "shell.execute_reply": "2022-07-12T11:25:56.522996Z",
     "shell.execute_reply.started": "2022-07-12T11:25:53.341658Z"
    },
    "tags": []
   },
   "outputs": [
    {
     "name": "stdout",
     "output_type": "stream",
     "text": [
      "👌 Well done! Your Secret has been sent to production. \n",
      "\n",
      "PS: to remove the \"Secret\" feature, just replace .add by .delete\n",
      "👌 Well done! Your Secret has been sent to production. \n",
      "\n",
      "PS: to remove the \"Secret\" feature, just replace .add by .delete\n"
     ]
    }
   ],
   "source": [
    "import naas\n",
    "from os import path\n",
    "\n",
    "GIT_REPO_NAME = \"Naas Content Engine\"\n",
    "GIT_REPO_PATH = path.join(\"/\", \"home\", \"ftp\", GIT_REPO_NAME)\n",
    "naas.secret.add(\"GIT_REPO_NAME\", GIT_REPO_NAME)\n",
    "naas.secret.add(\"GIT_REPO_PATH\", GIT_REPO_PATH)"
   ]
  },
  {
   "cell_type": "markdown",
   "id": "b8663eb4-92ee-4254-8ab6-b93d5a55b5e3",
   "metadata": {},
   "source": [
    "#### Clone or pull GitHub repository\n",
    "Get the last version of the project"
   ]
  },
  {
   "cell_type": "code",
   "execution_count": null,
   "id": "fb183d28-4459-47e8-88de-36146cf9fd12",
   "metadata": {},
   "outputs": [],
   "source": [
    "# !git clone \"https://github.com/jupyter-naas/naas-content-engine.git\" \"$GIT_REPO_PATH\" || (cd \"$GIT_REPO_PATH\" && git reset --hard && git pull)"
   ]
  },
  {
   "cell_type": "markdown",
   "id": "c3e697f6-b6c0-4617-98fd-c091f2dfc3e9",
   "metadata": {},
   "source": [
    "## Model"
   ]
  },
  {
   "cell_type": "markdown",
   "id": "749a32f5-c0b9-4e26-8b6e-e02f8330a5fa",
   "metadata": {},
   "source": [
    "### Step 2. Setup Notion"
   ]
  },
  {
   "cell_type": "code",
   "execution_count": null,
   "id": "c399cfd7-0574-4ac3-87e3-6198eaf824c2",
   "metadata": {},
   "outputs": [],
   "source": [
    "import naas\n",
    "\n",
    "# Notion\n",
    "NOTION_API_KEY = None or \"\"\n",
    "NOTION_DATABASE_URL = None or \"\"\n",
    "NOTION_CONTENT_DB = None or \"\"\n",
    "\n",
    "naas.secret.add(name=\"NOTION_TOKEN\", secret=NOTION_API_KEY)\n",
    "naas.secret.add(name=\"NOTION_DATABASE_URL\", secret=NOTION_DATABASE_URL)\n",
    "naas.secret.add(name=\"NOTION_CONTENT_DB\", secret=NOTION_CONTENT_DB)"
   ]
  },
  {
   "cell_type": "markdown",
   "id": "d16633c6-b319-4835-913e-5cdb2d0d63bf",
   "metadata": {
    "execution": {
     "iopub.execute_input": "2021-10-05T13:40:52.351618Z",
     "iopub.status.busy": "2021-10-05T13:40:52.351364Z",
     "iopub.status.idle": "2021-10-05T13:40:52.355642Z",
     "shell.execute_reply": "2021-10-05T13:40:52.354027Z",
     "shell.execute_reply.started": "2021-10-05T13:40:52.351555Z"
    },
    "papermill": {},
    "tags": []
   },
   "source": [
    "### Step 3. Setup LinkedIn"
   ]
  },
  {
   "cell_type": "code",
   "execution_count": null,
   "id": "5add4faa-8d51-4444-8920-36e03ed405cf",
   "metadata": {
    "tags": []
   },
   "outputs": [],
   "source": [
    "import naas\n",
    "\n",
    "# LinkedIn credentials\n",
    "LINKEDIN_LIAT_KEY = None or \"\"\n",
    "LINKEDIN_JESSION_KEY = None or \"\"\n",
    "\n",
    "# LinkedIn URL\n",
    "LINKEDIN_PROFILE_URL = None or \"\"\n",
    "LINKEDIN_COMPANY_URL = None or \"\"\n",
    "\n",
    "# LinkedIn\n",
    "if LINKEDIN_LIAT_KEY:\n",
    "    naas.secret.add(name=\"LI_AT\", secret=LINKEDIN_LIAT_KEY)\n",
    "if LINKEDIN_JESSION_KEY:\n",
    "    naas.secret.add(name=\"JSESSIONID\", secret=LINKEDIN_JESSION_KEY)\n",
    "if LINKEDIN_PROFILE_URL:\n",
    "    naas.secret.add(name=\"LINKEDIN_PROFILE_URL\", secret=str(LINKEDIN_PROFILE_URL))\n",
    "if LINKEDIN_COMPANY_URL:\n",
    "    naas.secret.add(name=\"LINKEDIN_COMPANY_URL\", secret=str(LINKEDIN_COMPANY_URL))"
   ]
  },
  {
   "cell_type": "markdown",
   "id": "5037516f-c3d3-4fdc-a22c-d8d20264c1af",
   "metadata": {},
   "source": [
    "### Step 4. Setup YouTube"
   ]
  },
  {
   "cell_type": "code",
   "execution_count": null,
   "id": "63f3f65e-b1dc-4ff2-9fa0-89438e99e306",
   "metadata": {
    "tags": []
   },
   "outputs": [],
   "source": [
    "import naas\n",
    "\n",
    "# YouTube API key\n",
    "YOUTUBE_API_KEY = None or \"\"\n",
    "YOUTUBE_CHANNEL_URL = None or \"\"\n",
    "\n",
    "# YouTube\n",
    "if YOUTUBE_API_KEY:\n",
    "    naas.secret.add('YOUTUBE_API_KEY', YOUTUBE_API_KEY)\n",
    "if YOUTUBE_CHANNEL_URL:\n",
    "    naas.secret.add('YOUTUBE_CHANNEL_URL', YOUTUBE_CHANNEL_URL)"
   ]
  },
  {
   "cell_type": "markdown",
   "id": "3d5a02e7-5338-4e81-84b2-c1ebd4a07a1e",
   "metadata": {},
   "source": [
    "### Step 5. Setup Twitter"
   ]
  },
  {
   "cell_type": "code",
   "execution_count": null,
   "id": "bf3d4648-ae1f-42f5-ab90-0599c1d1a3ae",
   "metadata": {
    "papermill": {},
    "tags": []
   },
   "outputs": [],
   "source": [
    "import naas\n",
    "\n",
    "# Twitter\n",
    "TWITTER_CONSUMER_KEY = None or \"\"\n",
    "TWITTER_CONSUMER_SECRET = None or \"\"\n",
    "TWITTER_BEARER_TOKEN = None or \"\"\n",
    "TWITTER_ACCESS_TOKEN = None or \"\"\n",
    "TWITTER_ACCESS_TOKEN_SECRET = None or \"\"\n",
    "\n",
    "# Twitter\n",
    "if TWITTER_CONSUMER_KEY:\n",
    "    naas.secret.add('TWITTER_CONSUMER_KEY', TWITTER_CONSUMER_KEY)\n",
    "if TWITTER_CONSUMER_SECRET:\n",
    "    naas.secret.add('TWITTER_CONSUMER_SECRET', TWITTER_CONSUMER_SECRET)\n",
    "if TWITTER_BEARER_TOKEN:\n",
    "    naas.secret.add('TWITTER_BEARER_TOKEN', TWITTER_BEARER_TOKEN)\n",
    "if TWITTER_ACCESS_TOKEN:\n",
    "    naas.secret.add('TWITTER_ACCESS_TOKEN', TWITTER_ACCESS_TOKEN)\n",
    "if TWITTER_ACCESS_TOKEN_SECRET:\n",
    "    naas.secret.add('TWITTER_ACCESS_TOKEN_SECRET', TWITTER_ACCESS_TOKEN_SECRET)"
   ]
  },
  {
   "cell_type": "markdown",
   "id": "16f6259c-bf5c-4a03-aa74-c45cbdcf5f85",
   "metadata": {},
   "source": [
    "### Step 6. Instagram"
   ]
  },
  {
   "cell_type": "code",
   "execution_count": null,
   "id": "43e40fc6-fe75-48e5-b32d-f87ef9ab3ed7",
   "metadata": {},
   "outputs": [],
   "source": []
  },
  {
   "cell_type": "markdown",
   "id": "e93c027f-0725-4541-877f-b10d2dfb7021",
   "metadata": {},
   "source": [
    "### Step 7. TikTok"
   ]
  },
  {
   "cell_type": "code",
   "execution_count": null,
   "id": "471d09ea-53b1-4fcb-80ef-90e16b0e82e6",
   "metadata": {},
   "outputs": [],
   "source": []
  },
  {
   "cell_type": "markdown",
   "id": "545db0b8-f1bf-47fd-ac1a-80a9721a7070",
   "metadata": {},
   "source": [
    "## Output"
   ]
  },
  {
   "cell_type": "markdown",
   "id": "2e927d16-f64c-48b9-bc67-77d3bf315375",
   "metadata": {},
   "source": [
    "### Step 8. Setup Naas scheduler "
   ]
  },
  {
   "cell_type": "markdown",
   "id": "158d1257-4cd6-420b-8101-1a325bb7e284",
   "metadata": {},
   "source": [
    "#### Push all notebooks as dependencies\n",
    "For each pull, make sure notebooks are push to production"
   ]
  },
  {
   "cell_type": "code",
   "execution_count": 9,
   "id": "d40b0901-aa70-4927-9820-3561d2d30239",
   "metadata": {
    "execution": {
     "iopub.execute_input": "2022-07-12T11:40:44.792617Z",
     "iopub.status.busy": "2022-07-12T11:40:44.792369Z",
     "iopub.status.idle": "2022-07-12T11:41:09.827384Z",
     "shell.execute_reply": "2022-07-12T11:41:09.823418Z",
     "shell.execute_reply.started": "2022-07-12T11:40:44.792593Z"
    },
    "tags": []
   },
   "outputs": [
    {
     "name": "stdout",
     "output_type": "stream",
     "text": [
      "👌 Well done! Your Dependency has been sent to production. \n",
      "\n",
      "PS: to remove the \"Dependency\" feature, just replace .add by .delete\n",
      "-> /home/ftp/Naas Content Engine/LinkedIn/LinkedIn_Follow_company_content_published_frequency_by_weekdays_by_months.ipynb\n",
      "👌 Well done! Your Dependency has been sent to production. \n",
      "\n",
      "PS: to remove the \"Dependency\" feature, just replace .add by .delete\n",
      "\n",
      "\n",
      "-> /home/ftp/Naas Content Engine/LinkedIn/LinkedIn_List_top_profile_content_fans_this_month.ipynb\n",
      "👌 Well done! Your Dependency has been sent to production. \n",
      "\n",
      "PS: to remove the \"Dependency\" feature, just replace .add by .delete\n",
      "\n",
      "\n",
      "-> /home/ftp/Naas Content Engine/LinkedIn/LinkedIn_Get_company_posts_engagements.ipynb\n",
      "👌 Well done! Your Dependency has been sent to production. \n",
      "\n",
      "PS: to remove the \"Dependency\" feature, just replace .add by .delete\n",
      "\n",
      "\n",
      "-> /home/ftp/Naas Content Engine/LinkedIn/LinkedIn_List_top_profile_contents_this_month.ipynb\n",
      "👌 Well done! Your Dependency has been sent to production. \n",
      "\n",
      "PS: to remove the \"Dependency\" feature, just replace .add by .delete\n",
      "\n",
      "\n",
      "-> /home/ftp/Naas Content Engine/LinkedIn/LinkedIn_Send_profile_posts_to_Notion_DB.ipynb\n",
      "👌 Well done! Your Dependency has been sent to production. \n",
      "\n",
      "PS: to remove the \"Dependency\" feature, just replace .add by .delete\n",
      "\n",
      "\n",
      "-> /home/ftp/Naas Content Engine/LinkedIn/LinkedIn_Follow_company_followers_monthly.ipynb\n",
      "👌 Well done! Your Dependency has been sent to production. \n",
      "\n",
      "PS: to remove the \"Dependency\" feature, just replace .add by .delete\n",
      "\n",
      "\n",
      "-> /home/ftp/Naas Content Engine/LinkedIn/LinkedIn_Follow_profile_connections_monthly.ipynb\n",
      "👌 Well done! Your Dependency has been sent to production. \n",
      "\n",
      "PS: to remove the \"Dependency\" feature, just replace .add by .delete\n",
      "\n",
      "\n",
      "-> /home/ftp/Naas Content Engine/LinkedIn/_LinkedIn_Engine.ipynb\n",
      "👌 Well done! Your Dependency has been sent to production. \n",
      "\n",
      "PS: to remove the \"Dependency\" feature, just replace .add by .delete\n",
      "\n",
      "\n",
      "-> /home/ftp/Naas Content Engine/LinkedIn/LinkedIn_Get_profile_posts_engagements.ipynb\n",
      "👌 Well done! Your Dependency has been sent to production. \n",
      "\n",
      "PS: to remove the \"Dependency\" feature, just replace .add by .delete\n",
      "\n",
      "\n",
      "-> /home/ftp/Naas Content Engine/LinkedIn/LinkedIn_Send_company_posts_to_Notion_DB.ipynb\n",
      "👌 Well done! Your Dependency has been sent to production. \n",
      "\n",
      "PS: to remove the \"Dependency\" feature, just replace .add by .delete\n",
      "\n",
      "\n",
      "-> /home/ftp/Naas Content Engine/LinkedIn/LinkedIn_Follow_profile_content_published_frequency_by_weekdays_by_months.ipynb\n",
      "👌 Well done! Your Dependency has been sent to production. \n",
      "\n",
      "PS: to remove the \"Dependency\" feature, just replace .add by .delete\n",
      "\n",
      "\n",
      "-> /home/ftp/Naas Content Engine/LinkedIn/LinkedIn_List_top_company_contents_this_month.ipynb\n",
      "👌 Well done! Your Dependency has been sent to production. \n",
      "\n",
      "PS: to remove the \"Dependency\" feature, just replace .add by .delete\n",
      "\n",
      "\n",
      "-> /home/ftp/Naas Content Engine/LinkedIn/LinkedIn_List_top_company_content_fans_this_month.ipynb\n",
      "👌 Well done! Your Dependency has been sent to production. \n",
      "\n",
      "PS: to remove the \"Dependency\" feature, just replace .add by .delete\n",
      "\n",
      "\n",
      "-> /home/ftp/Naas Content Engine/LinkedIn/LinkedIn_List_new_company_followers_monthly.ipynb\n",
      "👌 Well done! Your Dependency has been sent to production. \n",
      "\n",
      "PS: to remove the \"Dependency\" feature, just replace .add by .delete\n",
      "\n",
      "\n",
      "-> /home/ftp/Naas Content Engine/LinkedIn/LinkedIn_List_new_profile_connections_monthly.ipynb\n",
      "👌 Well done! Your Dependency has been sent to production. \n",
      "\n",
      "PS: to remove the \"Dependency\" feature, just replace .add by .delete\n",
      "\n",
      "\n",
      "-> /home/ftp/Naas Content Engine/LinkedIn/LinkedIn_Follow_company_content_likes_monthly.ipynb\n",
      "👌 Well done! Your Dependency has been sent to production. \n",
      "\n",
      "PS: to remove the \"Dependency\" feature, just replace .add by .delete\n",
      "\n",
      "\n",
      "-> /home/ftp/Naas Content Engine/LinkedIn/LinkedIn_Follow_profile_content_views_monthly.ipynb\n",
      "👌 Well done! Your Dependency has been sent to production. \n",
      "\n",
      "PS: to remove the \"Dependency\" feature, just replace .add by .delete\n",
      "\n",
      "\n",
      "-> /home/ftp/Naas Content Engine/LinkedIn/LinkedIn_Follow_profile_content_engagements_monthly.ipynb\n",
      "👌 Well done! Your Dependency has been sent to production. \n",
      "\n",
      "PS: to remove the \"Dependency\" feature, just replace .add by .delete\n",
      "\n",
      "\n",
      "-> /home/ftp/Naas Content Engine/LinkedIn/LinkedIn_Get_company_posts_stats.ipynb\n",
      "👌 Well done! Your Dependency has been sent to production. \n",
      "\n",
      "PS: to remove the \"Dependency\" feature, just replace .add by .delete\n",
      "\n",
      "\n",
      "-> /home/ftp/Naas Content Engine/LinkedIn/LinkedIn_Follow_profile_content_engagement_rate_monthly.ipynb\n",
      "👌 Well done! Your Dependency has been sent to production. \n",
      "\n",
      "PS: to remove the \"Dependency\" feature, just replace .add by .delete\n",
      "\n",
      "\n",
      "-> /home/ftp/Naas Content Engine/LinkedIn/LinkedIn_Follow_profile_content_comments_monthly.ipynb\n",
      "👌 Well done! Your Dependency has been sent to production. \n",
      "\n",
      "PS: to remove the \"Dependency\" feature, just replace .add by .delete\n",
      "\n",
      "\n",
      "-> /home/ftp/Naas Content Engine/LinkedIn/LinkedIn_Follow_company_content_published_monthly.ipynb\n",
      "👌 Well done! Your Dependency has been sent to production. \n",
      "\n",
      "PS: to remove the \"Dependency\" feature, just replace .add by .delete\n",
      "\n",
      "\n",
      "-> /home/ftp/Naas Content Engine/LinkedIn/LinkedIn_List_new_company_content_fans_this_month.ipynb\n",
      "👌 Well done! Your Dependency has been sent to production. \n",
      "\n",
      "PS: to remove the \"Dependency\" feature, just replace .add by .delete\n",
      "\n",
      "\n",
      "-> /home/ftp/Naas Content Engine/LinkedIn/LinkedIn_Extract_company_content_world_cloud.ipynb\n",
      "👌 Well done! Your Dependency has been sent to production. \n",
      "\n",
      "PS: to remove the \"Dependency\" feature, just replace .add by .delete\n",
      "\n",
      "\n",
      "-> /home/ftp/Naas Content Engine/LinkedIn/LinkedIn_Follow_company_content_views_by_weekdays_by_hours.ipynb\n",
      "👌 Well done! Your Dependency has been sent to production. \n",
      "\n",
      "PS: to remove the \"Dependency\" feature, just replace .add by .delete\n",
      "\n",
      "\n",
      "-> /home/ftp/Naas Content Engine/LinkedIn/LinkedIn_Follow_profile_content_published_monthly.ipynb\n",
      "👌 Well done! Your Dependency has been sent to production. \n",
      "\n",
      "PS: to remove the \"Dependency\" feature, just replace .add by .delete\n",
      "\n",
      "\n",
      "-> /home/ftp/Naas Content Engine/LinkedIn/LinkedIn_Get_profile_posts_stats.ipynb\n",
      "👌 Well done! Your Dependency has been sent to production. \n",
      "\n",
      "PS: to remove the \"Dependency\" feature, just replace .add by .delete\n",
      "\n",
      "\n",
      "-> /home/ftp/Naas Content Engine/LinkedIn/LinkedIn_Follow_profile_content_likes_monthly.ipynb\n",
      "👌 Well done! Your Dependency has been sent to production. \n",
      "\n",
      "PS: to remove the \"Dependency\" feature, just replace .add by .delete\n",
      "\n",
      "\n",
      "-> /home/ftp/Naas Content Engine/LinkedIn/LinkedIn_Follow_company_content_engagements_monthly.ipynb\n",
      "👌 Well done! Your Dependency has been sent to production. \n",
      "\n",
      "PS: to remove the \"Dependency\" feature, just replace .add by .delete\n",
      "\n",
      "\n",
      "-> /home/ftp/Naas Content Engine/LinkedIn/LinkedIn_Follow_profile_content_views_by_weekdays_by_hours.ipynb\n",
      "👌 Well done! Your Dependency has been sent to production. \n",
      "\n",
      "PS: to remove the \"Dependency\" feature, just replace .add by .delete\n",
      "\n",
      "\n",
      "-> /home/ftp/Naas Content Engine/LinkedIn/LinkedIn_Follow_company_content_views_monthly.ipynb\n",
      "👌 Well done! Your Dependency has been sent to production. \n",
      "\n",
      "PS: to remove the \"Dependency\" feature, just replace .add by .delete\n",
      "\n",
      "\n",
      "-> /home/ftp/Naas Content Engine/LinkedIn/LinkedIn_List_new_profile_content_fans_this_month.ipynb\n",
      "👌 Well done! Your Dependency has been sent to production. \n",
      "\n",
      "PS: to remove the \"Dependency\" feature, just replace .add by .delete\n",
      "\n",
      "\n",
      "-> /home/ftp/Naas Content Engine/LinkedIn/LinkedIn_Extract_profile_content_world_cloud.ipynb\n",
      "👌 Well done! Your Dependency has been sent to production. \n",
      "\n",
      "PS: to remove the \"Dependency\" feature, just replace .add by .delete\n",
      "\n",
      "\n",
      "-> /home/ftp/Naas Content Engine/LinkedIn/LinkedIn_Follow_company_content_comments_monthly.ipynb\n",
      "👌 Well done! Your Dependency has been sent to production. \n",
      "\n",
      "PS: to remove the \"Dependency\" feature, just replace .add by .delete\n",
      "\n",
      "\n",
      "-> /home/ftp/Naas Content Engine/LinkedIn/LinkedIn_Get_profile_connections.ipynb\n",
      "👌 Well done! Your Dependency has been sent to production. \n",
      "\n",
      "PS: to remove the \"Dependency\" feature, just replace .add by .delete\n",
      "\n",
      "\n",
      "-> /home/ftp/Naas Content Engine/LinkedIn/LinkedIn_Follow_company_content_engagement_rate_monthly.ipynb\n",
      "👌 Well done! Your Dependency has been sent to production. \n",
      "\n",
      "PS: to remove the \"Dependency\" feature, just replace .add by .delete\n",
      "\n",
      "\n",
      "-> /home/ftp/Naas Content Engine/LinkedIn/LinkedIn_Get_company_followers.ipynb\n",
      "👌 Well done! Your Dependency has been sent to production. \n",
      "\n",
      "PS: to remove the \"Dependency\" feature, just replace .add by .delete\n",
      "\n",
      "\n",
      "-> /home/ftp/Naas Content Engine/YouTube/YouTube_Rank_videos_by_comments.ipynb\n",
      "👌 Well done! Your Dependency has been sent to production. \n",
      "\n",
      "PS: to remove the \"Dependency\" feature, just replace .add by .delete\n",
      "\n",
      "\n",
      "-> /home/ftp/Naas Content Engine/YouTube/YouTube_Rank_videos_by_views.ipynb\n",
      "👌 Well done! Your Dependency has been sent to production. \n",
      "\n",
      "PS: to remove the \"Dependency\" feature, just replace .add by .delete\n",
      "\n",
      "\n",
      "-> /home/ftp/Naas Content Engine/YouTube/YouTube_Rank_videos_by_likes.ipynb\n",
      "👌 Well done! Your Dependency has been sent to production. \n",
      "\n",
      "PS: to remove the \"Dependency\" feature, just replace .add by .delete\n",
      "\n",
      "\n",
      "-> /home/ftp/Naas Content Engine/YouTube/YouTube_Get_videos_stats.ipynb\n",
      "👌 Well done! Your Dependency has been sent to production. \n",
      "\n",
      "PS: to remove the \"Dependency\" feature, just replace .add by .delete\n",
      "\n",
      "\n",
      "-> /home/ftp/Naas Content Engine/Twitter/Twitter_Get_posts_stats.ipynb\n",
      "👌 Well done! Your Dependency has been sent to production. \n",
      "\n",
      "PS: to remove the \"Dependency\" feature, just replace .add by .delete\n",
      "\n",
      "\n",
      "-> /home/ftp/Naas Content Engine/Twitter/Twitter_Extract_world_cloud.ipynb.ipynb\n",
      "👌 Well done! Your Dependency has been sent to production. \n",
      "\n",
      "PS: to remove the \"Dependency\" feature, just replace .add by .delete\n",
      "\n",
      "\n",
      "-> /home/ftp/Naas Content Engine/Twitter/Twitter_Follow_content_views_monthly.ipynb\n",
      "👌 Well done! Your Dependency has been sent to production. \n",
      "\n",
      "PS: to remove the \"Dependency\" feature, just replace .add by .delete\n",
      "\n",
      "\n",
      "-> /home/ftp/Naas Content Engine/Twitter/Twitter_Follow_retweets_monthly.ipynb\n",
      "👌 Well done! Your Dependency has been sent to production. \n",
      "\n",
      "PS: to remove the \"Dependency\" feature, just replace .add by .delete\n",
      "\n",
      "\n"
     ]
    }
   ],
   "source": [
    "import glob\n",
    "\n",
    "naas.dependency.add(\"common.ipynb\")\n",
    "files = glob.glob(f\"{GIT_REPO_PATH}/*/*.ipynb\")\n",
    "for file in files:\n",
    "    print(f\"-> {file}\")\n",
    "    naas.dependency.add(file)\n",
    "    print(f\"\\n\")"
   ]
  },
  {
   "cell_type": "code",
   "execution_count": 4,
   "id": "4444dea1-a05b-491f-8dec-28ec367de0c7",
   "metadata": {
    "execution": {
     "iopub.execute_input": "2022-07-12T11:27:04.788842Z",
     "iopub.status.busy": "2022-07-12T11:27:04.788601Z",
     "iopub.status.idle": "2022-07-12T11:27:04.791602Z",
     "shell.execute_reply": "2022-07-12T11:27:04.790904Z",
     "shell.execute_reply.started": "2022-07-12T11:27:04.788817Z"
    },
    "tags": []
   },
   "outputs": [],
   "source": [
    "# LinkedIn Engine Path\n",
    "LINKEDIN_ENGINE_PATH = \"LinkedIn/_LinkedIn_Engine.ipynb\""
   ]
  },
  {
   "cell_type": "code",
   "execution_count": null,
   "id": "782c9900-129e-4582-9afb-3f0b53ce58c0",
   "metadata": {
    "tags": []
   },
   "outputs": [],
   "source": [
    "# Run Engine\n",
    "%run $LINKEDIN_ENGINE_PATH"
   ]
  },
  {
   "cell_type": "code",
   "execution_count": 8,
   "id": "24956bdc-fd92-4054-9b9c-95b2426cf1e9",
   "metadata": {
    "execution": {
     "iopub.execute_input": "2022-07-12T11:40:37.491094Z",
     "iopub.status.busy": "2022-07-12T11:40:37.490806Z",
     "iopub.status.idle": "2022-07-12T11:40:38.007714Z",
     "shell.execute_reply": "2022-07-12T11:40:38.006635Z",
     "shell.execute_reply.started": "2022-07-12T11:40:37.491067Z"
    },
    "tags": []
   },
   "outputs": [
    {
     "name": "stdout",
     "output_type": "stream",
     "text": [
      "👌 Well done! Your Notebook has been sent to production.\n",
      "\n",
      "⏰ It will be scheduled \"42 13 * * 1-5\" (more on the syntax on https://crontab.guru/).\n",
      "\n",
      "Ps: to remove the \"Scheduler\", just replace .add by .delete\n"
     ]
    }
   ],
   "source": [
    "# for information on changing this setting, please check https://crontab.guru/ for information on the required CRON syntax \n",
    "naas.scheduler.add(path=LINKEDIN_ENGINE_PATH, cron=\"42 13 * * 1-5\")\n",
    "\n",
    "# to de-schedule this notebook, simply run the following command: \n",
    "# naas.scheduler.delete(path=LINKEDIN_ENGINE_PATH)"
   ]
  },
  {
   "cell_type": "code",
   "execution_count": null,
   "id": "12ba4a18-354b-488b-af68-c7edeba2bfcb",
   "metadata": {},
   "outputs": [],
   "source": [
    "# # for information on changing this setting, please check https://crontab.guru/ for information on the required CRON syntax \n",
    "# YOUTUBE_ENGINE_PATH = path.join(GIT_REPO_PATH, \"YouTube/_YouTube_Engine.ipynb\")\n",
    "# naas.scheduler.add(path=YOUTUBE_ENGINE_PATH, cron=\"30 8 * * 1-5\")\n",
    "\n",
    "# # to de-schedule this notebook, simply run the following command: \n",
    "# # naas.scheduler.delete()"
   ]
  },
  {
   "cell_type": "code",
   "execution_count": null,
   "id": "6d7efc82-0388-4e1b-88b2-872b9318ce8e",
   "metadata": {},
   "outputs": [],
   "source": [
    "# # for information on changing this setting, please check https://crontab.guru/ for information on the required CRON syntax \n",
    "# TWITTER_ENGINE_PATH = path.join(GIT_REPO_PATH, \"Twitter/_Twitter_Engine.ipynb\")\n",
    "# naas.scheduler.add(path=TWITTER_ENGINE_PATH, cron=\"30 8 * * 1-5\")\n",
    "\n",
    "# # to de-schedule this notebook, simply run the following command: \n",
    "# # naas.scheduler.delete()"
   ]
  }
 ],
 "metadata": {
  "kernelspec": {
   "display_name": "Python 3",
   "language": "python",
   "name": "python3"
  },
  "language_info": {
   "codemirror_mode": {
    "name": "ipython",
    "version": 3
   },
   "file_extension": ".py",
   "mimetype": "text/x-python",
   "name": "python",
   "nbconvert_exporter": "python",
   "pygments_lexer": "ipython3",
   "version": "3.9.6"
  },
  "naas": {
   "notebook_id": "77b7f93a-fb2a-483e-b98b-80735e426a64",
   "notebook_path": "Naas/Naas_Secret_demo.ipynb"
  },
  "papermill": {
   "default_parameters": {},
   "environment_variables": {},
   "parameters": {},
   "version": "2.3.3"
  },
  "widgets": {
   "application/vnd.jupyter.widget-state+json": {
    "state": {},
    "version_major": 2,
    "version_minor": 0
   }
  }
 },
 "nbformat": 4,
 "nbformat_minor": 5
}
