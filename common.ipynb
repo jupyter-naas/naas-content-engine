{
 "cells": [
  {
   "cell_type": "markdown",
   "id": "633951dc-ca87-4032-ad2d-b76a909861bf",
   "metadata": {},
   "source": [
    "# Common function shared"
   ]
  },
  {
   "cell_type": "markdown",
   "id": "ac586014-0e55-4799-89d5-8c9418949b85",
   "metadata": {},
   "source": [
    "By default, **your databases** will be stored in Naas in the **\"Inputs\"** folder of each tool.<br>\n",
    "You can edit it by changing the path of the outputs below if you want to connect to any kind of other tools.\n",
    "\n",
    "*LinkedIn:*\n",
    "- Profile posts stats\n",
    "- Company posts stats\n",
    "- Profile connections\n",
    "- Company followers\n",
    "- Profile posts engagements\n",
    "- Company posts engagements\n",
    "\n",
    "*YouTube:*\n",
    "- Video stats\n",
    "\n",
    "By default, all **your assets** will be store in Naas in the **\"Outputs\"**:\n",
    "- Image\n",
    "- HTML\n",
    "- Post process data"
   ]
  },
  {
   "cell_type": "markdown",
   "id": "524d5465-bce2-42f3-8d18-6f821dae07a5",
   "metadata": {},
   "source": [
    "## Input"
   ]
  },
  {
   "cell_type": "markdown",
   "id": "71d3ac41-a2af-4540-b6f4-c2a5be24714d",
   "metadata": {},
   "source": [
    "### Import libraries"
   ]
  },
  {
   "cell_type": "code",
   "execution_count": 1,
   "id": "48a0ba26-31f8-4097-bf19-852a39cfdf9f",
   "metadata": {
    "execution": {
     "iopub.execute_input": "2022-06-29T17:17:44.522127Z",
     "iopub.status.busy": "2022-06-29T17:17:44.521710Z",
     "iopub.status.idle": "2022-06-29T17:17:55.888613Z",
     "shell.execute_reply": "2022-06-29T17:17:55.887902Z",
     "shell.execute_reply.started": "2022-06-29T17:17:44.522056Z"
    },
    "tags": []
   },
   "outputs": [],
   "source": [
    "import naas\n",
    "import pandas as pd\n",
    "from naas_drivers import notion, linkedin, youtube\n",
    "from datetime import datetime\n",
    "import pytz\n",
    "from os import path, environ, makedirs\n",
    "import plotly.graph_objects as go\n",
    "from plotly.subplots import make_subplots\n",
    "from naas_drivers.tools.notion import Link, BlockEmbed\n",
    "import plotly.express as px"
   ]
  },
  {
   "cell_type": "markdown",
   "id": "68da7dd9-dc09-413c-9afc-2bf5c22c6f9c",
   "metadata": {},
   "source": [
    "### Get data"
   ]
  },
  {
   "cell_type": "code",
   "execution_count": 2,
   "id": "6be59b74-b055-4ff4-b422-2e23abd16584",
   "metadata": {
    "execution": {
     "iopub.execute_input": "2022-06-29T17:17:55.890083Z",
     "iopub.status.busy": "2022-06-29T17:17:55.889699Z",
     "iopub.status.idle": "2022-06-29T17:17:55.925548Z",
     "shell.execute_reply": "2022-06-29T17:17:55.924862Z",
     "shell.execute_reply.started": "2022-06-29T17:17:55.890052Z"
    },
    "tags": []
   },
   "outputs": [],
   "source": [
    "def get_data(file_path, storage=\"Naas\"):\n",
    "    try:\n",
    "        # Get CSV in Naas\n",
    "        if storage == \"Naas\":\n",
    "            if not naas.is_production():\n",
    "                try:\n",
    "                    input_path = path.join(PROD_DIR, file_path)\n",
    "                    df = pd.read_csv(input_path) \n",
    "                except:\n",
    "                    input_path = path.join(DEV_DIR, file_path)\n",
    "                    df = pd.read_csv(input_path)\n",
    "                    return df\n",
    "            else:\n",
    "                input_path = path.join(PROD_DIR, file_path)\n",
    "                df = pd.read_csv(input_path) \n",
    "        # Get AWS \n",
    "        elif storage == \"AWS\":\n",
    "            df = wr.s3.read_parquet(file_path, dataset=True)\n",
    "    except Exception as e:\n",
    "        print(e)\n",
    "        # Empty dataframe returned\n",
    "        return pd.DataFrame()\n",
    "    return df"
   ]
  },
  {
   "cell_type": "markdown",
   "id": "f44e10e3-12c2-43a5-ac37-000109452266",
   "metadata": {
    "execution": {
     "iopub.execute_input": "2022-02-05T16:30:04.247951Z",
     "iopub.status.busy": "2022-02-05T16:30:04.247695Z",
     "iopub.status.idle": "2022-02-05T16:30:04.250751Z",
     "shell.execute_reply": "2022-02-05T16:30:04.250118Z",
     "shell.execute_reply.started": "2022-02-05T16:30:04.247927Z"
    },
    "tags": []
   },
   "source": [
    "### Setup Variables"
   ]
  },
  {
   "cell_type": "code",
   "execution_count": 3,
   "id": "64046878-20ff-4a4f-ae34-af3773fc43fc",
   "metadata": {
    "execution": {
     "iopub.execute_input": "2022-06-29T17:17:55.927038Z",
     "iopub.status.busy": "2022-06-29T17:17:55.926661Z",
     "iopub.status.idle": "2022-06-29T17:17:56.231047Z",
     "shell.execute_reply": "2022-06-29T17:17:56.230290Z",
     "shell.execute_reply.started": "2022-06-29T17:17:55.927009Z"
    },
    "tags": []
   },
   "outputs": [],
   "source": [
    "# Timezone\n",
    "TIMEZONE = \"Europe/Paris\"\n",
    "\n",
    "# Month Rolling\n",
    "MONTH_ROLLING = 12\n",
    "\n",
    "# MTD\n",
    "PERIOD_MTD = \"%Y-%m\"\n",
    "ORDER_MTD = \"%Y%m\"\n",
    "DISPLAY_MTD = \"%b %Y\"\n",
    "TEXT_MTD = \"This month\"\n",
    "TEXT2_MTD = \"months\"\n",
    "SCENARIO_MTD = \"MTD\"\n",
    "CURRENT_MTD = datetime.now().strftime(PERIOD_MTD)\n",
    "\n",
    "# Datetime format\n",
    "DATETIME_FORMAT = \"%Y-%m-%d %H:%M:%S\"\n",
    "\n",
    "# Naas directory\n",
    "PROJECT = naas.secret.get(\"GIT_REPO_NAME\")\n",
    "PROJECT_PATH = naas.secret.get(\"GIT_REPO_PATH\")\n",
    "\n",
    "# Manage DIR\n",
    "PROD_DIR = path.join(\"/\", \"home\", \"ftp\", \"⚡ → Production\", PROJECT)\n",
    "DEV_DIR = PROJECT_PATH\n",
    "if naas.is_production():\n",
    "    DIR = PROD_DIR\n",
    "else:\n",
    "    DIR = DEV_DIR"
   ]
  },
  {
   "cell_type": "markdown",
   "id": "c34071b7-4b95-4034-84a2-3e3deec9f1d2",
   "metadata": {},
   "source": [
    "### Setup LinkedIn"
   ]
  },
  {
   "cell_type": "code",
   "execution_count": 15,
   "id": "c8e78f7d-7165-4024-9013-b6e86e6b4de4",
   "metadata": {
    "execution": {
     "iopub.execute_input": "2022-06-29T17:25:58.213922Z",
     "iopub.status.busy": "2022-06-29T17:25:58.213699Z",
     "iopub.status.idle": "2022-06-29T17:25:58.726419Z",
     "shell.execute_reply": "2022-06-29T17:25:58.725818Z",
     "shell.execute_reply.started": "2022-06-29T17:25:58.213899Z"
    },
    "tags": []
   },
   "outputs": [],
   "source": [
    "# LinkedIn cookies\n",
    "LI_AT = naas.secret.get(\"LI_AT\") # EXAMPLE : \"AQFAzQN_PLPR4wAAAXc-FCKmgiMit5FLdY1af3-2\"\n",
    "JSESSIONID = naas.secret.get(\"JSESSIONID\") # EXAMPLE : \"ajax:8379907400220387585\"\n",
    "LINKEDIN_PROFILE_URL = naas.secret.get(\"LINKEDIN_PROFILE_URL\") # EXAMPLE : \"ajax:8379907400220387585\"\n",
    "LINKEDIN_COMPANY_URL = naas.secret.get(\"LINKEDIN_COMPANY_URL\") # EXAMPLE : \"ajax:8379907400220387585\"\n",
    "\n",
    "# Outputs folders\n",
    "LINKEDIN_INPUTS = path.join(\"LinkedIn\", \"Inputs\")\n",
    "if not path.exists(path.join(DIR, LINKEDIN_INPUTS)):\n",
    "    makedirs(path.join(DIR, LINKEDIN_INPUTS))\n",
    "\n",
    "LINKEDIN_OUTPUTS = path.join(\"LinkedIn\", \"Outputs\")\n",
    "if not path.exists(path.join(DIR, LINKEDIN_OUTPUTS)):\n",
    "    makedirs(path.join(DIR, LINKEDIN_OUTPUTS))\n",
    "\n",
    "# Get LinkedIn ID\n",
    "def get_identity(file_path, identity):\n",
    "    df = pd.DataFrame()\n",
    "    file_path = path.join(DIR, file_path)\n",
    "    try:\n",
    "        df = pd.read_csv(file_path)\n",
    "    except FileNotFoundError as e:\n",
    "        # Empty dataframe returned\n",
    "        if identity == \"profile\":\n",
    "            if naas.secret.get(\"LINKEDIN_PROFILE_URL\"):\n",
    "                df = linkedin.connect(LI_AT, JSESSIONID).profile.get_identity(LINKEDIN_PROFILE_URL)\n",
    "        elif identity == \"company\":\n",
    "            if naas.secret.get(\"LINKEDIN_COMPANY_URL\"):\n",
    "                df = linkedin.connect(LI_AT, JSESSIONID).company.get_info(LINKEDIN_COMPANY_URL)\n",
    "        if len(df) > 0:\n",
    "            df.to_csv(file_path, index=False)\n",
    "            naas.dependency.add(file_path)\n",
    "            return df\n",
    "    return df\n",
    "\n",
    "# LinkedIn Profile info\n",
    "LK_PROFILE_IDENTITY = path.join(LINKEDIN_INPUTS, \"LINKEDIN_PROFILE.csv\")\n",
    "df_profile = get_identity(file_path=LK_PROFILE_IDENTITY, identity=\"profile\")\n",
    "LK_PROFILE_ID = \"\"\n",
    "LK_FULLNAME = \"\"\n",
    "if len(df_profile) > 0:\n",
    "    LK_PROFILE_ID = df_profile.loc[0, \"PROFILE_ID\"]\n",
    "    LK_FIRSTNAME = df_profile.loc[0, \"FIRSTNAME\"]\n",
    "    LK_LASTNAME = df_profile.loc[0, \"LASTNAME\"]\n",
    "    LK_FULLNAME = f\"{LK_FIRSTNAME} {LK_LASTNAME}\"\n",
    "\n",
    "# LinkedIn Company info\n",
    "LK_COMPANY_INFO = path.join(LINKEDIN_INPUTS, \"LINKEDIN_COMPANY.csv\")\n",
    "df_company = get_identity(file_path=LK_COMPANY_INFO, identity=\"company\")\n",
    "LK_COMPANY_ID = \"\"\n",
    "LK_COMPANY_NAME = \"\"\n",
    "if len(df_company) > 0:\n",
    "    LK_COMPANY_ID = df_company.loc[0, \"COMPANY_ID\"]\n",
    "    LK_COMPANY_NAME = df_company.loc[0, \"COMPANY_NAME\"]\n",
    "\n",
    "# Linkedin Stype\n",
    "LINKEDIN = \"LinkedIn\"\n",
    "LINKEDIN_LOGO = \"https://upload.wikimedia.org/wikipedia/commons/thumb/c/ca/LinkedIn_logo_initials.png/800px-LinkedIn_logo_initials.png\"\n",
    "LINKEDIN_COLOR = \"#1293d2\"\n",
    "LINKEDIN_COLOR2 = \"#cfe9f6\"\n",
    "\n",
    "# LinkedIn Profile DATABASES\n",
    "LK_PROFILE_POSTS = path.join(LINKEDIN_INPUTS, f'LINKEDIN_PROFILE_POSTS_{LK_PROFILE_ID}.csv')\n",
    "LK_PROFILE_CONNECTIONS = path.join(LINKEDIN_INPUTS, f'LINKEDIN_PROFILE_CONNECTIONS_{LK_PROFILE_ID}.csv')\n",
    "LK_PROFILE_POSTS_LIKES = path.join(LINKEDIN_INPUTS, f'LINKEDIN_PROFILE_POSTS_LIKES_{LK_PROFILE_ID}.csv')\n",
    "LK_PROFILE_POSTS_COMMENTS = path.join(LINKEDIN_INPUTS, f'LINKEDIN_PROFILE_POSTS_COMMENTS_{LK_PROFILE_ID}.csv')\n",
    "LK_PROFILE_ENGAGEMENTS = path.join(LINKEDIN_INPUTS, f'LINKEDIN_PROFILE_ENGAGEMENTS_{LK_PROFILE_ID}.csv')\n",
    "\n",
    "# LinkedIn Company DATABASES\n",
    "LK_COMPANY_POSTS = path.join(LINKEDIN_INPUTS, f'LINKEDIN_COMPANY_POSTS_{LK_COMPANY_ID}.csv')\n",
    "LK_COMPANY_FOLLOWERS = path.join(LINKEDIN_INPUTS, f'LINKEDIN_COMPANY_FOLLOWERS_{LK_COMPANY_ID}.csv')\n",
    "LK_COMPANY_POSTS_LIKES = path.join(LINKEDIN_INPUTS, f'LINKEDIN_COMPANY_POSTS_LIKES_{LK_COMPANY_ID}.csv')\n",
    "LK_COMPANY_POSTS_COMMENTS = path.join(LINKEDIN_INPUTS, f'LINKEDIN_COMPANY_POSTS_COMMENTS_{LK_COMPANY_ID}.csv')\n",
    "LK_COMPANY_ENGAGEMENTS = path.join(LINKEDIN_INPUTS, f'LINKEDIN_COMPANY_ENGAGEMENTS_{LK_COMPANY_ID}.csv')"
   ]
  },
  {
   "cell_type": "markdown",
   "id": "feda35fe-76f9-4dd0-a29f-4f98deaa235b",
   "metadata": {},
   "source": [
    "### Setup YouTube"
   ]
  },
  {
   "cell_type": "code",
   "execution_count": null,
   "id": "b9c0cf02-1444-496d-a6f8-09ba06483d04",
   "metadata": {
    "execution": {
     "iopub.status.busy": "2022-06-29T17:17:58.461215Z",
     "iopub.status.idle": "2022-06-29T17:17:58.461449Z",
     "shell.execute_reply": "2022-06-29T17:17:58.461342Z"
    },
    "tags": []
   },
   "outputs": [],
   "source": [
    "# YouTube credentials\n",
    "YOUTUBE_API_KEY = naas.secret.get('YOUTUBE_API_KEY')\n",
    "YOUTUBE_CHANNEL_URL = naas.secret.get('YOUTUBE_CHANNEL_URL')\n",
    "\n",
    "# Outputs folders\n",
    "YOUTUBE_INPUTS = path.join(\"YouTube\", \"Inputs\")\n",
    "if not path.exists(path.join(DIR, YOUTUBE_INPUTS)):\n",
    "    makedirs(path.join(DIR, YOUTUBE_INPUTS))\n",
    "\n",
    "YOUTUBE_OUTPUTS = path.join(\"YouTube\", \"Outputs\")\n",
    "if not path.exists(path.join(DIR, YOUTUBE_OUTPUTS)):\n",
    "    makedirs(path.join(DIR, YOUTUBE_OUTPUTS))\n",
    "\n",
    "# YouTube Channel info\n",
    "YT_CHANNEL_ID = YOUTUBE_CHANNEL_URL.split(\"/channel/\")[-1].split(\"/\")[0]\n",
    "\n",
    "# YouTube\n",
    "YOUTUBE = \"YouTube\"\n",
    "YOUTUBE_LOGO = \"https://upload.wikimedia.org/wikipedia/commons/thumb/7/72/YouTube_social_white_square_%282017%29.svg/300px-YouTube_social_white_square_%282017%29.svg.png\"\n",
    "YOUTUBE_COLOR = \"#FF0000\"\n",
    "\n",
    "# YouTube videos\n",
    "YT_VIDEOS = path.join(YOUTUBE_INPUTS, f'YOUTUBE_VIDEOS_{YT_CHANNEL_ID}.csv')"
   ]
  },
  {
   "cell_type": "markdown",
   "id": "ae43c0fb-4534-44ff-a058-82563e280a04",
   "metadata": {},
   "source": [
    "### Setup Twitter"
   ]
  },
  {
   "cell_type": "code",
   "execution_count": null,
   "id": "35a209e4-3158-4dcb-a433-6c9e90d0b3ae",
   "metadata": {
    "execution": {
     "iopub.status.busy": "2022-06-29T17:17:58.462284Z",
     "iopub.status.idle": "2022-06-29T17:17:58.462605Z",
     "shell.execute_reply": "2022-06-29T17:17:58.462440Z"
    },
    "tags": []
   },
   "outputs": [],
   "source": [
    "# Outputs folders\n",
    "TWITTER_INPUTS = path.join(\"Twitter\", \"Inputs\")\n",
    "if not path.exists(path.join(DIR, TWITTER_INPUTS)):\n",
    "    makedirs(path.join(DIR, TWITTER_INPUTS))\n",
    "\n",
    "TWITTER_OUTPUTS = path.join(\"Twitter\", \"Outputs\")\n",
    "if not path.exists(path.join(DIR, TWITTER_OUTPUTS)):\n",
    "    makedirs(path.join(DIR, TWITTER_OUTPUTS))\n",
    "\n",
    "# Twitter\n",
    "TWITTER = \"Twitter\"\n",
    "TWITTER_LOGO = \"https://sapiens-uspc.com/wp-content/uploads/2017/10/twitter-logo-vector.png\"\n",
    "TWITTER_COLOR = \"#1DA1F2\""
   ]
  },
  {
   "cell_type": "markdown",
   "id": "51fbe5a6-310d-40d2-9450-635ce4ee528f",
   "metadata": {},
   "source": [
    "### Setup Notion"
   ]
  },
  {
   "cell_type": "code",
   "execution_count": null,
   "id": "36693de8-cc96-455f-ae3e-f3a9354af4ee",
   "metadata": {
    "execution": {
     "iopub.status.busy": "2022-06-29T17:17:58.463269Z",
     "iopub.status.idle": "2022-06-29T17:17:58.463601Z",
     "shell.execute_reply": "2022-06-29T17:17:58.463436Z"
    }
   },
   "outputs": [],
   "source": [
    "NOTION_CONTENT_DB = naas.secret.get(\"NOTION_CONTENT_DB\")\n",
    "NOTION_TOKEN = naas.secret.get(\"NOTION_TOKEN\")"
   ]
  },
  {
   "cell_type": "markdown",
   "id": "ea6ff4cf-cea6-420e-b190-5979156b5fed",
   "metadata": {},
   "source": [
    "## Model"
   ]
  },
  {
   "cell_type": "markdown",
   "id": "0774af26-098b-462c-9350-8e9fe1a60144",
   "metadata": {},
   "source": [
    "### Get notion content db"
   ]
  },
  {
   "cell_type": "code",
   "execution_count": null,
   "id": "c15bb4ee-fe84-413f-95eb-0be273fe6a30",
   "metadata": {
    "execution": {
     "iopub.status.busy": "2022-06-29T17:17:58.464431Z",
     "iopub.status.idle": "2022-06-29T17:17:58.464893Z",
     "shell.execute_reply": "2022-06-29T17:17:58.464718Z"
    }
   },
   "outputs": [],
   "source": [
    "def get_notion_df(database_url):\n",
    "    # Get pages\n",
    "    database_id = database_url.split(\"/\")[-1].split(\"?v=\")[0]\n",
    "    pages = notion.connect(NOTION_TOKEN).database.query(database_id, query={})\n",
    "    if len(pages) == 0:\n",
    "        return pd.DataFrame()\n",
    "    \n",
    "    # Rename columns\n",
    "    columns = pages[0].df().Name.tolist()\n",
    "    to_rename = {}\n",
    "    for i, v in enumerate(columns):\n",
    "        to_rename[i] = v\n",
    "    \n",
    "    # Create dataframe from pages\n",
    "    df = pd.DataFrame()\n",
    "    for page in pages:\n",
    "        values = page.df().drop(\"Type\", axis=1).to_dict().get(\"Value\")\n",
    "        tmp_df = pd.DataFrame([values]).rename(columns=to_rename)\n",
    "        content_url = tmp_df.loc[0, \"Content URL\"]\n",
    "        if content_url == \"None\":\n",
    "            notion.connect(NOTION_TOKEN).blocks.delete(page.id)\n",
    "        else:\n",
    "            df = pd.concat([df, tmp_df])\n",
    "\n",
    "    df = df.sort_values(by=\"Publication Date\", ascending=False).reset_index(drop=True)\n",
    "    print(\"✅ Notion content DB:\", len(df))\n",
    "    return df"
   ]
  },
  {
   "cell_type": "markdown",
   "id": "c605f360-3459-40d1-a68b-227f38a6684e",
   "metadata": {},
   "source": [
    "### Create barchart"
   ]
  },
  {
   "cell_type": "code",
   "execution_count": null,
   "id": "75d7da29-4c45-4758-995b-20b858a2aa72",
   "metadata": {
    "execution": {
     "iopub.status.busy": "2022-06-29T17:17:58.465671Z",
     "iopub.status.idle": "2022-06-29T17:17:58.466032Z",
     "shell.execute_reply": "2022-06-29T17:17:58.465858Z"
    },
    "tags": []
   },
   "outputs": [],
   "source": [
    "def create_barchart(df,\n",
    "                    label=\"DATE_D\",\n",
    "                    value=\"VALUE\",\n",
    "                    value_d=\"VALUE_D\",\n",
    "                    text=\"TEXT\"):\n",
    "    # Init\n",
    "    fig = go.Figure()\n",
    "    \n",
    "    # Create fig\n",
    "    fig.add_trace(\n",
    "        go.Bar(\n",
    "            x=df[label],\n",
    "            y=df[value],\n",
    "            text=df[value_d],\n",
    "            textposition=\"outside\",\n",
    "            hoverinfo=\"text\",\n",
    "            hovertext=df[text],\n",
    "            marker=dict(color=COLOR)\n",
    "        )\n",
    "    )\n",
    "    # Add logo\n",
    "    fig.add_layout_image(\n",
    "        dict(\n",
    "            source=LOGO,\n",
    "            xref=\"paper\",\n",
    "            yref=\"paper\",\n",
    "            x=0.01,\n",
    "            y=1.045,\n",
    "            sizex=0.12,\n",
    "            sizey=0.12,\n",
    "            xanchor=\"right\",\n",
    "            yanchor=\"bottom\"\n",
    "        )\n",
    "    )\n",
    "    fig.update_traces(showlegend=False)\n",
    "    # Plotly: Create title\n",
    "    total_value = \"{:,.0f}\".format(df[value].sum()).replace(\",\", \" \")\n",
    "    varv = df.loc[df.index[-1], \"VARV\"]\n",
    "    varp = df.loc[df.index[-1], \"VARP\"]\n",
    "    varv_d = \"{:,.0f}\".format(varv).replace(\",\", \" \")\n",
    "    varp_d = \"{:,.0%}\".format(varp).replace(\",\", \" \")\n",
    "    if varv >= 0:\n",
    "        varv_d = f\"+{varv_d}\"\n",
    "        varp_d = f\"+{varp_d}\"\n",
    "    title = f\"<b><span style='font-size: 20px;'>{TITLE}</span></b><br><span style='font-size: 18px;'>Total: {total_value} | {PERIOD_TEXT}: {varv_d} ({varp_d})</span>\"\n",
    "    fig.update_layout(\n",
    "        title=title,\n",
    "        title_x=0.09,\n",
    "        title_font=dict(family=\"Arial\", color=\"black\"),\n",
    "        paper_bgcolor=\"#ffffff\",\n",
    "        plot_bgcolor=\"#ffffff\",\n",
    "        width=1200,\n",
    "        height=600,\n",
    "        margin_pad=10,\n",
    "    )\n",
    "    fig.show()\n",
    "    return fig"
   ]
  },
  {
   "cell_type": "markdown",
   "id": "525d322c-7774-440b-a323-5f9a8f2ad25b",
   "metadata": {},
   "source": [
    "### Create barlinechart"
   ]
  },
  {
   "cell_type": "code",
   "execution_count": null,
   "id": "e5d92983-2b7e-4207-a92f-b98e6026b37d",
   "metadata": {
    "execution": {
     "iopub.status.busy": "2022-06-29T17:17:58.466911Z",
     "iopub.status.idle": "2022-06-29T17:17:58.467281Z",
     "shell.execute_reply": "2022-06-29T17:17:58.467110Z"
    },
    "tags": []
   },
   "outputs": [],
   "source": [
    "def create_barlinechart(df,\n",
    "                        label=\"DATE_D\",\n",
    "                        value=\"VALUE\",\n",
    "                        value_d=\"VALUE_D\",\n",
    "                        text=\"TEXT\",\n",
    "                        yaxes_left=None,\n",
    "                        yaxes_right=None):\n",
    "    # Init\n",
    "    fig = go.Figure()\n",
    "    \n",
    "    # Create figure with secondary y-axis\n",
    "    fig = make_subplots(specs=[[{\"secondary_y\": True}]])\n",
    "\n",
    "    # Add traces\n",
    "    fig.add_trace(\n",
    "        go.Bar(\n",
    "            x=df[label],\n",
    "            y=df[\"VARV\"],\n",
    "            textposition=\"outside\",\n",
    "            hoverinfo=\"text\",\n",
    "            hovertext=df[text],\n",
    "            marker=dict(color=COLOR2)\n",
    "        ),\n",
    "        secondary_y=False,\n",
    "    )\n",
    "    fig.add_trace(\n",
    "        go.Scatter(\n",
    "            x=df[label],\n",
    "            y=df[value],\n",
    "            mode=\"lines+markers+text\",\n",
    "            hoverinfo=\"text\",\n",
    "            text=df[value_d],\n",
    "            textposition=\"top left\",\n",
    "            hovertext=df[text],\n",
    "            line=dict(color=COLOR, width=4),\n",
    "        ),\n",
    "        secondary_y=True,\n",
    "    )\n",
    "    # Set y-axes titles\n",
    "    fig.update_yaxes(\n",
    "        title_text=yaxes_left,\n",
    "        title_font=dict(family=\"Arial\", size=14, color=\"black\"),\n",
    "        secondary_y=False\n",
    "    )\n",
    "    fig.update_yaxes(\n",
    "        title_text=yaxes_right,\n",
    "        title_font=dict(family=\"Arial\", size=14, color=\"black\"),\n",
    "        secondary_y=True\n",
    "    )\n",
    "    # Add logo\n",
    "    fig.add_layout_image(\n",
    "        dict(\n",
    "            source=LOGO,\n",
    "            xref=\"paper\",\n",
    "            yref=\"paper\",\n",
    "            x=0.01,\n",
    "            y=1.045,\n",
    "            sizex=0.12,\n",
    "            sizey=0.12,\n",
    "            xanchor=\"right\",\n",
    "            yanchor=\"bottom\"\n",
    "        )\n",
    "    )\n",
    "    fig.update_traces(showlegend=False)\n",
    "    # Plotly: Create title\n",
    "    total_value = \"{:,.0f}\".format(df.loc[df.index[-1], \"VALUE\"]).replace(\",\", \" \")\n",
    "    varv = df.loc[df.index[-1], \"VARV\"]\n",
    "    varp = df.loc[df.index[-1], \"VARP\"]\n",
    "    varv_d = \"{:,.0f}\".format(varv).replace(\",\", \" \")\n",
    "    varp_d = \"{:,.0%}\".format(varp).replace(\",\", \" \")\n",
    "    if varv >= 0:\n",
    "        varv_d = f\"+{varv_d}\"\n",
    "        varp_d = f\"+{varp_d}\"\n",
    "    title = f\"<b><span style='font-size: 20px;'>{TITLE}</span></b><br><span style='font-size: 18px;'>Total: {total_value} | {PERIOD_TEXT}: {varv_d} ({varp_d})</span>\"\n",
    "    fig.update_layout(\n",
    "        title=title,\n",
    "        title_x=0.09,\n",
    "        title_font=dict(family=\"Arial\", color=\"black\"),\n",
    "        paper_bgcolor=\"#ffffff\",\n",
    "        plot_bgcolor=\"#ffffff\",\n",
    "        width=1200,\n",
    "        height=600,\n",
    "        margin_pad=10,\n",
    "    )\n",
    "    fig.show()\n",
    "    return fig"
   ]
  },
  {
   "cell_type": "markdown",
   "id": "d5490e16-84e1-494d-a165-c5ac998346d0",
   "metadata": {},
   "source": [
    "### Calc variation"
   ]
  },
  {
   "cell_type": "code",
   "execution_count": null,
   "id": "b88316b4-7767-4438-b460-39b12a666bb1",
   "metadata": {
    "execution": {
     "iopub.status.busy": "2022-06-29T17:17:58.468199Z",
     "iopub.status.idle": "2022-06-29T17:17:58.468564Z",
     "shell.execute_reply": "2022-06-29T17:17:58.468390Z"
    },
    "tags": []
   },
   "outputs": [],
   "source": [
    "def calc_value(df_init, value=\"VALUE\", value_comp=\"VALUE_COMP\", varv=\"VARV\", varp=\"VARP\"):\n",
    "    v1 = 0\n",
    "    v2 = 0\n",
    "    v3 = 0\n",
    "    v4 = 0\n",
    "    df = df_init.reset_index(drop=True)\n",
    "    if len(df) > 0:\n",
    "        if value in df.columns:\n",
    "            v1 = df.loc[df.index[-1], value]\n",
    "        if value_comp in df.columns:\n",
    "            v2 = df.loc[df.index[-1], value_comp]\n",
    "        if varv in df.columns:\n",
    "            v3 = df.loc[df.index[-1], varv]\n",
    "        if varp in df.columns:\n",
    "            v4 = df.loc[df.index[-1], varp]\n",
    "        return v1, v2, v3, v4\n",
    "    else:\n",
    "        return 0, 0, 0, 0"
   ]
  },
  {
   "cell_type": "markdown",
   "id": "d856dbf2-37a4-4e52-804a-81c3728b99a7",
   "metadata": {},
   "source": [
    "## Output"
   ]
  },
  {
   "cell_type": "markdown",
   "id": "df05909e-bfcf-4acc-a187-1c5e548c4842",
   "metadata": {
    "execution": {
     "iopub.execute_input": "2022-06-23T07:28:50.900828Z",
     "iopub.status.busy": "2022-06-23T07:28:50.900591Z",
     "iopub.status.idle": "2022-06-23T07:28:50.904914Z",
     "shell.execute_reply": "2022-06-23T07:28:50.904289Z",
     "shell.execute_reply.started": "2022-06-23T07:28:50.900804Z"
    },
    "tags": []
   },
   "source": [
    "### Save data"
   ]
  },
  {
   "cell_type": "code",
   "execution_count": null,
   "id": "a050513a-75db-4784-9480-b7cc64bd1a86",
   "metadata": {
    "execution": {
     "iopub.status.busy": "2022-06-29T17:17:58.469403Z",
     "iopub.status.idle": "2022-06-29T17:17:58.469759Z",
     "shell.execute_reply": "2022-06-29T17:17:58.469592Z"
    },
    "tags": []
   },
   "outputs": [],
   "source": [
    "def save_data(df, file_path, storage=\"Naas\"):\n",
    "    output_path = None\n",
    "    try:\n",
    "        if storage == \"Naas\":\n",
    "            if not naas.is_production():\n",
    "                output_path = path.join(DEV_DIR, file_path)\n",
    "                df.to_csv(output_path, index=False)\n",
    "                naas.dependency.add(output_path)\n",
    "            else:\n",
    "                output_path = path.join(PROD_DIR, file_path)\n",
    "                df.to_csv(output_path, index=False)\n",
    "            print(\"✅ Dataframe successfully saved in CSV:\", file_path)\n",
    "        elif storage == \"AWS\":\n",
    "            output_path = file_path\n",
    "            wr.s3.to_parquet(\n",
    "                df=df.astype(str),\n",
    "                path=file_path,\n",
    "                dataset=True,\n",
    "                mode=\"overwrite\"\n",
    "            )\n",
    "            print(\"✅ Dataframe successfully saved in AWS:\", file_path)\n",
    "    except Exception as e:\n",
    "        return e\n",
    "#     return output_path"
   ]
  },
  {
   "cell_type": "markdown",
   "id": "190f8e54-8c31-4297-9a7c-ab9ad44ec67d",
   "metadata": {},
   "source": [
    "### Save asset"
   ]
  },
  {
   "cell_type": "code",
   "execution_count": null,
   "id": "ed9b9b07-37a1-4957-a667-9b393862be1e",
   "metadata": {
    "execution": {
     "iopub.status.busy": "2022-06-29T17:17:58.470540Z",
     "iopub.status.idle": "2022-06-29T17:17:58.470872Z",
     "shell.execute_reply": "2022-06-29T17:17:58.470707Z"
    }
   },
   "outputs": [],
   "source": [
    "def save_graph_asset(obj, file_path, image=False):\n",
    "    # Get output\n",
    "    if naas.is_production():\n",
    "        output_path = path.join(PROD_DIR, file_path)\n",
    "    else:\n",
    "        output_path = path.join(DEV_DIR, file_path)\n",
    "        \n",
    "    # Save asset\n",
    "    if file_path.endswith(\".csv\"):\n",
    "        obj.to_csv(output_path, index=False)\n",
    "    elif file_path.endswith(\".html\"):\n",
    "        obj.write_html(output_path)\n",
    "    elif file_path.endswith(\".png\") and not image:\n",
    "        obj.write_image(output_path)\n",
    "    elif file_path.endswith(\".png\") and image:\n",
    "        obj.to_file(output_path)\n",
    "    return output_path"
   ]
  },
  {
   "cell_type": "markdown",
   "id": "46b6f6ab-a6ba-4004-9924-3800e5ea6321",
   "metadata": {},
   "source": [
    "### Update \"Report\" Notion DB"
   ]
  },
  {
   "cell_type": "code",
   "execution_count": null,
   "id": "34b5c4bf-f45d-4452-887c-02f16f86ec88",
   "metadata": {
    "execution": {
     "iopub.status.busy": "2022-06-29T17:17:58.471911Z",
     "iopub.status.idle": "2022-06-29T17:17:58.472243Z",
     "shell.execute_reply": "2022-06-29T17:17:58.472078Z"
    },
    "tags": []
   },
   "outputs": [],
   "source": [
    "def update_report_status(report,\n",
    "                         platform,\n",
    "                         owner,\n",
    "                         df=pd.DataFrame(),\n",
    "                         image_link=None,\n",
    "                         html_link=None,\n",
    "                         csv_link=None,\n",
    "                         page_icon=None,\n",
    "                         ):\n",
    "    # Manage page icon\n",
    "    if page_icon is None:\n",
    "        if platform == LINKEDIN:\n",
    "            page_icon = LINKEDIN_LOGO\n",
    "        elif platform == YOUTUBE:\n",
    "            page_icon = YOUTUBE_LOGO\n",
    "        elif platform == TWITTER:\n",
    "            page_icon = TWITTER_LOGO\n",
    "    # Decode database id\n",
    "    database_id = naas.secret.get(name=\"NOTION_DATABASE_URL\").split(\"/\")[-1].split(\"?v=\")[0]\n",
    "    \n",
    "    # Get pages from notion database\n",
    "    pages = notion.connect(NOTION_TOKEN).database.query(database_id)\n",
    "    \n",
    "    # Create or update page\n",
    "    page_new = True\n",
    "    for page in pages:\n",
    "        page_temp = page.df()\n",
    "        page_id = page_temp.loc[page_temp.Name == \"Report name\", \"Value\"].values\n",
    "        page_id2 = page_temp.loc[page_temp.Name == \"Platform\", \"Value\"].values\n",
    "        page_id3 = page_temp.loc[page_temp.Name == \"Owner\", \"Value\"].values\n",
    "        if page_id == report and page_id2 == platform and page_id3 == owner:\n",
    "            page_new = False\n",
    "            break\n",
    "    try:\n",
    "        if page_new:\n",
    "            page = notion.connect(NOTION_TOKEN).Page.new(database_id=database_id).create()\n",
    "            page.title(\"Report name\", report)\n",
    "            page.multi_select(\"Platform\", [platform])\n",
    "            page.select(\"Owner\", owner)\n",
    "            notion.client.pages.update(page_id=page.id, icon={'type': 'external', 'external': {'url': page_icon}})\n",
    "            \n",
    "        # Check if image already exists\n",
    "        blocks = page.get_blocks()\n",
    "        for block in blocks:\n",
    "            content_block = getattr(block, block.type)\n",
    "            if block.type == \"image\":\n",
    "                image_url = block.image.external.url\n",
    "                if image_url == image_link:\n",
    "                    notion.connect(NOTION_TOKEN).blocks.delete(block.id)\n",
    "            if block.type == \"paragraph\":\n",
    "                if len(block.paragraph.text) > 0:\n",
    "                    text = block.paragraph.text[0].text.content\n",
    "                    if text == \"Open dynamic chart\":\n",
    "                        notion.connect(NOTION_TOKEN).blocks.delete(block.id)\n",
    "                    if text == \"Download CSV\":\n",
    "                        notion.connect(NOTION_TOKEN).blocks.delete(block.id)\n",
    "        if image_link:\n",
    "            page.image(image_link)\n",
    "        if html_link:\n",
    "            res = page.paragraph(\"Open dynamic chart\")\n",
    "            res.paragraph.text[0].href = html_link\n",
    "            res.paragraph.text[0].text.link = Link(html_link)\n",
    "            res = page.rich_text(\"Chart\", \"Open dynamic chart\")\n",
    "            res.rich_text[0].href = html_link\n",
    "            res.rich_text[0].text.link = Link(html_link)\n",
    "        if csv_link:\n",
    "            res = page.paragraph(\"Download CSV\")\n",
    "            res.paragraph.text[0].href = csv_link\n",
    "            res.paragraph.text[0].text.link = Link(csv_link)\n",
    "                \n",
    "        # Update value\n",
    "        value, value_comp, varv, varp = calc_value(df)\n",
    "        if value != 0:\n",
    "            page.number(\"This month\", float(value))\n",
    "        if value_comp != 0:\n",
    "            page.number(\"Last month\", float(value_comp))\n",
    "        if varv != 0:\n",
    "            page.number(\"Variation\", float(varv))\n",
    "        if varp != 0:\n",
    "            page.number(\"Variation %\", round(float(varp), 4))\n",
    "        page.date(\"Last updated date\", datetime.now(pytz.timezone(TIMEZONE)).strftime(\"%Y-%m-%d %H:%M:%S%z\"))\n",
    "\n",
    "        # Create page in Notion\n",
    "        page.update()\n",
    "        print(f\"✅ Page '{report} - {platform} - {owner}' updated in Notion.\")\n",
    "    except Exception as e:\n",
    "        raise(e)"
   ]
  },
  {
   "cell_type": "code",
   "execution_count": null,
   "id": "e61627cb-b0f7-4f11-ba30-2e04d0f66d0b",
   "metadata": {
    "execution": {
     "iopub.status.busy": "2022-06-29T17:17:58.473073Z",
     "iopub.status.idle": "2022-06-29T17:17:58.473403Z",
     "shell.execute_reply": "2022-06-29T17:17:58.473239Z"
    }
   },
   "outputs": [],
   "source": [
    "def update_dynamic_properties(page, row):\n",
    "    # Page properties : dynamic\n",
    "    page.number(\"Engagment score\", round(float(row.ENGAGEMENT_SCORE), 4))\n",
    "    page.number(\"Views\", int(row.VIEWS))\n",
    "    page.number(\"Likes\", int(row.LIKES))\n",
    "    page.number(\"Comments\", int(row.COMMENTS))\n",
    "    page.number(\"Shares\", int(row.SHARES))\n",
    "    return page"
   ]
  },
  {
   "cell_type": "code",
   "execution_count": null,
   "id": "d7d80146-4f94-4905-bb4a-6fdc0e8de637",
   "metadata": {
    "execution": {
     "iopub.status.busy": "2022-06-29T17:17:58.474453Z",
     "iopub.status.idle": "2022-06-29T17:17:58.474813Z",
     "shell.execute_reply": "2022-06-29T17:17:58.474643Z"
    },
    "tags": []
   },
   "outputs": [],
   "source": [
    "def update_content_notion(df, database_url):\n",
    "    # Decode database id\n",
    "    database_id = database_url.split(\"/\")[-1].split(\"?v=\")[0]\n",
    "    \n",
    "    # Get pages from notion database\n",
    "    pages = notion.connect(NOTION_TOKEN).database.query(database_id, query={})\n",
    "    \n",
    "    # Manage dataframe empty\n",
    "    if len(df) == 0:\n",
    "        print(f\"🛑 Nothing to update in Notion.\")\n",
    "        return\n",
    "    \n",
    "    # Loop in data\n",
    "    fillna = {\n",
    "        \"AUTHOR_URL\": \"\",\n",
    "        \"TITLE\": \"\",\n",
    "        \"TEXT\": \"\",\n",
    "        \"COMPANY_MENTION\": \"\",\n",
    "        \"PROFILE_MENTION\": \"\",\n",
    "        \"TAGS\": \"\",\n",
    "        \"TAGS_COUNT\": 0,\n",
    "        \"LINKS\": \"\",\n",
    "        \"LINKS_COUNT\": 0,\n",
    "        \"EMOJIS\": \"\",\n",
    "        \"EMOJIS_COUNT\": 0,\n",
    "        \"CONTENT_TITLE\": \"\",\n",
    "        \"CONTENT_URL\": \"\",\n",
    "        \"CONTENT_ID\": \"\",\n",
    "        \"POLL_ID\": \"\",\n",
    "        \"POLL_QUESTION\": \"\",\n",
    "        \"POLL_RESULTS\": \"\",\n",
    "        \"IMAGE_URL\": \"\"\n",
    "    }\n",
    "    df = df.fillna(fillna)\n",
    "    for i, row in df.iterrows():\n",
    "        title = row.TITLE\n",
    "        content_title = row.CONTENT_TITLE\n",
    "        if title is None and content_title is not None:\n",
    "            title = f\"Repost - {content_title}\"\n",
    "        elif title is None and content_title is None:\n",
    "            title = \"Repost\"\n",
    "        post_url = row.POST_URL\n",
    "        print(post_url)\n",
    "        \n",
    "        # Create or update page\n",
    "        page_new = True\n",
    "        for page in pages:\n",
    "            page_temp = page.df()\n",
    "            page_id = page_temp.loc[page_temp.Name == \"Content URL\", \"Value\"].values\n",
    "            if page_id == post_url:\n",
    "                page_new = False\n",
    "                break\n",
    "        try:\n",
    "            if page_new:\n",
    "                # Create new page in notion\n",
    "                page = notion.Page.new(database_id=database_id).create()\n",
    "\n",
    "                # Page properties : static\n",
    "                page.date(\"Publication Date\", row.PUBLISHED_DATE)\n",
    "                page.title(\"Name\", title)\n",
    "                page.select(\"Content type\", row.CONTENT)\n",
    "                page.select(\"Platform\", \"LinkedIn\")\n",
    "                page.select(\"Status\", \"Published ✨\")\n",
    "                page.select(\"Author\", row.AUTHOR_NAME)\n",
    "                profile_mention = row.PROFILE_MENTION\n",
    "                if profile_mention is not None:\n",
    "                    if len(profile_mention) > 2:\n",
    "                        page.rich_text(\"Profile mention\", profile_mention)\n",
    "                company_mention = row.COMPANY_MENTION\n",
    "                if company_mention is not None:\n",
    "                    if len(company_mention) > 2:\n",
    "                        page.rich_text(\"Company mention\", company_mention)\n",
    "                page.number(\"Nb tags\", int(row.TAGS_COUNT))\n",
    "                tags = row.TAGS\n",
    "                if tags is None:\n",
    "                    tags = \"\"\n",
    "                else:\n",
    "                    if len(tags) < 2:\n",
    "                        tags = \"\"\n",
    "                page.rich_text(\"Tags\", tags)\n",
    "                page.number(\"Nb emojis\", int(row.EMOJIS_COUNT))\n",
    "                emojis = row.EMOJIS\n",
    "                if emojis is None:\n",
    "                    emojis = \"\"\n",
    "                else:\n",
    "                    if len(emojis) < 2:\n",
    "                        emojis = \"\"\n",
    "                page.rich_text(\"Emojis\", emojis)\n",
    "                page.number(\"Nb links\", int(row.LINKS_COUNT))\n",
    "                links = row.LINKS\n",
    "                if links is not None:\n",
    "                    if len(links) > 2:\n",
    "                        page.link(\"Links\", links)\n",
    "                page.number(\"Nb characters\", int(row.CHARACTER_COUNT))\n",
    "                page.link(\"Content URL\", post_url)\n",
    "                \n",
    "                # Page blocks text\n",
    "                page.heading_1(\"Text\")\n",
    "                text = row.TEXT\n",
    "                if text is not None:\n",
    "                    split_text = text.split(\"\\n\")\n",
    "                    for t in split_text:\n",
    "                        page.paragraph(t)\n",
    "                    \n",
    "                # Page blocks content\n",
    "                image_url = row.IMAGE_URL\n",
    "                content_url = row.CONTENT_URL\n",
    "                poll_question = row.POLL_QUESTION\n",
    "                if image_url or content_title or content_url or poll_question:\n",
    "                    page.heading_1(\"Content\")\n",
    "                \n",
    "                # Add image in content section\n",
    "                if image_url:\n",
    "                    page.heading_2(\"Image\")\n",
    "                    page.paragraph(image_url)\n",
    "                    \n",
    "                # Add post in content section\n",
    "                if content_title:\n",
    "                    page.heading_2(\"Media\")\n",
    "                    page.heading_3(content_title)\n",
    "                \n",
    "                if content_url:\n",
    "                    page.paragraph(content_url)\n",
    "                \n",
    "                # Add poll graph in content section\n",
    "                if poll_question:\n",
    "                    page.heading_3(\"Poll\")\n",
    "                    page.paragraph(row.POLL_RESULTS)\n",
    "                \n",
    "                # Page properties : dynamic\n",
    "                page = update_dynamic_properties(page, row)\n",
    "                \n",
    "                # Create page in Notion\n",
    "                page.update()\n",
    "                print(f\"✅ Page '{title}' created in Notion.\", '\\n')\n",
    "            else:\n",
    "                # Page properties : dynamic\n",
    "                page = update_dynamic_properties(page, row)\n",
    "                \n",
    "                # Update page\n",
    "                page.update()\n",
    "                print(f\"📈 Post stats updated in notion for page '{title}'.\", '\\n')\n",
    "        except Exception as e:\n",
    "            print(f\"❌ Error creating page '{title}' in Notion\", e)\n",
    "            print(row)\n",
    "            raise(e)"
   ]
  }
 ],
 "metadata": {
  "kernelspec": {
   "display_name": "Python 3",
   "language": "python",
   "name": "python3"
  },
  "language_info": {
   "codemirror_mode": {
    "name": "ipython",
    "version": 3
   },
   "file_extension": ".py",
   "mimetype": "text/x-python",
   "name": "python",
   "nbconvert_exporter": "python",
   "pygments_lexer": "ipython3",
   "version": "3.9.6"
  }
 },
 "nbformat": 4,
 "nbformat_minor": 5
}
