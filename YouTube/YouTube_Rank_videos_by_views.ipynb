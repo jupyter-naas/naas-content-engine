{
 "cells": [
  {
   "cell_type": "markdown",
   "id": "a6fcf7c9",
   "metadata": {
    "papermill": {},
    "tags": []
   },
   "source": [
    "<img width=\"10%\" alt=\"Naas\" src=\"https://landen.imgix.net/jtci2pxwjczr/assets/5ice39g4.png?w=160\"/>\n"
   ]
  },
  {
   "cell_type": "markdown",
   "id": "7217870e",
   "metadata": {
    "papermill": {},
    "tags": []
   },
   "source": [
    "# YouTube - Rank videos by views\n",
    "<a href=\"https://app.naas.ai/user-redirect/naas/downloader?url=https://raw.githubusercontent.com/jupyter-naas/awesome-notebooks/master/LinkedIn/Linkedin_Follow_number_of_content_published.ipynb\" target=\"_parent\"><img src=\"https://naasai-public.s3.eu-west-3.amazonaws.com/open_in_naas.svg\"/></a>"
   ]
  },
  {
   "cell_type": "markdown",
   "id": "c8756b96",
   "metadata": {
    "papermill": {},
    "tags": []
   },
   "source": [
    "**Tags:** #youtube #html #plotly #csv #image #videos #analytics #automation"
   ]
  },
  {
   "cell_type": "markdown",
   "id": "520d91fd",
   "metadata": {
    "papermill": {},
    "tags": []
   },
   "source": [
    "**Author:** [Florent Ravenel](https://www.linkedin.com/in/florent-ravenel/)"
   ]
  },
  {
   "cell_type": "markdown",
   "id": "50f12968-23e2-4039-aa47-99f4168e63ff",
   "metadata": {
    "papermill": {},
    "tags": []
   },
   "source": [
    "This notebook rank your videos by views on YouTube."
   ]
  },
  {
   "cell_type": "markdown",
   "id": "227b8ffb",
   "metadata": {
    "papermill": {},
    "tags": []
   },
   "source": [
    "## Input"
   ]
  },
  {
   "cell_type": "code",
   "execution_count": null,
   "id": "a9ed07a4-0f86-4282-928d-1c95f2ca8dd2",
   "metadata": {
    "tags": []
   },
   "outputs": [],
   "source": [
    "# Except allow to run common.ipynb once using Naas Engine\n",
    "try:\n",
    "    %run \"../common.ipynb\"\n",
    "except:\n",
    "    %run \"common.ipynb\""
   ]
  },
  {
   "cell_type": "markdown",
   "id": "024797b3",
   "metadata": {
    "papermill": {},
    "tags": []
   },
   "source": [
    "### Setup Variables"
   ]
  },
  {
   "cell_type": "code",
   "execution_count": null,
   "id": "81f1fde6-e3a7-4617-82da-c332ec4a2ee6",
   "metadata": {
    "tags": []
   },
   "outputs": [],
   "source": [
    "# Inputs\n",
    "KPI_TITLE = \"Views\"\n",
    "TITLE = f\"Ranking videos by {KPI_TITLE.lower()}\"\n",
    "COL_LABEL = \"TITLE\"\n",
    "COL_VALUE = \"VIEWCOUNT\"\n",
    "AGG_VALUE = 'sum'\n",
    "OWNER = YT_CHANNEL_NAME\n",
    "OWNER_ID = YT_CHANNEL_ID\n",
    "PLATFORM = YOUTUBE\n",
    "INPUT_DATABASE = YT_VIDEOS\n",
    "LOGO = YOUTUBE_LOGO\n",
    "COLOR = YOUTUBE_COLOR\n",
    "\n",
    "# Outputs\n",
    "name_output = f\"YOUTUBE_RANK_VIDEOS_{KPI_TITLE.upper()}_{OWNER_ID}\"\n",
    "csv_output = path.join(YOUTUBE_OUTPUTS, f\"{name_output}.csv\")\n",
    "html_output = path.join(YOUTUBE_OUTPUTS, f\"{name_output}.html\")\n",
    "image_output = path.join(YOUTUBE_OUTPUTS, f\"{name_output}.png\")"
   ]
  },
  {
   "cell_type": "markdown",
   "id": "1bb8c4cd",
   "metadata": {
    "papermill": {},
    "tags": []
   },
   "source": [
    "## Model"
   ]
  },
  {
   "cell_type": "markdown",
   "id": "024e9efb-4c80-4c60-a455-103af0884d2d",
   "metadata": {},
   "source": [
    "### Get contents"
   ]
  },
  {
   "cell_type": "code",
   "execution_count": null,
   "id": "6d00847f-e9bf-4f92-a2b4-406468fb09e2",
   "metadata": {
    "tags": []
   },
   "outputs": [],
   "source": [
    "df_videos = get_data(INPUT_DATABASE)\n",
    "print(\"✅ Videos fetched:\", len(df_videos))\n",
    "df_videos.head(1)"
   ]
  },
  {
   "cell_type": "markdown",
   "id": "833fdb3f",
   "metadata": {
    "papermill": {},
    "tags": []
   },
   "source": [
    "### Get dataframe trend"
   ]
  },
  {
   "cell_type": "code",
   "execution_count": null,
   "id": "c074f8e3",
   "metadata": {
    "papermill": {},
    "tags": []
   },
   "outputs": [],
   "source": [
    "df_actual = get_ranking(df_videos,\n",
    "                        col_label=COL_LABEL,\n",
    "                        col_value=COL_VALUE,\n",
    "                        agg_value=AGG_VALUE)\n",
    "df_actual#.tail(5)"
   ]
  },
  {
   "cell_type": "markdown",
   "id": "804c9127",
   "metadata": {
    "papermill": {},
    "tags": []
   },
   "source": [
    "### Plot horizontal barchart"
   ]
  },
  {
   "cell_type": "code",
   "execution_count": null,
   "id": "f740a80d",
   "metadata": {
    "papermill": {},
    "tags": []
   },
   "outputs": [],
   "source": [
    "def create_horizontal_barchart(df,\n",
    "                               label=\"LABEL_D\",\n",
    "                               value=\"VALUE\",\n",
    "                               value_d=\"VALUE_D\"):\n",
    "    # Init\n",
    "    fig = go.Figure()\n",
    "    \n",
    "    # Create fig\n",
    "    fig.add_trace(\n",
    "        go.Bar(\n",
    "            y=df[label],\n",
    "            x=df[value],\n",
    "            text=df[value_d],\n",
    "            textposition=\"outside\",\n",
    "            marker=dict(color=COLOR),\n",
    "            orientation=\"h\"\n",
    "        )\n",
    "    )\n",
    "    # Add logo\n",
    "    fig.add_layout_image(\n",
    "        dict(\n",
    "            source=LOGO,\n",
    "            xref=\"paper\",\n",
    "            yref=\"paper\",\n",
    "            x=-0.23,\n",
    "            y=1.035,\n",
    "            sizex=0.15,\n",
    "            sizey=0.15,\n",
    "            xanchor=\"right\",\n",
    "            yanchor=\"bottom\"\n",
    "        )\n",
    "    )\n",
    "    fig.update_traces(showlegend=False)\n",
    "    # Plotly: Create title\n",
    "    total_value = \"{:,.0f}\".format(df[value].sum()).replace(\",\", \" \")\n",
    "    title = f\"<b><span style='font-size: 20px;'>{TITLE}</span></b><br><span style='font-size: 18px;'>Total {KPI_TITLE.lower()}: {total_value}</span>\"\n",
    "    fig.update_layout(\n",
    "        title=title,\n",
    "        title_x=0.09,\n",
    "        title_font=dict(family=\"Arial\", color=\"black\"),\n",
    "        paper_bgcolor=\"#ffffff\",\n",
    "        plot_bgcolor=\"#ffffff\",\n",
    "        width=1200,\n",
    "        height=600,\n",
    "#         margin_pad=10,\n",
    "#         margin_r=10,\n",
    "#         margin_l=10,\n",
    "    )\n",
    "    fig.update_xaxes(showticklabels=False)\n",
    "    fig.show()\n",
    "    return fig\n",
    "\n",
    "fig = create_horizontal_barchart(df_actual)"
   ]
  },
  {
   "cell_type": "markdown",
   "id": "942c681d",
   "metadata": {
    "papermill": {},
    "tags": []
   },
   "source": [
    "## Output"
   ]
  },
  {
   "cell_type": "markdown",
   "id": "b4bb71da",
   "metadata": {
    "papermill": {},
    "tags": []
   },
   "source": [
    "### Save and share your csv file"
   ]
  },
  {
   "cell_type": "code",
   "execution_count": null,
   "id": "d43c7763",
   "metadata": {
    "papermill": {},
    "tags": []
   },
   "outputs": [],
   "source": [
    "# Save your dataframe in CSV\n",
    "output_path = save_graph_asset(df_actual, csv_output)\n",
    "\n",
    "# Share output with naas\n",
    "csv_link = naas.asset.add(output_path)\n",
    "\n",
    "#-> Uncomment the line below to remove your asset\n",
    "# naas.asset.delete(csv_output)"
   ]
  },
  {
   "cell_type": "markdown",
   "id": "2f26c093",
   "metadata": {
    "papermill": {},
    "tags": []
   },
   "source": [
    "### Save and share your graph in HTML"
   ]
  },
  {
   "cell_type": "code",
   "execution_count": null,
   "id": "6e0caceb",
   "metadata": {
    "papermill": {},
    "tags": []
   },
   "outputs": [],
   "source": [
    "# Save your graph in HTML\n",
    "output_path = save_graph_asset(fig, html_output)\n",
    "\n",
    "# Share output with naas\n",
    "html_link = naas.asset.add(output_path, params={\"inline\": True})\n",
    "\n",
    "#-> Uncomment the line below to remove your asset\n",
    "# naas.asset.delete(html_output)"
   ]
  },
  {
   "cell_type": "markdown",
   "id": "e327122e",
   "metadata": {
    "papermill": {},
    "tags": []
   },
   "source": [
    "### Save and share your graph in image"
   ]
  },
  {
   "cell_type": "code",
   "execution_count": null,
   "id": "124b1576",
   "metadata": {
    "papermill": {},
    "tags": []
   },
   "outputs": [],
   "source": [
    "# Save your graph in PNG\n",
    "output_path = save_graph_asset(fig, image_output)\n",
    "\n",
    "# Share output with naas\n",
    "image_link = naas.asset.add(output_path)\n",
    "\n",
    "#-> Uncomment the line below to remove your asset\n",
    "# naas.asset.delete(image_output)"
   ]
  },
  {
   "cell_type": "markdown",
   "id": "3338b963-dd53-4340-a5f7-aa232fa09970",
   "metadata": {
    "execution": {
     "iopub.execute_input": "2022-06-16T12:40:24.017252Z",
     "iopub.status.busy": "2022-06-16T12:40:24.016941Z",
     "iopub.status.idle": "2022-06-16T12:40:24.020164Z",
     "shell.execute_reply": "2022-06-16T12:40:24.019527Z",
     "shell.execute_reply.started": "2022-06-16T12:40:24.017224Z"
    },
    "tags": []
   },
   "source": [
    "### Update Notion Report"
   ]
  },
  {
   "cell_type": "code",
   "execution_count": null,
   "id": "5724e0d8-58f7-43e6-ab32-347e993c3c8c",
   "metadata": {
    "tags": []
   },
   "outputs": [],
   "source": [
    "update_report_status(KPI_TITLE,\n",
    "                     PLATFORM,\n",
    "                     OWNER,\n",
    "                     pd.DataFrame(),\n",
    "                     csv_link=csv_link,\n",
    "                     image_link=image_link)"
   ]
  }
 ],
 "metadata": {
  "kernelspec": {
   "display_name": "Python 3",
   "language": "python",
   "name": "python3"
  },
  "language_info": {
   "codemirror_mode": {
    "name": "ipython",
    "version": 3
   },
   "file_extension": ".py",
   "mimetype": "text/x-python",
   "name": "python",
   "nbconvert_exporter": "python",
   "pygments_lexer": "ipython3",
   "version": "3.9.6"
  },
  "papermill": {
   "default_parameters": {},
   "environment_variables": {},
   "parameters": {},
   "version": "2.3.4"
  }
 },
 "nbformat": 4,
 "nbformat_minor": 5
}
