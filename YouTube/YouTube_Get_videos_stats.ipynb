{
 "cells": [
  {
   "cell_type": "markdown",
   "id": "departmental-bidder",
   "metadata": {
    "execution": {
     "iopub.execute_input": "2021-02-23T14:22:16.610471Z",
     "iopub.status.busy": "2021-02-23T14:22:16.610129Z",
     "iopub.status.idle": "2021-02-23T14:22:16.627784Z",
     "shell.execute_reply": "2021-02-23T14:22:16.626866Z",
     "shell.execute_reply.started": "2021-02-23T14:22:16.610384Z"
    },
    "papermill": {},
    "tags": []
   },
   "source": [
    "<img width=\"10%\" alt=\"Naas\" src=\"https://landen.imgix.net/jtci2pxwjczr/assets/5ice39g4.png?w=160\"/>"
   ]
  },
  {
   "cell_type": "markdown",
   "id": "quarterly-python",
   "metadata": {
    "papermill": {},
    "tags": []
   },
   "source": [
    "# YouTube - Get video stats\n",
    "<a href=\"https://app.naas.ai/user-redirect/naas/downloader?url=https://raw.githubusercontent.com/jupyter-naas/awesome-notebooks/master/YouTube/YouTube_Send_video_stats_to_Notion.ipynb\" target=\"_parent\"><img src=\"https://naasai-public.s3.eu-west-3.amazonaws.com/open_in_naas.svg\"/></a>"
   ]
  },
  {
   "cell_type": "markdown",
   "id": "vertical-inquiry",
   "metadata": {
    "papermill": {},
    "tags": []
   },
   "source": [
    "**Tags:** #youtube #video #statistics #naas_drivers #content #snippet #dataframe"
   ]
  },
  {
   "cell_type": "markdown",
   "id": "0555d1a9-9ffd-45e9-bf4e-5f3ee195d49e",
   "metadata": {
    "papermill": {},
    "tags": []
   },
   "source": [
    "**Author:** [Maxime Jublou](https://www.linkedin.com/in/maximejublou)"
   ]
  },
  {
   "cell_type": "markdown",
   "id": "objective-undergraduate",
   "metadata": {
    "papermill": {},
    "tags": []
   },
   "source": [
    "## Input"
   ]
  },
  {
   "cell_type": "markdown",
   "id": "located-generic",
   "metadata": {
    "papermill": {},
    "tags": []
   },
   "source": [
    "### Get common variables, functions"
   ]
  },
  {
   "cell_type": "code",
   "execution_count": 9,
   "id": "outstanding-retirement",
   "metadata": {
    "execution": {
     "iopub.execute_input": "2022-06-29T10:58:51.789349Z",
     "iopub.status.busy": "2022-06-29T10:58:51.789101Z",
     "iopub.status.idle": "2022-06-29T10:58:53.185922Z",
     "shell.execute_reply": "2022-06-29T10:58:53.185280Z",
     "shell.execute_reply.started": "2022-06-29T10:58:51.789327Z"
    },
    "papermill": {},
    "tags": []
   },
   "outputs": [],
   "source": [
    "# Except allow to run common.ipynb once using Naas Engine\n",
    "try:\n",
    "    %run \"../common.ipynb\"\n",
    "except:\n",
    "    %run \"common.ipynb\""
   ]
  },
  {
   "cell_type": "markdown",
   "id": "enabling-fossil",
   "metadata": {
    "papermill": {},
    "tags": []
   },
   "source": [
    "### Setup Variables"
   ]
  },
  {
   "cell_type": "code",
   "execution_count": 10,
   "id": "conditional-liberty",
   "metadata": {
    "execution": {
     "iopub.execute_input": "2022-06-29T10:58:53.187264Z",
     "iopub.status.busy": "2022-06-29T10:58:53.187030Z",
     "iopub.status.idle": "2022-06-29T10:58:53.192627Z",
     "shell.execute_reply": "2022-06-29T10:58:53.192017Z",
     "shell.execute_reply.started": "2022-06-29T10:58:53.187235Z"
    },
    "papermill": {},
    "tags": []
   },
   "outputs": [],
   "source": [
    "# Inputs\n",
    "INPUT_DATABASE = YT_VIDEOS\n",
    "OWNER = LK_COMPANY_NAME"
   ]
  },
  {
   "cell_type": "markdown",
   "id": "verbal-credit",
   "metadata": {
    "papermill": {},
    "tags": []
   },
   "source": [
    "## Model"
   ]
  },
  {
   "cell_type": "markdown",
   "id": "ef1dbd02-222b-418b-87bb-a1c85661e4d6",
   "metadata": {
    "execution": {
     "iopub.execute_input": "2022-06-07T13:24:02.405794Z",
     "iopub.status.busy": "2022-06-07T13:24:02.405462Z",
     "iopub.status.idle": "2022-06-07T13:24:02.409642Z",
     "shell.execute_reply": "2022-06-07T13:24:02.408600Z",
     "shell.execute_reply.started": "2022-06-07T13:24:02.405761Z"
    },
    "papermill": {},
    "tags": []
   },
   "source": [
    "### Get all uploads from channel"
   ]
  },
  {
   "cell_type": "code",
   "execution_count": 6,
   "id": "f525e7d1-cfd9-48d8-9b72-ae2dac887364",
   "metadata": {
    "execution": {
     "iopub.execute_input": "2022-06-29T10:49:43.635381Z",
     "iopub.status.busy": "2022-06-29T10:49:43.635163Z",
     "iopub.status.idle": "2022-06-29T10:49:43.866904Z",
     "shell.execute_reply": "2022-06-29T10:49:43.866257Z",
     "shell.execute_reply.started": "2022-06-29T10:49:43.635360Z"
    },
    "papermill": {},
    "tags": []
   },
   "outputs": [
    {
     "name": "stdout",
     "output_type": "stream",
     "text": [
      "Videos fetched: 28\n"
     ]
    },
    {
     "data": {
      "text/html": [
       "<div>\n",
       "<style scoped>\n",
       "    .dataframe tbody tr th:only-of-type {\n",
       "        vertical-align: middle;\n",
       "    }\n",
       "\n",
       "    .dataframe tbody tr th {\n",
       "        vertical-align: top;\n",
       "    }\n",
       "\n",
       "    .dataframe thead th {\n",
       "        text-align: right;\n",
       "    }\n",
       "</style>\n",
       "<table border=\"1\" class=\"dataframe\">\n",
       "  <thead>\n",
       "    <tr style=\"text-align: right;\">\n",
       "      <th></th>\n",
       "      <th>CHANNEL_ID</th>\n",
       "      <th>PLAYLIST_ID</th>\n",
       "      <th>VIDEO_ID</th>\n",
       "      <th>VIDEO_TITLE</th>\n",
       "      <th>VIDEO_DESCRIPTION</th>\n",
       "      <th>VIDEO_PUBLISHEDAT</th>\n",
       "      <th>VIDEO_THUMBNAILS</th>\n",
       "      <th>PUBLISHEDAT</th>\n",
       "    </tr>\n",
       "  </thead>\n",
       "  <tbody>\n",
       "    <tr>\n",
       "      <th>0</th>\n",
       "      <td>UCKKG5hzjXXU_rRdHHWQ8JHQ</td>\n",
       "      <td>UUKKG5hzjXXU_rRdHHWQ8JHQ</td>\n",
       "      <td>ltdJOX_DVtE</td>\n",
       "      <td>Create a YouTube API Key (In less than 2 minutes)</td>\n",
       "      <td>This short video will show you how to create a...</td>\n",
       "      <td>2022-06-03T07:52:29Z</td>\n",
       "      <td>https://i.ytimg.com/vi/ltdJOX_DVtE/maxresdefau...</td>\n",
       "      <td>2022-06-03 07:52:29+00:00</td>\n",
       "    </tr>\n",
       "  </tbody>\n",
       "</table>\n",
       "</div>"
      ],
      "text/plain": [
       "                 CHANNEL_ID               PLAYLIST_ID     VIDEO_ID  \\\n",
       "0  UCKKG5hzjXXU_rRdHHWQ8JHQ  UUKKG5hzjXXU_rRdHHWQ8JHQ  ltdJOX_DVtE   \n",
       "\n",
       "                                         VIDEO_TITLE  \\\n",
       "0  Create a YouTube API Key (In less than 2 minutes)   \n",
       "\n",
       "                                   VIDEO_DESCRIPTION     VIDEO_PUBLISHEDAT  \\\n",
       "0  This short video will show you how to create a...  2022-06-03T07:52:29Z   \n",
       "\n",
       "                                    VIDEO_THUMBNAILS               PUBLISHEDAT  \n",
       "0  https://i.ytimg.com/vi/ltdJOX_DVtE/maxresdefau... 2022-06-03 07:52:29+00:00  "
      ]
     },
     "execution_count": 6,
     "metadata": {},
     "output_type": "execute_result"
    }
   ],
   "source": [
    "df_uploads = youtube.connect(YOUTUBE_API_KEY).channel.get_uploads(channel_url=YOUTUBE_CHANNEL_URL)\n",
    "print(\"Videos fetched:\", len(df_uploads))\n",
    "df_uploads.head(1)"
   ]
  },
  {
   "cell_type": "markdown",
   "id": "7373a77a-4922-4eb8-9858-c387a168b4b0",
   "metadata": {
    "papermill": {},
    "tags": []
   },
   "source": [
    "### Enrich videos with statistics"
   ]
  },
  {
   "cell_type": "code",
   "execution_count": 12,
   "id": "f4f54331-85a5-4e60-8522-dba30f5bc80b",
   "metadata": {
    "execution": {
     "iopub.execute_input": "2022-06-29T10:59:02.524770Z",
     "iopub.status.busy": "2022-06-29T10:59:02.524545Z",
     "iopub.status.idle": "2022-06-29T10:59:04.164705Z",
     "shell.execute_reply": "2022-06-29T10:59:04.164134Z",
     "shell.execute_reply.started": "2022-06-29T10:59:02.524749Z"
    },
    "papermill": {},
    "tags": []
   },
   "outputs": [
    {
     "name": "stdout",
     "output_type": "stream",
     "text": [
      "Videos fetched: 28\n"
     ]
    },
    {
     "data": {
      "text/html": [
       "<div>\n",
       "<style scoped>\n",
       "    .dataframe tbody tr th:only-of-type {\n",
       "        vertical-align: middle;\n",
       "    }\n",
       "\n",
       "    .dataframe tbody tr th {\n",
       "        vertical-align: top;\n",
       "    }\n",
       "\n",
       "    .dataframe thead th {\n",
       "        text-align: right;\n",
       "    }\n",
       "</style>\n",
       "<table border=\"1\" class=\"dataframe\">\n",
       "  <thead>\n",
       "    <tr style=\"text-align: right;\">\n",
       "      <th></th>\n",
       "      <th>CHANNEL_ID</th>\n",
       "      <th>CHANNEL_TITLE</th>\n",
       "      <th>ID</th>\n",
       "      <th>URL</th>\n",
       "      <th>TITLE</th>\n",
       "      <th>DESCRIPTION</th>\n",
       "      <th>VIEWCOUNT</th>\n",
       "      <th>LIKECOUNT</th>\n",
       "      <th>DISLIKECOUNT</th>\n",
       "      <th>FAVORITECOUNT</th>\n",
       "      <th>COMMENTCOUNT</th>\n",
       "      <th>DURATION</th>\n",
       "      <th>DURATION_SECONDS</th>\n",
       "      <th>THUMBNAILS</th>\n",
       "      <th>PUBLISHEDAT</th>\n",
       "    </tr>\n",
       "  </thead>\n",
       "  <tbody>\n",
       "    <tr>\n",
       "      <th>0</th>\n",
       "      <td>UCKKG5hzjXXU_rRdHHWQ8JHQ</td>\n",
       "      <td>naas</td>\n",
       "      <td>ltdJOX_DVtE</td>\n",
       "      <td>https://www.youtube.com/watch?v=ltdJOX_DVtE</td>\n",
       "      <td>Create a YouTube API Key (In less than 2 minutes)</td>\n",
       "      <td>This short video will show you how to create a...</td>\n",
       "      <td>68</td>\n",
       "      <td>3</td>\n",
       "      <td>None</td>\n",
       "      <td>0</td>\n",
       "      <td>0</td>\n",
       "      <td>0:01:40</td>\n",
       "      <td>100</td>\n",
       "      <td>https://i.ytimg.com/vi/ltdJOX_DVtE/hqdefault.jpg</td>\n",
       "      <td>2022-06-03 07:52:29+00:00</td>\n",
       "    </tr>\n",
       "  </tbody>\n",
       "</table>\n",
       "</div>"
      ],
      "text/plain": [
       "                 CHANNEL_ID CHANNEL_TITLE           ID  \\\n",
       "0  UCKKG5hzjXXU_rRdHHWQ8JHQ          naas  ltdJOX_DVtE   \n",
       "\n",
       "                                           URL  \\\n",
       "0  https://www.youtube.com/watch?v=ltdJOX_DVtE   \n",
       "\n",
       "                                               TITLE  \\\n",
       "0  Create a YouTube API Key (In less than 2 minutes)   \n",
       "\n",
       "                                         DESCRIPTION VIEWCOUNT LIKECOUNT  \\\n",
       "0  This short video will show you how to create a...        68         3   \n",
       "\n",
       "  DISLIKECOUNT FAVORITECOUNT COMMENTCOUNT DURATION  DURATION_SECONDS  \\\n",
       "0         None             0            0  0:01:40               100   \n",
       "\n",
       "                                         THUMBNAILS               PUBLISHEDAT  \n",
       "0  https://i.ytimg.com/vi/ltdJOX_DVtE/hqdefault.jpg 2022-06-03 07:52:29+00:00  "
      ]
     },
     "execution_count": 12,
     "metadata": {},
     "output_type": "execute_result"
    }
   ],
   "source": [
    "def enrich_data(df):\n",
    "    df_stats = pd.DataFrame()\n",
    "\n",
    "    for index, row in df.iterrows():\n",
    "        video_id = row['VIDEO_ID']\n",
    "        tmp_df = youtube.connect(YOUTUBE_API_KEY).video.get_statistics(f'https://www.youtube.com/watch?v={video_id}')\n",
    "        df_stats = pd.concat([df_stats, tmp_df])\n",
    "    return df_stats.reset_index(drop=True)\n",
    "    \n",
    "df_stats = enrich_data(df_uploads)\n",
    "print(\"Videos fetched:\", len(df_stats))\n",
    "df_stats.head(1)"
   ]
  },
  {
   "cell_type": "markdown",
   "id": "spatial-queens",
   "metadata": {
    "execution": {
     "iopub.execute_input": "2021-07-02T23:32:10.789097Z",
     "iopub.status.busy": "2021-07-02T23:32:10.788829Z",
     "iopub.status.idle": "2021-07-02T23:32:10.796900Z",
     "shell.execute_reply": "2021-07-02T23:32:10.796358Z",
     "shell.execute_reply.started": "2021-07-02T23:32:10.789033Z"
    },
    "papermill": {},
    "tags": []
   },
   "source": [
    "## Output"
   ]
  },
  {
   "cell_type": "markdown",
   "id": "preliminary-walter",
   "metadata": {
    "papermill": {},
    "tags": []
   },
   "source": [
    "### Save data"
   ]
  },
  {
   "cell_type": "code",
   "execution_count": 13,
   "id": "d5c82b42-c068-4b50-a9ec-a4a7aa4bc497",
   "metadata": {
    "execution": {
     "iopub.execute_input": "2022-06-29T10:59:05.783231Z",
     "iopub.status.busy": "2022-06-29T10:59:05.782997Z",
     "iopub.status.idle": "2022-06-29T10:59:06.236776Z",
     "shell.execute_reply": "2022-06-29T10:59:06.235684Z",
     "shell.execute_reply.started": "2022-06-29T10:59:05.783209Z"
    },
    "papermill": {},
    "tags": []
   },
   "outputs": [
    {
     "name": "stdout",
     "output_type": "stream",
     "text": [
      "👌 Well done! Your Dependency has been sent to production. \n",
      "\n",
      "PS: to remove the \"Dependency\" feature, just replace .add by .delete\n",
      "✅ Dataframe successfully saved in CSV: YouTube/Inputs/YOUTUBE_VIDEOS_UCKKG5hzjXXU_rRdHHWQ8JHQ.csv\n"
     ]
    }
   ],
   "source": [
    "save_data(df_stats, INPUT_DATABASE)"
   ]
  }
 ],
 "metadata": {
  "kernelspec": {
   "display_name": "Python 3",
   "language": "python",
   "name": "python3"
  },
  "language_info": {
   "codemirror_mode": {
    "name": "ipython",
    "version": 3
   },
   "file_extension": ".py",
   "mimetype": "text/x-python",
   "name": "python",
   "nbconvert_exporter": "python",
   "pygments_lexer": "ipython3",
   "version": "3.9.6"
  },
  "naas": {
   "notebook_id": "1ce293bf-0866-4a5a-8239-e550c3ed135b",
   "notebook_path": "YouTube/YouTube_Get_statistics_from_video.ipynb"
  },
  "papermill": {
   "default_parameters": {},
   "environment_variables": {},
   "parameters": {},
   "version": "2.3.3"
  },
  "widgets": {
   "application/vnd.jupyter.widget-state+json": {
    "state": {},
    "version_major": 2,
    "version_minor": 0
   }
  }
 },
 "nbformat": 4,
 "nbformat_minor": 5
}
