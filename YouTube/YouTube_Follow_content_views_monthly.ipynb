{
 "cells": [
  {
   "cell_type": "markdown",
   "id": "a6fcf7c9",
   "metadata": {
    "papermill": {},
    "tags": []
   },
   "source": [
    "<img width=\"10%\" alt=\"Naas\" src=\"https://landen.imgix.net/jtci2pxwjczr/assets/5ice39g4.png?w=160\"/>\n"
   ]
  },
  {
   "cell_type": "markdown",
   "id": "7217870e",
   "metadata": {
    "papermill": {},
    "tags": []
   },
   "source": [
    "# YouTube - Follow content views monthly\n",
    "<a href=\"https://app.naas.ai/user-redirect/naas/downloader?url=https://raw.githubusercontent.com/jupyter-naas/awesome-notebooks/master/LinkedIn/Linkedin_Follow_number_of_content_published.ipynb\" target=\"_parent\"><img src=\"https://naasai-public.s3.eu-west-3.amazonaws.com/open_in_naas.svg\"/></a>"
   ]
  },
  {
   "cell_type": "markdown",
   "id": "c8756b96",
   "metadata": {
    "papermill": {},
    "tags": []
   },
   "source": [
    "**Tags:** #linkedin #html #plotly #csv #image #content #analytics #automation"
   ]
  },
  {
   "cell_type": "markdown",
   "id": "520d91fd",
   "metadata": {
    "papermill": {},
    "tags": []
   },
   "source": [
    "**Author:** [Florent Ravenel](https://www.linkedin.com/in/florent-ravenel/)"
   ]
  },
  {
   "cell_type": "markdown",
   "id": "50f12968-23e2-4039-aa47-99f4168e63ff",
   "metadata": {
    "papermill": {},
    "tags": []
   },
   "source": [
    "This notebook follows the evolution of content views on YouTube."
   ]
  },
  {
   "cell_type": "markdown",
   "id": "227b8ffb",
   "metadata": {
    "papermill": {},
    "tags": []
   },
   "source": [
    "## Input"
   ]
  },
  {
   "cell_type": "code",
   "execution_count": 1,
   "id": "a9ed07a4-0f86-4282-928d-1c95f2ca8dd2",
   "metadata": {
    "execution": {
     "iopub.execute_input": "2022-06-28T10:45:46.524218Z",
     "iopub.status.busy": "2022-06-28T10:45:46.523961Z",
     "iopub.status.idle": "2022-06-28T10:45:54.513442Z",
     "shell.execute_reply": "2022-06-28T10:45:54.512774Z",
     "shell.execute_reply.started": "2022-06-28T10:45:46.524152Z"
    },
    "tags": []
   },
   "outputs": [],
   "source": [
    "# Except allow to run common.ipynb once using Naas Engine\n",
    "try:\n",
    "    %run \"../common.ipynb\"\n",
    "except:\n",
    "    %run \"common.ipynb\""
   ]
  },
  {
   "cell_type": "markdown",
   "id": "024797b3",
   "metadata": {
    "papermill": {},
    "tags": []
   },
   "source": [
    "### Setup Variables"
   ]
  },
  {
   "cell_type": "code",
   "execution_count": 15,
   "id": "81f1fde6-e3a7-4617-82da-c332ec4a2ee6",
   "metadata": {
    "execution": {
     "iopub.execute_input": "2022-06-21T07:55:26.628366Z",
     "iopub.status.busy": "2022-06-21T07:55:26.628146Z",
     "iopub.status.idle": "2022-06-21T07:55:26.632785Z",
     "shell.execute_reply": "2022-06-21T07:55:26.632244Z",
     "shell.execute_reply.started": "2022-06-21T07:55:26.628338Z"
    },
    "tags": []
   },
   "outputs": [],
   "source": [
    "KPI_TITLE = \"Views\""
   ]
  },
  {
   "cell_type": "markdown",
   "id": "4d4e1379-ea4e-4fb1-ba52-606cf89b114a",
   "metadata": {},
   "source": [
    "### Setup Constants"
   ]
  },
  {
   "cell_type": "code",
   "execution_count": 16,
   "id": "17dcc289",
   "metadata": {
    "execution": {
     "iopub.execute_input": "2022-06-21T07:55:27.122805Z",
     "iopub.status.busy": "2022-06-21T07:55:27.122569Z",
     "iopub.status.idle": "2022-06-21T07:55:27.129269Z",
     "shell.execute_reply": "2022-06-21T07:55:27.128631Z",
     "shell.execute_reply.started": "2022-06-21T07:55:27.122780Z"
    },
    "papermill": {},
    "tags": []
   },
   "outputs": [],
   "source": [
    "# Inputs\n",
    "PLATFORM = YOUTUBE\n",
    "LOGO = YOUTUBE_LOGO\n",
    "COLOR = YOUTUBE_COLOR\n",
    "PERIOD = PERIOD_MTD\n",
    "PERIOD_D = DISPLAY_MTD\n",
    "PERIOD_TEXT = TEXT_MTD\n",
    "PERIOD_TEXT2 = TEXT2_MTD\n",
    "TITLE = f\"Content {KPI_TITLE.lower()} over the past {str(MONTH_ROLLING)} {PERIOD_TEXT2}\"\n",
    "COL_VALUE = \"VIEWCOUNT\"\n",
    "COL_DATE = \"PUBLISHEDAT\"\n",
    "\n",
    "# Outputs\n",
    "name_output = f\"YouTube_Follow_content_{KPI_TITLE.lower()}_monthly\"\n",
    "csv_output = path.join(\"Outputs\", f\"{name_output}.csv\")\n",
    "html_output = path.join(\"Outputs\", f\"{name_output}.html\")\n",
    "image_output = path.join(\"Outputs\", f\"{name_output}.png\")"
   ]
  },
  {
   "cell_type": "markdown",
   "id": "1bb8c4cd",
   "metadata": {
    "papermill": {},
    "tags": []
   },
   "source": [
    "## Model"
   ]
  },
  {
   "cell_type": "markdown",
   "id": "024e9efb-4c80-4c60-a455-103af0884d2d",
   "metadata": {},
   "source": [
    "### Get contents"
   ]
  },
  {
   "cell_type": "code",
   "execution_count": 2,
   "id": "6d00847f-e9bf-4f92-a2b4-406468fb09e2",
   "metadata": {
    "execution": {
     "iopub.execute_input": "2022-06-28T10:45:55.222085Z",
     "iopub.status.busy": "2022-06-28T10:45:55.221864Z",
     "iopub.status.idle": "2022-06-28T10:45:55.283491Z",
     "shell.execute_reply": "2022-06-28T10:45:55.282906Z",
     "shell.execute_reply.started": "2022-06-28T10:45:55.222063Z"
    },
    "tags": []
   },
   "outputs": [
    {
     "name": "stdout",
     "output_type": "stream",
     "text": [
      "Content fetched: 28\n"
     ]
    },
    {
     "data": {
      "text/html": [
       "<div>\n",
       "<style scoped>\n",
       "    .dataframe tbody tr th:only-of-type {\n",
       "        vertical-align: middle;\n",
       "    }\n",
       "\n",
       "    .dataframe tbody tr th {\n",
       "        vertical-align: top;\n",
       "    }\n",
       "\n",
       "    .dataframe thead th {\n",
       "        text-align: right;\n",
       "    }\n",
       "</style>\n",
       "<table border=\"1\" class=\"dataframe\">\n",
       "  <thead>\n",
       "    <tr style=\"text-align: right;\">\n",
       "      <th></th>\n",
       "      <th>CHANNEL_ID</th>\n",
       "      <th>CHANNEL_TITLE</th>\n",
       "      <th>ID</th>\n",
       "      <th>URL</th>\n",
       "      <th>TITLE</th>\n",
       "      <th>DESCRIPTION</th>\n",
       "      <th>VIEWCOUNT</th>\n",
       "      <th>LIKECOUNT</th>\n",
       "      <th>DISLIKECOUNT</th>\n",
       "      <th>FAVORITECOUNT</th>\n",
       "      <th>COMMENTCOUNT</th>\n",
       "      <th>DURATION</th>\n",
       "      <th>DURATION_SECONDS</th>\n",
       "      <th>THUMBNAILS</th>\n",
       "      <th>PUBLISHEDAT</th>\n",
       "    </tr>\n",
       "  </thead>\n",
       "  <tbody>\n",
       "    <tr>\n",
       "      <th>0</th>\n",
       "      <td>UCKKG5hzjXXU_rRdHHWQ8JHQ</td>\n",
       "      <td>naas</td>\n",
       "      <td>ltdJOX_DVtE</td>\n",
       "      <td>https://www.youtube.com/watch?v=ltdJOX_DVtE</td>\n",
       "      <td>Create a YouTube API Key (In less than 2 minutes)</td>\n",
       "      <td>This short video will show you how to create a...</td>\n",
       "      <td>47</td>\n",
       "      <td>3</td>\n",
       "      <td>NaN</td>\n",
       "      <td>0</td>\n",
       "      <td>0</td>\n",
       "      <td>0:01:40</td>\n",
       "      <td>100</td>\n",
       "      <td>https://i.ytimg.com/vi/ltdJOX_DVtE/hqdefault.jpg</td>\n",
       "      <td>2022-06-03 07:52:29+00:00</td>\n",
       "    </tr>\n",
       "    <tr>\n",
       "      <th>1</th>\n",
       "      <td>UCKKG5hzjXXU_rRdHHWQ8JHQ</td>\n",
       "      <td>naas</td>\n",
       "      <td>TIQiMTpzH-Q</td>\n",
       "      <td>https://www.youtube.com/watch?v=TIQiMTpzH-Q</td>\n",
       "      <td>⚡️🌎 Naas Community Call (2022/03/03)</td>\n",
       "      <td>Here is what we are going to talk about:\\n\\n⚡️...</td>\n",
       "      <td>58</td>\n",
       "      <td>4</td>\n",
       "      <td>NaN</td>\n",
       "      <td>0</td>\n",
       "      <td>0</td>\n",
       "      <td>0:51:24</td>\n",
       "      <td>3084</td>\n",
       "      <td>https://i.ytimg.com/vi/TIQiMTpzH-Q/hqdefault.jpg</td>\n",
       "      <td>2022-03-07 21:00:00+00:00</td>\n",
       "    </tr>\n",
       "    <tr>\n",
       "      <th>2</th>\n",
       "      <td>UCKKG5hzjXXU_rRdHHWQ8JHQ</td>\n",
       "      <td>naas</td>\n",
       "      <td>1kjxWtgeV3E</td>\n",
       "      <td>https://www.youtube.com/watch?v=1kjxWtgeV3E</td>\n",
       "      <td>💬 Using NLP to extract and summarize transcrip...</td>\n",
       "      <td>🌍💬 Interested in Open Source + NLP but don't k...</td>\n",
       "      <td>595</td>\n",
       "      <td>13</td>\n",
       "      <td>NaN</td>\n",
       "      <td>0</td>\n",
       "      <td>0</td>\n",
       "      <td>0:07:02</td>\n",
       "      <td>422</td>\n",
       "      <td>https://i.ytimg.com/vi/1kjxWtgeV3E/hqdefault.jpg</td>\n",
       "      <td>2021-10-15 18:17:04+00:00</td>\n",
       "    </tr>\n",
       "    <tr>\n",
       "      <th>3</th>\n",
       "      <td>UCKKG5hzjXXU_rRdHHWQ8JHQ</td>\n",
       "      <td>naas</td>\n",
       "      <td>lvZKZx9ngrc</td>\n",
       "      <td>https://www.youtube.com/watch?v=lvZKZx9ngrc</td>\n",
       "      <td>Code is power - A brief history of coding.</td>\n",
       "      <td>#code #opensource #power #office #hours #naas</td>\n",
       "      <td>95</td>\n",
       "      <td>10</td>\n",
       "      <td>NaN</td>\n",
       "      <td>0</td>\n",
       "      <td>2</td>\n",
       "      <td>1:02:56</td>\n",
       "      <td>3776</td>\n",
       "      <td>https://i.ytimg.com/vi/lvZKZx9ngrc/hqdefault.jpg</td>\n",
       "      <td>2021-10-03 18:07:15+00:00</td>\n",
       "    </tr>\n",
       "    <tr>\n",
       "      <th>4</th>\n",
       "      <td>UCKKG5hzjXXU_rRdHHWQ8JHQ</td>\n",
       "      <td>naas</td>\n",
       "      <td>4ds2FDI_60g</td>\n",
       "      <td>https://www.youtube.com/watch?v=4ds2FDI_60g</td>\n",
       "      <td>Push Jupyter notebooks to Production ⚡️ with 5...</td>\n",
       "      <td>#naas #notebooks #lowcode #opensource\\n\\n✊⚡️Pu...</td>\n",
       "      <td>1491</td>\n",
       "      <td>33</td>\n",
       "      <td>NaN</td>\n",
       "      <td>0</td>\n",
       "      <td>7</td>\n",
       "      <td>0:10:47</td>\n",
       "      <td>647</td>\n",
       "      <td>https://i.ytimg.com/vi/4ds2FDI_60g/hqdefault.jpg</td>\n",
       "      <td>2021-09-16 16:33:00+00:00</td>\n",
       "    </tr>\n",
       "    <tr>\n",
       "      <th>5</th>\n",
       "      <td>UCKKG5hzjXXU_rRdHHWQ8JHQ</td>\n",
       "      <td>naas</td>\n",
       "      <td>tQd-4AsHvqU</td>\n",
       "      <td>https://www.youtube.com/watch?v=tQd-4AsHvqU</td>\n",
       "      <td>Is an idea environmentally friendly? 🌎👍 👎 (Hug...</td>\n",
       "      <td>#huggingface #transformers #ai #model #jupyter...</td>\n",
       "      <td>38</td>\n",
       "      <td>1</td>\n",
       "      <td>NaN</td>\n",
       "      <td>0</td>\n",
       "      <td>0</td>\n",
       "      <td>0:15:59</td>\n",
       "      <td>959</td>\n",
       "      <td>https://i.ytimg.com/vi/tQd-4AsHvqU/hqdefault.jpg</td>\n",
       "      <td>2021-09-06 17:00:44+00:00</td>\n",
       "    </tr>\n",
       "    <tr>\n",
       "      <th>6</th>\n",
       "      <td>UCKKG5hzjXXU_rRdHHWQ8JHQ</td>\n",
       "      <td>naas</td>\n",
       "      <td>jmC5VDN-MOI</td>\n",
       "      <td>https://www.youtube.com/watch?v=jmC5VDN-MOI</td>\n",
       "      <td>🚨 Open Source Contribution step by step (Githu...</td>\n",
       "      <td>#opensource #contribution #git #naas #notebook...</td>\n",
       "      <td>350</td>\n",
       "      <td>20</td>\n",
       "      <td>NaN</td>\n",
       "      <td>0</td>\n",
       "      <td>0</td>\n",
       "      <td>0:43:37</td>\n",
       "      <td>2617</td>\n",
       "      <td>https://i.ytimg.com/vi/jmC5VDN-MOI/hqdefault.jpg</td>\n",
       "      <td>2021-09-01 19:01:49+00:00</td>\n",
       "    </tr>\n",
       "    <tr>\n",
       "      <th>7</th>\n",
       "      <td>UCKKG5hzjXXU_rRdHHWQ8JHQ</td>\n",
       "      <td>naas</td>\n",
       "      <td>1CfW0N8x8og</td>\n",
       "      <td>https://www.youtube.com/watch?v=1CfW0N8x8og</td>\n",
       "      <td>🧨 👿 What is wrong with Data Project? ...and wh...</td>\n",
       "      <td>#data #dataops #devops #agile #businesteam #te...</td>\n",
       "      <td>40</td>\n",
       "      <td>2</td>\n",
       "      <td>NaN</td>\n",
       "      <td>0</td>\n",
       "      <td>0</td>\n",
       "      <td>0:53:54</td>\n",
       "      <td>3234</td>\n",
       "      <td>https://i.ytimg.com/vi/1CfW0N8x8og/hqdefault.jpg</td>\n",
       "      <td>2021-08-17 15:09:55+00:00</td>\n",
       "    </tr>\n",
       "    <tr>\n",
       "      <th>8</th>\n",
       "      <td>UCKKG5hzjXXU_rRdHHWQ8JHQ</td>\n",
       "      <td>naas</td>\n",
       "      <td>W02XVb8IbGA</td>\n",
       "      <td>https://www.youtube.com/watch?v=W02XVb8IbGA</td>\n",
       "      <td>⏱1-minute pitch video for Pioneer</td>\n",
       "      <td>A 1-minute video about Naas project.</td>\n",
       "      <td>112</td>\n",
       "      <td>10</td>\n",
       "      <td>NaN</td>\n",
       "      <td>0</td>\n",
       "      <td>1</td>\n",
       "      <td>0:01:01</td>\n",
       "      <td>61</td>\n",
       "      <td>https://i.ytimg.com/vi/W02XVb8IbGA/hqdefault.jpg</td>\n",
       "      <td>2021-08-09 16:41:49+00:00</td>\n",
       "    </tr>\n",
       "    <tr>\n",
       "      <th>9</th>\n",
       "      <td>UCKKG5hzjXXU_rRdHHWQ8JHQ</td>\n",
       "      <td>naas</td>\n",
       "      <td>NjUhb92i9eM</td>\n",
       "      <td>https://www.youtube.com/watch?v=NjUhb92i9eM</td>\n",
       "      <td>🌎🔗Making sense of LinkedIn data: how Mark used...</td>\n",
       "      <td>#socialmedia #linkedin #datamining #datascienc...</td>\n",
       "      <td>147</td>\n",
       "      <td>5</td>\n",
       "      <td>NaN</td>\n",
       "      <td>0</td>\n",
       "      <td>0</td>\n",
       "      <td>0:58:47</td>\n",
       "      <td>3527</td>\n",
       "      <td>https://i.ytimg.com/vi/NjUhb92i9eM/hqdefault.jpg</td>\n",
       "      <td>2021-07-27 18:07:10+00:00</td>\n",
       "    </tr>\n",
       "    <tr>\n",
       "      <th>10</th>\n",
       "      <td>UCKKG5hzjXXU_rRdHHWQ8JHQ</td>\n",
       "      <td>naas</td>\n",
       "      <td>atUXFzF63jI</td>\n",
       "      <td>https://www.youtube.com/watch?v=atUXFzF63jI</td>\n",
       "      <td>📚🖥 What does it take to curate content for the...</td>\n",
       "      <td>#content #curation #data #community #datascien...</td>\n",
       "      <td>244</td>\n",
       "      <td>4</td>\n",
       "      <td>NaN</td>\n",
       "      <td>0</td>\n",
       "      <td>1</td>\n",
       "      <td>1:05:50</td>\n",
       "      <td>3950</td>\n",
       "      <td>https://i.ytimg.com/vi/atUXFzF63jI/hqdefault.jpg</td>\n",
       "      <td>2021-07-12 11:49:15+00:00</td>\n",
       "    </tr>\n",
       "    <tr>\n",
       "      <th>11</th>\n",
       "      <td>UCKKG5hzjXXU_rRdHHWQ8JHQ</td>\n",
       "      <td>naas</td>\n",
       "      <td>ONZRPWAvm2o</td>\n",
       "      <td>https://www.youtube.com/watch?v=ONZRPWAvm2o</td>\n",
       "      <td>🦾 A.I. in the workplace, a human-centered desi...</td>\n",
       "      <td>#ai #workplace #machinelearning #deeplearning ...</td>\n",
       "      <td>98</td>\n",
       "      <td>10</td>\n",
       "      <td>NaN</td>\n",
       "      <td>0</td>\n",
       "      <td>1</td>\n",
       "      <td>0:55:41</td>\n",
       "      <td>3341</td>\n",
       "      <td>https://i.ytimg.com/vi/ONZRPWAvm2o/hqdefault.jpg</td>\n",
       "      <td>2021-06-07 19:17:49+00:00</td>\n",
       "    </tr>\n",
       "    <tr>\n",
       "      <th>12</th>\n",
       "      <td>UCKKG5hzjXXU_rRdHHWQ8JHQ</td>\n",
       "      <td>naas</td>\n",
       "      <td>ly9jmWxO8iM</td>\n",
       "      <td>https://www.youtube.com/watch?v=ly9jmWxO8iM</td>\n",
       "      <td>Citizen Data Science &amp; the Earth Data Challeng...</td>\n",
       "      <td>#citizendatascience #earthdatachallenge</td>\n",
       "      <td>55</td>\n",
       "      <td>3</td>\n",
       "      <td>NaN</td>\n",
       "      <td>0</td>\n",
       "      <td>6</td>\n",
       "      <td>0:50:17</td>\n",
       "      <td>3017</td>\n",
       "      <td>https://i.ytimg.com/vi/ly9jmWxO8iM/hqdefault.jpg</td>\n",
       "      <td>2021-05-05 17:57:41+00:00</td>\n",
       "    </tr>\n",
       "    <tr>\n",
       "      <th>13</th>\n",
       "      <td>UCKKG5hzjXXU_rRdHHWQ8JHQ</td>\n",
       "      <td>naas</td>\n",
       "      <td>tJ_JW9U7pXA</td>\n",
       "      <td>https://www.youtube.com/watch?v=tJ_JW9U7pXA</td>\n",
       "      <td>How to contribute to Naas open-source notebook...</td>\n",
       "      <td>#opensource #python​ #naas​ #github​ #datascie...</td>\n",
       "      <td>224</td>\n",
       "      <td>9</td>\n",
       "      <td>NaN</td>\n",
       "      <td>0</td>\n",
       "      <td>4</td>\n",
       "      <td>0:10:25</td>\n",
       "      <td>625</td>\n",
       "      <td>https://i.ytimg.com/vi/tJ_JW9U7pXA/hqdefault.jpg</td>\n",
       "      <td>2021-05-03 12:13:36+00:00</td>\n",
       "    </tr>\n",
       "    <tr>\n",
       "      <th>14</th>\n",
       "      <td>UCKKG5hzjXXU_rRdHHWQ8JHQ</td>\n",
       "      <td>naas</td>\n",
       "      <td>z8sTjIiZphM</td>\n",
       "      <td>https://www.youtube.com/watch?v=z8sTjIiZphM</td>\n",
       "      <td>How to share assets? #python​ #lowcode​​ #jupy...</td>\n",
       "      <td>#assets​​ #python​​ #naas #feature​​ #lowcode​...</td>\n",
       "      <td>120</td>\n",
       "      <td>5</td>\n",
       "      <td>NaN</td>\n",
       "      <td>0</td>\n",
       "      <td>0</td>\n",
       "      <td>0:03:11</td>\n",
       "      <td>191</td>\n",
       "      <td>https://i.ytimg.com/vi/z8sTjIiZphM/hqdefault.jpg</td>\n",
       "      <td>2021-04-19 18:33:53+00:00</td>\n",
       "    </tr>\n",
       "    <tr>\n",
       "      <th>15</th>\n",
       "      <td>UCKKG5hzjXXU_rRdHHWQ8JHQ</td>\n",
       "      <td>naas</td>\n",
       "      <td>KejRjlSvOL8</td>\n",
       "      <td>https://www.youtube.com/watch?v=KejRjlSvOL8</td>\n",
       "      <td>How to setup a webhook? #python #lowcode​ #jup...</td>\n",
       "      <td>#webhook​ #python​ #naas​ #lowcode​ #datascien...</td>\n",
       "      <td>319</td>\n",
       "      <td>6</td>\n",
       "      <td>NaN</td>\n",
       "      <td>0</td>\n",
       "      <td>0</td>\n",
       "      <td>0:05:05</td>\n",
       "      <td>305</td>\n",
       "      <td>https://i.ytimg.com/vi/KejRjlSvOL8/hqdefault.jpg</td>\n",
       "      <td>2021-03-23 10:30:30+00:00</td>\n",
       "    </tr>\n",
       "    <tr>\n",
       "      <th>16</th>\n",
       "      <td>UCKKG5hzjXXU_rRdHHWQ8JHQ</td>\n",
       "      <td>naas</td>\n",
       "      <td>2n5TkFnCLrg</td>\n",
       "      <td>https://www.youtube.com/watch?v=2n5TkFnCLrg</td>\n",
       "      <td>🚀  Transformers - The next generation of AI</td>\n",
       "      <td>#ai #transformers #machinelearning #deeplearni...</td>\n",
       "      <td>180</td>\n",
       "      <td>5</td>\n",
       "      <td>NaN</td>\n",
       "      <td>0</td>\n",
       "      <td>0</td>\n",
       "      <td>1:00:00</td>\n",
       "      <td>3600</td>\n",
       "      <td>https://i.ytimg.com/vi/2n5TkFnCLrg/hqdefault.jpg</td>\n",
       "      <td>2021-03-04 16:31:39+00:00</td>\n",
       "    </tr>\n",
       "    <tr>\n",
       "      <th>17</th>\n",
       "      <td>UCKKG5hzjXXU_rRdHHWQ8JHQ</td>\n",
       "      <td>naas</td>\n",
       "      <td>SmawUBdnXns</td>\n",
       "      <td>https://www.youtube.com/watch?v=SmawUBdnXns</td>\n",
       "      <td>⏰Automate Twitter posts with Naas scheduler (3...</td>\n",
       "      <td>#twitter​​​ #scheduler #naas​​​ #ifttt​ #gshee...</td>\n",
       "      <td>190</td>\n",
       "      <td>3</td>\n",
       "      <td>NaN</td>\n",
       "      <td>0</td>\n",
       "      <td>1</td>\n",
       "      <td>0:02:56</td>\n",
       "      <td>176</td>\n",
       "      <td>https://i.ytimg.com/vi/SmawUBdnXns/hqdefault.jpg</td>\n",
       "      <td>2021-02-26 09:04:44+00:00</td>\n",
       "    </tr>\n",
       "    <tr>\n",
       "      <th>18</th>\n",
       "      <td>UCKKG5hzjXXU_rRdHHWQ8JHQ</td>\n",
       "      <td>naas</td>\n",
       "      <td>FvAM1aS4GFM</td>\n",
       "      <td>https://www.youtube.com/watch?v=FvAM1aS4GFM</td>\n",
       "      <td>📪 Post a tweet on Twitter with IFTTT low-code ...</td>\n",
       "      <td>#twitter​​ #python​​ #naas​​ #ifttt #lowcode​​...</td>\n",
       "      <td>621</td>\n",
       "      <td>7</td>\n",
       "      <td>NaN</td>\n",
       "      <td>0</td>\n",
       "      <td>6</td>\n",
       "      <td>0:02:52</td>\n",
       "      <td>172</td>\n",
       "      <td>https://i.ytimg.com/vi/FvAM1aS4GFM/hqdefault.jpg</td>\n",
       "      <td>2021-02-26 08:49:35+00:00</td>\n",
       "    </tr>\n",
       "    <tr>\n",
       "      <th>19</th>\n",
       "      <td>UCKKG5hzjXXU_rRdHHWQ8JHQ</td>\n",
       "      <td>naas</td>\n",
       "      <td>V_4EAl1RzBw</td>\n",
       "      <td>https://www.youtube.com/watch?v=V_4EAl1RzBw</td>\n",
       "      <td>🥊  Extract and send data to Notion with Python...</td>\n",
       "      <td>#notion​ #python​ #naas​ #lowcode #cookies​ #d...</td>\n",
       "      <td>2276</td>\n",
       "      <td>56</td>\n",
       "      <td>NaN</td>\n",
       "      <td>0</td>\n",
       "      <td>4</td>\n",
       "      <td>0:03:22</td>\n",
       "      <td>202</td>\n",
       "      <td>https://i.ytimg.com/vi/V_4EAl1RzBw/hqdefault.jpg</td>\n",
       "      <td>2021-02-18 15:23:43+00:00</td>\n",
       "    </tr>\n",
       "    <tr>\n",
       "      <th>20</th>\n",
       "      <td>UCKKG5hzjXXU_rRdHHWQ8JHQ</td>\n",
       "      <td>naas</td>\n",
       "      <td>JF10Ey-O1HU</td>\n",
       "      <td>https://www.youtube.com/watch?v=JF10Ey-O1HU</td>\n",
       "      <td>📺  Netflix scheduling Jupyter notebooks: an in...</td>\n",
       "      <td>#netlfix #scheduling​ #jupyternotebook​ #lowco...</td>\n",
       "      <td>451</td>\n",
       "      <td>6</td>\n",
       "      <td>NaN</td>\n",
       "      <td>0</td>\n",
       "      <td>3</td>\n",
       "      <td>1:19:55</td>\n",
       "      <td>4795</td>\n",
       "      <td>https://i.ytimg.com/vi/JF10Ey-O1HU/hqdefault.jpg</td>\n",
       "      <td>2021-02-16 17:41:38+00:00</td>\n",
       "    </tr>\n",
       "    <tr>\n",
       "      <th>21</th>\n",
       "      <td>UCKKG5hzjXXU_rRdHHWQ8JHQ</td>\n",
       "      <td>naas</td>\n",
       "      <td>ONiILHFItzs</td>\n",
       "      <td>https://www.youtube.com/watch?v=ONiILHFItzs</td>\n",
       "      <td>How to schedule a Jupyter notebook? #lowcode #...</td>\n",
       "      <td>#scheduling #jupyternotebook #lowcode #naas_da...</td>\n",
       "      <td>6691</td>\n",
       "      <td>88</td>\n",
       "      <td>NaN</td>\n",
       "      <td>0</td>\n",
       "      <td>18</td>\n",
       "      <td>0:02:27</td>\n",
       "      <td>147</td>\n",
       "      <td>https://i.ytimg.com/vi/ONiILHFItzs/hqdefault.jpg</td>\n",
       "      <td>2020-12-23 16:38:34+00:00</td>\n",
       "    </tr>\n",
       "    <tr>\n",
       "      <th>22</th>\n",
       "      <td>UCKKG5hzjXXU_rRdHHWQ8JHQ</td>\n",
       "      <td>naas</td>\n",
       "      <td>G0pWBIiFH7U</td>\n",
       "      <td>https://www.youtube.com/watch?v=G0pWBIiFH7U</td>\n",
       "      <td>Send emails batches from Google sheets with Py...</td>\n",
       "      <td>#gsheets #python #emails #lowcode #naas_data #...</td>\n",
       "      <td>505</td>\n",
       "      <td>23</td>\n",
       "      <td>NaN</td>\n",
       "      <td>0</td>\n",
       "      <td>1</td>\n",
       "      <td>0:02:34</td>\n",
       "      <td>154</td>\n",
       "      <td>https://i.ytimg.com/vi/G0pWBIiFH7U/hqdefault.jpg</td>\n",
       "      <td>2020-12-18 10:15:47+00:00</td>\n",
       "    </tr>\n",
       "    <tr>\n",
       "      <th>23</th>\n",
       "      <td>UCKKG5hzjXXU_rRdHHWQ8JHQ</td>\n",
       "      <td>naas</td>\n",
       "      <td>Bcwsj-JgGiE</td>\n",
       "      <td>https://www.youtube.com/watch?v=Bcwsj-JgGiE</td>\n",
       "      <td>Get Airtable data with Python in 1min 👆</td>\n",
       "      <td>#airtable #python #naas #spreadsheet #database...</td>\n",
       "      <td>1802</td>\n",
       "      <td>38</td>\n",
       "      <td>NaN</td>\n",
       "      <td>0</td>\n",
       "      <td>2</td>\n",
       "      <td>0:02:24</td>\n",
       "      <td>144</td>\n",
       "      <td>https://i.ytimg.com/vi/Bcwsj-JgGiE/hqdefault.jpg</td>\n",
       "      <td>2020-12-15 16:19:45+00:00</td>\n",
       "    </tr>\n",
       "    <tr>\n",
       "      <th>24</th>\n",
       "      <td>UCKKG5hzjXXU_rRdHHWQ8JHQ</td>\n",
       "      <td>naas</td>\n",
       "      <td>X9mM21qeG4E</td>\n",
       "      <td>https://www.youtube.com/watch?v=X9mM21qeG4E</td>\n",
       "      <td>Jupyter-naas: the new way to Excel (RAVIT SHOW...</td>\n",
       "      <td>A replay of the RAVIT SHOW (11 Nov 2020) \\n\\nI...</td>\n",
       "      <td>139</td>\n",
       "      <td>6</td>\n",
       "      <td>NaN</td>\n",
       "      <td>0</td>\n",
       "      <td>0</td>\n",
       "      <td>0:53:02</td>\n",
       "      <td>3182</td>\n",
       "      <td>https://i.ytimg.com/vi/X9mM21qeG4E/hqdefault.jpg</td>\n",
       "      <td>2020-12-11 14:49:38+00:00</td>\n",
       "    </tr>\n",
       "    <tr>\n",
       "      <th>25</th>\n",
       "      <td>UCKKG5hzjXXU_rRdHHWQ8JHQ</td>\n",
       "      <td>naas</td>\n",
       "      <td>5S-NixNV5aA</td>\n",
       "      <td>https://www.youtube.com/watch?v=5S-NixNV5aA</td>\n",
       "      <td>Read, consolidate and share Excel files with P...</td>\n",
       "      <td>#excel #python #naas #consolidation #share #ju...</td>\n",
       "      <td>393</td>\n",
       "      <td>25</td>\n",
       "      <td>NaN</td>\n",
       "      <td>0</td>\n",
       "      <td>2</td>\n",
       "      <td>0:02:24</td>\n",
       "      <td>144</td>\n",
       "      <td>https://i.ytimg.com/vi/5S-NixNV5aA/hqdefault.jpg</td>\n",
       "      <td>2020-12-08 16:54:55+00:00</td>\n",
       "    </tr>\n",
       "    <tr>\n",
       "      <th>26</th>\n",
       "      <td>UCKKG5hzjXXU_rRdHHWQ8JHQ</td>\n",
       "      <td>naas</td>\n",
       "      <td>KkLYoiWtEcU</td>\n",
       "      <td>https://www.youtube.com/watch?v=KkLYoiWtEcU</td>\n",
       "      <td>Build a daily stock market brief with Python i...</td>\n",
       "      <td>#email #brief #trading #machinelearning #movin...</td>\n",
       "      <td>551</td>\n",
       "      <td>27</td>\n",
       "      <td>NaN</td>\n",
       "      <td>0</td>\n",
       "      <td>2</td>\n",
       "      <td>0:05:06</td>\n",
       "      <td>306</td>\n",
       "      <td>https://i.ytimg.com/vi/KkLYoiWtEcU/hqdefault.jpg</td>\n",
       "      <td>2020-12-03 17:00:07+00:00</td>\n",
       "    </tr>\n",
       "    <tr>\n",
       "      <th>27</th>\n",
       "      <td>UCKKG5hzjXXU_rRdHHWQ8JHQ</td>\n",
       "      <td>naas</td>\n",
       "      <td>2IYJ3B1ymA8</td>\n",
       "      <td>https://www.youtube.com/watch?v=2IYJ3B1ymA8</td>\n",
       "      <td>Get Google Sheets data with Python in 1 minute 👆</td>\n",
       "      <td>#googlesheets #python #naas #googleapi #datasc...</td>\n",
       "      <td>8537</td>\n",
       "      <td>232</td>\n",
       "      <td>NaN</td>\n",
       "      <td>0</td>\n",
       "      <td>39</td>\n",
       "      <td>0:02:08</td>\n",
       "      <td>128</td>\n",
       "      <td>https://i.ytimg.com/vi/2IYJ3B1ymA8/hqdefault.jpg</td>\n",
       "      <td>2020-12-01 17:31:10+00:00</td>\n",
       "    </tr>\n",
       "  </tbody>\n",
       "</table>\n",
       "</div>"
      ],
      "text/plain": [
       "                  CHANNEL_ID CHANNEL_TITLE           ID  \\\n",
       "0   UCKKG5hzjXXU_rRdHHWQ8JHQ          naas  ltdJOX_DVtE   \n",
       "1   UCKKG5hzjXXU_rRdHHWQ8JHQ          naas  TIQiMTpzH-Q   \n",
       "2   UCKKG5hzjXXU_rRdHHWQ8JHQ          naas  1kjxWtgeV3E   \n",
       "3   UCKKG5hzjXXU_rRdHHWQ8JHQ          naas  lvZKZx9ngrc   \n",
       "4   UCKKG5hzjXXU_rRdHHWQ8JHQ          naas  4ds2FDI_60g   \n",
       "5   UCKKG5hzjXXU_rRdHHWQ8JHQ          naas  tQd-4AsHvqU   \n",
       "6   UCKKG5hzjXXU_rRdHHWQ8JHQ          naas  jmC5VDN-MOI   \n",
       "7   UCKKG5hzjXXU_rRdHHWQ8JHQ          naas  1CfW0N8x8og   \n",
       "8   UCKKG5hzjXXU_rRdHHWQ8JHQ          naas  W02XVb8IbGA   \n",
       "9   UCKKG5hzjXXU_rRdHHWQ8JHQ          naas  NjUhb92i9eM   \n",
       "10  UCKKG5hzjXXU_rRdHHWQ8JHQ          naas  atUXFzF63jI   \n",
       "11  UCKKG5hzjXXU_rRdHHWQ8JHQ          naas  ONZRPWAvm2o   \n",
       "12  UCKKG5hzjXXU_rRdHHWQ8JHQ          naas  ly9jmWxO8iM   \n",
       "13  UCKKG5hzjXXU_rRdHHWQ8JHQ          naas  tJ_JW9U7pXA   \n",
       "14  UCKKG5hzjXXU_rRdHHWQ8JHQ          naas  z8sTjIiZphM   \n",
       "15  UCKKG5hzjXXU_rRdHHWQ8JHQ          naas  KejRjlSvOL8   \n",
       "16  UCKKG5hzjXXU_rRdHHWQ8JHQ          naas  2n5TkFnCLrg   \n",
       "17  UCKKG5hzjXXU_rRdHHWQ8JHQ          naas  SmawUBdnXns   \n",
       "18  UCKKG5hzjXXU_rRdHHWQ8JHQ          naas  FvAM1aS4GFM   \n",
       "19  UCKKG5hzjXXU_rRdHHWQ8JHQ          naas  V_4EAl1RzBw   \n",
       "20  UCKKG5hzjXXU_rRdHHWQ8JHQ          naas  JF10Ey-O1HU   \n",
       "21  UCKKG5hzjXXU_rRdHHWQ8JHQ          naas  ONiILHFItzs   \n",
       "22  UCKKG5hzjXXU_rRdHHWQ8JHQ          naas  G0pWBIiFH7U   \n",
       "23  UCKKG5hzjXXU_rRdHHWQ8JHQ          naas  Bcwsj-JgGiE   \n",
       "24  UCKKG5hzjXXU_rRdHHWQ8JHQ          naas  X9mM21qeG4E   \n",
       "25  UCKKG5hzjXXU_rRdHHWQ8JHQ          naas  5S-NixNV5aA   \n",
       "26  UCKKG5hzjXXU_rRdHHWQ8JHQ          naas  KkLYoiWtEcU   \n",
       "27  UCKKG5hzjXXU_rRdHHWQ8JHQ          naas  2IYJ3B1ymA8   \n",
       "\n",
       "                                            URL  \\\n",
       "0   https://www.youtube.com/watch?v=ltdJOX_DVtE   \n",
       "1   https://www.youtube.com/watch?v=TIQiMTpzH-Q   \n",
       "2   https://www.youtube.com/watch?v=1kjxWtgeV3E   \n",
       "3   https://www.youtube.com/watch?v=lvZKZx9ngrc   \n",
       "4   https://www.youtube.com/watch?v=4ds2FDI_60g   \n",
       "5   https://www.youtube.com/watch?v=tQd-4AsHvqU   \n",
       "6   https://www.youtube.com/watch?v=jmC5VDN-MOI   \n",
       "7   https://www.youtube.com/watch?v=1CfW0N8x8og   \n",
       "8   https://www.youtube.com/watch?v=W02XVb8IbGA   \n",
       "9   https://www.youtube.com/watch?v=NjUhb92i9eM   \n",
       "10  https://www.youtube.com/watch?v=atUXFzF63jI   \n",
       "11  https://www.youtube.com/watch?v=ONZRPWAvm2o   \n",
       "12  https://www.youtube.com/watch?v=ly9jmWxO8iM   \n",
       "13  https://www.youtube.com/watch?v=tJ_JW9U7pXA   \n",
       "14  https://www.youtube.com/watch?v=z8sTjIiZphM   \n",
       "15  https://www.youtube.com/watch?v=KejRjlSvOL8   \n",
       "16  https://www.youtube.com/watch?v=2n5TkFnCLrg   \n",
       "17  https://www.youtube.com/watch?v=SmawUBdnXns   \n",
       "18  https://www.youtube.com/watch?v=FvAM1aS4GFM   \n",
       "19  https://www.youtube.com/watch?v=V_4EAl1RzBw   \n",
       "20  https://www.youtube.com/watch?v=JF10Ey-O1HU   \n",
       "21  https://www.youtube.com/watch?v=ONiILHFItzs   \n",
       "22  https://www.youtube.com/watch?v=G0pWBIiFH7U   \n",
       "23  https://www.youtube.com/watch?v=Bcwsj-JgGiE   \n",
       "24  https://www.youtube.com/watch?v=X9mM21qeG4E   \n",
       "25  https://www.youtube.com/watch?v=5S-NixNV5aA   \n",
       "26  https://www.youtube.com/watch?v=KkLYoiWtEcU   \n",
       "27  https://www.youtube.com/watch?v=2IYJ3B1ymA8   \n",
       "\n",
       "                                                TITLE  \\\n",
       "0   Create a YouTube API Key (In less than 2 minutes)   \n",
       "1                ⚡️🌎 Naas Community Call (2022/03/03)   \n",
       "2   💬 Using NLP to extract and summarize transcrip...   \n",
       "3          Code is power - A brief history of coding.   \n",
       "4   Push Jupyter notebooks to Production ⚡️ with 5...   \n",
       "5   Is an idea environmentally friendly? 🌎👍 👎 (Hug...   \n",
       "6   🚨 Open Source Contribution step by step (Githu...   \n",
       "7   🧨 👿 What is wrong with Data Project? ...and wh...   \n",
       "8                   ⏱1-minute pitch video for Pioneer   \n",
       "9   🌎🔗Making sense of LinkedIn data: how Mark used...   \n",
       "10  📚🖥 What does it take to curate content for the...   \n",
       "11  🦾 A.I. in the workplace, a human-centered desi...   \n",
       "12  Citizen Data Science & the Earth Data Challeng...   \n",
       "13  How to contribute to Naas open-source notebook...   \n",
       "14  How to share assets? #python​ #lowcode​​ #jupy...   \n",
       "15  How to setup a webhook? #python #lowcode​ #jup...   \n",
       "16        🚀  Transformers - The next generation of AI   \n",
       "17  ⏰Automate Twitter posts with Naas scheduler (3...   \n",
       "18  📪 Post a tweet on Twitter with IFTTT low-code ...   \n",
       "19  🥊  Extract and send data to Notion with Python...   \n",
       "20  📺  Netflix scheduling Jupyter notebooks: an in...   \n",
       "21  How to schedule a Jupyter notebook? #lowcode #...   \n",
       "22  Send emails batches from Google sheets with Py...   \n",
       "23            Get Airtable data with Python in 1min 👆   \n",
       "24  Jupyter-naas: the new way to Excel (RAVIT SHOW...   \n",
       "25  Read, consolidate and share Excel files with P...   \n",
       "26  Build a daily stock market brief with Python i...   \n",
       "27   Get Google Sheets data with Python in 1 minute 👆   \n",
       "\n",
       "                                          DESCRIPTION  VIEWCOUNT  LIKECOUNT  \\\n",
       "0   This short video will show you how to create a...         47          3   \n",
       "1   Here is what we are going to talk about:\\n\\n⚡️...         58          4   \n",
       "2   🌍💬 Interested in Open Source + NLP but don't k...        595         13   \n",
       "3       #code #opensource #power #office #hours #naas         95         10   \n",
       "4   #naas #notebooks #lowcode #opensource\\n\\n✊⚡️Pu...       1491         33   \n",
       "5   #huggingface #transformers #ai #model #jupyter...         38          1   \n",
       "6   #opensource #contribution #git #naas #notebook...        350         20   \n",
       "7   #data #dataops #devops #agile #businesteam #te...         40          2   \n",
       "8                A 1-minute video about Naas project.        112         10   \n",
       "9   #socialmedia #linkedin #datamining #datascienc...        147          5   \n",
       "10  #content #curation #data #community #datascien...        244          4   \n",
       "11  #ai #workplace #machinelearning #deeplearning ...         98         10   \n",
       "12            #citizendatascience #earthdatachallenge         55          3   \n",
       "13  #opensource #python​ #naas​ #github​ #datascie...        224          9   \n",
       "14  #assets​​ #python​​ #naas #feature​​ #lowcode​...        120          5   \n",
       "15  #webhook​ #python​ #naas​ #lowcode​ #datascien...        319          6   \n",
       "16  #ai #transformers #machinelearning #deeplearni...        180          5   \n",
       "17  #twitter​​​ #scheduler #naas​​​ #ifttt​ #gshee...        190          3   \n",
       "18  #twitter​​ #python​​ #naas​​ #ifttt #lowcode​​...        621          7   \n",
       "19  #notion​ #python​ #naas​ #lowcode #cookies​ #d...       2276         56   \n",
       "20  #netlfix #scheduling​ #jupyternotebook​ #lowco...        451          6   \n",
       "21  #scheduling #jupyternotebook #lowcode #naas_da...       6691         88   \n",
       "22  #gsheets #python #emails #lowcode #naas_data #...        505         23   \n",
       "23  #airtable #python #naas #spreadsheet #database...       1802         38   \n",
       "24  A replay of the RAVIT SHOW (11 Nov 2020) \\n\\nI...        139          6   \n",
       "25  #excel #python #naas #consolidation #share #ju...        393         25   \n",
       "26  #email #brief #trading #machinelearning #movin...        551         27   \n",
       "27  #googlesheets #python #naas #googleapi #datasc...       8537        232   \n",
       "\n",
       "    DISLIKECOUNT  FAVORITECOUNT  COMMENTCOUNT DURATION  DURATION_SECONDS  \\\n",
       "0            NaN              0             0  0:01:40               100   \n",
       "1            NaN              0             0  0:51:24              3084   \n",
       "2            NaN              0             0  0:07:02               422   \n",
       "3            NaN              0             2  1:02:56              3776   \n",
       "4            NaN              0             7  0:10:47               647   \n",
       "5            NaN              0             0  0:15:59               959   \n",
       "6            NaN              0             0  0:43:37              2617   \n",
       "7            NaN              0             0  0:53:54              3234   \n",
       "8            NaN              0             1  0:01:01                61   \n",
       "9            NaN              0             0  0:58:47              3527   \n",
       "10           NaN              0             1  1:05:50              3950   \n",
       "11           NaN              0             1  0:55:41              3341   \n",
       "12           NaN              0             6  0:50:17              3017   \n",
       "13           NaN              0             4  0:10:25               625   \n",
       "14           NaN              0             0  0:03:11               191   \n",
       "15           NaN              0             0  0:05:05               305   \n",
       "16           NaN              0             0  1:00:00              3600   \n",
       "17           NaN              0             1  0:02:56               176   \n",
       "18           NaN              0             6  0:02:52               172   \n",
       "19           NaN              0             4  0:03:22               202   \n",
       "20           NaN              0             3  1:19:55              4795   \n",
       "21           NaN              0            18  0:02:27               147   \n",
       "22           NaN              0             1  0:02:34               154   \n",
       "23           NaN              0             2  0:02:24               144   \n",
       "24           NaN              0             0  0:53:02              3182   \n",
       "25           NaN              0             2  0:02:24               144   \n",
       "26           NaN              0             2  0:05:06               306   \n",
       "27           NaN              0            39  0:02:08               128   \n",
       "\n",
       "                                          THUMBNAILS  \\\n",
       "0   https://i.ytimg.com/vi/ltdJOX_DVtE/hqdefault.jpg   \n",
       "1   https://i.ytimg.com/vi/TIQiMTpzH-Q/hqdefault.jpg   \n",
       "2   https://i.ytimg.com/vi/1kjxWtgeV3E/hqdefault.jpg   \n",
       "3   https://i.ytimg.com/vi/lvZKZx9ngrc/hqdefault.jpg   \n",
       "4   https://i.ytimg.com/vi/4ds2FDI_60g/hqdefault.jpg   \n",
       "5   https://i.ytimg.com/vi/tQd-4AsHvqU/hqdefault.jpg   \n",
       "6   https://i.ytimg.com/vi/jmC5VDN-MOI/hqdefault.jpg   \n",
       "7   https://i.ytimg.com/vi/1CfW0N8x8og/hqdefault.jpg   \n",
       "8   https://i.ytimg.com/vi/W02XVb8IbGA/hqdefault.jpg   \n",
       "9   https://i.ytimg.com/vi/NjUhb92i9eM/hqdefault.jpg   \n",
       "10  https://i.ytimg.com/vi/atUXFzF63jI/hqdefault.jpg   \n",
       "11  https://i.ytimg.com/vi/ONZRPWAvm2o/hqdefault.jpg   \n",
       "12  https://i.ytimg.com/vi/ly9jmWxO8iM/hqdefault.jpg   \n",
       "13  https://i.ytimg.com/vi/tJ_JW9U7pXA/hqdefault.jpg   \n",
       "14  https://i.ytimg.com/vi/z8sTjIiZphM/hqdefault.jpg   \n",
       "15  https://i.ytimg.com/vi/KejRjlSvOL8/hqdefault.jpg   \n",
       "16  https://i.ytimg.com/vi/2n5TkFnCLrg/hqdefault.jpg   \n",
       "17  https://i.ytimg.com/vi/SmawUBdnXns/hqdefault.jpg   \n",
       "18  https://i.ytimg.com/vi/FvAM1aS4GFM/hqdefault.jpg   \n",
       "19  https://i.ytimg.com/vi/V_4EAl1RzBw/hqdefault.jpg   \n",
       "20  https://i.ytimg.com/vi/JF10Ey-O1HU/hqdefault.jpg   \n",
       "21  https://i.ytimg.com/vi/ONiILHFItzs/hqdefault.jpg   \n",
       "22  https://i.ytimg.com/vi/G0pWBIiFH7U/hqdefault.jpg   \n",
       "23  https://i.ytimg.com/vi/Bcwsj-JgGiE/hqdefault.jpg   \n",
       "24  https://i.ytimg.com/vi/X9mM21qeG4E/hqdefault.jpg   \n",
       "25  https://i.ytimg.com/vi/5S-NixNV5aA/hqdefault.jpg   \n",
       "26  https://i.ytimg.com/vi/KkLYoiWtEcU/hqdefault.jpg   \n",
       "27  https://i.ytimg.com/vi/2IYJ3B1ymA8/hqdefault.jpg   \n",
       "\n",
       "                  PUBLISHEDAT  \n",
       "0   2022-06-03 07:52:29+00:00  \n",
       "1   2022-03-07 21:00:00+00:00  \n",
       "2   2021-10-15 18:17:04+00:00  \n",
       "3   2021-10-03 18:07:15+00:00  \n",
       "4   2021-09-16 16:33:00+00:00  \n",
       "5   2021-09-06 17:00:44+00:00  \n",
       "6   2021-09-01 19:01:49+00:00  \n",
       "7   2021-08-17 15:09:55+00:00  \n",
       "8   2021-08-09 16:41:49+00:00  \n",
       "9   2021-07-27 18:07:10+00:00  \n",
       "10  2021-07-12 11:49:15+00:00  \n",
       "11  2021-06-07 19:17:49+00:00  \n",
       "12  2021-05-05 17:57:41+00:00  \n",
       "13  2021-05-03 12:13:36+00:00  \n",
       "14  2021-04-19 18:33:53+00:00  \n",
       "15  2021-03-23 10:30:30+00:00  \n",
       "16  2021-03-04 16:31:39+00:00  \n",
       "17  2021-02-26 09:04:44+00:00  \n",
       "18  2021-02-26 08:49:35+00:00  \n",
       "19  2021-02-18 15:23:43+00:00  \n",
       "20  2021-02-16 17:41:38+00:00  \n",
       "21  2020-12-23 16:38:34+00:00  \n",
       "22  2020-12-18 10:15:47+00:00  \n",
       "23  2020-12-15 16:19:45+00:00  \n",
       "24  2020-12-11 14:49:38+00:00  \n",
       "25  2020-12-08 16:54:55+00:00  \n",
       "26  2020-12-03 17:00:07+00:00  \n",
       "27  2020-12-01 17:31:10+00:00  "
      ]
     },
     "execution_count": 2,
     "metadata": {},
     "output_type": "execute_result"
    }
   ],
   "source": [
    "df_videos = get_data(INPUT_DATABASE)\n",
    "print(\"✅ Videos fetched:\", len(df_videos))\n",
    "df_videos.head(1)"
   ]
  },
  {
   "cell_type": "markdown",
   "id": "833fdb3f",
   "metadata": {
    "papermill": {},
    "tags": []
   },
   "source": [
    "### Get dataframe trend"
   ]
  },
  {
   "cell_type": "code",
   "execution_count": 19,
   "id": "c074f8e3",
   "metadata": {
    "execution": {
     "iopub.execute_input": "2022-06-21T07:55:31.085468Z",
     "iopub.status.busy": "2022-06-21T07:55:31.085228Z",
     "iopub.status.idle": "2022-06-21T07:55:31.167858Z",
     "shell.execute_reply": "2022-06-21T07:55:31.167245Z",
     "shell.execute_reply.started": "2022-06-21T07:55:31.085444Z"
    },
    "papermill": {},
    "tags": []
   },
   "outputs": [
    {
     "data": {
      "text/html": [
       "<div>\n",
       "<style scoped>\n",
       "    .dataframe tbody tr th:only-of-type {\n",
       "        vertical-align: middle;\n",
       "    }\n",
       "\n",
       "    .dataframe tbody tr th {\n",
       "        vertical-align: top;\n",
       "    }\n",
       "\n",
       "    .dataframe thead th {\n",
       "        text-align: right;\n",
       "    }\n",
       "</style>\n",
       "<table border=\"1\" class=\"dataframe\">\n",
       "  <thead>\n",
       "    <tr style=\"text-align: right;\">\n",
       "      <th></th>\n",
       "      <th>DATE</th>\n",
       "      <th>VALUE</th>\n",
       "      <th>VALUE_COMP</th>\n",
       "      <th>VARV</th>\n",
       "      <th>VARP</th>\n",
       "      <th>DATE_D</th>\n",
       "      <th>VALUE_D</th>\n",
       "      <th>VARV_D</th>\n",
       "      <th>VARP_D</th>\n",
       "      <th>TEXT</th>\n",
       "    </tr>\n",
       "  </thead>\n",
       "  <tbody>\n",
       "    <tr>\n",
       "      <th>0</th>\n",
       "      <td>2020-12</td>\n",
       "      <td>18618.0</td>\n",
       "      <td>0.0</td>\n",
       "      <td>0.0</td>\n",
       "      <td>0.000000</td>\n",
       "      <td>Dec 2020</td>\n",
       "      <td>&lt;b&gt;&lt;span style='font-family: Arial;'&gt;18 618&lt;/s...</td>\n",
       "      <td>+0</td>\n",
       "      <td>+0%</td>\n",
       "      <td>&lt;b&gt;&lt;span style='font-size: 14px;'&gt;Dec 2020: &lt;b...</td>\n",
       "    </tr>\n",
       "    <tr>\n",
       "      <th>1</th>\n",
       "      <td>2021-02</td>\n",
       "      <td>3538.0</td>\n",
       "      <td>18618.0</td>\n",
       "      <td>-15080.0</td>\n",
       "      <td>-0.809969</td>\n",
       "      <td>Feb 2021</td>\n",
       "      <td>&lt;b&gt;&lt;span style='font-family: Arial;'&gt;3 538&lt;/sp...</td>\n",
       "      <td>-15 080</td>\n",
       "      <td>-81%</td>\n",
       "      <td>&lt;b&gt;&lt;span style='font-size: 14px;'&gt;Feb 2021: &lt;b...</td>\n",
       "    </tr>\n",
       "    <tr>\n",
       "      <th>2</th>\n",
       "      <td>2021-03</td>\n",
       "      <td>499.0</td>\n",
       "      <td>3538.0</td>\n",
       "      <td>-3039.0</td>\n",
       "      <td>-0.858960</td>\n",
       "      <td>Mar 2021</td>\n",
       "      <td>&lt;b&gt;&lt;span style='font-family: Arial;'&gt;499&lt;/span...</td>\n",
       "      <td>-3 039</td>\n",
       "      <td>-86%</td>\n",
       "      <td>&lt;b&gt;&lt;span style='font-size: 14px;'&gt;Mar 2021: &lt;b...</td>\n",
       "    </tr>\n",
       "    <tr>\n",
       "      <th>3</th>\n",
       "      <td>2021-04</td>\n",
       "      <td>120.0</td>\n",
       "      <td>499.0</td>\n",
       "      <td>-379.0</td>\n",
       "      <td>-0.759519</td>\n",
       "      <td>Apr 2021</td>\n",
       "      <td>&lt;b&gt;&lt;span style='font-family: Arial;'&gt;120&lt;/span...</td>\n",
       "      <td>-379</td>\n",
       "      <td>-76%</td>\n",
       "      <td>&lt;b&gt;&lt;span style='font-size: 14px;'&gt;Apr 2021: &lt;b...</td>\n",
       "    </tr>\n",
       "    <tr>\n",
       "      <th>4</th>\n",
       "      <td>2021-05</td>\n",
       "      <td>279.0</td>\n",
       "      <td>120.0</td>\n",
       "      <td>159.0</td>\n",
       "      <td>1.325000</td>\n",
       "      <td>May 2021</td>\n",
       "      <td>&lt;b&gt;&lt;span style='font-family: Arial;'&gt;279&lt;/span...</td>\n",
       "      <td>+159</td>\n",
       "      <td>+132%</td>\n",
       "      <td>&lt;b&gt;&lt;span style='font-size: 14px;'&gt;May 2021: &lt;b...</td>\n",
       "    </tr>\n",
       "    <tr>\n",
       "      <th>5</th>\n",
       "      <td>2021-06</td>\n",
       "      <td>98.0</td>\n",
       "      <td>279.0</td>\n",
       "      <td>-181.0</td>\n",
       "      <td>-0.648746</td>\n",
       "      <td>Jun 2021</td>\n",
       "      <td>&lt;b&gt;&lt;span style='font-family: Arial;'&gt;98&lt;/span&gt;...</td>\n",
       "      <td>-181</td>\n",
       "      <td>-65%</td>\n",
       "      <td>&lt;b&gt;&lt;span style='font-size: 14px;'&gt;Jun 2021: &lt;b...</td>\n",
       "    </tr>\n",
       "    <tr>\n",
       "      <th>6</th>\n",
       "      <td>2021-07</td>\n",
       "      <td>391.0</td>\n",
       "      <td>98.0</td>\n",
       "      <td>293.0</td>\n",
       "      <td>2.989796</td>\n",
       "      <td>Jul 2021</td>\n",
       "      <td>&lt;b&gt;&lt;span style='font-family: Arial;'&gt;391&lt;/span...</td>\n",
       "      <td>+293</td>\n",
       "      <td>+299%</td>\n",
       "      <td>&lt;b&gt;&lt;span style='font-size: 14px;'&gt;Jul 2021: &lt;b...</td>\n",
       "    </tr>\n",
       "    <tr>\n",
       "      <th>7</th>\n",
       "      <td>2021-08</td>\n",
       "      <td>152.0</td>\n",
       "      <td>391.0</td>\n",
       "      <td>-239.0</td>\n",
       "      <td>-0.611253</td>\n",
       "      <td>Aug 2021</td>\n",
       "      <td>&lt;b&gt;&lt;span style='font-family: Arial;'&gt;152&lt;/span...</td>\n",
       "      <td>-239</td>\n",
       "      <td>-61%</td>\n",
       "      <td>&lt;b&gt;&lt;span style='font-size: 14px;'&gt;Aug 2021: &lt;b...</td>\n",
       "    </tr>\n",
       "    <tr>\n",
       "      <th>8</th>\n",
       "      <td>2021-09</td>\n",
       "      <td>1879.0</td>\n",
       "      <td>152.0</td>\n",
       "      <td>1727.0</td>\n",
       "      <td>11.361842</td>\n",
       "      <td>Sep 2021</td>\n",
       "      <td>&lt;b&gt;&lt;span style='font-family: Arial;'&gt;1 879&lt;/sp...</td>\n",
       "      <td>+1 727</td>\n",
       "      <td>+1 136%</td>\n",
       "      <td>&lt;b&gt;&lt;span style='font-size: 14px;'&gt;Sep 2021: &lt;b...</td>\n",
       "    </tr>\n",
       "    <tr>\n",
       "      <th>9</th>\n",
       "      <td>2021-10</td>\n",
       "      <td>690.0</td>\n",
       "      <td>1879.0</td>\n",
       "      <td>-1189.0</td>\n",
       "      <td>-0.632783</td>\n",
       "      <td>Oct 2021</td>\n",
       "      <td>&lt;b&gt;&lt;span style='font-family: Arial;'&gt;690&lt;/span...</td>\n",
       "      <td>-1 189</td>\n",
       "      <td>-63%</td>\n",
       "      <td>&lt;b&gt;&lt;span style='font-size: 14px;'&gt;Oct 2021: &lt;b...</td>\n",
       "    </tr>\n",
       "    <tr>\n",
       "      <th>10</th>\n",
       "      <td>2022-03</td>\n",
       "      <td>58.0</td>\n",
       "      <td>690.0</td>\n",
       "      <td>-632.0</td>\n",
       "      <td>-0.915942</td>\n",
       "      <td>Mar 2022</td>\n",
       "      <td>&lt;b&gt;&lt;span style='font-family: Arial;'&gt;58&lt;/span&gt;...</td>\n",
       "      <td>-632</td>\n",
       "      <td>-92%</td>\n",
       "      <td>&lt;b&gt;&lt;span style='font-size: 14px;'&gt;Mar 2022: &lt;b...</td>\n",
       "    </tr>\n",
       "    <tr>\n",
       "      <th>11</th>\n",
       "      <td>2022-06</td>\n",
       "      <td>47.0</td>\n",
       "      <td>58.0</td>\n",
       "      <td>-11.0</td>\n",
       "      <td>-0.189655</td>\n",
       "      <td>Jun 2022</td>\n",
       "      <td>&lt;b&gt;&lt;span style='font-family: Arial;'&gt;47&lt;/span&gt;...</td>\n",
       "      <td>-11</td>\n",
       "      <td>-19%</td>\n",
       "      <td>&lt;b&gt;&lt;span style='font-size: 14px;'&gt;Jun 2022: &lt;b...</td>\n",
       "    </tr>\n",
       "  </tbody>\n",
       "</table>\n",
       "</div>"
      ],
      "text/plain": [
       "       DATE    VALUE  VALUE_COMP     VARV       VARP    DATE_D  \\\n",
       "0   2020-12  18618.0         0.0      0.0   0.000000  Dec 2020   \n",
       "1   2021-02   3538.0     18618.0 -15080.0  -0.809969  Feb 2021   \n",
       "2   2021-03    499.0      3538.0  -3039.0  -0.858960  Mar 2021   \n",
       "3   2021-04    120.0       499.0   -379.0  -0.759519  Apr 2021   \n",
       "4   2021-05    279.0       120.0    159.0   1.325000  May 2021   \n",
       "5   2021-06     98.0       279.0   -181.0  -0.648746  Jun 2021   \n",
       "6   2021-07    391.0        98.0    293.0   2.989796  Jul 2021   \n",
       "7   2021-08    152.0       391.0   -239.0  -0.611253  Aug 2021   \n",
       "8   2021-09   1879.0       152.0   1727.0  11.361842  Sep 2021   \n",
       "9   2021-10    690.0      1879.0  -1189.0  -0.632783  Oct 2021   \n",
       "10  2022-03     58.0       690.0   -632.0  -0.915942  Mar 2022   \n",
       "11  2022-06     47.0        58.0    -11.0  -0.189655  Jun 2022   \n",
       "\n",
       "                                              VALUE_D   VARV_D   VARP_D  \\\n",
       "0   <b><span style='font-family: Arial;'>18 618</s...       +0      +0%   \n",
       "1   <b><span style='font-family: Arial;'>3 538</sp...  -15 080     -81%   \n",
       "2   <b><span style='font-family: Arial;'>499</span...   -3 039     -86%   \n",
       "3   <b><span style='font-family: Arial;'>120</span...     -379     -76%   \n",
       "4   <b><span style='font-family: Arial;'>279</span...     +159    +132%   \n",
       "5   <b><span style='font-family: Arial;'>98</span>...     -181     -65%   \n",
       "6   <b><span style='font-family: Arial;'>391</span...     +293    +299%   \n",
       "7   <b><span style='font-family: Arial;'>152</span...     -239     -61%   \n",
       "8   <b><span style='font-family: Arial;'>1 879</sp...   +1 727  +1 136%   \n",
       "9   <b><span style='font-family: Arial;'>690</span...   -1 189     -63%   \n",
       "10  <b><span style='font-family: Arial;'>58</span>...     -632     -92%   \n",
       "11  <b><span style='font-family: Arial;'>47</span>...      -11     -19%   \n",
       "\n",
       "                                                 TEXT  \n",
       "0   <b><span style='font-size: 14px;'>Dec 2020: <b...  \n",
       "1   <b><span style='font-size: 14px;'>Feb 2021: <b...  \n",
       "2   <b><span style='font-size: 14px;'>Mar 2021: <b...  \n",
       "3   <b><span style='font-size: 14px;'>Apr 2021: <b...  \n",
       "4   <b><span style='font-size: 14px;'>May 2021: <b...  \n",
       "5   <b><span style='font-size: 14px;'>Jun 2021: <b...  \n",
       "6   <b><span style='font-size: 14px;'>Jul 2021: <b...  \n",
       "7   <b><span style='font-size: 14px;'>Aug 2021: <b...  \n",
       "8   <b><span style='font-size: 14px;'>Sep 2021: <b...  \n",
       "9   <b><span style='font-size: 14px;'>Oct 2021: <b...  \n",
       "10  <b><span style='font-size: 14px;'>Mar 2022: <b...  \n",
       "11  <b><span style='font-size: 14px;'>Jun 2022: <b...  "
      ]
     },
     "execution_count": 19,
     "metadata": {},
     "output_type": "execute_result"
    }
   ],
   "source": [
    "def get_trend(df_init,\n",
    "              col_date,\n",
    "              col_value,\n",
    "              agg_value):\n",
    "    # Init variable\n",
    "    df = df_init.copy()\n",
    "    \n",
    "    # Groupby period\n",
    "    df[col_value] = df[col_value].astype(float)\n",
    "    df[col_date] = pd.to_datetime(df[col_date].str[:-6]).dt.strftime(PERIOD)\n",
    "    df = df.groupby(col_date, as_index=False).agg({col_value: agg_value})\n",
    "    \n",
    "    # Rename column\n",
    "    to_rename = {\n",
    "        col_date: \"DATE\",\n",
    "        col_value: \"VALUE\"\n",
    "    }\n",
    "    df = df.rename(columns=to_rename)\n",
    "    \n",
    "    # Add last month in not in dataframe\n",
    "    if df.loc[df.index[-1], \"DATE\"] != datetime.now().strftime(PERIOD):\n",
    "        tmp_df = df[-1:].reset_index(drop=True)\n",
    "        tmp_df.loc[0, \"DATE\"] = datetime.now().strftime(PERIOD)\n",
    "        tmp_df.loc[0, \"VALUE\"] = 0\n",
    "        df = pd.concat([df, tmp_df]).reset_index(drop=True)\n",
    "    \n",
    "    # Calc variation\n",
    "    for index, row in df.iterrows():\n",
    "        if index > 0:\n",
    "            n = df.loc[df.index[index], \"VALUE\"]\n",
    "            n_1 = df.loc[df.index[index-1], \"VALUE\"]\n",
    "            df.loc[df.index[index], \"VALUE_COMP\"] = n_1\n",
    "            df.loc[df.index[index], \"VARV\"] = n - n_1\n",
    "            df.loc[df.index[index], \"VARP\"] = 0\n",
    "            if n_1 > 0:\n",
    "                df.loc[df.index[index], \"VARP\"] = (n - n_1) / abs(n_1)\n",
    "    df = df.fillna(0)\n",
    "    \n",
    "    # Plotly: Date display\n",
    "    df[\"DATE_D\"] = pd.to_datetime(df[\"DATE\"], format=PERIOD).dt.strftime(PERIOD_D)\n",
    "    \n",
    "    # Plotly: Value display\n",
    "    df[\"VALUE_D\"] = \"<b><span style='font-family: Arial;'>\" + df[\"VALUE\"].map(\"{:,.0f}\".format).str.replace(\",\", \" \") + \"</span></b>\"\n",
    "    \n",
    "    # Plotly: Variation display\n",
    "    df[\"VARV_D\"] = df[\"VARV\"].map(\"{:,.0f}\".format).str.replace(\",\", \" \")\n",
    "    df.loc[df[\"VARV\"] >= 0, \"VARV_D\"] = \"+\" + df[\"VARV_D\"]\n",
    "    df[\"VARP_D\"] = df[\"VARP\"].map(\"{:,.0%}\".format).str.replace(\",\", \" \")\n",
    "    df.loc[df[\"VARP\"] >= 0, \"VARP_D\"] = \"+\" + df[\"VARP_D\"]\n",
    "    \n",
    "    # Plotly: hovertext\n",
    "    df[\"TEXT\"] = (\"<b><span style='font-size: 14px;'>\" + df[\"DATE_D\"].astype(str) + \": \" + df[\"VALUE_D\"] + \"</span></b><br>\"\n",
    "                  \"<span style='font-size: 12px;'>\" + f\"{PERIOD_TEXT}: \" + df[\"VARV_D\"] + \" (\" + df[\"VARP_D\"] + \")</span>\")\n",
    "    \n",
    "    # Return month rolling\n",
    "    return df[-MONTH_ROLLING:].reset_index(drop=True)\n",
    "\n",
    "df_actual = get_trend(df_contents,\n",
    "                      col_date=COL_DATE,\n",
    "                      col_value=COL_VALUE,\n",
    "                      agg_value=\"sum\")\n",
    "df_actual#.tail(5)"
   ]
  },
  {
   "cell_type": "markdown",
   "id": "804c9127",
   "metadata": {
    "papermill": {},
    "tags": []
   },
   "source": [
    "### Plot barchart"
   ]
  },
  {
   "cell_type": "code",
   "execution_count": 20,
   "id": "f740a80d",
   "metadata": {
    "execution": {
     "iopub.execute_input": "2022-06-21T07:55:39.391277Z",
     "iopub.status.busy": "2022-06-21T07:55:39.390933Z",
     "iopub.status.idle": "2022-06-21T07:55:39.410149Z",
     "shell.execute_reply": "2022-06-21T07:55:39.409502Z",
     "shell.execute_reply.started": "2022-06-21T07:55:39.391242Z"
    },
    "papermill": {},
    "tags": []
   },
   "outputs": [
    {
     "data": {
      "application/vnd.plotly.v1+json": {
       "config": {
        "plotlyServerURL": "https://plot.ly"
       },
       "data": [
        {
         "hoverinfo": "text",
         "hovertext": [
          "<b><span style='font-size: 14px;'>Dec 2020: <b><span style='font-family: Arial;'>18 618</span></b></span></b><br><span style='font-size: 12px;'>This month: +0 (+0%)</span>",
          "<b><span style='font-size: 14px;'>Feb 2021: <b><span style='font-family: Arial;'>3 538</span></b></span></b><br><span style='font-size: 12px;'>This month: -15 080 (-81%)</span>",
          "<b><span style='font-size: 14px;'>Mar 2021: <b><span style='font-family: Arial;'>499</span></b></span></b><br><span style='font-size: 12px;'>This month: -3 039 (-86%)</span>",
          "<b><span style='font-size: 14px;'>Apr 2021: <b><span style='font-family: Arial;'>120</span></b></span></b><br><span style='font-size: 12px;'>This month: -379 (-76%)</span>",
          "<b><span style='font-size: 14px;'>May 2021: <b><span style='font-family: Arial;'>279</span></b></span></b><br><span style='font-size: 12px;'>This month: +159 (+132%)</span>",
          "<b><span style='font-size: 14px;'>Jun 2021: <b><span style='font-family: Arial;'>98</span></b></span></b><br><span style='font-size: 12px;'>This month: -181 (-65%)</span>",
          "<b><span style='font-size: 14px;'>Jul 2021: <b><span style='font-family: Arial;'>391</span></b></span></b><br><span style='font-size: 12px;'>This month: +293 (+299%)</span>",
          "<b><span style='font-size: 14px;'>Aug 2021: <b><span style='font-family: Arial;'>152</span></b></span></b><br><span style='font-size: 12px;'>This month: -239 (-61%)</span>",
          "<b><span style='font-size: 14px;'>Sep 2021: <b><span style='font-family: Arial;'>1 879</span></b></span></b><br><span style='font-size: 12px;'>This month: +1 727 (+1 136%)</span>",
          "<b><span style='font-size: 14px;'>Oct 2021: <b><span style='font-family: Arial;'>690</span></b></span></b><br><span style='font-size: 12px;'>This month: -1 189 (-63%)</span>",
          "<b><span style='font-size: 14px;'>Mar 2022: <b><span style='font-family: Arial;'>58</span></b></span></b><br><span style='font-size: 12px;'>This month: -632 (-92%)</span>",
          "<b><span style='font-size: 14px;'>Jun 2022: <b><span style='font-family: Arial;'>47</span></b></span></b><br><span style='font-size: 12px;'>This month: -11 (-19%)</span>"
         ],
         "marker": {
          "color": "#FF0000"
         },
         "showlegend": false,
         "text": [
          "<b><span style='font-family: Arial;'>18 618</span></b>",
          "<b><span style='font-family: Arial;'>3 538</span></b>",
          "<b><span style='font-family: Arial;'>499</span></b>",
          "<b><span style='font-family: Arial;'>120</span></b>",
          "<b><span style='font-family: Arial;'>279</span></b>",
          "<b><span style='font-family: Arial;'>98</span></b>",
          "<b><span style='font-family: Arial;'>391</span></b>",
          "<b><span style='font-family: Arial;'>152</span></b>",
          "<b><span style='font-family: Arial;'>1 879</span></b>",
          "<b><span style='font-family: Arial;'>690</span></b>",
          "<b><span style='font-family: Arial;'>58</span></b>",
          "<b><span style='font-family: Arial;'>47</span></b>"
         ],
         "textposition": "outside",
         "type": "bar",
         "x": [
          "Dec 2020",
          "Feb 2021",
          "Mar 2021",
          "Apr 2021",
          "May 2021",
          "Jun 2021",
          "Jul 2021",
          "Aug 2021",
          "Sep 2021",
          "Oct 2021",
          "Mar 2022",
          "Jun 2022"
         ],
         "y": [
          18618,
          3538,
          499,
          120,
          279,
          98,
          391,
          152,
          1879,
          690,
          58,
          47
         ]
        }
       ],
       "layout": {
        "height": 600,
        "images": [
         {
          "sizex": 0.12,
          "sizey": 0.12,
          "source": "https://upload.wikimedia.org/wikipedia/commons/thumb/7/72/YouTube_social_white_square_%282017%29.svg/300px-YouTube_social_white_square_%282017%29.svg.png",
          "x": 0.01,
          "xanchor": "right",
          "xref": "paper",
          "y": 1.045,
          "yanchor": "bottom",
          "yref": "paper"
         }
        ],
        "margin": {
         "pad": 10
        },
        "paper_bgcolor": "#ffffff",
        "plot_bgcolor": "#ffffff",
        "template": {
         "data": {
          "bar": [
           {
            "error_x": {
             "color": "#2a3f5f"
            },
            "error_y": {
             "color": "#2a3f5f"
            },
            "marker": {
             "line": {
              "color": "#E5ECF6",
              "width": 0.5
             },
             "pattern": {
              "fillmode": "overlay",
              "size": 10,
              "solidity": 0.2
             }
            },
            "type": "bar"
           }
          ],
          "barpolar": [
           {
            "marker": {
             "line": {
              "color": "#E5ECF6",
              "width": 0.5
             },
             "pattern": {
              "fillmode": "overlay",
              "size": 10,
              "solidity": 0.2
             }
            },
            "type": "barpolar"
           }
          ],
          "carpet": [
           {
            "aaxis": {
             "endlinecolor": "#2a3f5f",
             "gridcolor": "white",
             "linecolor": "white",
             "minorgridcolor": "white",
             "startlinecolor": "#2a3f5f"
            },
            "baxis": {
             "endlinecolor": "#2a3f5f",
             "gridcolor": "white",
             "linecolor": "white",
             "minorgridcolor": "white",
             "startlinecolor": "#2a3f5f"
            },
            "type": "carpet"
           }
          ],
          "choropleth": [
           {
            "colorbar": {
             "outlinewidth": 0,
             "ticks": ""
            },
            "type": "choropleth"
           }
          ],
          "contour": [
           {
            "colorbar": {
             "outlinewidth": 0,
             "ticks": ""
            },
            "colorscale": [
             [
              0,
              "#0d0887"
             ],
             [
              0.1111111111111111,
              "#46039f"
             ],
             [
              0.2222222222222222,
              "#7201a8"
             ],
             [
              0.3333333333333333,
              "#9c179e"
             ],
             [
              0.4444444444444444,
              "#bd3786"
             ],
             [
              0.5555555555555556,
              "#d8576b"
             ],
             [
              0.6666666666666666,
              "#ed7953"
             ],
             [
              0.7777777777777778,
              "#fb9f3a"
             ],
             [
              0.8888888888888888,
              "#fdca26"
             ],
             [
              1,
              "#f0f921"
             ]
            ],
            "type": "contour"
           }
          ],
          "contourcarpet": [
           {
            "colorbar": {
             "outlinewidth": 0,
             "ticks": ""
            },
            "type": "contourcarpet"
           }
          ],
          "heatmap": [
           {
            "colorbar": {
             "outlinewidth": 0,
             "ticks": ""
            },
            "colorscale": [
             [
              0,
              "#0d0887"
             ],
             [
              0.1111111111111111,
              "#46039f"
             ],
             [
              0.2222222222222222,
              "#7201a8"
             ],
             [
              0.3333333333333333,
              "#9c179e"
             ],
             [
              0.4444444444444444,
              "#bd3786"
             ],
             [
              0.5555555555555556,
              "#d8576b"
             ],
             [
              0.6666666666666666,
              "#ed7953"
             ],
             [
              0.7777777777777778,
              "#fb9f3a"
             ],
             [
              0.8888888888888888,
              "#fdca26"
             ],
             [
              1,
              "#f0f921"
             ]
            ],
            "type": "heatmap"
           }
          ],
          "heatmapgl": [
           {
            "colorbar": {
             "outlinewidth": 0,
             "ticks": ""
            },
            "colorscale": [
             [
              0,
              "#0d0887"
             ],
             [
              0.1111111111111111,
              "#46039f"
             ],
             [
              0.2222222222222222,
              "#7201a8"
             ],
             [
              0.3333333333333333,
              "#9c179e"
             ],
             [
              0.4444444444444444,
              "#bd3786"
             ],
             [
              0.5555555555555556,
              "#d8576b"
             ],
             [
              0.6666666666666666,
              "#ed7953"
             ],
             [
              0.7777777777777778,
              "#fb9f3a"
             ],
             [
              0.8888888888888888,
              "#fdca26"
             ],
             [
              1,
              "#f0f921"
             ]
            ],
            "type": "heatmapgl"
           }
          ],
          "histogram": [
           {
            "marker": {
             "pattern": {
              "fillmode": "overlay",
              "size": 10,
              "solidity": 0.2
             }
            },
            "type": "histogram"
           }
          ],
          "histogram2d": [
           {
            "colorbar": {
             "outlinewidth": 0,
             "ticks": ""
            },
            "colorscale": [
             [
              0,
              "#0d0887"
             ],
             [
              0.1111111111111111,
              "#46039f"
             ],
             [
              0.2222222222222222,
              "#7201a8"
             ],
             [
              0.3333333333333333,
              "#9c179e"
             ],
             [
              0.4444444444444444,
              "#bd3786"
             ],
             [
              0.5555555555555556,
              "#d8576b"
             ],
             [
              0.6666666666666666,
              "#ed7953"
             ],
             [
              0.7777777777777778,
              "#fb9f3a"
             ],
             [
              0.8888888888888888,
              "#fdca26"
             ],
             [
              1,
              "#f0f921"
             ]
            ],
            "type": "histogram2d"
           }
          ],
          "histogram2dcontour": [
           {
            "colorbar": {
             "outlinewidth": 0,
             "ticks": ""
            },
            "colorscale": [
             [
              0,
              "#0d0887"
             ],
             [
              0.1111111111111111,
              "#46039f"
             ],
             [
              0.2222222222222222,
              "#7201a8"
             ],
             [
              0.3333333333333333,
              "#9c179e"
             ],
             [
              0.4444444444444444,
              "#bd3786"
             ],
             [
              0.5555555555555556,
              "#d8576b"
             ],
             [
              0.6666666666666666,
              "#ed7953"
             ],
             [
              0.7777777777777778,
              "#fb9f3a"
             ],
             [
              0.8888888888888888,
              "#fdca26"
             ],
             [
              1,
              "#f0f921"
             ]
            ],
            "type": "histogram2dcontour"
           }
          ],
          "mesh3d": [
           {
            "colorbar": {
             "outlinewidth": 0,
             "ticks": ""
            },
            "type": "mesh3d"
           }
          ],
          "parcoords": [
           {
            "line": {
             "colorbar": {
              "outlinewidth": 0,
              "ticks": ""
             }
            },
            "type": "parcoords"
           }
          ],
          "pie": [
           {
            "automargin": true,
            "type": "pie"
           }
          ],
          "scatter": [
           {
            "fillpattern": {
             "fillmode": "overlay",
             "size": 10,
             "solidity": 0.2
            },
            "type": "scatter"
           }
          ],
          "scatter3d": [
           {
            "line": {
             "colorbar": {
              "outlinewidth": 0,
              "ticks": ""
             }
            },
            "marker": {
             "colorbar": {
              "outlinewidth": 0,
              "ticks": ""
             }
            },
            "type": "scatter3d"
           }
          ],
          "scattercarpet": [
           {
            "marker": {
             "colorbar": {
              "outlinewidth": 0,
              "ticks": ""
             }
            },
            "type": "scattercarpet"
           }
          ],
          "scattergeo": [
           {
            "marker": {
             "colorbar": {
              "outlinewidth": 0,
              "ticks": ""
             }
            },
            "type": "scattergeo"
           }
          ],
          "scattergl": [
           {
            "marker": {
             "colorbar": {
              "outlinewidth": 0,
              "ticks": ""
             }
            },
            "type": "scattergl"
           }
          ],
          "scattermapbox": [
           {
            "marker": {
             "colorbar": {
              "outlinewidth": 0,
              "ticks": ""
             }
            },
            "type": "scattermapbox"
           }
          ],
          "scatterpolar": [
           {
            "marker": {
             "colorbar": {
              "outlinewidth": 0,
              "ticks": ""
             }
            },
            "type": "scatterpolar"
           }
          ],
          "scatterpolargl": [
           {
            "marker": {
             "colorbar": {
              "outlinewidth": 0,
              "ticks": ""
             }
            },
            "type": "scatterpolargl"
           }
          ],
          "scatterternary": [
           {
            "marker": {
             "colorbar": {
              "outlinewidth": 0,
              "ticks": ""
             }
            },
            "type": "scatterternary"
           }
          ],
          "surface": [
           {
            "colorbar": {
             "outlinewidth": 0,
             "ticks": ""
            },
            "colorscale": [
             [
              0,
              "#0d0887"
             ],
             [
              0.1111111111111111,
              "#46039f"
             ],
             [
              0.2222222222222222,
              "#7201a8"
             ],
             [
              0.3333333333333333,
              "#9c179e"
             ],
             [
              0.4444444444444444,
              "#bd3786"
             ],
             [
              0.5555555555555556,
              "#d8576b"
             ],
             [
              0.6666666666666666,
              "#ed7953"
             ],
             [
              0.7777777777777778,
              "#fb9f3a"
             ],
             [
              0.8888888888888888,
              "#fdca26"
             ],
             [
              1,
              "#f0f921"
             ]
            ],
            "type": "surface"
           }
          ],
          "table": [
           {
            "cells": {
             "fill": {
              "color": "#EBF0F8"
             },
             "line": {
              "color": "white"
             }
            },
            "header": {
             "fill": {
              "color": "#C8D4E3"
             },
             "line": {
              "color": "white"
             }
            },
            "type": "table"
           }
          ]
         },
         "layout": {
          "annotationdefaults": {
           "arrowcolor": "#2a3f5f",
           "arrowhead": 0,
           "arrowwidth": 1
          },
          "autotypenumbers": "strict",
          "coloraxis": {
           "colorbar": {
            "outlinewidth": 0,
            "ticks": ""
           }
          },
          "colorscale": {
           "diverging": [
            [
             0,
             "#8e0152"
            ],
            [
             0.1,
             "#c51b7d"
            ],
            [
             0.2,
             "#de77ae"
            ],
            [
             0.3,
             "#f1b6da"
            ],
            [
             0.4,
             "#fde0ef"
            ],
            [
             0.5,
             "#f7f7f7"
            ],
            [
             0.6,
             "#e6f5d0"
            ],
            [
             0.7,
             "#b8e186"
            ],
            [
             0.8,
             "#7fbc41"
            ],
            [
             0.9,
             "#4d9221"
            ],
            [
             1,
             "#276419"
            ]
           ],
           "sequential": [
            [
             0,
             "#0d0887"
            ],
            [
             0.1111111111111111,
             "#46039f"
            ],
            [
             0.2222222222222222,
             "#7201a8"
            ],
            [
             0.3333333333333333,
             "#9c179e"
            ],
            [
             0.4444444444444444,
             "#bd3786"
            ],
            [
             0.5555555555555556,
             "#d8576b"
            ],
            [
             0.6666666666666666,
             "#ed7953"
            ],
            [
             0.7777777777777778,
             "#fb9f3a"
            ],
            [
             0.8888888888888888,
             "#fdca26"
            ],
            [
             1,
             "#f0f921"
            ]
           ],
           "sequentialminus": [
            [
             0,
             "#0d0887"
            ],
            [
             0.1111111111111111,
             "#46039f"
            ],
            [
             0.2222222222222222,
             "#7201a8"
            ],
            [
             0.3333333333333333,
             "#9c179e"
            ],
            [
             0.4444444444444444,
             "#bd3786"
            ],
            [
             0.5555555555555556,
             "#d8576b"
            ],
            [
             0.6666666666666666,
             "#ed7953"
            ],
            [
             0.7777777777777778,
             "#fb9f3a"
            ],
            [
             0.8888888888888888,
             "#fdca26"
            ],
            [
             1,
             "#f0f921"
            ]
           ]
          },
          "colorway": [
           "#636efa",
           "#EF553B",
           "#00cc96",
           "#ab63fa",
           "#FFA15A",
           "#19d3f3",
           "#FF6692",
           "#B6E880",
           "#FF97FF",
           "#FECB52"
          ],
          "font": {
           "color": "#2a3f5f"
          },
          "geo": {
           "bgcolor": "white",
           "lakecolor": "white",
           "landcolor": "#E5ECF6",
           "showlakes": true,
           "showland": true,
           "subunitcolor": "white"
          },
          "hoverlabel": {
           "align": "left"
          },
          "hovermode": "closest",
          "mapbox": {
           "style": "light"
          },
          "paper_bgcolor": "white",
          "plot_bgcolor": "#E5ECF6",
          "polar": {
           "angularaxis": {
            "gridcolor": "white",
            "linecolor": "white",
            "ticks": ""
           },
           "bgcolor": "#E5ECF6",
           "radialaxis": {
            "gridcolor": "white",
            "linecolor": "white",
            "ticks": ""
           }
          },
          "scene": {
           "xaxis": {
            "backgroundcolor": "#E5ECF6",
            "gridcolor": "white",
            "gridwidth": 2,
            "linecolor": "white",
            "showbackground": true,
            "ticks": "",
            "zerolinecolor": "white"
           },
           "yaxis": {
            "backgroundcolor": "#E5ECF6",
            "gridcolor": "white",
            "gridwidth": 2,
            "linecolor": "white",
            "showbackground": true,
            "ticks": "",
            "zerolinecolor": "white"
           },
           "zaxis": {
            "backgroundcolor": "#E5ECF6",
            "gridcolor": "white",
            "gridwidth": 2,
            "linecolor": "white",
            "showbackground": true,
            "ticks": "",
            "zerolinecolor": "white"
           }
          },
          "shapedefaults": {
           "line": {
            "color": "#2a3f5f"
           }
          },
          "ternary": {
           "aaxis": {
            "gridcolor": "white",
            "linecolor": "white",
            "ticks": ""
           },
           "baxis": {
            "gridcolor": "white",
            "linecolor": "white",
            "ticks": ""
           },
           "bgcolor": "#E5ECF6",
           "caxis": {
            "gridcolor": "white",
            "linecolor": "white",
            "ticks": ""
           }
          },
          "title": {
           "x": 0.05
          },
          "xaxis": {
           "automargin": true,
           "gridcolor": "white",
           "linecolor": "white",
           "ticks": "",
           "title": {
            "standoff": 15
           },
           "zerolinecolor": "white",
           "zerolinewidth": 2
          },
          "yaxis": {
           "automargin": true,
           "gridcolor": "white",
           "linecolor": "white",
           "ticks": "",
           "title": {
            "standoff": 15
           },
           "zerolinecolor": "white",
           "zerolinewidth": 2
          }
         }
        },
        "title": {
         "font": {
          "color": "black",
          "family": "Arial"
         },
         "text": "<b><span style='font-size: 20px;'>Content views over the past 12 months</span></b><br><span style='font-size: 18px;'>Total: 26 369 | This month: -11 (-19%)</span>",
         "x": 0.09
        },
        "width": 1200,
        "xaxis": {
         "autorange": true,
         "range": [
          -0.5,
          11.5
         ],
         "type": "category"
        },
        "yaxis": {
         "autorange": true,
         "range": [
          0,
          19597.894736842107
         ],
         "type": "linear"
        }
       }
      },
      "image/png": "[encoded data removed]",
      "text/html": [
       "<div>                            <div id=\"5cf921ce-e4c1-46b7-aab7-77ec158c0392\" class=\"plotly-graph-div\" style=\"height:600px; width:1200px;\"></div>            <script type=\"text/javascript\">                require([\"plotly\"], function(Plotly) {                    window.PLOTLYENV=window.PLOTLYENV || {};                                    if (document.getElementById(\"5cf921ce-e4c1-46b7-aab7-77ec158c0392\")) {                    Plotly.newPlot(                        \"5cf921ce-e4c1-46b7-aab7-77ec158c0392\",                        [{\"hoverinfo\":\"text\",\"hovertext\":[\"<b><span style='font-size: 14px;'>Dec 2020: <b><span style='font-family: Arial;'>18 618</span></b></span></b><br><span style='font-size: 12px;'>This month: +0 (+0%)</span>\",\"<b><span style='font-size: 14px;'>Feb 2021: <b><span style='font-family: Arial;'>3 538</span></b></span></b><br><span style='font-size: 12px;'>This month: -15 080 (-81%)</span>\",\"<b><span style='font-size: 14px;'>Mar 2021: <b><span style='font-family: Arial;'>499</span></b></span></b><br><span style='font-size: 12px;'>This month: -3 039 (-86%)</span>\",\"<b><span style='font-size: 14px;'>Apr 2021: <b><span style='font-family: Arial;'>120</span></b></span></b><br><span style='font-size: 12px;'>This month: -379 (-76%)</span>\",\"<b><span style='font-size: 14px;'>May 2021: <b><span style='font-family: Arial;'>279</span></b></span></b><br><span style='font-size: 12px;'>This month: +159 (+132%)</span>\",\"<b><span style='font-size: 14px;'>Jun 2021: <b><span style='font-family: Arial;'>98</span></b></span></b><br><span style='font-size: 12px;'>This month: -181 (-65%)</span>\",\"<b><span style='font-size: 14px;'>Jul 2021: <b><span style='font-family: Arial;'>391</span></b></span></b><br><span style='font-size: 12px;'>This month: +293 (+299%)</span>\",\"<b><span style='font-size: 14px;'>Aug 2021: <b><span style='font-family: Arial;'>152</span></b></span></b><br><span style='font-size: 12px;'>This month: -239 (-61%)</span>\",\"<b><span style='font-size: 14px;'>Sep 2021: <b><span style='font-family: Arial;'>1 879</span></b></span></b><br><span style='font-size: 12px;'>This month: +1 727 (+1 136%)</span>\",\"<b><span style='font-size: 14px;'>Oct 2021: <b><span style='font-family: Arial;'>690</span></b></span></b><br><span style='font-size: 12px;'>This month: -1 189 (-63%)</span>\",\"<b><span style='font-size: 14px;'>Mar 2022: <b><span style='font-family: Arial;'>58</span></b></span></b><br><span style='font-size: 12px;'>This month: -632 (-92%)</span>\",\"<b><span style='font-size: 14px;'>Jun 2022: <b><span style='font-family: Arial;'>47</span></b></span></b><br><span style='font-size: 12px;'>This month: -11 (-19%)</span>\"],\"marker\":{\"color\":\"#FF0000\"},\"text\":[\"<b><span style='font-family: Arial;'>18 618</span></b>\",\"<b><span style='font-family: Arial;'>3 538</span></b>\",\"<b><span style='font-family: Arial;'>499</span></b>\",\"<b><span style='font-family: Arial;'>120</span></b>\",\"<b><span style='font-family: Arial;'>279</span></b>\",\"<b><span style='font-family: Arial;'>98</span></b>\",\"<b><span style='font-family: Arial;'>391</span></b>\",\"<b><span style='font-family: Arial;'>152</span></b>\",\"<b><span style='font-family: Arial;'>1 879</span></b>\",\"<b><span style='font-family: Arial;'>690</span></b>\",\"<b><span style='font-family: Arial;'>58</span></b>\",\"<b><span style='font-family: Arial;'>47</span></b>\"],\"textposition\":\"outside\",\"x\":[\"Dec 2020\",\"Feb 2021\",\"Mar 2021\",\"Apr 2021\",\"May 2021\",\"Jun 2021\",\"Jul 2021\",\"Aug 2021\",\"Sep 2021\",\"Oct 2021\",\"Mar 2022\",\"Jun 2022\"],\"y\":[18618.0,3538.0,499.0,120.0,279.0,98.0,391.0,152.0,1879.0,690.0,58.0,47.0],\"type\":\"bar\",\"showlegend\":false}],                        {\"template\":{\"data\":{\"histogram2dcontour\":[{\"type\":\"histogram2dcontour\",\"colorbar\":{\"outlinewidth\":0,\"ticks\":\"\"},\"colorscale\":[[0.0,\"#0d0887\"],[0.1111111111111111,\"#46039f\"],[0.2222222222222222,\"#7201a8\"],[0.3333333333333333,\"#9c179e\"],[0.4444444444444444,\"#bd3786\"],[0.5555555555555556,\"#d8576b\"],[0.6666666666666666,\"#ed7953\"],[0.7777777777777778,\"#fb9f3a\"],[0.8888888888888888,\"#fdca26\"],[1.0,\"#f0f921\"]]}],\"choropleth\":[{\"type\":\"choropleth\",\"colorbar\":{\"outlinewidth\":0,\"ticks\":\"\"}}],\"histogram2d\":[{\"type\":\"histogram2d\",\"colorbar\":{\"outlinewidth\":0,\"ticks\":\"\"},\"colorscale\":[[0.0,\"#0d0887\"],[0.1111111111111111,\"#46039f\"],[0.2222222222222222,\"#7201a8\"],[0.3333333333333333,\"#9c179e\"],[0.4444444444444444,\"#bd3786\"],[0.5555555555555556,\"#d8576b\"],[0.6666666666666666,\"#ed7953\"],[0.7777777777777778,\"#fb9f3a\"],[0.8888888888888888,\"#fdca26\"],[1.0,\"#f0f921\"]]}],\"heatmap\":[{\"type\":\"heatmap\",\"colorbar\":{\"outlinewidth\":0,\"ticks\":\"\"},\"colorscale\":[[0.0,\"#0d0887\"],[0.1111111111111111,\"#46039f\"],[0.2222222222222222,\"#7201a8\"],[0.3333333333333333,\"#9c179e\"],[0.4444444444444444,\"#bd3786\"],[0.5555555555555556,\"#d8576b\"],[0.6666666666666666,\"#ed7953\"],[0.7777777777777778,\"#fb9f3a\"],[0.8888888888888888,\"#fdca26\"],[1.0,\"#f0f921\"]]}],\"heatmapgl\":[{\"type\":\"heatmapgl\",\"colorbar\":{\"outlinewidth\":0,\"ticks\":\"\"},\"colorscale\":[[0.0,\"#0d0887\"],[0.1111111111111111,\"#46039f\"],[0.2222222222222222,\"#7201a8\"],[0.3333333333333333,\"#9c179e\"],[0.4444444444444444,\"#bd3786\"],[0.5555555555555556,\"#d8576b\"],[0.6666666666666666,\"#ed7953\"],[0.7777777777777778,\"#fb9f3a\"],[0.8888888888888888,\"#fdca26\"],[1.0,\"#f0f921\"]]}],\"contourcarpet\":[{\"type\":\"contourcarpet\",\"colorbar\":{\"outlinewidth\":0,\"ticks\":\"\"}}],\"contour\":[{\"type\":\"contour\",\"colorbar\":{\"outlinewidth\":0,\"ticks\":\"\"},\"colorscale\":[[0.0,\"#0d0887\"],[0.1111111111111111,\"#46039f\"],[0.2222222222222222,\"#7201a8\"],[0.3333333333333333,\"#9c179e\"],[0.4444444444444444,\"#bd3786\"],[0.5555555555555556,\"#d8576b\"],[0.6666666666666666,\"#ed7953\"],[0.7777777777777778,\"#fb9f3a\"],[0.8888888888888888,\"#fdca26\"],[1.0,\"#f0f921\"]]}],\"surface\":[{\"type\":\"surface\",\"colorbar\":{\"outlinewidth\":0,\"ticks\":\"\"},\"colorscale\":[[0.0,\"#0d0887\"],[0.1111111111111111,\"#46039f\"],[0.2222222222222222,\"#7201a8\"],[0.3333333333333333,\"#9c179e\"],[0.4444444444444444,\"#bd3786\"],[0.5555555555555556,\"#d8576b\"],[0.6666666666666666,\"#ed7953\"],[0.7777777777777778,\"#fb9f3a\"],[0.8888888888888888,\"#fdca26\"],[1.0,\"#f0f921\"]]}],\"mesh3d\":[{\"type\":\"mesh3d\",\"colorbar\":{\"outlinewidth\":0,\"ticks\":\"\"}}],\"scatter\":[{\"fillpattern\":{\"fillmode\":\"overlay\",\"size\":10,\"solidity\":0.2},\"type\":\"scatter\"}],\"parcoords\":[{\"type\":\"parcoords\",\"line\":{\"colorbar\":{\"outlinewidth\":0,\"ticks\":\"\"}}}],\"scatterpolargl\":[{\"type\":\"scatterpolargl\",\"marker\":{\"colorbar\":{\"outlinewidth\":0,\"ticks\":\"\"}}}],\"bar\":[{\"error_x\":{\"color\":\"#2a3f5f\"},\"error_y\":{\"color\":\"#2a3f5f\"},\"marker\":{\"line\":{\"color\":\"#E5ECF6\",\"width\":0.5},\"pattern\":{\"fillmode\":\"overlay\",\"size\":10,\"solidity\":0.2}},\"type\":\"bar\"}],\"scattergeo\":[{\"type\":\"scattergeo\",\"marker\":{\"colorbar\":{\"outlinewidth\":0,\"ticks\":\"\"}}}],\"scatterpolar\":[{\"type\":\"scatterpolar\",\"marker\":{\"colorbar\":{\"outlinewidth\":0,\"ticks\":\"\"}}}],\"histogram\":[{\"marker\":{\"pattern\":{\"fillmode\":\"overlay\",\"size\":10,\"solidity\":0.2}},\"type\":\"histogram\"}],\"scattergl\":[{\"type\":\"scattergl\",\"marker\":{\"colorbar\":{\"outlinewidth\":0,\"ticks\":\"\"}}}],\"scatter3d\":[{\"type\":\"scatter3d\",\"line\":{\"colorbar\":{\"outlinewidth\":0,\"ticks\":\"\"}},\"marker\":{\"colorbar\":{\"outlinewidth\":0,\"ticks\":\"\"}}}],\"scattermapbox\":[{\"type\":\"scattermapbox\",\"marker\":{\"colorbar\":{\"outlinewidth\":0,\"ticks\":\"\"}}}],\"scatterternary\":[{\"type\":\"scatterternary\",\"marker\":{\"colorbar\":{\"outlinewidth\":0,\"ticks\":\"\"}}}],\"scattercarpet\":[{\"type\":\"scattercarpet\",\"marker\":{\"colorbar\":{\"outlinewidth\":0,\"ticks\":\"\"}}}],\"carpet\":[{\"aaxis\":{\"endlinecolor\":\"#2a3f5f\",\"gridcolor\":\"white\",\"linecolor\":\"white\",\"minorgridcolor\":\"white\",\"startlinecolor\":\"#2a3f5f\"},\"baxis\":{\"endlinecolor\":\"#2a3f5f\",\"gridcolor\":\"white\",\"linecolor\":\"white\",\"minorgridcolor\":\"white\",\"startlinecolor\":\"#2a3f5f\"},\"type\":\"carpet\"}],\"table\":[{\"cells\":{\"fill\":{\"color\":\"#EBF0F8\"},\"line\":{\"color\":\"white\"}},\"header\":{\"fill\":{\"color\":\"#C8D4E3\"},\"line\":{\"color\":\"white\"}},\"type\":\"table\"}],\"barpolar\":[{\"marker\":{\"line\":{\"color\":\"#E5ECF6\",\"width\":0.5},\"pattern\":{\"fillmode\":\"overlay\",\"size\":10,\"solidity\":0.2}},\"type\":\"barpolar\"}],\"pie\":[{\"automargin\":true,\"type\":\"pie\"}]},\"layout\":{\"autotypenumbers\":\"strict\",\"colorway\":[\"#636efa\",\"#EF553B\",\"#00cc96\",\"#ab63fa\",\"#FFA15A\",\"#19d3f3\",\"#FF6692\",\"#B6E880\",\"#FF97FF\",\"#FECB52\"],\"font\":{\"color\":\"#2a3f5f\"},\"hovermode\":\"closest\",\"hoverlabel\":{\"align\":\"left\"},\"paper_bgcolor\":\"white\",\"plot_bgcolor\":\"#E5ECF6\",\"polar\":{\"bgcolor\":\"#E5ECF6\",\"angularaxis\":{\"gridcolor\":\"white\",\"linecolor\":\"white\",\"ticks\":\"\"},\"radialaxis\":{\"gridcolor\":\"white\",\"linecolor\":\"white\",\"ticks\":\"\"}},\"ternary\":{\"bgcolor\":\"#E5ECF6\",\"aaxis\":{\"gridcolor\":\"white\",\"linecolor\":\"white\",\"ticks\":\"\"},\"baxis\":{\"gridcolor\":\"white\",\"linecolor\":\"white\",\"ticks\":\"\"},\"caxis\":{\"gridcolor\":\"white\",\"linecolor\":\"white\",\"ticks\":\"\"}},\"coloraxis\":{\"colorbar\":{\"outlinewidth\":0,\"ticks\":\"\"}},\"colorscale\":{\"sequential\":[[0.0,\"#0d0887\"],[0.1111111111111111,\"#46039f\"],[0.2222222222222222,\"#7201a8\"],[0.3333333333333333,\"#9c179e\"],[0.4444444444444444,\"#bd3786\"],[0.5555555555555556,\"#d8576b\"],[0.6666666666666666,\"#ed7953\"],[0.7777777777777778,\"#fb9f3a\"],[0.8888888888888888,\"#fdca26\"],[1.0,\"#f0f921\"]],\"sequentialminus\":[[0.0,\"#0d0887\"],[0.1111111111111111,\"#46039f\"],[0.2222222222222222,\"#7201a8\"],[0.3333333333333333,\"#9c179e\"],[0.4444444444444444,\"#bd3786\"],[0.5555555555555556,\"#d8576b\"],[0.6666666666666666,\"#ed7953\"],[0.7777777777777778,\"#fb9f3a\"],[0.8888888888888888,\"#fdca26\"],[1.0,\"#f0f921\"]],\"diverging\":[[0,\"#8e0152\"],[0.1,\"#c51b7d\"],[0.2,\"#de77ae\"],[0.3,\"#f1b6da\"],[0.4,\"#fde0ef\"],[0.5,\"#f7f7f7\"],[0.6,\"#e6f5d0\"],[0.7,\"#b8e186\"],[0.8,\"#7fbc41\"],[0.9,\"#4d9221\"],[1,\"#276419\"]]},\"xaxis\":{\"gridcolor\":\"white\",\"linecolor\":\"white\",\"ticks\":\"\",\"title\":{\"standoff\":15},\"zerolinecolor\":\"white\",\"automargin\":true,\"zerolinewidth\":2},\"yaxis\":{\"gridcolor\":\"white\",\"linecolor\":\"white\",\"ticks\":\"\",\"title\":{\"standoff\":15},\"zerolinecolor\":\"white\",\"automargin\":true,\"zerolinewidth\":2},\"scene\":{\"xaxis\":{\"backgroundcolor\":\"#E5ECF6\",\"gridcolor\":\"white\",\"linecolor\":\"white\",\"showbackground\":true,\"ticks\":\"\",\"zerolinecolor\":\"white\",\"gridwidth\":2},\"yaxis\":{\"backgroundcolor\":\"#E5ECF6\",\"gridcolor\":\"white\",\"linecolor\":\"white\",\"showbackground\":true,\"ticks\":\"\",\"zerolinecolor\":\"white\",\"gridwidth\":2},\"zaxis\":{\"backgroundcolor\":\"#E5ECF6\",\"gridcolor\":\"white\",\"linecolor\":\"white\",\"showbackground\":true,\"ticks\":\"\",\"zerolinecolor\":\"white\",\"gridwidth\":2}},\"shapedefaults\":{\"line\":{\"color\":\"#2a3f5f\"}},\"annotationdefaults\":{\"arrowcolor\":\"#2a3f5f\",\"arrowhead\":0,\"arrowwidth\":1},\"geo\":{\"bgcolor\":\"white\",\"landcolor\":\"#E5ECF6\",\"subunitcolor\":\"white\",\"showland\":true,\"showlakes\":true,\"lakecolor\":\"white\"},\"title\":{\"x\":0.05},\"mapbox\":{\"style\":\"light\"}}},\"images\":[{\"sizex\":0.12,\"sizey\":0.12,\"source\":\"https://upload.wikimedia.org/wikipedia/commons/thumb/7/72/YouTube_social_white_square_%282017%29.svg/300px-YouTube_social_white_square_%282017%29.svg.png\",\"x\":0.01,\"xanchor\":\"right\",\"xref\":\"paper\",\"y\":1.045,\"yanchor\":\"bottom\",\"yref\":\"paper\"}],\"title\":{\"text\":\"<b><span style='font-size: 20px;'>Content views over the past 12 months</span></b><br><span style='font-size: 18px;'>Total: 26 369 | This month: -11 (-19%)</span>\",\"x\":0.09,\"font\":{\"family\":\"Arial\",\"color\":\"black\"}},\"margin\":{\"pad\":10},\"paper_bgcolor\":\"#ffffff\",\"plot_bgcolor\":\"#ffffff\",\"width\":1200,\"height\":600},                        {\"responsive\": true}                    ).then(function(){\n",
       "                            \n",
       "var gd = document.getElementById('5cf921ce-e4c1-46b7-aab7-77ec158c0392');\n",
       "var x = new MutationObserver(function (mutations, observer) {{\n",
       "        var display = window.getComputedStyle(gd).display;\n",
       "        if (!display || display === 'none') {{\n",
       "            console.log([gd, 'removed!']);\n",
       "            Plotly.purge(gd);\n",
       "            observer.disconnect();\n",
       "        }}\n",
       "}});\n",
       "\n",
       "// Listen for the removal of the full notebook cells\n",
       "var notebookContainer = gd.closest('#notebook-container');\n",
       "if (notebookContainer) {{\n",
       "    x.observe(notebookContainer, {childList: true});\n",
       "}}\n",
       "\n",
       "// Listen for the clearing of the current output cell\n",
       "var outputEl = gd.closest('.output');\n",
       "if (outputEl) {{\n",
       "    x.observe(outputEl, {childList: true});\n",
       "}}\n",
       "\n",
       "                        })                };                });            </script>        </div>"
      ]
     },
     "metadata": {},
     "output_type": "display_data"
    }
   ],
   "source": [
    "fig = create_barchart(df_actual)"
   ]
  },
  {
   "cell_type": "markdown",
   "id": "942c681d",
   "metadata": {
    "papermill": {},
    "tags": []
   },
   "source": [
    "## Output"
   ]
  },
  {
   "cell_type": "markdown",
   "id": "b4bb71da",
   "metadata": {
    "papermill": {},
    "tags": []
   },
   "source": [
    "### Save and share your csv file"
   ]
  },
  {
   "cell_type": "code",
   "execution_count": 21,
   "id": "d43c7763",
   "metadata": {
    "execution": {
     "iopub.execute_input": "2022-06-21T07:55:55.893107Z",
     "iopub.status.busy": "2022-06-21T07:55:55.892808Z",
     "iopub.status.idle": "2022-06-21T07:55:56.299765Z",
     "shell.execute_reply": "2022-06-21T07:55:56.299093Z",
     "shell.execute_reply.started": "2022-06-21T07:55:55.893077Z"
    },
    "papermill": {},
    "tags": []
   },
   "outputs": [
    {
     "name": "stdout",
     "output_type": "stream",
     "text": [
      "👌 Well done! Your Assets has been sent to production.\n",
      "\n"
     ]
    },
    {
     "data": {
      "application/javascript": [
       "\n",
       "    if (!window.copyToClipboard) {\n",
       "        window.copyToClipboard = (text) => {\n",
       "            const dummy = document.createElement(\"textarea\");\n",
       "            document.body.appendChild(dummy);\n",
       "            dummy.value = text;\n",
       "            dummy.select();\n",
       "            document.execCommand(\"copy\");\n",
       "            document.body.removeChild(dummy);\n",
       "        }\n",
       "    }\n",
       "    "
      ],
      "text/plain": [
       "<IPython.core.display.Javascript object>"
      ]
     },
     "metadata": {},
     "output_type": "display_data"
    },
    {
     "data": {
      "application/vnd.jupyter.widget-view+json": {
       "model_id": "65de0eac01934e40985e54005b301798",
       "version_major": 2,
       "version_minor": 0
      },
      "text/plain": [
       "Button(button_style='primary', description='Copy URL', style=ButtonStyle())"
      ]
     },
     "metadata": {},
     "output_type": "display_data"
    },
    {
     "data": {
      "application/vnd.jupyter.widget-view+json": {
       "model_id": "a8714b8a957749b680161d4a9279fc04",
       "version_major": 2,
       "version_minor": 0
      },
      "text/plain": [
       "Output()"
      ]
     },
     "metadata": {},
     "output_type": "display_data"
    },
    {
     "name": "stdout",
     "output_type": "stream",
     "text": [
      "PS: to remove the \"Assets\" feature, just replace .add by .delete\n"
     ]
    }
   ],
   "source": [
    "# Save your dataframe in CSV\n",
    "df_actual.to_csv(csv_output, index=False)\n",
    "\n",
    "# Share output with naas\n",
    "csv_link = naas.asset.add(csv_output)\n",
    "\n",
    "#-> Uncomment the line below to remove your asset\n",
    "# naas.asset.delete(csv_output)"
   ]
  },
  {
   "cell_type": "markdown",
   "id": "2f26c093",
   "metadata": {
    "papermill": {},
    "tags": []
   },
   "source": [
    "### Save and share your graph in HTML"
   ]
  },
  {
   "cell_type": "code",
   "execution_count": 22,
   "id": "6e0caceb",
   "metadata": {
    "execution": {
     "iopub.execute_input": "2022-06-21T07:55:57.534219Z",
     "iopub.status.busy": "2022-06-21T07:55:57.533993Z",
     "iopub.status.idle": "2022-06-21T07:55:58.226946Z",
     "shell.execute_reply": "2022-06-21T07:55:58.225804Z",
     "shell.execute_reply.started": "2022-06-21T07:55:57.534197Z"
    },
    "papermill": {},
    "tags": []
   },
   "outputs": [
    {
     "name": "stdout",
     "output_type": "stream",
     "text": [
      "👌 Well done! Your Assets has been sent to production.\n",
      "\n"
     ]
    },
    {
     "data": {
      "application/javascript": [
       "\n",
       "    if (!window.copyToClipboard) {\n",
       "        window.copyToClipboard = (text) => {\n",
       "            const dummy = document.createElement(\"textarea\");\n",
       "            document.body.appendChild(dummy);\n",
       "            dummy.value = text;\n",
       "            dummy.select();\n",
       "            document.execCommand(\"copy\");\n",
       "            document.body.removeChild(dummy);\n",
       "        }\n",
       "    }\n",
       "    "
      ],
      "text/plain": [
       "<IPython.core.display.Javascript object>"
      ]
     },
     "metadata": {},
     "output_type": "display_data"
    },
    {
     "data": {
      "application/vnd.jupyter.widget-view+json": {
       "model_id": "9eef521310b740a7bed36731d348bd0b",
       "version_major": 2,
       "version_minor": 0
      },
      "text/plain": [
       "Button(button_style='primary', description='Copy URL', style=ButtonStyle())"
      ]
     },
     "metadata": {},
     "output_type": "display_data"
    },
    {
     "data": {
      "application/vnd.jupyter.widget-view+json": {
       "model_id": "0edbc33b7aa64a9686d3b6821e0ad140",
       "version_major": 2,
       "version_minor": 0
      },
      "text/plain": [
       "Output()"
      ]
     },
     "metadata": {},
     "output_type": "display_data"
    },
    {
     "name": "stdout",
     "output_type": "stream",
     "text": [
      "PS: to remove the \"Assets\" feature, just replace .add by .delete\n"
     ]
    }
   ],
   "source": [
    "# Save your graph in HTML\n",
    "fig.write_html(html_output)\n",
    "\n",
    "# Share output with naas\n",
    "html_link = naas.asset.add(html_output, params={\"inline\": True})\n",
    "\n",
    "#-> Uncomment the line below to remove your asset\n",
    "# naas.asset.delete(html_output)"
   ]
  },
  {
   "cell_type": "markdown",
   "id": "e327122e",
   "metadata": {
    "papermill": {},
    "tags": []
   },
   "source": [
    "### Save and share your graph in image"
   ]
  },
  {
   "cell_type": "code",
   "execution_count": 23,
   "id": "124b1576",
   "metadata": {
    "execution": {
     "iopub.execute_input": "2022-06-21T07:56:01.789606Z",
     "iopub.status.busy": "2022-06-21T07:56:01.789373Z",
     "iopub.status.idle": "2022-06-21T07:56:03.640575Z",
     "shell.execute_reply": "2022-06-21T07:56:03.639807Z",
     "shell.execute_reply.started": "2022-06-21T07:56:01.789584Z"
    },
    "papermill": {},
    "tags": []
   },
   "outputs": [
    {
     "name": "stdout",
     "output_type": "stream",
     "text": [
      "👌 Well done! Your Assets has been sent to production.\n",
      "\n"
     ]
    },
    {
     "data": {
      "application/javascript": [
       "\n",
       "    if (!window.copyToClipboard) {\n",
       "        window.copyToClipboard = (text) => {\n",
       "            const dummy = document.createElement(\"textarea\");\n",
       "            document.body.appendChild(dummy);\n",
       "            dummy.value = text;\n",
       "            dummy.select();\n",
       "            document.execCommand(\"copy\");\n",
       "            document.body.removeChild(dummy);\n",
       "        }\n",
       "    }\n",
       "    "
      ],
      "text/plain": [
       "<IPython.core.display.Javascript object>"
      ]
     },
     "metadata": {},
     "output_type": "display_data"
    },
    {
     "data": {
      "application/vnd.jupyter.widget-view+json": {
       "model_id": "571e32c513ae4192936be10dd4f07c26",
       "version_major": 2,
       "version_minor": 0
      },
      "text/plain": [
       "Button(button_style='primary', description='Copy URL', style=ButtonStyle())"
      ]
     },
     "metadata": {},
     "output_type": "display_data"
    },
    {
     "data": {
      "application/vnd.jupyter.widget-view+json": {
       "model_id": "228aa5b1ab854cd7879741829a3ef90b",
       "version_major": 2,
       "version_minor": 0
      },
      "text/plain": [
       "Output()"
      ]
     },
     "metadata": {},
     "output_type": "display_data"
    },
    {
     "name": "stdout",
     "output_type": "stream",
     "text": [
      "PS: to remove the \"Assets\" feature, just replace .add by .delete\n"
     ]
    }
   ],
   "source": [
    "# Save your graph in PNG\n",
    "fig.write_image(image_output)\n",
    "\n",
    "# Share output with naas\n",
    "image_link = naas.asset.add(image_output)\n",
    "\n",
    "#-> Uncomment the line below to remove your asset\n",
    "# naas.asset.delete(image_output)"
   ]
  },
  {
   "cell_type": "markdown",
   "id": "3338b963-dd53-4340-a5f7-aa232fa09970",
   "metadata": {
    "execution": {
     "iopub.execute_input": "2022-06-16T12:40:24.017252Z",
     "iopub.status.busy": "2022-06-16T12:40:24.016941Z",
     "iopub.status.idle": "2022-06-16T12:40:24.020164Z",
     "shell.execute_reply": "2022-06-16T12:40:24.019527Z",
     "shell.execute_reply.started": "2022-06-16T12:40:24.017224Z"
    },
    "tags": []
   },
   "source": [
    "### Update Notion Report"
   ]
  },
  {
   "cell_type": "code",
   "execution_count": 24,
   "id": "5724e0d8-58f7-43e6-ab32-347e993c3c8c",
   "metadata": {
    "execution": {
     "iopub.execute_input": "2022-06-21T07:56:05.640502Z",
     "iopub.status.busy": "2022-06-21T07:56:05.640258Z",
     "iopub.status.idle": "2022-06-21T07:56:09.608844Z",
     "shell.execute_reply": "2022-06-21T07:56:09.608188Z",
     "shell.execute_reply.started": "2022-06-21T07:56:05.640473Z"
    },
    "tags": []
   },
   "outputs": [
    {
     "name": "stdout",
     "output_type": "stream",
     "text": [
      "✅ Page 'Views / YouTube' updated in Notion.\n"
     ]
    }
   ],
   "source": [
    "update_report_status(KPI_TITLE,\n",
    "                     PLATFORM,\n",
    "                     df_actual,\n",
    "                     image_link=image_link,\n",
    "                     html_link=html_link,\n",
    "                     csv_link=csv_link)"
   ]
  },
  {
   "cell_type": "code",
   "execution_count": null,
   "id": "b7025cd4-1bd3-4c05-abb4-9cb7a96be0fe",
   "metadata": {},
   "outputs": [],
   "source": []
  }
 ],
 "metadata": {
  "kernelspec": {
   "display_name": "Python 3",
   "language": "python",
   "name": "python3"
  },
  "language_info": {
   "codemirror_mode": {
    "name": "ipython",
    "version": 3
   },
   "file_extension": ".py",
   "mimetype": "text/x-python",
   "name": "python",
   "nbconvert_exporter": "python",
   "pygments_lexer": "ipython3",
   "version": "3.9.6"
  },
  "papermill": {
   "default_parameters": {},
   "environment_variables": {},
   "parameters": {},
   "version": "2.3.4"
  }
 },
 "nbformat": 4,
 "nbformat_minor": 5
}
