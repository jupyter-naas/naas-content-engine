{
 "cells": [
  {
   "cell_type": "markdown",
   "id": "dd66232c-09f1-44bf-8849-0cd5c52f78a6",
   "metadata": {},
   "source": [
    "<img width=\"10%\" alt=\"Naas\" src=\"https://landen.imgix.net/jtci2pxwjczr/assets/5ice39g4.png?w=160\"/>"
   ]
  },
  {
   "cell_type": "markdown",
   "id": "633951dc-ca87-4032-ad2d-b76a909861bf",
   "metadata": {},
   "source": [
    "# Twitter Engine"
   ]
  },
  {
   "cell_type": "markdown",
   "id": "dc8969f9-6f45-4131-9983-a9cfec61be43",
   "metadata": {},
   "source": [
    "**Tags:** #naas #content #engine #automation #twitter"
   ]
  },
  {
   "cell_type": "markdown",
   "id": "29d1ba56-7c9e-4895-836e-afcbdb1bb75c",
   "metadata": {},
   "source": [
    "**Author:** [Florent Ravenel](https://www.linkedin.com/in/florent-ravenel/)"
   ]
  },
  {
   "cell_type": "markdown",
   "id": "524d5465-bce2-42f3-8d18-6f821dae07a5",
   "metadata": {},
   "source": [
    "## Input"
   ]
  },
  {
   "cell_type": "markdown",
   "id": "54a2fdfd-1bbd-456c-be5c-6698a92785ac",
   "metadata": {},
   "source": [
    "### Get common variables, functions"
   ]
  },
  {
   "cell_type": "code",
   "execution_count": null,
   "id": "773e2347-f372-4295-85e6-a18642196f2f",
   "metadata": {
    "tags": []
   },
   "outputs": [],
   "source": [
    "# Get common path and run it\n",
    "from os import path\n",
    "\n",
    "common_path = \"../common.ipynb\"\n",
    "if not path.exists(common_path):\n",
    "    common_path = f\"{naas.secret.get('GIT_REPO_NAME')}/common.ipynb\"\n",
    "\n",
    "%run \"$common_path\""
   ]
  },
  {
   "cell_type": "markdown",
   "id": "879cc555-89f2-4884-ad80-d2bea449eb52",
   "metadata": {},
   "source": [
    "### Setup notebooks"
   ]
  },
  {
   "cell_type": "code",
   "execution_count": null,
   "id": "61400f78-56e2-4818-be37-be1e2c216e12",
   "metadata": {
    "tags": []
   },
   "outputs": [],
   "source": [
    "TW_GET_STATS = \"Twitter_Get_tweets_stats.ipynb\"\n",
    "# TW_FOLLOW_VIEWS = \"YouTube_Rank_videos_by_likes.ipynb\"\n",
    "# TW_FOLLOW_LIKES = \"YouTube_Rank_videos_by_views.ipynb\"\n",
    "# TW_FOLLOW_COMMENTS = \"YouTube_Rank_videos_by_views.ipynb\"\n",
    "# TW_FOLLOW_RETWEETS = \"YouTube_Rank_videos_by_comments.ipynb\""
   ]
  },
  {
   "cell_type": "markdown",
   "id": "ea6ff4cf-cea6-420e-b190-5979156b5fed",
   "metadata": {},
   "source": [
    "## Model"
   ]
  },
  {
   "cell_type": "markdown",
   "id": "2947e1cc-b6e0-4e66-afc9-9dfd133e9adf",
   "metadata": {},
   "source": [
    "### Setup Pipeline"
   ]
  },
  {
   "cell_type": "code",
   "execution_count": null,
   "id": "47febf74-fea0-4a78-80ff-b429bfbe2890",
   "metadata": {
    "tags": []
   },
   "outputs": [],
   "source": [
    "TW_PIPELINE = [\n",
    "    TW_GET_STATS,\n",
    "]"
   ]
  },
  {
   "cell_type": "markdown",
   "id": "d856dbf2-37a4-4e52-804a-81c3728b99a7",
   "metadata": {},
   "source": [
    "## Output"
   ]
  },
  {
   "cell_type": "markdown",
   "id": "c605f360-3459-40d1-a68b-227f38a6684e",
   "metadata": {},
   "source": [
    "### Run Twitter pipeline"
   ]
  },
  {
   "cell_type": "code",
   "execution_count": null,
   "id": "43e1e8a9-eee2-4397-88c6-f84f5b405d32",
   "metadata": {
    "tags": []
   },
   "outputs": [],
   "source": [
    "if TWITTER_ID:\n",
    "    run_pipeline(TW_PIPELINE, \"Twitter\")\n",
    "else:\n",
    "    print(\"🛑 No Twitter ID\")"
   ]
  },
  {
   "cell_type": "code",
   "execution_count": null,
   "id": "7fdaabe5-850d-41cc-8655-f146e2078e59",
   "metadata": {},
   "outputs": [],
   "source": []
  }
 ],
 "metadata": {
  "kernelspec": {
   "display_name": "Python 3",
   "language": "python",
   "name": "python3"
  },
  "language_info": {
   "codemirror_mode": {
    "name": "ipython",
    "version": 3
   },
   "file_extension": ".py",
   "mimetype": "text/x-python",
   "name": "python",
   "nbconvert_exporter": "python",
   "pygments_lexer": "ipython3",
   "version": "3.9.6"
  }
 },
 "nbformat": 4,
 "nbformat_minor": 5
}
