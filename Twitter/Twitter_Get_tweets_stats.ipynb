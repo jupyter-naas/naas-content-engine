{
 "cells": [
  {
   "cell_type": "markdown",
   "id": "b8a43220-7515-4284-930d-dae183734852",
   "metadata": {},
   "source": [
    "<img width=\"10%\" alt=\"Naas\" src=\"https://landen.imgix.net/jtci2pxwjczr/assets/5ice39g4.png?w=160\"/>"
   ]
  },
  {
   "cell_type": "markdown",
   "id": "425d4020-2b89-4351-afa3-f66272412360",
   "metadata": {},
   "source": [
    "# Twitter - Get posts stats\n",
    "<a href=\"https://app.naas.ai/user-redirect/naas/downloader?url=https://raw.githubusercontent.com/jupyter-naas/awesome-notebooks/master/Twitter/Twitter_Get_posts_stats.ipynb\" target=\"_parent\"><img src=\"https://naasai-public.s3.eu-west-3.amazonaws.com/open_in_naas.svg\"/></a>"
   ]
  },
  {
   "cell_type": "markdown",
   "id": "bb15ba94-a94b-4faf-a13d-8a0b712a2d6c",
   "metadata": {},
   "source": [
    "**Tags:** #twitter #post #comments #naas_drivers #snippet #content #notion"
   ]
  },
  {
   "cell_type": "markdown",
   "id": "382b0f34-082f-46c6-8511-2e9fb0f95a3a",
   "metadata": {},
   "source": [
    "**Author:** [Florent Ravenel](https://www.linkedin.com/in/florent-ravenel/)"
   ]
  },
  {
   "cell_type": "markdown",
   "id": "4067ce67-713d-4553-a870-cf5860f74ada",
   "metadata": {},
   "source": [
    "This notebook get tweets stats."
   ]
  },
  {
   "cell_type": "markdown",
   "id": "dab4240b-8692-4765-8bea-03d972958a47",
   "metadata": {},
   "source": [
    "## Input"
   ]
  },
  {
   "cell_type": "markdown",
   "id": "3d295097-fe1b-4496-9545-159815e9941d",
   "metadata": {},
   "source": [
    "### Get common variables, functions"
   ]
  },
  {
   "cell_type": "code",
   "execution_count": null,
   "id": "a2449e97-c192-4bc6-880d-7ce3d2262a28",
   "metadata": {
    "tags": []
   },
   "outputs": [],
   "source": [
    "# Get common path and run it\n",
    "from os import path\n",
    "\n",
    "common_path = \"../common.ipynb\"\n",
    "if not path.exists(common_path):\n",
    "    common_path = f\"{naas.secret.get('GIT_REPO_NAME')}/common.ipynb\"\n",
    "\n",
    "%run \"$common_path\""
   ]
  },
  {
   "cell_type": "markdown",
   "id": "2fad82a8-996f-4ff2-acd4-e20912571ce6",
   "metadata": {},
   "source": [
    "## Model"
   ]
  },
  {
   "cell_type": "markdown",
   "id": "6592cea6-8679-4d03-9492-742fb6b8a010",
   "metadata": {},
   "source": [
    "### Get your tweets"
   ]
  },
  {
   "cell_type": "code",
   "execution_count": null,
   "id": "9bd58e38-cfda-4481-b5bb-f612d7bf4731",
   "metadata": {
    "tags": []
   },
   "outputs": [],
   "source": [
    "df_tweets = get_data(TW_TWEETS_STATS)\n",
    "print(\"✅ Init tweets fetched:\", len(df_tweets))\n",
    "df_tweets.head(1)"
   ]
  },
  {
   "cell_type": "markdown",
   "id": "42dee520-4b5d-4e16-b6c0-a867ed0a3c4e",
   "metadata": {},
   "source": [
    "### Update tweets"
   ]
  },
  {
   "cell_type": "code",
   "execution_count": 8,
   "id": "19b37cf0-7699-4dd8-a350-0f38d545b34d",
   "metadata": {
    "execution": {
     "iopub.status.idle": "2022-07-27T10:06:28.130809Z",
     "shell.execute_reply": "2022-07-27T10:06:28.130269Z",
     "shell.execute_reply.started": "2022-07-27T10:05:29.894125Z"
    },
    "tags": []
   },
   "outputs": [
    {
     "name": "stdout",
     "output_type": "stream",
     "text": [
      "Content fetched: 173\n"
     ]
    },
    {
     "data": {
      "text/html": [
       "<div>\n",
       "<style scoped>\n",
       "    .dataframe tbody tr th:only-of-type {\n",
       "        vertical-align: middle;\n",
       "    }\n",
       "\n",
       "    .dataframe tbody tr th {\n",
       "        vertical-align: top;\n",
       "    }\n",
       "\n",
       "    .dataframe thead th {\n",
       "        text-align: right;\n",
       "    }\n",
       "</style>\n",
       "<table border=\"1\" class=\"dataframe\">\n",
       "  <thead>\n",
       "    <tr style=\"text-align: right;\">\n",
       "      <th></th>\n",
       "      <th>TWEET_ID</th>\n",
       "      <th>TWEET_URL</th>\n",
       "      <th>CREATED_AT</th>\n",
       "      <th>AUTHOR_ID</th>\n",
       "      <th>AUTHOR_NAME</th>\n",
       "      <th>AUTHOR_USERNAME</th>\n",
       "      <th>TEXT</th>\n",
       "      <th>PUBLIC_RETWEETS</th>\n",
       "      <th>PUBLIC_REPLIES</th>\n",
       "      <th>PUBLIC_LIKES</th>\n",
       "      <th>PUBLIC_QUOTES</th>\n",
       "      <th>ORGANIC_RETWEETS</th>\n",
       "      <th>ORGANIC_REPLIES</th>\n",
       "      <th>ORGANIC_LIKES</th>\n",
       "      <th>ORGANIC_QUOTES</th>\n",
       "      <th>USER_PROFILE_CLICKS</th>\n",
       "      <th>IMPRESSIONS</th>\n",
       "      <th>ENGAGEMENTS</th>\n",
       "      <th>ENGAGEMENT_RATE</th>\n",
       "    </tr>\n",
       "  </thead>\n",
       "  <tbody>\n",
       "    <tr>\n",
       "      <th>0</th>\n",
       "      <td>1550521712747364352</td>\n",
       "      <td>https://twitter.com/JupyterNaas/status/1550521...</td>\n",
       "      <td>2022-07-22 16:42:38+00:00</td>\n",
       "      <td>1328105689898766336</td>\n",
       "      <td>Naas.ai</td>\n",
       "      <td>JupyterNaas</td>\n",
       "      <td>Data products are not data pipelines.\\n\\n🏭 Whe...</td>\n",
       "      <td>0</td>\n",
       "      <td>0</td>\n",
       "      <td>2</td>\n",
       "      <td>0</td>\n",
       "      <td>0</td>\n",
       "      <td>0</td>\n",
       "      <td>2</td>\n",
       "      <td>0</td>\n",
       "      <td>0</td>\n",
       "      <td>161</td>\n",
       "      <td>2</td>\n",
       "      <td>0.0124</td>\n",
       "    </tr>\n",
       "  </tbody>\n",
       "</table>\n",
       "</div>"
      ],
      "text/plain": [
       "              TWEET_ID                                          TWEET_URL  \\\n",
       "0  1550521712747364352  https://twitter.com/JupyterNaas/status/1550521...   \n",
       "\n",
       "                 CREATED_AT            AUTHOR_ID AUTHOR_NAME AUTHOR_USERNAME  \\\n",
       "0 2022-07-22 16:42:38+00:00  1328105689898766336     Naas.ai     JupyterNaas   \n",
       "\n",
       "                                                TEXT  PUBLIC_RETWEETS  \\\n",
       "0  Data products are not data pipelines.\\n\\n🏭 Whe...                0   \n",
       "\n",
       "   PUBLIC_REPLIES  PUBLIC_LIKES  PUBLIC_QUOTES  ORGANIC_RETWEETS  \\\n",
       "0               0             2              0                 0   \n",
       "\n",
       "   ORGANIC_REPLIES  ORGANIC_LIKES  ORGANIC_QUOTES  USER_PROFILE_CLICKS  \\\n",
       "0                0              2               0                    0   \n",
       "\n",
       "   IMPRESSIONS  ENGAGEMENTS  ENGAGEMENT_RATE  \n",
       "0          161            2           0.0124  "
      ]
     },
     "execution_count": 8,
     "metadata": {},
     "output_type": "execute_result"
    }
   ],
   "source": [
    "df_update = twitter.connect(TWITTER_BEARER_TOKEN,\n",
    "                              TWITTER_CONSUMER_KEY,\n",
    "                              TWITTER_CONSUMER_SECRET,\n",
    "                              TWITTER_ACCESS_TOKEN,\n",
    "                              TWITTER_ACCESS_TOKEN_SECRET).get_my_tweets(start_time=datetime(year=2022, month=1, day=1))\n",
    "print(\"Content fetched:\", len(df_contents))\n",
    "df_update.head(1)"
   ]
  },
  {
   "cell_type": "markdown",
   "id": "02718ba7-920a-4b75-ac31-bdb8e6b349a2",
   "metadata": {},
   "source": [
    "## Output"
   ]
  },
  {
   "cell_type": "markdown",
   "id": "a8daf3b0-0287-4422-8f5a-df691bee4e17",
   "metadata": {},
   "source": [
    "### Save dataframe"
   ]
  },
  {
   "cell_type": "code",
   "execution_count": null,
   "id": "cd4ba0d3-f7b6-4727-b3ff-4e0bd7b5cf31",
   "metadata": {
    "tags": []
   },
   "outputs": [],
   "source": [
    "save_data(df_update, TW_TWEETS_STATS)"
   ]
  }
 ],
 "metadata": {
  "kernelspec": {
   "display_name": "Python 3",
   "language": "python",
   "name": "python3"
  },
  "language_info": {
   "codemirror_mode": {
    "name": "ipython",
    "version": 3
   },
   "file_extension": ".py",
   "mimetype": "text/x-python",
   "name": "python",
   "nbconvert_exporter": "python",
   "pygments_lexer": "ipython3",
   "version": "3.9.6"
  }
 },
 "nbformat": 4,
 "nbformat_minor": 5
}
