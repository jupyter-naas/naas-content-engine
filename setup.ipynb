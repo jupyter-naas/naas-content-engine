{
 "cells": [
  {
   "cell_type": "markdown",
   "id": "injured-evolution",
   "metadata": {
    "papermill": {},
    "tags": []
   },
   "source": [
    "<img width=\"10%\" alt=\"Naas\" src=\"https://landen.imgix.net/jtci2pxwjczr/assets/5ice39g4.png?w=160\"/>"
   ]
  },
  {
   "cell_type": "markdown",
   "id": "substantial-decline",
   "metadata": {
    "papermill": {},
    "tags": []
   },
   "source": [
    "# Naas - Content Engine Configuration\n",
    "<a href=\"https://app.naas.ai/user-redirect/naas/downloader?url=https://raw.githubusercontent.com/jupyter-naas/awesome-notebooks/master/Naas/Naas_Secret_demo.ipynb\" target=\"_parent\"><img src=\"https://naasai-public.s3.eu-west-3.amazonaws.com/open_in_naas.svg\"/></a>"
   ]
  },
  {
   "cell_type": "markdown",
   "id": "00619b69-5ce8-417a-b8b1-c81af6342f9c",
   "metadata": {
    "papermill": {},
    "tags": []
   },
   "source": [
    "**Tags:** #naas #automation #linkedin #youtube #twitter #snapchat #instagram #facebook #tiktok"
   ]
  },
  {
   "cell_type": "markdown",
   "id": "1446840e-74d1-4c76-afb6-4752a6b4a0c4",
   "metadata": {
    "papermill": {},
    "tags": []
   },
   "source": [
    "**Author:** [Florent Ravenel](https://www.linkedin.com/in/florent-ravenel/)"
   ]
  },
  {
   "cell_type": "markdown",
   "id": "dd3d4d6a-f15d-47f9-83ac-4208edf13bf9",
   "metadata": {
    "tags": []
   },
   "source": [
    "This notebook allows you to download, configure and run the [Content Engine](https://github.com/jupyter-naas/naas-content-engine) on your naas.\n",
    "\n",
    "Please follow the step below to setup this project."
   ]
  },
  {
   "cell_type": "markdown",
   "id": "9dff654e-e349-475f-be47-13b889672861",
   "metadata": {
    "tags": []
   },
   "source": [
    "## Input"
   ]
  },
  {
   "cell_type": "markdown",
   "id": "import_cell",
   "metadata": {
    "papermill": {},
    "tags": []
   },
   "source": [
    "### <u> 1 - Install the project ⚡️</u>"
   ]
  },
  {
   "cell_type": "markdown",
   "id": "310bb257-8558-4452-b177-082c6e06caec",
   "metadata": {},
   "source": [
    "#### Define your project name"
   ]
  },
  {
   "cell_type": "code",
   "execution_count": 1,
   "id": "23f3279e-0aa8-4aaa-924b-017065949957",
   "metadata": {
    "execution": {
     "iopub.execute_input": "2022-07-28T09:41:35.366990Z",
     "iopub.status.busy": "2022-07-28T09:41:35.366768Z",
     "iopub.status.idle": "2022-07-28T09:41:35.374422Z",
     "shell.execute_reply": "2022-07-28T09:41:35.373839Z",
     "shell.execute_reply.started": "2022-07-28T09:41:35.366932Z"
    },
    "tags": []
   },
   "outputs": [],
   "source": [
    "PROJECT_NAME = \"Naas Content Engine\""
   ]
  },
  {
   "cell_type": "markdown",
   "id": "3c1d267e-6970-4db2-a20e-469a2dcd2108",
   "metadata": {},
   "source": [
    "#### Define your timezone"
   ]
  },
  {
   "cell_type": "code",
   "execution_count": 2,
   "id": "334cc531-1627-429f-9ea5-c2e954ea5f0d",
   "metadata": {
    "execution": {
     "iopub.execute_input": "2022-07-28T09:41:35.375798Z",
     "iopub.status.busy": "2022-07-28T09:41:35.375489Z",
     "iopub.status.idle": "2022-07-28T09:41:35.509332Z",
     "shell.execute_reply": "2022-07-28T09:41:35.508628Z",
     "shell.execute_reply.started": "2022-07-28T09:41:35.375682Z"
    },
    "tags": []
   },
   "outputs": [],
   "source": [
    "TIMEZONE = \"Europe/Paris\""
   ]
  },
  {
   "cell_type": "markdown",
   "id": "c057adf8-c30e-40ec-84ae-6814f08af96b",
   "metadata": {
    "execution": {
     "iopub.execute_input": "2022-07-14T14:43:17.864872Z",
     "iopub.status.busy": "2022-07-14T14:43:17.864631Z",
     "iopub.status.idle": "2022-07-14T14:43:17.867825Z",
     "shell.execute_reply": "2022-07-14T14:43:17.867167Z",
     "shell.execute_reply.started": "2022-07-14T14:43:17.864848Z"
    }
   },
   "source": [
    "#### Update project with latest version"
   ]
  },
  {
   "cell_type": "code",
   "execution_count": 3,
   "id": "e096b140-0418-4538-a66d-07c22b0ccbb9",
   "metadata": {
    "execution": {
     "iopub.execute_input": "2022-07-28T09:41:35.511277Z",
     "iopub.status.busy": "2022-07-28T09:41:35.510849Z",
     "iopub.status.idle": "2022-07-28T09:41:38.680140Z",
     "shell.execute_reply": "2022-07-28T09:41:38.679484Z",
     "shell.execute_reply.started": "2022-07-28T09:41:35.511245Z"
    },
    "tags": []
   },
   "outputs": [
    {
     "data": {
      "application/vnd.jupyter.widget-view+json": {
       "model_id": "44950f604dcc496ba5d214fa1880eed9",
       "version_major": 2,
       "version_minor": 0
      },
      "text/plain": [
       "Button(description='Update project', style=ButtonStyle())"
      ]
     },
     "metadata": {},
     "output_type": "display_data"
    },
    {
     "data": {
      "application/vnd.jupyter.widget-view+json": {
       "model_id": "a870745b69534df79a2c868ef2ec00f9",
       "version_major": 2,
       "version_minor": 0
      },
      "text/plain": [
       "Output()"
      ]
     },
     "metadata": {},
     "output_type": "display_data"
    }
   ],
   "source": [
    "from IPython.display import display\n",
    "from ipywidgets import widgets\n",
    "import glob\n",
    "import naas\n",
    "from os import path\n",
    "\n",
    "output = widgets.Output()\n",
    "\n",
    "GIT_REPO_PATH = path.join(\"/\", \"home\", \"ftp\", PROJECT_NAME)\n",
    "\n",
    "def push_secrets():\n",
    "    naas.secret.add(\"GIT_REPO_NAME\", PROJECT_NAME)\n",
    "    naas.secret.add(\"GIT_REPO_PATH\", GIT_REPO_PATH)\n",
    "    naas.secret.add(\"TIMEZONE\", TIMEZONE)\n",
    "    \n",
    "def update_github():\n",
    "    !git clone \"https://github.com/jupyter-naas/naas-content-engine.git\" \"$GIT_REPO_PATH\" || (cd \"$GIT_REPO_PATH\" && git reset --hard && git pull)\n",
    "\n",
    "def setup_timezone(timezone):\n",
    "    naas.set_remote_timezone(timezone)\n",
    "    \n",
    "def push_dependencies():\n",
    "    # Pushing common notebook to production\n",
    "    print(f\"🔄 Pushing 'common.ipynb' to production\")\n",
    "    naas.dependency.add(f\"{GIT_REPO_PATH}/common.ipynb\")\n",
    "    \n",
    "    # Pushing social media notebooks to production\n",
    "    files = glob.glob(f\"{GIT_REPO_PATH}/*/*.ipynb\")\n",
    "    for file in files:\n",
    "        print(f\"🔄 Pushing {file} to production\")\n",
    "        naas.dependency.add(file)\n",
    "\n",
    "def update_project(btn):\n",
    "    output.clear_output()\n",
    "    \n",
    "    # Push secrets\n",
    "    push_secrets()\n",
    "    with output:\n",
    "        print(\"✅ Secrets successfully pushed to Naas!\")\n",
    "        \n",
    "    # Setup Timezone\n",
    "    setup_timezone(TIMEZONE)\n",
    "    with output:\n",
    "        print(\"✅ Timezone successfully set to Naas!\")\n",
    "    \n",
    "    # Update repository\n",
    "    update_github()\n",
    "    with output:\n",
    "        print(\"✅ Update project successfull!\")\n",
    "        \n",
    "    # Push dependencies\n",
    "    push_dependencies()\n",
    "    with output:\n",
    "        print(\"✅ Dependencies successfully push in production.\")\n",
    "\n",
    "button = widgets.Button(description=\"Update project\")\n",
    "button.on_click(update_project)\n",
    "display(button, output)"
   ]
  },
  {
   "cell_type": "markdown",
   "id": "c3e697f6-b6c0-4617-98fd-c091f2dfc3e9",
   "metadata": {
    "tags": []
   },
   "source": [
    "## Model"
   ]
  },
  {
   "cell_type": "markdown",
   "id": "749a32f5-c0b9-4e26-8b6e-e02f8330a5fa",
   "metadata": {},
   "source": [
    "### <u> 2 - Setup Notion 🗓</u>\n",
    "- [Get your Notion integration token](https://docs.naas.ai/drivers/notion)\n",
    "- Duplicate <a href=\"https://naas-official.notion.site/Naas-Content-Engine-Template-2904504db449415283d6c88f90993182\">Naas Content Engine</a> workspace\n",
    "- Share integration with workspace\n",
    "- Add your Notion API key, Report URL and Content Calendar URL below"
   ]
  },
  {
   "cell_type": "code",
   "execution_count": 4,
   "id": "d8512fd1-e4be-4ff9-87bb-cae62accf013",
   "metadata": {
    "execution": {
     "iopub.execute_input": "2022-07-28T09:41:38.682167Z",
     "iopub.status.busy": "2022-07-28T09:41:38.681690Z",
     "iopub.status.idle": "2022-07-28T09:41:38.686021Z",
     "shell.execute_reply": "2022-07-28T09:41:38.685356Z",
     "shell.execute_reply.started": "2022-07-28T09:41:38.682132Z"
    },
    "tags": []
   },
   "outputs": [],
   "source": [
    "NOTION_API_KEY = \"secret_HChj6JHeePegALRldeGOwLsoImmHphmlxlA9XXXXXXXX\"\n",
    "NOTION_REPORTS_URL = \"https://www.notion.so/naas-official/acece36280f24c17bf9c2523d7e99e0f?v=528948b567704a43XXXXXXXXXX\"\n",
    "NOTION_CONTENT_CALENDAR_URL = \"https://www.notion.so/naas-official/fe09e90f322b43168cd93717766bd231?v=c999640e1c7c4ad1b36XXXXXXX\""
   ]
  },
  {
   "cell_type": "code",
   "execution_count": 5,
   "id": "bba51d67-e627-4403-bb9f-48ad391db59b",
   "metadata": {
    "execution": {
     "iopub.execute_input": "2022-07-28T09:41:38.687760Z",
     "iopub.status.busy": "2022-07-28T09:41:38.687344Z",
     "iopub.status.idle": "2022-07-28T09:41:38.860378Z",
     "shell.execute_reply": "2022-07-28T09:41:38.858847Z",
     "shell.execute_reply.started": "2022-07-28T09:41:38.687711Z"
    },
    "jupyter": {
     "source_hidden": true
    },
    "tags": []
   },
   "outputs": [
    {
     "data": {
      "application/vnd.jupyter.widget-view+json": {
       "model_id": "9ac367fe612e401a93beb5727d959856",
       "version_major": 2,
       "version_minor": 0
      },
      "text/plain": [
       "Button(description='Connect Notion', style=ButtonStyle())"
      ]
     },
     "metadata": {},
     "output_type": "display_data"
    },
    {
     "data": {
      "application/vnd.jupyter.widget-view+json": {
       "model_id": "65a25486d0f84d29aa614a7e7a66e96c",
       "version_major": 2,
       "version_minor": 0
      },
      "text/plain": [
       "Output()"
      ]
     },
     "metadata": {},
     "output_type": "display_data"
    }
   ],
   "source": [
    "import naas\n",
    "from IPython.display import display\n",
    "from ipywidgets import widgets\n",
    "from naas_drivers import notion\n",
    "\n",
    "output = widgets.Output()\n",
    "\n",
    "def push_secrets():\n",
    "    naas.secret.add(name=\"NOTION_TOKEN\", secret=NOTION_API_KEY)\n",
    "    naas.secret.add(name=\"NOTION_REPORT_DB\", secret=NOTION_REPORTS_URL)\n",
    "    naas.secret.add(name=\"NOTION_CONTENT_DB\", secret=NOTION_CONTENT_CALENDAR_URL)\n",
    "    \n",
    "def test(database_url, database_name):\n",
    "    try:\n",
    "        database = notion.connect(NOTION_API_KEY).database.get(database_url)\n",
    "        return f\"✅ Database '{database_name}' successfully connected with Notion.\"\n",
    "    except Exception as e:\n",
    "        return f\"❌ Database '{database_name}' not connected: {e}\"\n",
    "\n",
    "def connect(btn):\n",
    "    output.clear_output()\n",
    "    \n",
    "    # Push secrets\n",
    "    push_secrets()\n",
    "    with output:\n",
    "        print(\"✅ Secrets successfully pushed to Naas!\")\n",
    "        \n",
    "    # Test connection database\n",
    "    res = test(NOTION_REPORTS_URL, \"Reports\")\n",
    "    with output:\n",
    "        print(res)\n",
    "        \n",
    "    res = test(NOTION_CONTENT_CALENDAR_URL, \"Content Calendar\")\n",
    "    with output:\n",
    "        print(res)\n",
    "        \n",
    "\n",
    "button = widgets.Button(description=\"Connect Notion\")\n",
    "button.on_click(connect)\n",
    "display(button, output)"
   ]
  },
  {
   "cell_type": "markdown",
   "id": "545db0b8-f1bf-47fd-ac1a-80a9721a7070",
   "metadata": {
    "tags": []
   },
   "source": [
    "## Output"
   ]
  },
  {
   "cell_type": "markdown",
   "id": "be2c9f93-170e-4d33-ab06-b0df303f74e0",
   "metadata": {},
   "source": [
    "### <u>3 - Setup Social media accounts ⭐️</u>"
   ]
  },
  {
   "cell_type": "markdown",
   "id": "d16633c6-b319-4835-913e-5cdb2d0d63bf",
   "metadata": {
    "execution": {
     "iopub.execute_input": "2021-10-05T13:40:52.351618Z",
     "iopub.status.busy": "2021-10-05T13:40:52.351364Z",
     "iopub.status.idle": "2021-10-05T13:40:52.355642Z",
     "shell.execute_reply": "2021-10-05T13:40:52.354027Z",
     "shell.execute_reply.started": "2021-10-05T13:40:52.351555Z"
    },
    "papermill": {},
    "tags": []
   },
   "source": [
    "#### <img src=\"https://lepaternel.com/wp-content/uploads/2018/06/square-linkedin-512.png\" width=\"15\"> LinkedIn\n",
    "\n",
    "Setup your profile and company credentials and profile\n",
    "  - If you are admin of the company, your cookies (LINKEDIN_LI_AT_COOKIE, LINKEDIN_JSESSIONID_COOKIE) will be used both for your profile and your company page\n",
    "  - If you are not admin of the company page, leave the linkedin company URL blank \"\" (LINKEDIN_COMPANY_URL = \"\")\n",
    "  - If you are admin of the company but don't want to use if for your profile, leave the linkedin profile URL blank \"\" (LINKEDIN_PROFILE_URL = \"\")\n",
    "\n",
    "→ <a href='https://www.notion.so/LinkedIn-driver-Get-your-cookies-d20a8e7e508e42af8a5b52e33f3dba75'>Learn how to get your cookies on LinkedIn</a>"
   ]
  },
  {
   "cell_type": "markdown",
   "id": "018eeb96-6e62-4249-ab95-7e0fab1fcca7",
   "metadata": {},
   "source": [
    "**Page URL**"
   ]
  },
  {
   "cell_type": "code",
   "execution_count": 6,
   "id": "f11a17f4-f885-456c-9d3d-d970de9e6351",
   "metadata": {
    "execution": {
     "iopub.execute_input": "2022-07-28T09:41:38.861743Z",
     "iopub.status.busy": "2022-07-28T09:41:38.861510Z",
     "iopub.status.idle": "2022-07-28T09:41:38.909315Z",
     "shell.execute_reply": "2022-07-28T09:41:38.908734Z",
     "shell.execute_reply.started": "2022-07-28T09:41:38.861712Z"
    },
    "tags": []
   },
   "outputs": [],
   "source": [
    "LINKEDIN_PROFILE_URL = \"https://www.linkedin.com/in/myprofile/\"\n",
    "LINKEDIN_COMPANY_URL = \"https://www.linkedin.com/company/mycompany/admin\""
   ]
  },
  {
   "cell_type": "markdown",
   "id": "3ab0590e-87dc-4d6d-b423-7ab1eca7f1cd",
   "metadata": {
    "execution": {
     "iopub.execute_input": "2022-07-14T13:53:31.649827Z",
     "iopub.status.busy": "2022-07-14T13:53:31.649562Z",
     "iopub.status.idle": "2022-07-14T13:53:31.671874Z",
     "shell.execute_reply": "2022-07-14T13:53:31.670890Z",
     "shell.execute_reply.started": "2022-07-14T13:53:31.649762Z"
    }
   },
   "source": [
    "**Cookies**"
   ]
  },
  {
   "cell_type": "code",
   "execution_count": 7,
   "id": "5add4faa-8d51-4444-8920-36e03ed405cf",
   "metadata": {
    "execution": {
     "iopub.execute_input": "2022-07-28T09:41:38.910557Z",
     "iopub.status.busy": "2022-07-28T09:41:38.910330Z",
     "iopub.status.idle": "2022-07-28T09:41:39.016668Z",
     "shell.execute_reply": "2022-07-28T09:41:39.015888Z",
     "shell.execute_reply.started": "2022-07-28T09:41:38.910527Z"
    },
    "tags": []
   },
   "outputs": [],
   "source": [
    "LINKEDIN_LI_AT_COOKIE = \"AQEDARCNSioA6INEZAaaaa4A5NecAAAGZEB4kWEZ5504AizwlPtA0DK3VYrFWh5OQNhsGWTaLkVGmL-TfZqbpkChD_htER8uNx2_-VH9aiX88XtT9Zd_xvdl-KUvnCkm1Gx7y4k1uefOg7NyBfBbGXXXXXX\"\n",
    "LINKEDIN_JSESSIONID_COOKIE = \"ajax:489341566800000000\""
   ]
  },
  {
   "cell_type": "code",
   "execution_count": 8,
   "id": "e0db387d-f96b-496d-aaa6-2c5215725a60",
   "metadata": {
    "execution": {
     "iopub.execute_input": "2022-07-28T09:41:39.019236Z",
     "iopub.status.busy": "2022-07-28T09:41:39.018977Z",
     "iopub.status.idle": "2022-07-28T09:41:39.277419Z",
     "shell.execute_reply": "2022-07-28T09:41:39.276746Z",
     "shell.execute_reply.started": "2022-07-28T09:41:39.019206Z"
    },
    "tags": []
   },
   "outputs": [
    {
     "data": {
      "application/vnd.jupyter.widget-view+json": {
       "model_id": "21f3a39459234ae2be36d313cddedf0d",
       "version_major": 2,
       "version_minor": 0
      },
      "text/plain": [
       "Button(description='Connect LinkedIn', style=ButtonStyle())"
      ]
     },
     "metadata": {},
     "output_type": "display_data"
    },
    {
     "data": {
      "application/vnd.jupyter.widget-view+json": {
       "model_id": "bf6545345d6d4e3295c665f8a120a88e",
       "version_major": 2,
       "version_minor": 0
      },
      "text/plain": [
       "Output()"
      ]
     },
     "metadata": {},
     "output_type": "display_data"
    }
   ],
   "source": [
    "import naas\n",
    "from IPython.display import display\n",
    "from ipywidgets import widgets\n",
    "from naas_drivers import linkedin\n",
    "from os import path\n",
    "import pandas as pd\n",
    "import urllib.parse\n",
    "\n",
    "output = widgets.Output()\n",
    "\n",
    "GIT_REPO_PATH = naas.secret.get(\"GIT_REPO_PATH\")\n",
    "LINKEDIN_ENGINE_PATH = path.join(GIT_REPO_PATH, \"LinkedIn\", \"_LinkedIn_Engine.ipynb\")\n",
    "\n",
    "def push_secrets():\n",
    "    LINKEDIN_LI_AT = naas.secret.get(\"LINKEDIN_LI_AT\") or LINKEDIN_LI_AT_COOKIE\n",
    "    LINKEDIN_JSESSIONID = naas.secret.get(\"LINKEDIN_JSESSIONID\") or LINKEDIN_JSESSIONID_COOKIE\n",
    "    naas.secret.add(name=\"LINKEDIN_LI_AT\", secret=LINKEDIN_LI_AT)\n",
    "    naas.secret.add(name=\"LINKEDIN_JSESSIONID\", secret=LINKEDIN_JSESSIONID)\n",
    "    naas.secret.add(name=\"LINKEDIN_PROFILE_URL\", secret=LINKEDIN_PROFILE_URL)\n",
    "    naas.secret.add(name=\"LINKEDIN_COMPANY_URL\", secret=LINKEDIN_COMPANY_URL)\n",
    "    \n",
    "def test(identity):\n",
    "    output = None\n",
    "    df = pd.DataFrame()\n",
    "    LI_AT = naas.secret.get(name=\"LI_AT\")\n",
    "    JSESSIONID = naas.secret.get(name=\"JSESSIONID\")\n",
    "    try:\n",
    "        if identity == \"profile\" and LINKEDIN_PROFILE_URL.startswith(\"https://www.linkedin.com/in/\"):\n",
    "            df = linkedin.connect(LI_AT, JSESSIONID).profile.get_identity(LINKEDIN_PROFILE_URL)\n",
    "            output = f\"✅ Successfully connected to your LinkedIn profile: {LINKEDIN_PROFILE_URL}\"\n",
    "            file_name = \"LINKEDIN_PROFILE.csv\"\n",
    "        elif identity == \"company\" and LINKEDIN_COMPANY_URL.startswith(\"https://www.linkedin.com/company/\"):\n",
    "            df = linkedin.connect(LI_AT, JSESSIONID).company.get_info(LINKEDIN_COMPANY_URL)\n",
    "            output = f\"✅ Successfully connected to your LinkedIn company: {LINKEDIN_COMPANY_URL}\"\n",
    "            file_name = \"LINKEDIN_COMPANY.csv\"\n",
    "        if len(df) > 0:\n",
    "            repo_path = path.join(GIT_REPO_PATH, \"LinkedIn\", \"Inputs\")\n",
    "            file_path = path.join(repo_path, file_name)\n",
    "            if not path.exists(repo_path):\n",
    "                makedirs(repo_path)\n",
    "            df.to_csv(file_path, index=False)\n",
    "            naas.dependency.add(file_path)\n",
    "        return output, True\n",
    "    except Exception as e:\n",
    "        return f\"❌ Can not connect to your LinkedIn {identity}: {e}\", False\n",
    "    \n",
    "def run_pipeline(file_path):\n",
    "    try:\n",
    "        %run \"$file_path\"\n",
    "        return f\"✅ Engine successfully run!\"\n",
    "    except Exception as e:\n",
    "        return f\"❌ Error while running engine: {e}\"\n",
    "    \n",
    "def schedule_pipeline(file_path, cron):\n",
    "    try:\n",
    "        naas.scheduler.add(path=file_path, cron=cron)\n",
    "        return f\"✅ Engine successfully schedule to production!\"\n",
    "    except Exception as e:\n",
    "        return f\"❌ Error while sending scheduler to prodution: {e}\"\n",
    "\n",
    "def connect_linkedin(btn):\n",
    "    output.clear_output()\n",
    "    \n",
    "    # Push secrets\n",
    "    push_secrets()\n",
    "    with output:\n",
    "        print(\"✅ Secrets successfully pushed to Naas!\")\n",
    "        \n",
    "    # Test connection LinkedIn\n",
    "    LINKEDIN_PROFILE_URL = naas.secret.get(\"LINKEDIN_PROFILE_URL\")\n",
    "    if LINKEDIN_PROFILE_URL.startswith(\"https://www.linkedin.com/in/\"):\n",
    "        res, LK_PROFILE_CHECK = test(\"profile\")\n",
    "        if res:\n",
    "            with output:\n",
    "                print(res)\n",
    "    LINKEDIN_COMPANY_URL = naas.secret.get(\"LINKEDIN_COMPANY_URL\")\n",
    "    if LINKEDIN_COMPANY_URL.startswith(\"https://www.linkedin.com/company/\"):\n",
    "        res, LK_COMPANY_CHECK = test(\"company\")\n",
    "        if res:\n",
    "            with output:\n",
    "                print(res)\n",
    "            \n",
    "    # Run pipeline\n",
    "    if LK_PROFILE_CHECK or LK_COMPANY_CHECK:\n",
    "        res = run_pipeline(LINKEDIN_ENGINE_PATH)\n",
    "        with output:\n",
    "            print(res)\n",
    "        \n",
    "        # Schedule pipeline\n",
    "        res = schedule_pipeline(LINKEDIN_ENGINE_PATH,\n",
    "                                cron=\"30 8 * * 1-5\")\n",
    "        with output:\n",
    "            print(res)\n",
    "    \n",
    "button = widgets.Button(description=\"Connect LinkedIn\")\n",
    "button.on_click(connect_linkedin)\n",
    "display(button, output)"
   ]
  },
  {
   "cell_type": "markdown",
   "id": "72866a99-9190-4fda-9627-1ae47dae973a",
   "metadata": {},
   "source": [
    "----"
   ]
  },
  {
   "cell_type": "markdown",
   "id": "5037516f-c3d3-4fdc-a22c-d8d20264c1af",
   "metadata": {},
   "source": [
    "#### <img src=\"https://upload.wikimedia.org/wikipedia/commons/thumb/0/09/YouTube_full-color_icon_%282017%29.svg/1024px-YouTube_full-color_icon_%282017%29.svg.png\" width=\"15\"> YouTube\n",
    "Setup your Youtube account by\n",
    "\n",
    "→ [Getting your YouTube Channel ID](https://support.google.com/youtube/answer/3250431?hl=en)<br>\n",
    "→ [Getting your YouTube API KEY](https://www.youtube.com/watch?v=ltdJOX_DVtE)"
   ]
  },
  {
   "cell_type": "code",
   "execution_count": 9,
   "id": "63f3f65e-b1dc-4ff2-9fa0-89438e99e306",
   "metadata": {
    "execution": {
     "iopub.execute_input": "2022-07-28T09:41:39.278921Z",
     "iopub.status.busy": "2022-07-28T09:41:39.278683Z",
     "iopub.status.idle": "2022-07-28T09:41:39.282043Z",
     "shell.execute_reply": "2022-07-28T09:41:39.281440Z",
     "shell.execute_reply.started": "2022-07-28T09:41:39.278890Z"
    },
    "tags": []
   },
   "outputs": [],
   "source": [
    "YOUTUBE_CHANNEL_NAME = \"naas.ai\"\n",
    "YOUTUBE_API_KEY = 'AIzaxdsfhuis8xZNP-e-UGQ-xxxxx'\n",
    "YOUTUBE_CHANNEL_ID = \"UCKKGHHgkdsXXU_rRdHHWQXXXXX\""
   ]
  },
  {
   "cell_type": "code",
   "execution_count": 10,
   "id": "c8579467-c096-45ae-80d2-8466afaf49c7",
   "metadata": {
    "execution": {
     "iopub.execute_input": "2022-07-28T09:41:39.283291Z",
     "iopub.status.busy": "2022-07-28T09:41:39.283071Z",
     "iopub.status.idle": "2022-07-28T09:41:42.419095Z",
     "shell.execute_reply": "2022-07-28T09:41:42.418479Z",
     "shell.execute_reply.started": "2022-07-28T09:41:39.283262Z"
    },
    "jupyter": {
     "source_hidden": true
    },
    "tags": []
   },
   "outputs": [
    {
     "data": {
      "application/vnd.jupyter.widget-view+json": {
       "model_id": "2717c128d289464dbf265ae52b667d9d",
       "version_major": 2,
       "version_minor": 0
      },
      "text/plain": [
       "Button(description='Connect YouTube', style=ButtonStyle())"
      ]
     },
     "metadata": {},
     "output_type": "display_data"
    },
    {
     "data": {
      "application/vnd.jupyter.widget-view+json": {
       "model_id": "c09c2a2f4ea146f2bb4a367a3d810109",
       "version_major": 2,
       "version_minor": 0
      },
      "text/plain": [
       "Output()"
      ]
     },
     "metadata": {},
     "output_type": "display_data"
    }
   ],
   "source": [
    "import naas\n",
    "from IPython.display import display\n",
    "from ipywidgets import widgets\n",
    "from naas_drivers import youtube\n",
    "from os import path\n",
    "\n",
    "output = widgets.Output()\n",
    "\n",
    "GIT_REPO_PATH = naas.secret.get(\"GIT_REPO_PATH\")\n",
    "YOUTUBE_CHANNEL_URL = f\"https://www.youtube.com/channel/{YOUTUBE_CHANNEL_ID}\"\n",
    "YOUTUBE_ENGINE_PATH = path.join(GIT_REPO_PATH, \"YouTube\", \"_YouTube_Engine.ipynb\")\n",
    "\n",
    "def push_secrets():\n",
    "    naas.secret.add('YOUTUBE_API_KEY', YOUTUBE_API_KEY)\n",
    "    naas.secret.add('YOUTUBE_CHANNEL_URL', YOUTUBE_CHANNEL_URL)\n",
    "    naas.secret.add('YOUTUBE_CHANNEL_NAME', YOUTUBE_CHANNEL_NAME)\n",
    "    \n",
    "def test():\n",
    "    try:\n",
    "        youtube.connect(YOUTUBE_API_KEY).channel.get_statistics(channel_url=YOUTUBE_CHANNEL_URL)\n",
    "        return f\"✅ Connected to YouTube API\", True\n",
    "    except Exception as e:\n",
    "        return f\"❌ Can not connect to your YouTube channel: {e}\", False\n",
    "    \n",
    "def run_pipeline(file_path):\n",
    "    try:\n",
    "        %run \"$file_path\"\n",
    "        return f\"✅ Engine successfully run!\"\n",
    "    except Exception as e:\n",
    "        return f\"❌ Error while running engine: {e}\"\n",
    "    \n",
    "def schedule_pipeline(file_path, cron):\n",
    "    try:\n",
    "        naas.scheduler.add(path=file_path, cron=cron)\n",
    "        return f\"✅ Engine successfully schedule to production!\"\n",
    "    except Exception as e:\n",
    "        return f\"❌ Error while sending scheduler to prodution: {e}\"\n",
    "\n",
    "def connect_youtube(btn):\n",
    "    output.clear_output()\n",
    "    \n",
    "    # Push secrets\n",
    "    push_secrets()\n",
    "    with output:\n",
    "        print(\"✅ Secrets successfully pushed to Naas!\")\n",
    "        \n",
    "    # Test connection LinkedIn\n",
    "    res, YOUTUBE_CONNECTION = test()\n",
    "    if res:\n",
    "        with output:\n",
    "            print(res)\n",
    "            \n",
    "    if YOUTUBE_CONNECTION:\n",
    "        # Run pipeline\n",
    "        res = run_pipeline(YOUTUBE_ENGINE_PATH)\n",
    "        with output:\n",
    "            print(res)\n",
    "\n",
    "        # Schedule pipeline\n",
    "        res = schedule_pipeline(YOUTUBE_ENGINE_PATH,\n",
    "                                cron=\"0 9 * * *\")\n",
    "        with output:\n",
    "            print(res)\n",
    "    \n",
    "\n",
    "button = widgets.Button(description=\"Connect YouTube\")\n",
    "button.on_click(connect_youtube)\n",
    "display(button, output)"
   ]
  },
  {
   "cell_type": "markdown",
   "id": "e51fc502-8128-4bd6-b716-b2dfe0de292c",
   "metadata": {
    "execution": {
     "iopub.execute_input": "2022-07-14T14:23:48.066944Z",
     "iopub.status.busy": "2022-07-14T14:23:48.066719Z",
     "iopub.status.idle": "2022-07-14T14:23:48.081078Z",
     "shell.execute_reply": "2022-07-14T14:23:48.080062Z",
     "shell.execute_reply.started": "2022-07-14T14:23:48.066921Z"
    }
   },
   "source": [
    "----"
   ]
  },
  {
   "cell_type": "markdown",
   "id": "3d5a02e7-5338-4e81-84b2-c1ebd4a07a1e",
   "metadata": {},
   "source": [
    "#### <img src=\"https://sapiens-uspc.com/wp-content/uploads/2017/10/twitter-logo-vector.png\" width=\"15\"> Twitter\n",
    "Setup your Twitter developper account by\n",
    "\n",
    "→ [Creating an account](https://developer.twitter.com/en/portal)<br>\n",
    "→ Creating a project<br>\n",
    "→ Getting your keys and secrets from your new project"
   ]
  },
  {
   "cell_type": "code",
   "execution_count": 11,
   "id": "c3675ca1-2a11-47c8-8f81-a1e2c9342dc8",
   "metadata": {
    "execution": {
     "iopub.execute_input": "2022-07-28T09:41:42.420383Z",
     "iopub.status.busy": "2022-07-28T09:41:42.420138Z",
     "iopub.status.idle": "2022-07-28T09:41:42.426342Z",
     "shell.execute_reply": "2022-07-28T09:41:42.425734Z",
     "shell.execute_reply.started": "2022-07-28T09:41:42.420352Z"
    },
    "tags": []
   },
   "outputs": [],
   "source": [
    "TWITTER_API_KEY = \"MUQYzBuyhL6t3o8bIHxZXXXXXX\"\n",
    "TWITTER_API_KEY_SECRET = \"dv7tkY1k7YfGVGoYUOh6WhRY7W7jQrY0r4SYwROSUAo1mO...\"\n",
    "TWITTER_BEARER_TOKEN = \"AAAAAAAAAAAAAAAAAAAAAMQhdgEAAAAABkh%2FEn6FkUm%...\"\n",
    "TWITTER_ACCESS_TOKEN = \"1328105689898766336-3nipMBZmPkEytCPhUGiUOpl4RY..\"\n",
    "TWITTER_ACCESS_TOKEN_SECRET = \"eSAudATUNWEkKU9YoqlvvJ0jaVhBWfmYaNCgraCnP2ajo\""
   ]
  },
  {
   "cell_type": "code",
   "execution_count": 12,
   "id": "f9abfc21-2c8c-43c2-a4d7-86ef65a75860",
   "metadata": {
    "execution": {
     "iopub.execute_input": "2022-07-28T09:41:42.427610Z",
     "iopub.status.busy": "2022-07-28T09:41:42.427383Z",
     "iopub.status.idle": "2022-07-28T09:41:42.841221Z",
     "shell.execute_reply": "2022-07-28T09:41:42.838846Z",
     "shell.execute_reply.started": "2022-07-28T09:41:42.427581Z"
    },
    "jupyter": {
     "source_hidden": true
    },
    "tags": []
   },
   "outputs": [
    {
     "ename": "ImportError",
     "evalue": "cannot import name 'twitter' from 'naas_drivers' (unknown location)",
     "output_type": "error",
     "traceback": [
      "\u001b[0;31m---------------------------------------------------------------------------\u001b[0m",
      "\u001b[0;31mImportError\u001b[0m                               Traceback (most recent call last)",
      "\u001b[0;32m<ipython-input-12-93f26374b676>\u001b[0m in \u001b[0;36m<module>\u001b[0;34m\u001b[0m\n\u001b[1;32m      2\u001b[0m \u001b[0;32mfrom\u001b[0m \u001b[0mIPython\u001b[0m\u001b[0;34m.\u001b[0m\u001b[0mdisplay\u001b[0m \u001b[0;32mimport\u001b[0m \u001b[0mdisplay\u001b[0m\u001b[0;34m\u001b[0m\u001b[0;34m\u001b[0m\u001b[0m\n\u001b[1;32m      3\u001b[0m \u001b[0;32mfrom\u001b[0m \u001b[0mipywidgets\u001b[0m \u001b[0;32mimport\u001b[0m \u001b[0mwidgets\u001b[0m\u001b[0;34m\u001b[0m\u001b[0;34m\u001b[0m\u001b[0m\n\u001b[0;32m----> 4\u001b[0;31m \u001b[0;32mfrom\u001b[0m \u001b[0mnaas_drivers\u001b[0m \u001b[0;32mimport\u001b[0m \u001b[0mtwitter\u001b[0m\u001b[0;34m\u001b[0m\u001b[0;34m\u001b[0m\u001b[0m\n\u001b[0m\u001b[1;32m      5\u001b[0m \u001b[0;32mfrom\u001b[0m \u001b[0mos\u001b[0m \u001b[0;32mimport\u001b[0m \u001b[0mpath\u001b[0m\u001b[0;34m\u001b[0m\u001b[0;34m\u001b[0m\u001b[0m\n\u001b[1;32m      6\u001b[0m \u001b[0;34m\u001b[0m\u001b[0m\n",
      "\u001b[0;31mImportError\u001b[0m: cannot import name 'twitter' from 'naas_drivers' (unknown location)"
     ]
    }
   ],
   "source": [
    "import naas\n",
    "from IPython.display import display\n",
    "from ipywidgets import widgets\n",
    "from naas_drivers import twitter\n",
    "from os import path\n",
    "\n",
    "output = widgets.Output()\n",
    "\n",
    "GIT_REPO_PATH = naas.secret.get(\"GIT_REPO_PATH\")\n",
    "TWITTER_ENGINE_PATH = path.join(GIT_REPO_PATH, \"Twitter\", \"_Twitter_Engine.ipynb\")\n",
    "\n",
    "def push_secrets():\n",
    "    naas.secret.add('TWITTER_CONSUMER_KEY', TWITTER_API_KEY)\n",
    "    naas.secret.add('TWITTER_CONSUMER_SECRET', TWITTER_API_KEY_SECRET)\n",
    "    naas.secret.add('TWITTER_BEARER_TOKEN', TWITTER_BEARER_TOKEN)\n",
    "    naas.secret.add('TWITTER_ACCESS_TOKEN', TWITTER_ACCESS_TOKEN)\n",
    "    naas.secret.add('TWITTER_ACCESS_TOKEN_SECRET', TWITTER_ACCESS_TOKEN_SECRET)\n",
    "    \n",
    "def test():\n",
    "    try:\n",
    "        twitter.connect(TWITTER_BEARER_TOKEN,\n",
    "                        TWITTER_API_KEY,\n",
    "                        TWITTER_API_KEY_SECRET,\n",
    "                        TWITTER_ACCESS_TOKEN,\n",
    "                        TWITTER_ACCESS_TOKEN_SECRET)\n",
    "        user = twitter.get_me()\n",
    "        TWITTER_ID = user.loc[\"id\"]\n",
    "        TWITTER_NAME = user.loc[\"name\"]\n",
    "        naas.secret.add('TWITTER_ID', TWITTER_ID)\n",
    "        naas.secret.add('TWITTER_NAME', TWITTER_NAME)\n",
    "        return f\"✅ Connected to Twitter API\", True\n",
    "    except Exception as e:\n",
    "        return f\"❌ Can not connect to your Twitter account: {e}\", False\n",
    "    \n",
    "def run_pipeline(file_path):\n",
    "    try:\n",
    "        %run \"$file_path\"\n",
    "        return f\"✅ Engine successfully run!\"\n",
    "    except Exception as e:\n",
    "        return f\"❌ Error while running engine: {e}\"\n",
    "    \n",
    "def schedule_pipeline(file_path, cron):\n",
    "    try:\n",
    "        naas.scheduler.add(path=file_path, cron=cron)\n",
    "        return f\"✅ Engine successfully schedule to production!\"\n",
    "    except Exception as e:\n",
    "        return f\"❌ Error while sending scheduler to prodution: {e}\"\n",
    "\n",
    "def connect_twitter(btn):\n",
    "    output.clear_output()\n",
    "    \n",
    "    # Push secrets\n",
    "    push_secrets()\n",
    "    with output:\n",
    "        print(\"✅ Secrets successfully pushed to Naas!\")\n",
    "        \n",
    "    # Test connection LinkedIn\n",
    "    res, TWITTER_CONNECTION = test()\n",
    "    if res:\n",
    "        with output:\n",
    "            print(res)\n",
    "            \n",
    "    # Run pipeline\n",
    "    if TWITTER_CONNECTION:\n",
    "        res = run_pipeline(TWITTER_ENGINE_PATH)\n",
    "        with output:\n",
    "            print(res)\n",
    "\n",
    "        # Schedule pipeline\n",
    "        res = schedule_pipeline(TWITTER_ENGINE_PATH,\n",
    "                                cron=\"30 9 * * *\")\n",
    "        with output:\n",
    "            print(res)\n",
    "    \n",
    "\n",
    "button = widgets.Button(description=\"Connect Twitter\")\n",
    "button.on_click(connect_twitter)\n",
    "display(button, output)"
   ]
  },
  {
   "cell_type": "markdown",
   "id": "f8d11d3b-9b3b-4456-b37d-1f5b781dd3bd",
   "metadata": {},
   "source": [
    "----"
   ]
  },
  {
   "cell_type": "markdown",
   "id": "16f6259c-bf5c-4a03-aa74-c45cbdcf5f85",
   "metadata": {},
   "source": [
    "#### <img src=\"https://upload.wikimedia.org/wikipedia/commons/thumb/a/a5/Instagram_icon.png/2048px-Instagram_icon.png\" width=\"15\"> Instagram (coming soon)\n",
    "Setup your Meta developper account by\n",
    "- [Doing this](https://support.google.com/youtube/answer/3250431?hl=en)\n",
    "- [Then that](https://www.youtube.com/watch?v=ltdJOX_DVtE)"
   ]
  },
  {
   "cell_type": "code",
   "execution_count": null,
   "id": "43e40fc6-fe75-48e5-b32d-f87ef9ab3ed7",
   "metadata": {
    "execution": {
     "iopub.status.busy": "2022-07-28T09:41:42.842013Z",
     "iopub.status.idle": "2022-07-28T09:41:42.842445Z",
     "shell.execute_reply": "2022-07-28T09:41:42.842281Z"
    }
   },
   "outputs": [],
   "source": [
    "INSTAGRAM_API_KEY = None"
   ]
  },
  {
   "cell_type": "markdown",
   "id": "d1604423-fc65-42e8-a913-af5f0c84b1c1",
   "metadata": {},
   "source": [
    "----"
   ]
  },
  {
   "cell_type": "markdown",
   "id": "86bab91a-1afb-49be-895c-5c56ba619a05",
   "metadata": {
    "execution": {
     "iopub.execute_input": "2022-07-25T10:31:21.431208Z",
     "iopub.status.busy": "2022-07-25T10:31:21.430857Z",
     "iopub.status.idle": "2022-07-25T10:31:21.465807Z",
     "shell.execute_reply": "2022-07-25T10:31:21.461842Z",
     "shell.execute_reply.started": "2022-07-25T10:31:21.431170Z"
    },
    "tags": []
   },
   "source": [
    "#### <img src=\"https://encrypted-tbn0.gstatic.com/images?q=tbn:ANd9GcTLO6EevVq6Mfo3AGwJRfivhsFAZb0dTlkwa5q4UZ_klKl3w8JxTnAZCeWtpq6Q-GSenq8&usqp=CAU\" width=\"15\"> TikTok (coming soon)\n",
    "Setup your Meta developper account by\n",
    "- [Doing this](https://support.google.com/youtube/answer/3250431?hl=en)\n",
    "- [Then that](https://www.youtube.com/watch?v=ltdJOX_DVtE)"
   ]
  },
  {
   "cell_type": "code",
   "execution_count": null,
   "id": "91b50b60-8278-4e48-811d-a3a0ef4fb6ac",
   "metadata": {
    "execution": {
     "iopub.status.busy": "2022-07-28T09:41:42.843225Z",
     "iopub.status.idle": "2022-07-28T09:41:42.843756Z",
     "shell.execute_reply": "2022-07-28T09:41:42.843498Z"
    }
   },
   "outputs": [],
   "source": [
    "TIKTOK_API_KEY = None"
   ]
  },
  {
   "cell_type": "markdown",
   "id": "57c2631b-cc08-448a-a59f-c7ff79a4f6a3",
   "metadata": {},
   "source": [
    "----"
   ]
  },
  {
   "cell_type": "markdown",
   "id": "e93c027f-0725-4541-877f-b10d2dfb7021",
   "metadata": {},
   "source": [
    "#### <img src=\"https://cdn.pixabay.com/photo/2015/05/17/10/51/facebook-770688_960_720.png\" width=\"15\"> Facebook (coming soon)\n",
    "Setup you Meta developper account by\n",
    "- [Doing this](https://support.google.com/youtube/answer/3250431?hl=en)\n",
    "- [Then that](https://www.youtube.com/watch?v=ltdJOX_DVtE)"
   ]
  },
  {
   "cell_type": "code",
   "execution_count": null,
   "id": "9ed5cb21-0dfe-48fd-a8c2-731f0e04b38f",
   "metadata": {
    "execution": {
     "iopub.status.busy": "2022-07-28T09:41:42.844542Z",
     "iopub.status.idle": "2022-07-28T09:41:42.845091Z",
     "shell.execute_reply": "2022-07-28T09:41:42.844839Z"
    }
   },
   "outputs": [],
   "source": [
    "FACEBOOK_API_KEY = None"
   ]
  },
  {
   "cell_type": "markdown",
   "id": "818e5e7f-9214-455a-980b-9c9bf641ea5d",
   "metadata": {},
   "source": [
    "----"
   ]
  },
  {
   "cell_type": "markdown",
   "id": "2ff3d3b1-105d-44b7-8b9d-eaf208cd416b",
   "metadata": {
    "execution": {
     "iopub.execute_input": "2022-07-14T14:00:41.251127Z",
     "iopub.status.busy": "2022-07-14T14:00:41.250750Z",
     "iopub.status.idle": "2022-07-14T14:00:41.261883Z",
     "shell.execute_reply": "2022-07-14T14:00:41.260864Z",
     "shell.execute_reply.started": "2022-07-14T14:00:41.251090Z"
    }
   },
   "source": [
    "#### <img src=\"https://upload.wikimedia.org/wikipedia/fr/archive/a/ad/20190808214526%21Logo-Snapchat.png\" width=\"15\"> Snapchat (coming soon)\n",
    "Setup your Snapchat developper account by\n",
    "- [Doing this](https://support.google.com/youtube/answer/3250431?hl=en)\n",
    "- [Then that](https://www.youtube.com/watch?v=ltdJOX_DVtE)"
   ]
  },
  {
   "cell_type": "code",
   "execution_count": null,
   "id": "4350bf48-0789-4d13-b34c-979acb9e728f",
   "metadata": {
    "execution": {
     "iopub.status.busy": "2022-07-28T09:41:42.845794Z",
     "iopub.status.idle": "2022-07-28T09:41:42.846181Z",
     "shell.execute_reply": "2022-07-28T09:41:42.846036Z"
    }
   },
   "outputs": [],
   "source": [
    "SNAPCHAT_API_KEY = None"
   ]
  },
  {
   "cell_type": "markdown",
   "id": "392ab6e7-4d4f-4447-b764-746bc3767533",
   "metadata": {},
   "source": [
    "----"
   ]
  }
 ],
 "metadata": {
  "kernelspec": {
   "display_name": "Python 3",
   "language": "python",
   "name": "python3"
  },
  "language_info": {
   "codemirror_mode": {
    "name": "ipython",
    "version": 3
   },
   "file_extension": ".py",
   "mimetype": "text/x-python",
   "name": "python",
   "nbconvert_exporter": "python",
   "pygments_lexer": "ipython3",
   "version": "3.9.6"
  },
  "naas": {
   "notebook_id": "77b7f93a-fb2a-483e-b98b-80735e426a64",
   "notebook_path": "Naas/Naas_Secret_demo.ipynb"
  },
  "papermill": {
   "default_parameters": {},
   "environment_variables": {},
   "parameters": {},
   "version": "2.3.3"
  },
  "toc-autonumbering": false,
  "widgets": {
   "application/vnd.jupyter.widget-state+json": {
    "state": {},
    "version_major": 2,
    "version_minor": 0
   }
  }
 },
 "nbformat": 4,
 "nbformat_minor": 5
}
