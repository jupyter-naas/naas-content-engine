{
 "cells": [
  {
   "cell_type": "markdown",
   "id": "9123d12a",
   "metadata": {
    "papermill": {},
    "tags": []
   },
   "source": [
    "<img width=\"10%\" alt=\"Naas\" src=\"https://landen.imgix.net/jtci2pxwjczr/assets/5ice39g4.png?w=160\"/>"
   ]
  },
  {
   "cell_type": "markdown",
   "id": "08335725",
   "metadata": {
    "papermill": {},
    "tags": []
   },
   "source": [
    "# LinkedIn - Send company posts to Notion DB\n",
    "<a href=\"https://app.naas.ai/user-redirect/naas/downloader?url=https://raw.githubusercontent.com/jupyter-naas/awesome-notebooks/master/LinkedIn/LinkedIn_Update_metrics_from_posts_in_Notion_content_calendar.ipynb\" target=\"_parent\"><img src=\"https://naasai-public.s3.eu-west-3.amazonaws.com/open_in_naas.svg\"/></a>"
   ]
  },
  {
   "cell_type": "markdown",
   "id": "e717bb38",
   "metadata": {
    "papermill": {},
    "tags": []
   },
   "source": [
    "**Tags:** #linkedin #profile #post #feed #naas_drivers #notion #automation #analytics #naas #scheduler #content #plotly #html #csv #image"
   ]
  },
  {
   "cell_type": "markdown",
   "id": "fece88f2-a877-433e-b864-51730b0a17eb",
   "metadata": {
    "papermill": {},
    "tags": []
   },
   "source": [
    "**Author:** [Florent Ravenel](https://www.linkedin.com/in/florent-ravenel/)"
   ]
  },
  {
   "cell_type": "markdown",
   "id": "c1caa0c3-851c-4873-9bdf-c561c28e3f4c",
   "metadata": {
    "papermill": {},
    "tags": []
   },
   "source": [
    "With this notebook, you can update your content calendar in Notion with all metrics from any profile posts in LinkedIn:\n",
    "- **Publication date:** When the post has been published.\n",
    "- **Name:** First sentence of post.\n",
    "- **Author:** Name of post author.\n",
    "- **Content type:** Content type of post (Image, Text, Video, Article, Polls).\n",
    "- **Platform:** \"LinkedIn\" by default.\n",
    "- **Status:** \"Published ✨\" by default.\n",
    "- **Engagment score:** Ratio between views and likes/comments (It will be at 0 if you are not the author of the post)\n",
    "- **Views:** Amount of people who saw the content (Only available on your profile)\n",
    "- **Likes:** Amount of people who pushed the like (or other reaction) button\n",
    "- **Comments:** Amount of people who wrote something in the comment section.\n",
    "- **Shares:** Amount of people who shared the content.\n",
    "- **Profile mention:** People mentioned in post.  \n",
    "- **Company mention:** Companies mentioned in post.\n",
    "- **Nb Tags:** Number of hashtags.\n",
    "- **Tags:** List of the hashtags.  \n",
    "- **Nb emojis:** Number of emojis.\n",
    "- **Emojis:** List of emojis.\n",
    "- **Nb links:** Number of links.\n",
    "- **Links:** Links used in posts.\n",
    "- **Nb characters:** Number of characters in post.  \n",
    "- **Content URL:** URL of the content \n",
    "- **Last refresh:** Date of last refresh"
   ]
  },
  {
   "cell_type": "markdown",
   "id": "40310297",
   "metadata": {
    "papermill": {},
    "tags": []
   },
   "source": [
    "## Input"
   ]
  },
  {
   "cell_type": "markdown",
   "id": "af373ec1",
   "metadata": {
    "papermill": {},
    "tags": []
   },
   "source": [
    "### Get common variables, functions"
   ]
  },
  {
   "cell_type": "code",
   "execution_count": null,
   "id": "92a75b4f",
   "metadata": {
    "papermill": {},
    "tags": []
   },
   "outputs": [],
   "source": [
    "# Except allow to run common.ipynb once using Naas Engine\n",
    "try:\n",
    "    %run \"../common.ipynb\"\n",
    "except:\n",
    "    %run \"common.ipynb\""
   ]
  },
  {
   "cell_type": "markdown",
   "id": "252b5e6d-1c0e-4c4a-a035-3b5f8d7e942e",
   "metadata": {},
   "source": [
    "### Setup Variables"
   ]
  },
  {
   "cell_type": "code",
   "execution_count": null,
   "id": "c976b8d9-409e-4b03-9b2c-f5940e84d920",
   "metadata": {
    "tags": []
   },
   "outputs": [],
   "source": [
    "INPUT_DATABASE = LK_COMPANY_POSTS\n",
    "OWNER = LK_COMPANY_NAME"
   ]
  },
  {
   "cell_type": "markdown",
   "id": "e26e1292",
   "metadata": {
    "papermill": {},
    "tags": []
   },
   "source": [
    "## Model"
   ]
  },
  {
   "cell_type": "markdown",
   "id": "6a70cff2-235d-4e2f-a849-556c610ab5d9",
   "metadata": {},
   "source": [
    "### Get Notion DB"
   ]
  },
  {
   "cell_type": "code",
   "execution_count": null,
   "id": "45f90930-e3bf-41d7-9367-f27ecde5947d",
   "metadata": {
    "tags": []
   },
   "outputs": [],
   "source": [
    "df_notion = get_notion_df(NOTION_CONTENT_DB)\n",
    "df_notion.tail(1)"
   ]
  },
  {
   "cell_type": "markdown",
   "id": "3eacf120-6735-4309-9f8d-8a8531d9cfa0",
   "metadata": {
    "papermill": {},
    "tags": []
   },
   "source": [
    "### Get your posts"
   ]
  },
  {
   "cell_type": "code",
   "execution_count": null,
   "id": "c593f7d0-dfe6-4fb0-a098-03d0e958e36e",
   "metadata": {
    "papermill": {},
    "tags": []
   },
   "outputs": [],
   "source": [
    "df_posts = get_data(INPUT_DATABASE)\n",
    "print(\"✅ Posts fetched:\", len(df_posts))\n",
    "df_posts.head(1)"
   ]
  },
  {
   "cell_type": "markdown",
   "id": "88682986-3904-4fdb-9f53-29416393f79f",
   "metadata": {},
   "source": [
    "### Update last posts"
   ]
  },
  {
   "cell_type": "code",
   "execution_count": null,
   "id": "2e186c4f-b1e6-4eb6-8e6a-265d4da66d3b",
   "metadata": {
    "tags": []
   },
   "outputs": [],
   "source": [
    "df_update = get_last_posts(df_notion, df_posts, OWNER)\n",
    "df_update.head(LINKEDIN_POSTS_UPDATE)"
   ]
  },
  {
   "cell_type": "markdown",
   "id": "7d42c4ae",
   "metadata": {
    "papermill": {},
    "tags": []
   },
   "source": [
    "## Output"
   ]
  },
  {
   "cell_type": "markdown",
   "id": "1376aeb4-64d2-400c-b69a-074cb6ebe9fd",
   "metadata": {
    "papermill": {},
    "tags": []
   },
   "source": [
    "### Update posts in Notion"
   ]
  },
  {
   "cell_type": "code",
   "execution_count": null,
   "id": "bb4040d9",
   "metadata": {
    "papermill": {},
    "tags": []
   },
   "outputs": [],
   "source": [
    "update_content_notion(df_update, NOTION_CONTENT_DB)"
   ]
  }
 ],
 "metadata": {
  "interpreter": {
   "hash": "e7370f93d1d0cde622a1f8e1c04877d8463912d04d973331ad4851f04de6915a"
  },
  "kernelspec": {
   "display_name": "Python 3",
   "language": "python",
   "name": "python3"
  },
  "language_info": {
   "codemirror_mode": {
    "name": "ipython",
    "version": 3
   },
   "file_extension": ".py",
   "mimetype": "text/x-python",
   "name": "python",
   "nbconvert_exporter": "python",
   "pygments_lexer": "ipython3",
   "version": "3.9.6"
  },
  "naas": {
   "notebook_id": "446a4fd8-7ea5-42c5-9da7-352f15046549",
   "notebook_path": "LinkedIn/LinkedIn_Update_metrics_from_posts_in_Notion_content_calendar.ipynb"
  },
  "papermill": {
   "default_parameters": {},
   "environment_variables": {},
   "parameters": {},
   "version": "2.3.4"
  }
 },
 "nbformat": 4,
 "nbformat_minor": 5
}
