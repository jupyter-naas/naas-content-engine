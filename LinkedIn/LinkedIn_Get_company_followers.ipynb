{
 "cells": [
  {
   "cell_type": "markdown",
   "id": "fresh-danish",
   "metadata": {
    "execution": {
     "iopub.execute_input": "2021-01-25T08:00:35.294800Z",
     "iopub.status.busy": "2021-01-25T08:00:35.294557Z",
     "iopub.status.idle": "2021-01-25T08:00:35.307281Z",
     "shell.execute_reply": "2021-01-25T08:00:35.306468Z",
     "shell.execute_reply.started": "2021-01-25T08:00:35.294775Z"
    },
    "papermill": {},
    "tags": []
   },
   "source": [
    "<img width=\"10%\" alt=\"Naas\" src=\"https://landen.imgix.net/jtci2pxwjczr/assets/5ice39g4.png?w=160\"/>"
   ]
  },
  {
   "cell_type": "markdown",
   "id": "federal-pixel",
   "metadata": {
    "papermill": {},
    "tags": []
   },
   "source": [
    "# LinkedIn - Get company followers\n",
    "<a href=\"https://app.naas.ai/user-redirect/naas/downloader?url=https://raw.githubusercontent.com/jupyter-naas/awesome-notebooks/master/LinkedIn/LinkedIn_Get_connections_from_network.ipynb\" target=\"_parent\"><img src=\"https://naasai-public.s3.eu-west-3.amazonaws.com/open_in_naas.svg\"/></a>"
   ]
  },
  {
   "cell_type": "markdown",
   "id": "be29252a-5f47-44cc-a178-c734ab5f042b",
   "metadata": {
    "papermill": {},
    "tags": []
   },
   "source": [
    "**Tags:** #linkedin #network #connections #naas_drivers #analytics #csv #html #image #content #plotly"
   ]
  },
  {
   "cell_type": "markdown",
   "id": "ce9b6fcd-b307-40ba-b872-668562f81947",
   "metadata": {
    "papermill": {},
    "tags": []
   },
   "source": [
    "**Author:** [Florent Ravenel](https://www.linkedin.com/in/florent-ravenel/)"
   ]
  },
  {
   "cell_type": "markdown",
   "id": "4dc4837d-029f-4f75-84c6-a4121f52504c",
   "metadata": {},
   "source": [
    "This notebook get your LinkedIn profile connections and save it into a CSV file. "
   ]
  },
  {
   "cell_type": "markdown",
   "id": "normal-rochester",
   "metadata": {
    "papermill": {},
    "tags": []
   },
   "source": [
    "## Input"
   ]
  },
  {
   "cell_type": "markdown",
   "id": "8f1221cb-bc06-45bc-9b05-3d8468a76398",
   "metadata": {
    "execution": {
     "iopub.execute_input": "2022-06-21T14:11:07.482034Z",
     "iopub.status.busy": "2022-06-21T14:11:07.481776Z",
     "iopub.status.idle": "2022-06-21T14:11:07.486129Z",
     "shell.execute_reply": "2022-06-21T14:11:07.485487Z",
     "shell.execute_reply.started": "2022-06-21T14:11:07.481971Z"
    },
    "tags": []
   },
   "source": [
    "### Get common variables, functions"
   ]
  },
  {
   "cell_type": "code",
   "execution_count": null,
   "id": "63ba2bd2-cc65-4ddf-8d01-42460006a159",
   "metadata": {
    "papermill": {},
    "tags": []
   },
   "outputs": [],
   "source": [
    "# Except allow to run common.ipynb once using Naas Engine\n",
    "try:\n",
    "    %run \"../common.ipynb\"\n",
    "except:\n",
    "    %run \"common.ipynb\""
   ]
  },
  {
   "cell_type": "markdown",
   "id": "pediatric-emerald",
   "metadata": {
    "papermill": {},
    "tags": []
   },
   "source": [
    "## Model"
   ]
  },
  {
   "cell_type": "markdown",
   "id": "72bcdd56-37d0-4389-b0ed-95a3af71b94a",
   "metadata": {},
   "source": [
    "### Get followers"
   ]
  },
  {
   "cell_type": "code",
   "execution_count": null,
   "id": "3aebb46d-b6cd-4252-91a6-eec882919f52",
   "metadata": {
    "tags": []
   },
   "outputs": [],
   "source": [
    "df_followers = get_data(LK_COMPANY_FOLLOWERS)\n",
    "print('✅ Initial followers fetched:', len(df_followers))\n",
    "df_followers.head(1)"
   ]
  },
  {
   "cell_type": "markdown",
   "id": "differential-agenda",
   "metadata": {
    "execution": {
     "iopub.execute_input": "2021-05-15T10:12:55.887028Z",
     "iopub.status.busy": "2021-05-15T10:12:55.886761Z",
     "iopub.status.idle": "2021-05-15T10:12:55.899441Z",
     "shell.execute_reply": "2021-05-15T10:12:55.898476Z",
     "shell.execute_reply.started": "2021-05-15T10:12:55.886964Z"
    },
    "papermill": {},
    "tags": []
   },
   "source": [
    "### Update followers from company"
   ]
  },
  {
   "cell_type": "code",
   "execution_count": null,
   "id": "indoor-colon",
   "metadata": {
    "papermill": {},
    "tags": []
   },
   "outputs": [],
   "source": [
    "def update_followers(df, key=None, min_updated_time=300):\n",
    "    # Init output\n",
    "    df_update = pd.DataFrame()\n",
    "    \n",
    "    # If df is empty then get all data\n",
    "    if len(df) > 0:\n",
    "        if \"DATE_EXTRACT\" in df.columns:\n",
    "            last_update_date = df[\"DATE_EXTRACT\"].max()\n",
    "            time_last_update = datetime.now() - datetime.strptime(last_update_date, \"%Y-%m-%d %H:%M:%S\")\n",
    "            minute_last_update = time_last_update.total_seconds() / 60\n",
    "            if minute_last_update > min_updated_time:\n",
    "                # If dataframe not empty, get last connections\n",
    "                profiles = df[key].unique()\n",
    "                start = 0\n",
    "                count = 1\n",
    "                while True:\n",
    "                    tmp_new = linkedin.connect(LI_AT, JSESSIONID).company.get_followers(start=start, limit=count)\n",
    "                    # Check if existing profile in each call\n",
    "                    tmp_new = tmp_new[~tmp_new.PROFILE_ID.isin(profiles)]\n",
    "                    df_update = pd.concat([df_update, tmp_new])\n",
    "                    if len(tmp_new) == 0:\n",
    "                        break\n",
    "\n",
    "                    # Get more profile\n",
    "                    start += count\n",
    "                print(f\"-> New connections fetched: {len(df_update)}.\")\n",
    "            else:\n",
    "                print(f\"🛑 Nothing to update. Last update done {int(minute_last_update)} minutes ago.\")\n",
    "    else:\n",
    "        df_update = linkedin.connect(LI_AT, JSESSIONID).company.get_followers(count=100, limit=-1)\n",
    "        \n",
    "    # Concat and add extract date\n",
    "    df = pd.concat([df_update, df]).drop_duplicates(key, keep=\"first\")\n",
    "    print(f\"✅ {len(df)} followers fetched.\")\n",
    "    return df.reset_index(drop=True)\n",
    "    \n",
    "df_update = update_followers(df_followers,\n",
    "                             key=\"PROFILE_ID\")\n",
    "df_update.head(1)"
   ]
  },
  {
   "cell_type": "markdown",
   "id": "piano-stylus",
   "metadata": {
    "papermill": {},
    "tags": []
   },
   "source": [
    "## Output"
   ]
  },
  {
   "cell_type": "markdown",
   "id": "2d732f4d-8ca1-477a-b0e0-19b638829ef8",
   "metadata": {},
   "source": [
    "### Save dataframe"
   ]
  },
  {
   "cell_type": "code",
   "execution_count": null,
   "id": "f245c540-101a-4146-aaf9-722f8584f157",
   "metadata": {
    "tags": []
   },
   "outputs": [],
   "source": [
    "save_data(df_update, LK_COMPANY_FOLLOWERS)"
   ]
  },
  {
   "cell_type": "code",
   "execution_count": null,
   "id": "12aacfe0-b25b-4622-b287-891f96a94b83",
   "metadata": {},
   "outputs": [],
   "source": []
  }
 ],
 "metadata": {
  "kernelspec": {
   "display_name": "Python 3",
   "language": "python",
   "name": "python3"
  },
  "language_info": {
   "codemirror_mode": {
    "name": "ipython",
    "version": 3
   },
   "file_extension": ".py",
   "mimetype": "text/x-python",
   "name": "python",
   "nbconvert_exporter": "python",
   "pygments_lexer": "ipython3",
   "version": "3.9.6"
  },
  "naas": {
   "notebook_id": "c45ccb48-ed43-40a5-bb29-abb054d43357",
   "notebook_path": "LinkedIn/LinkedIn_Get_connections_from_network.ipynb"
  },
  "papermill": {
   "default_parameters": {},
   "environment_variables": {},
   "parameters": {},
   "version": "2.3.3"
  },
  "widgets": {
   "application/vnd.jupyter.widget-state+json": {
    "state": {},
    "version_major": 2,
    "version_minor": 0
   }
  }
 },
 "nbformat": 4,
 "nbformat_minor": 5
}
