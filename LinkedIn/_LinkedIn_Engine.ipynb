{
 "cells": [
  {
   "cell_type": "markdown",
   "id": "dd66232c-09f1-44bf-8849-0cd5c52f78a6",
   "metadata": {},
   "source": [
    "<img width=\"10%\" alt=\"Naas\" src=\"https://landen.imgix.net/jtci2pxwjczr/assets/5ice39g4.png?w=160\"/>"
   ]
  },
  {
   "cell_type": "markdown",
   "id": "633951dc-ca87-4032-ad2d-b76a909861bf",
   "metadata": {},
   "source": [
    "# LinkedIn Engine"
   ]
  },
  {
   "cell_type": "markdown",
   "id": "dc8969f9-6f45-4131-9983-a9cfec61be43",
   "metadata": {},
   "source": [
    "**Tags:** #naas #content #engine #automation #linkedin"
   ]
  },
  {
   "cell_type": "markdown",
   "id": "29d1ba56-7c9e-4895-836e-afcbdb1bb75c",
   "metadata": {},
   "source": [
    "**Author:** [Florent Ravenel](https://www.linkedin.com/in/florent-ravenel/)"
   ]
  },
  {
   "cell_type": "markdown",
   "id": "524d5465-bce2-42f3-8d18-6f821dae07a5",
   "metadata": {},
   "source": [
    "## Input"
   ]
  },
  {
   "cell_type": "markdown",
   "id": "54a2fdfd-1bbd-456c-be5c-6698a92785ac",
   "metadata": {},
   "source": [
    "### Get common variables, functions"
   ]
  },
  {
   "cell_type": "code",
   "execution_count": null,
   "id": "773e2347-f372-4295-85e6-a18642196f2f",
   "metadata": {
    "tags": []
   },
   "outputs": [],
   "source": [
    "# Get common path and run it\n",
    "from os import path\n",
    "\n",
    "common_path = \"../common.ipynb\"\n",
    "if not path.exists(common_path):\n",
    "    common_path = f\"{naas.secret.get('GIT_REPO_NAME')}/common.ipynb\"\n",
    "\n",
    "%run \"$common_path\""
   ]
  },
  {
   "cell_type": "markdown",
   "id": "879cc555-89f2-4884-ad80-d2bea449eb52",
   "metadata": {},
   "source": [
    "### Setup LinkedIn profile notebooks"
   ]
  },
  {
   "cell_type": "code",
   "execution_count": null,
   "id": "61400f78-56e2-4818-be37-be1e2c216e12",
   "metadata": {
    "tags": []
   },
   "outputs": [],
   "source": [
    "# Linkedin profile connections\n",
    "LK_GET_CONNECTIONS = \"LinkedIn_Get_profile_connections.ipynb\"\n",
    "LK_FOLLOW_CONNECTIONS = \"LinkedIn_Follow_profile_connections_monthly.ipynb\"\n",
    "LK_LIST_NEW_CONNECTIONS = \"LinkedIn_List_new_profile_connections_monthly.ipynb\"\n",
    "\n",
    "# LinkedIn profile posts\n",
    "LK_GET_PROFILE_POSTS = \"LinkedIn_Get_profile_posts_stats.ipynb\"\n",
    "LK_FOLLOW_PROFILE_CONTENT_PUBLISHED = \"LinkedIn_Follow_profile_content_published_monthly.ipynb\"\n",
    "LK_FOLLOW_PROFILE_CONTENT_VIEWS = \"LinkedIn_Follow_profile_content_views_monthly.ipynb\"\n",
    "LK_FOLLOW_PROFILE_CONTENT_LIKES = \"LinkedIn_Follow_profile_content_likes_monthly.ipynb\"\n",
    "LK_FOLLOW_PROFILE_CONTENT_COMMENTS = \"LinkedIn_Follow_profile_content_comments_monthly.ipynb\"\n",
    "LK_FOLLOW_PROFILE_CONTENT_ENGAGEMENTS = \"LinkedIn_Follow_profile_content_engagements_monthly.ipynb\"\n",
    "LK_FOLLOW_PROFILE_CONTENT_ENGAGEMENT_RATE = \"LinkedIn_Follow_profile_content_engagement_rate_monthly.ipynb\"\n",
    "LK_FOLLOW_PROFILE_CONTENT_PUBLISHED_FREQUENCY = \"LinkedIn_Follow_profile_content_published_frequency_by_weekdays_by_months.ipynb\"\n",
    "LK_FOLLOW_PROFILE_CONTENT_VIEWS_REACH = \"LinkedIn_Follow_profile_content_views_by_weekdays_by_hours.ipynb\"\n",
    "LK_EXTRACT_PROFILE_CONTENT_WORLD_CLOUD = \"LinkedIn_Extract_profile_content_world_cloud.ipynb\"\n",
    "LK_LIST_TOP_PROFILE_CONTENT = \"LinkedIn_List_top_profile_contents_this_month.ipynb\"\n",
    "LK_SEND_PROFILE_POSTS_NOTION = \"LinkedIn_Send_profile_posts_to_Notion_DB.ipynb\"\n",
    "\n",
    "# LinkedIn Engagement posts\n",
    "LK_GET_PROFILE_POSTS_ENGAGEMENTS = \"LinkedIn_Get_profile_posts_engagements.ipynb\"\n",
    "LK_LIST_TOP_PROFILE_CONTENT_FANS = \"LinkedIn_List_top_profile_content_fans_this_month.ipynb\"\n",
    "LK_LIST_NEW_PROFILE_CONTENT_FANS = \"LinkedIn_List_new_profile_content_fans_this_month.ipynb\""
   ]
  },
  {
   "cell_type": "markdown",
   "id": "e38a4773-fea3-48b9-802b-71c29623e2e2",
   "metadata": {},
   "source": [
    "### Setup LinkedIn company notebooks"
   ]
  },
  {
   "cell_type": "code",
   "execution_count": null,
   "id": "f5ec24ca-2d48-42fb-bb77-f2110f7649f4",
   "metadata": {
    "tags": []
   },
   "outputs": [],
   "source": [
    "# Linkedin company followers\n",
    "LK_GET_COMPANY_FOLLOWERS = \"LinkedIn_Get_company_followers.ipynb\"\n",
    "LK_FOLLOW_COMPANY_FOLLOWERS = \"LinkedIn_Follow_company_followers_monthly.ipynb\"\n",
    "LK_LIST_NEW_COMPANY_FOLLOWERS = \"LinkedIn_List_new_company_followers_monthly.ipynb\"\n",
    "\n",
    "# LinkedIn company posts\n",
    "LK_GET_COMPANY_POSTS = \"LinkedIn_Get_company_posts_stats.ipynb\"\n",
    "LK_FOLLOW_COMPANY_CONTENT_PUBLISHED = \"LinkedIn_Follow_company_content_published_monthly.ipynb\"\n",
    "LK_FOLLOW_COMPANY_CONTENT_VIEWS = \"LinkedIn_Follow_company_content_views_monthly.ipynb\"\n",
    "LK_FOLLOW_COMPANY_CONTENT_LIKES = \"LinkedIn_Follow_company_content_likes_monthly.ipynb\"\n",
    "LK_FOLLOW_COMPANY_CONTENT_COMMENTS = \"LinkedIn_Follow_company_content_comments_monthly.ipynb\"\n",
    "LK_FOLLOW_COMPANY_CONTENT_ENGAGEMENTS = \"LinkedIn_Follow_company_content_engagements_monthly.ipynb\"\n",
    "LK_FOLLOW_COMPANY_CONTENT_ENGAGEMENT_RATE = \"LinkedIn_Follow_company_content_engagement_rate_monthly.ipynb\"\n",
    "LK_FOLLOW_COMPANY_CONTENT_PUBLISHED_FREQUENCY = \"LinkedIn_Follow_company_content_published_frequency_by_weekdays_by_months.ipynb\"\n",
    "LK_FOLLOW_COMPANY_CONTENT_VIEWS_REACH = \"LinkedIn_Follow_company_content_views_by_weekdays_by_hours.ipynb\"\n",
    "LK_EXTRACT_COMPANY_CONTENT_WORLD_CLOUD = \"LinkedIn_Extract_company_content_world_cloud.ipynb\"\n",
    "LK_LIST_TOP_COMPANY_CONTENT = \"LinkedIn_List_top_company_contents_this_month.ipynb\"\n",
    "LK_SEND_COMPANY_POSTS_NOTION = \"LinkedIn_Send_company_posts_to_Notion_DB.ipynb\"\n",
    "\n",
    "# LinkedIn Engagement posts\n",
    "LK_GET_COMPANY_POSTS_ENGAGEMENTS = \"LinkedIn_Get_company_posts_engagements.ipynb\"\n",
    "LK_LIST_TOP_COMPANY_CONTENT_FANS = \"LinkedIn_List_top_company_content_fans_this_month.ipynb\"\n",
    "LK_LIST_NEW_COMPANY_CONTENT_FANS = \"LinkedIn_List_new_company_content_fans_this_month.ipynb\""
   ]
  },
  {
   "cell_type": "markdown",
   "id": "ea6ff4cf-cea6-420e-b190-5979156b5fed",
   "metadata": {},
   "source": [
    "## Model"
   ]
  },
  {
   "cell_type": "markdown",
   "id": "768755a8-0451-4cd5-921f-5fae9ed096a2",
   "metadata": {},
   "source": [
    "### Setup Pipeline profile"
   ]
  },
  {
   "cell_type": "code",
   "execution_count": null,
   "id": "caf458d6-c7d2-4a15-841e-c208d93aba18",
   "metadata": {
    "tags": []
   },
   "outputs": [],
   "source": [
    "LK_PIPELINE_PROFILE = [\n",
    "    LK_GET_CONNECTIONS,\n",
    "    LK_FOLLOW_CONNECTIONS,\n",
    "    LK_LIST_NEW_CONNECTIONS,\n",
    "    LK_GET_PROFILE_POSTS,\n",
    "    LK_FOLLOW_PROFILE_CONTENT_PUBLISHED,\n",
    "    LK_FOLLOW_PROFILE_CONTENT_VIEWS,\n",
    "    LK_FOLLOW_PROFILE_CONTENT_LIKES,\n",
    "    LK_FOLLOW_PROFILE_CONTENT_COMMENTS,\n",
    "    LK_FOLLOW_PROFILE_CONTENT_ENGAGEMENTS,\n",
    "    LK_FOLLOW_PROFILE_CONTENT_ENGAGEMENT_RATE,\n",
    "    LK_FOLLOW_PROFILE_CONTENT_PUBLISHED_FREQUENCY,\n",
    "    LK_FOLLOW_PROFILE_CONTENT_VIEWS_REACH,\n",
    "    LK_EXTRACT_PROFILE_CONTENT_WORLD_CLOUD,\n",
    "    LK_LIST_TOP_PROFILE_CONTENT,\n",
    "    LK_SEND_PROFILE_POSTS_NOTION,\n",
    "    LK_GET_PROFILE_POSTS_ENGAGEMENTS,\n",
    "    LK_LIST_TOP_PROFILE_CONTENT_FANS,\n",
    "    LK_LIST_NEW_PROFILE_CONTENT_FANS\n",
    "]"
   ]
  },
  {
   "cell_type": "markdown",
   "id": "432f0c9c-f130-4820-8467-de349055fa36",
   "metadata": {},
   "source": [
    "### Setup Pipeline company"
   ]
  },
  {
   "cell_type": "code",
   "execution_count": null,
   "id": "3fcc5f81-a4fb-4cc1-b529-95f2931d8e44",
   "metadata": {
    "tags": []
   },
   "outputs": [],
   "source": [
    "LK_PIPELINE_COMPANY = [\n",
    "    LK_GET_COMPANY_FOLLOWERS,\n",
    "    LK_FOLLOW_COMPANY_FOLLOWERS,\n",
    "    LK_LIST_NEW_COMPANY_FOLLOWERS,\n",
    "    LK_GET_COMPANY_POSTS,\n",
    "    LK_FOLLOW_COMPANY_CONTENT_PUBLISHED,\n",
    "    LK_FOLLOW_COMPANY_CONTENT_VIEWS,\n",
    "    LK_FOLLOW_COMPANY_CONTENT_LIKES,\n",
    "    LK_FOLLOW_COMPANY_CONTENT_COMMENTS,\n",
    "    LK_FOLLOW_COMPANY_CONTENT_ENGAGEMENTS,\n",
    "    LK_FOLLOW_COMPANY_CONTENT_ENGAGEMENT_RATE,\n",
    "    LK_FOLLOW_COMPANY_CONTENT_PUBLISHED_FREQUENCY,\n",
    "    LK_FOLLOW_COMPANY_CONTENT_VIEWS_REACH,\n",
    "    LK_EXTRACT_COMPANY_CONTENT_WORLD_CLOUD,\n",
    "    LK_LIST_TOP_COMPANY_CONTENT,\n",
    "    LK_SEND_COMPANY_POSTS_NOTION,\n",
    "    LK_GET_COMPANY_POSTS_ENGAGEMENTS,\n",
    "    LK_LIST_TOP_COMPANY_CONTENT_FANS,\n",
    "    LK_LIST_NEW_COMPANY_CONTENT_FANS\n",
    "]"
   ]
  },
  {
   "cell_type": "markdown",
   "id": "d856dbf2-37a4-4e52-804a-81c3728b99a7",
   "metadata": {},
   "source": [
    "## Output"
   ]
  },
  {
   "cell_type": "markdown",
   "id": "c605f360-3459-40d1-a68b-227f38a6684e",
   "metadata": {},
   "source": [
    "### Run LinkedIn profile pipeline"
   ]
  },
  {
   "cell_type": "code",
   "execution_count": null,
   "id": "43e1e8a9-eee2-4397-88c6-f84f5b405d32",
   "metadata": {
    "tags": []
   },
   "outputs": [],
   "source": [
    "if LK_PROFILE_CHECK and LINKEDIN_PROFILE_URL.startswith(\"https://www.linkedin.com/in/\"):\n",
    "    run_pipeline(LK_PIPELINE_PROFILE, \"LinkedIn\")\n",
    "else:\n",
    "    print(\"🛑 No profile URL\")"
   ]
  },
  {
   "cell_type": "code",
   "execution_count": null,
   "id": "3fa3f6bb-fbea-4c42-896d-eadf8f9bf2f4",
   "metadata": {
    "tags": []
   },
   "outputs": [],
   "source": [
    "if LK_COMPANY_CHECK and LINKEDIN_COMPANY_URL.startswith(\"https://www.linkedin.com/company/\"):\n",
    "    run_pipeline(LK_PIPELINE_COMPANY, \"LinkedIn\")\n",
    "else:\n",
    "    print(\"🛑 No company URL\")"
   ]
  },
  {
   "cell_type": "code",
   "execution_count": null,
   "id": "23fa53aa-d76c-4812-8cf3-80186dce6db1",
   "metadata": {},
   "outputs": [],
   "source": []
  }
 ],
 "metadata": {
  "kernelspec": {
   "display_name": "Python 3",
   "language": "python",
   "name": "python3"
  },
  "language_info": {
   "codemirror_mode": {
    "name": "ipython",
    "version": 3
   },
   "file_extension": ".py",
   "mimetype": "text/x-python",
   "name": "python",
   "nbconvert_exporter": "python",
   "pygments_lexer": "ipython3",
   "version": "3.9.6"
  }
 },
 "nbformat": 4,
 "nbformat_minor": 5
}
