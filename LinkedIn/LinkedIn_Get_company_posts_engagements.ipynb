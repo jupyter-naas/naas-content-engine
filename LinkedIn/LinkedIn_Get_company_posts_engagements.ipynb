{
 "cells": [
  {
   "cell_type": "markdown",
   "id": "f93fe18d-8ad2-4958-816b-6b75af8681e4",
   "metadata": {
    "papermill": {},
    "tags": []
   },
   "source": [
    "<img width=\"10%\" alt=\"Naas\" src=\"https://landen.imgix.net/jtci2pxwjczr/assets/5ice39g4.png?w=160\"/>"
   ]
  },
  {
   "cell_type": "markdown",
   "id": "5f0737bc-6f32-4ae3-a951-5779adaa7a97",
   "metadata": {
    "papermill": {},
    "tags": []
   },
   "source": [
    "# LinkedIn - Get company posts engagements\n",
    "<a href=\"https://app.naas.ai/user-redirect/naas/downloader?url=https://raw.githubusercontent.com/jupyter-naas/awesome-notebooks/master/LinkedIn/LinkedIn_Send_weekly_post_engagement_metrics_by_email.ipynb\" target=\"_parent\"><img src=\"https://naasai-public.s3.eu-west-3.amazonaws.com/open_in_naas.svg\"/></a>"
   ]
  },
  {
   "cell_type": "markdown",
   "id": "616d1d23-6ae5-4cc6-95e8-40aa98a017f9",
   "metadata": {
    "papermill": {},
    "tags": []
   },
   "source": [
    "**Tags:** #linkedin #posts #interactions #metrics #analytics #automation #naas #hubspot"
   ]
  },
  {
   "cell_type": "markdown",
   "id": "c22c0060-616a-43ba-91e9-96e7034e71c7",
   "metadata": {
    "papermill": {},
    "tags": []
   },
   "source": [
    "**Author:** [Florent Ravenel](https://www.linkedin.com/in/florent-ravenel/)"
   ]
  },
  {
   "cell_type": "markdown",
   "id": "937ac7d6-bfe3-41aa-a0b6-61b1f7bba93f",
   "metadata": {
    "papermill": {},
    "tags": []
   },
   "source": [
    "## Input"
   ]
  },
  {
   "cell_type": "markdown",
   "id": "2d77b522-f032-4e23-9135-6dca6ec9eae6",
   "metadata": {},
   "source": [
    "### Get common variables, functions"
   ]
  },
  {
   "cell_type": "code",
   "execution_count": 1,
   "id": "102a0d00-c53f-4bd3-be95-d0b37171da8c",
   "metadata": {
    "execution": {
     "iopub.execute_input": "2022-06-28T19:20:37.126112Z",
     "iopub.status.busy": "2022-06-28T19:20:37.125776Z",
     "iopub.status.idle": "2022-06-28T19:20:41.641599Z",
     "shell.execute_reply": "2022-06-28T19:20:41.639852Z",
     "shell.execute_reply.started": "2022-06-28T19:20:37.126031Z"
    },
    "tags": []
   },
   "outputs": [],
   "source": [
    "# Except allow to run common.ipynb once using Naas Engine\n",
    "try:\n",
    "    %run \"../common.ipynb\"\n",
    "except:\n",
    "    %run \"common.ipynb\""
   ]
  },
  {
   "cell_type": "markdown",
   "id": "ecb37b6d-b27f-4932-b8a7-1464095f989d",
   "metadata": {
    "papermill": {},
    "tags": []
   },
   "source": [
    "### Setup Variables"
   ]
  },
  {
   "cell_type": "code",
   "execution_count": 2,
   "id": "e2c3df60-aced-4dd9-a94b-11d8ae4b5caf",
   "metadata": {
    "execution": {
     "iopub.execute_input": "2022-06-28T19:20:43.478478Z",
     "iopub.status.busy": "2022-06-28T19:20:43.478170Z",
     "iopub.status.idle": "2022-06-28T19:20:43.482310Z",
     "shell.execute_reply": "2022-06-28T19:20:43.481710Z",
     "shell.execute_reply.started": "2022-06-28T19:20:43.478442Z"
    },
    "papermill": {},
    "tags": []
   },
   "outputs": [],
   "source": [
    "# Inputs\n",
    "INPUT_DATABASE = LK_COMPANY_POSTS\n",
    "OWNER = LK_COMPANY_NAME\n",
    "OWNER_ID = LK_COMPANY_ID\n",
    "INPUT_LIKES = LK_COMPANY_POSTS_LIKES\n",
    "INPUT_COMMENTS = LK_COMPANY_POSTS_COMMENTS\n",
    "PERIOD = PERIOD_MTD\n",
    "\n",
    "# Outputs\n",
    "OUTPUT_DATABASE = LK_COMPANY_ENGAGEMENTS"
   ]
  },
  {
   "cell_type": "markdown",
   "id": "78fd3b62-5ca4-4468-9cf1-7fd6d079320f",
   "metadata": {
    "execution": {
     "iopub.execute_input": "2022-04-12T10:09:23.296057Z",
     "iopub.status.busy": "2022-04-12T10:09:23.295748Z",
     "iopub.status.idle": "2022-04-12T10:09:23.299059Z",
     "shell.execute_reply": "2022-04-12T10:09:23.298449Z",
     "shell.execute_reply.started": "2022-04-12T10:09:23.296024Z"
    },
    "papermill": {},
    "tags": []
   },
   "source": [
    "## Model"
   ]
  },
  {
   "cell_type": "markdown",
   "id": "b8f8248d-2bb7-4659-bec3-57bba6badc1e",
   "metadata": {
    "papermill": {},
    "tags": []
   },
   "source": [
    "### Get your posts"
   ]
  },
  {
   "cell_type": "code",
   "execution_count": 3,
   "id": "96b095ed-c57b-446b-b4a3-6e985f0f83d2",
   "metadata": {
    "execution": {
     "iopub.execute_input": "2022-06-28T19:20:44.873490Z",
     "iopub.status.busy": "2022-06-28T19:20:44.873251Z",
     "iopub.status.idle": "2022-06-28T19:20:44.928257Z",
     "shell.execute_reply": "2022-06-28T19:20:44.927625Z",
     "shell.execute_reply.started": "2022-06-28T19:20:44.873465Z"
    },
    "tags": []
   },
   "outputs": [
    {
     "name": "stdout",
     "output_type": "stream",
     "text": [
      "✅ Posts fetched: 126\n"
     ]
    },
    {
     "data": {
      "text/html": [
       "<div>\n",
       "<style scoped>\n",
       "    .dataframe tbody tr th:only-of-type {\n",
       "        vertical-align: middle;\n",
       "    }\n",
       "\n",
       "    .dataframe tbody tr th {\n",
       "        vertical-align: top;\n",
       "    }\n",
       "\n",
       "    .dataframe thead th {\n",
       "        text-align: right;\n",
       "    }\n",
       "</style>\n",
       "<table border=\"1\" class=\"dataframe\">\n",
       "  <thead>\n",
       "    <tr style=\"text-align: right;\">\n",
       "      <th></th>\n",
       "      <th>ACTIVITY_ID</th>\n",
       "      <th>PUBLISHED_DATE</th>\n",
       "      <th>AUTHOR_NAME</th>\n",
       "      <th>AUTHOR_URL</th>\n",
       "      <th>SUBDESCRIPTION</th>\n",
       "      <th>TITLE</th>\n",
       "      <th>TEXT</th>\n",
       "      <th>CHARACTER_COUNT</th>\n",
       "      <th>TAGS</th>\n",
       "      <th>TAGS_COUNT</th>\n",
       "      <th>...</th>\n",
       "      <th>POLL_ID</th>\n",
       "      <th>POLL_QUESTION</th>\n",
       "      <th>POLL_RESULTS</th>\n",
       "      <th>POST_URL</th>\n",
       "      <th>VIEWS</th>\n",
       "      <th>COMMENTS</th>\n",
       "      <th>LIKES</th>\n",
       "      <th>SHARES</th>\n",
       "      <th>ENGAGEMENT_SCORE</th>\n",
       "      <th>DATE_EXTRACT</th>\n",
       "    </tr>\n",
       "  </thead>\n",
       "  <tbody>\n",
       "    <tr>\n",
       "      <th>0</th>\n",
       "      <td>6946860124556681216</td>\n",
       "      <td>2022-06-26 16:22:00+02:00</td>\n",
       "      <td>naas.ai</td>\n",
       "      <td>https://www.linkedin.com/company/70506391</td>\n",
       "      <td>23 hours ago</td>\n",
       "      <td>No comment. 👌</td>\n",
       "      <td>No comment. 👌</td>\n",
       "      <td>13</td>\n",
       "      <td>NaN</td>\n",
       "      <td>0</td>\n",
       "      <td>...</td>\n",
       "      <td>NaN</td>\n",
       "      <td>NaN</td>\n",
       "      <td>NaN</td>\n",
       "      <td>https://www.linkedin.com/feed/update/urn:li:ac...</td>\n",
       "      <td>221</td>\n",
       "      <td>0</td>\n",
       "      <td>2</td>\n",
       "      <td>0</td>\n",
       "      <td>0.00905</td>\n",
       "      <td>2022-06-27 18:21:50</td>\n",
       "    </tr>\n",
       "  </tbody>\n",
       "</table>\n",
       "<p>1 rows × 31 columns</p>\n",
       "</div>"
      ],
      "text/plain": [
       "           ACTIVITY_ID             PUBLISHED_DATE AUTHOR_NAME  \\\n",
       "0  6946860124556681216  2022-06-26 16:22:00+02:00     naas.ai   \n",
       "\n",
       "                                  AUTHOR_URL SUBDESCRIPTION          TITLE  \\\n",
       "0  https://www.linkedin.com/company/70506391   23 hours ago  No comment. 👌   \n",
       "\n",
       "            TEXT  CHARACTER_COUNT TAGS  TAGS_COUNT  ... POLL_ID  \\\n",
       "0  No comment. 👌               13  NaN           0  ...     NaN   \n",
       "\n",
       "   POLL_QUESTION POLL_RESULTS  \\\n",
       "0            NaN          NaN   \n",
       "\n",
       "                                            POST_URL VIEWS COMMENTS LIKES  \\\n",
       "0  https://www.linkedin.com/feed/update/urn:li:ac...   221        0     2   \n",
       "\n",
       "  SHARES ENGAGEMENT_SCORE         DATE_EXTRACT  \n",
       "0      0          0.00905  2022-06-27 18:21:50  \n",
       "\n",
       "[1 rows x 31 columns]"
      ]
     },
     "execution_count": 3,
     "metadata": {},
     "output_type": "execute_result"
    }
   ],
   "source": [
    "df_posts = get_data(INPUT_DATABASE)\n",
    "print(\"✅ Posts fetched:\", len(df_posts))\n",
    "df_posts.head(1)"
   ]
  },
  {
   "cell_type": "markdown",
   "id": "22040cda-8fea-43cf-90ea-ea7edc725d7f",
   "metadata": {},
   "source": [
    "### Get who likes your posts"
   ]
  },
  {
   "cell_type": "code",
   "execution_count": 4,
   "id": "6b8ab7f4-9dba-4191-9461-848040629a7b",
   "metadata": {
    "execution": {
     "iopub.execute_input": "2022-06-28T19:20:47.468556Z",
     "iopub.status.busy": "2022-06-28T19:20:47.468328Z",
     "iopub.status.idle": "2022-06-28T19:20:47.493223Z",
     "shell.execute_reply": "2022-06-28T19:20:47.492540Z",
     "shell.execute_reply.started": "2022-06-28T19:20:47.468534Z"
    },
    "tags": []
   },
   "outputs": [
    {
     "name": "stdout",
     "output_type": "stream",
     "text": [
      "[Errno 2] No such file or directory: '/home/ftp/Naas Content Engine/LinkedIn/Inputs/LINKEDIN_COMPANY_POSTS_LIKES_70506391.csv'\n",
      "✅ Likes fetched: 0\n"
     ]
    },
    {
     "data": {
      "text/html": [
       "<div>\n",
       "<style scoped>\n",
       "    .dataframe tbody tr th:only-of-type {\n",
       "        vertical-align: middle;\n",
       "    }\n",
       "\n",
       "    .dataframe tbody tr th {\n",
       "        vertical-align: top;\n",
       "    }\n",
       "\n",
       "    .dataframe thead th {\n",
       "        text-align: right;\n",
       "    }\n",
       "</style>\n",
       "<table border=\"1\" class=\"dataframe\">\n",
       "  <thead>\n",
       "    <tr style=\"text-align: right;\">\n",
       "      <th></th>\n",
       "    </tr>\n",
       "  </thead>\n",
       "  <tbody>\n",
       "  </tbody>\n",
       "</table>\n",
       "</div>"
      ],
      "text/plain": [
       "Empty DataFrame\n",
       "Columns: []\n",
       "Index: []"
      ]
     },
     "execution_count": 4,
     "metadata": {},
     "output_type": "execute_result"
    }
   ],
   "source": [
    "df_likes = get_data(INPUT_LIKES)\n",
    "print(\"✅ Likes fetched:\", len(df_likes))\n",
    "df_likes.head(1)"
   ]
  },
  {
   "cell_type": "markdown",
   "id": "ba290f36-91bc-4a3d-80ea-103624bcc360",
   "metadata": {},
   "source": [
    "### Get who comments your posts"
   ]
  },
  {
   "cell_type": "code",
   "execution_count": 5,
   "id": "847a1ac8-0859-4af7-b4d1-316bb38e01d3",
   "metadata": {
    "execution": {
     "iopub.execute_input": "2022-06-28T19:20:48.948648Z",
     "iopub.status.busy": "2022-06-28T19:20:48.948410Z",
     "iopub.status.idle": "2022-06-28T19:20:48.972521Z",
     "shell.execute_reply": "2022-06-28T19:20:48.971887Z",
     "shell.execute_reply.started": "2022-06-28T19:20:48.948625Z"
    },
    "tags": []
   },
   "outputs": [
    {
     "name": "stdout",
     "output_type": "stream",
     "text": [
      "[Errno 2] No such file or directory: '/home/ftp/Naas Content Engine/LinkedIn/Inputs/LINKEDIN_COMPANY_POSTS_COMMENTS_70506391.csv'\n",
      "✅ Comments fetched: 0\n"
     ]
    },
    {
     "data": {
      "text/html": [
       "<div>\n",
       "<style scoped>\n",
       "    .dataframe tbody tr th:only-of-type {\n",
       "        vertical-align: middle;\n",
       "    }\n",
       "\n",
       "    .dataframe tbody tr th {\n",
       "        vertical-align: top;\n",
       "    }\n",
       "\n",
       "    .dataframe thead th {\n",
       "        text-align: right;\n",
       "    }\n",
       "</style>\n",
       "<table border=\"1\" class=\"dataframe\">\n",
       "  <thead>\n",
       "    <tr style=\"text-align: right;\">\n",
       "      <th></th>\n",
       "    </tr>\n",
       "  </thead>\n",
       "  <tbody>\n",
       "  </tbody>\n",
       "</table>\n",
       "</div>"
      ],
      "text/plain": [
       "Empty DataFrame\n",
       "Columns: []\n",
       "Index: []"
      ]
     },
     "execution_count": 5,
     "metadata": {},
     "output_type": "execute_result"
    }
   ],
   "source": [
    "df_comments = get_data(INPUT_COMMENTS)\n",
    "print(\"✅ Comments fetched:\", len(df_comments))\n",
    "df_comments.head(1)"
   ]
  },
  {
   "cell_type": "markdown",
   "id": "8b76191a-686b-4ac8-a0e7-b56ac9f1bfbb",
   "metadata": {
    "execution": {
     "iopub.execute_input": "2022-04-12T14:42:10.762125Z",
     "iopub.status.busy": "2022-04-12T14:42:10.761884Z",
     "iopub.status.idle": "2022-04-12T14:42:10.764880Z",
     "shell.execute_reply": "2022-04-12T14:42:10.764227Z",
     "shell.execute_reply.started": "2022-04-12T14:42:10.762100Z"
    },
    "papermill": {},
    "tags": []
   },
   "source": [
    "## Output"
   ]
  },
  {
   "cell_type": "code",
   "execution_count": 6,
   "id": "bb517108-065c-4a78-9c37-cf1ab486daff",
   "metadata": {
    "execution": {
     "iopub.execute_input": "2022-06-28T19:20:50.685169Z",
     "iopub.status.busy": "2022-06-28T19:20:50.684936Z",
     "iopub.status.idle": "2022-06-28T19:20:50.689082Z",
     "shell.execute_reply": "2022-06-28T19:20:50.688372Z",
     "shell.execute_reply.started": "2022-06-28T19:20:50.685147Z"
    },
    "tags": []
   },
   "outputs": [],
   "source": [
    "# Get interactions\n",
    "def get_interactions(interaction, post_url):\n",
    "    df = pd.DataFrame()\n",
    "    try:\n",
    "        if interaction == \"LIKES\":\n",
    "            df = linkedin.connect(LI_AT, JSESSIONID).post.get_likes(post_url)\n",
    "        elif interaction == \"COMMENTS\":\n",
    "            df = linkedin.connect(LI_AT, JSESSIONID).post.get_comments(post_url)\n",
    "    except Exception as e:\n",
    "        if e.response.status_code:\n",
    "            print(e)\n",
    "    return df"
   ]
  },
  {
   "cell_type": "code",
   "execution_count": 8,
   "id": "6cedc8b2-bfee-4706-af52-e3bea953cd2e",
   "metadata": {
    "execution": {
     "iopub.execute_input": "2022-06-28T19:21:38.923192Z",
     "iopub.status.busy": "2022-06-28T19:21:38.922909Z",
     "iopub.status.idle": "2022-06-28T19:21:38.934397Z",
     "shell.execute_reply": "2022-06-28T19:21:38.933827Z",
     "shell.execute_reply.started": "2022-06-28T19:21:38.923159Z"
    },
    "papermill": {},
    "tags": []
   },
   "outputs": [],
   "source": [
    "def update_interactions(df_posts,\n",
    "                        df_interaction,\n",
    "                        interaction,\n",
    "                        csv_output,\n",
    "                        no_posts=10,\n",
    "                        min_updated_time=300):\n",
    "    # Init\n",
    "    df_out = df_interaction.copy()\n",
    "    \n",
    "    # Get all interactions if dataframe init empty or not complete\n",
    "    if len(df_posts) == 0:\n",
    "        return pd.DataFrame()\n",
    "\n",
    "    if len(df_out) > 0:\n",
    "        if \"DATE_EXTRACT\" in df_out.columns:\n",
    "            last_update_date = df_out[\"DATE_EXTRACT\"].max()\n",
    "            time_last_update = datetime.now() - datetime.strptime(last_update_date, \"%Y-%m-%d %H:%M:%S\")\n",
    "            minute_last_update = time_last_update.total_seconds() / 60\n",
    "            if minute_last_update > min_updated_time:\n",
    "                df_posts = df_posts[:no_posts]\n",
    "            else:\n",
    "                print(f\"🛑 Nothing to update. Last update done {int(minute_last_update)} minutes ago.\")\n",
    "                return df_out.reset_index(drop=True)\n",
    "    else:\n",
    "        df_posts[\"SCENARIO\"] = pd.to_datetime(df_posts[\"PUBLISHED_DATE\"].str[:-6]).dt.strftime(PERIOD)\n",
    "        df_posts = df_posts[df_posts[\"SCENARIO\"] == datetime.now().strftime(PERIOD)].reset_index(drop=True)\n",
    "        print(\"Posts this month:\", len(df_posts))\n",
    "        \n",
    "    # Loop on posts\n",
    "    for index, row in df_posts.iterrows():\n",
    "        df_update = pd.DataFrame()\n",
    "        post_title = row.TITLE\n",
    "        post_author = row.AUTHOR_NAME\n",
    "        post_url = row.POST_URL\n",
    "        post_date = row.PUBLISHED_DATE\n",
    "        count_interactions = row[interaction]\n",
    "        print(f\"🔄 {index+1} - Update started on: '{post_title}' ({post_url})\")\n",
    "        \n",
    "        # Get interactions from post URL\n",
    "        if len(df_interaction) > 0:\n",
    "            tmp_df = df_interaction[df_interaction.POST_URL == post_url]\n",
    "            no_interactions = len(tmp_df)\n",
    "            if count_interactions != no_interactions:\n",
    "                print(f\"--> {count_interactions} post interaction count vs {no_interactions} interactions.\")\n",
    "                df_update = get_interactions(interaction, post_url)\n",
    "            else:\n",
    "                print(\"--->🛑 Nothing to update.\")\n",
    "        else:\n",
    "            df_update = get_interactions(interaction, post_url)\n",
    "        \n",
    "        # Concat dataframe and save dataframe in CSV\n",
    "        if len(df_update) > 0:\n",
    "            print(f\"---> {len(df_update)} interactions fetched.\")\n",
    "            df_update['TITLE'] = post_title\n",
    "            df_update['AUTHOR_NAME'] = post_author\n",
    "            df_update['PUBLISHED_DATE'] = post_date\n",
    "            keys = [\"POST_URL\", \"PROFILE_ID\"]\n",
    "            if interaction == \"COMMENTS\":\n",
    "                keys = [\"POST_URL\", \"PROFILE_ID\", \"CREATED_TIME\"]\n",
    "            df_out = pd.concat([df_update, df_out]).drop_duplicates(keys, keep=\"first\")\n",
    "            output_path = save_data(df_out, csv_output)\n",
    "            \n",
    "    # Add dependency in production\n",
    "    print(f\"✅ {len(df_out)} '{interaction}' fetched.\")\n",
    "    # Return all interactions\n",
    "    return df_out.reset_index(drop=True)"
   ]
  },
  {
   "cell_type": "markdown",
   "id": "10765e57-8597-4b08-9157-a4ef78082328",
   "metadata": {
    "papermill": {},
    "tags": []
   },
   "source": [
    "### Update likes\n",
    "It will update your last 10 posts like's from LinkedIn API.<br>\n",
    "PS: On the first execution all posts like's will be retrieved."
   ]
  },
  {
   "cell_type": "code",
   "execution_count": 9,
   "id": "c9787390-25c5-4c82-8901-160aea26ca92",
   "metadata": {
    "execution": {
     "iopub.execute_input": "2022-06-28T19:21:44.502241Z",
     "iopub.status.busy": "2022-06-28T19:21:44.502008Z",
     "iopub.status.idle": "2022-06-28T19:23:35.924206Z",
     "shell.execute_reply": "2022-06-28T19:23:35.923606Z",
     "shell.execute_reply.started": "2022-06-28T19:21:44.502217Z"
    },
    "tags": []
   },
   "outputs": [
    {
     "name": "stdout",
     "output_type": "stream",
     "text": [
      "Posts this month: 16\n",
      "🔄 1 - Update started on: 'No comment. 👌' (https://www.linkedin.com/feed/update/urn:li:activity:6946860124556681216)\n",
      "---> 2 interactions fetched.\n",
      "👌 Well done! Your Dependency has been sent to production. \n",
      "\n",
      "PS: to remove the \"Dependency\" feature, just replace .add by .delete\n",
      "✅ Dataframe successfully saved in CSV: LinkedIn/Inputs/LINKEDIN_COMPANY_POSTS_LIKES_70506391.csv\n",
      "🔄 2 - Update started on: 'Most of the people working in data think notebooks are only made for experimentation and convey bad practices, but it's more a question of how you use them.' (https://www.linkedin.com/feed/update/urn:li:activity:6945433259858132992)\n",
      "🔄 3 - Update started on: 'Want to use AI to label the sentiment of your comments?' (https://www.linkedin.com/feed/update/urn:li:activity:6944613208842227712)\n",
      "---> 11 interactions fetched.\n",
      "👌 Well done! Your Dependency has been sent to production. \n",
      "\n",
      "PS: to remove the \"Dependency\" feature, just replace .add by .delete\n",
      "✅ Dataframe successfully saved in CSV: LinkedIn/Inputs/LINKEDIN_COMPANY_POSTS_LIKES_70506391.csv\n",
      "🔄 4 - Update started on: 'Wondering how to read a dataframe from your files stored in Amazon Web Services (AWS) S3 ? ' (https://www.linkedin.com/feed/update/urn:li:activity:6943185288294760448)\n",
      "---> 9 interactions fetched.\n",
      "👌 Well done! Your Dependency has been sent to production. \n",
      "\n",
      "PS: to remove the \"Dependency\" feature, just replace .add by .delete\n",
      "✅ Dataframe successfully saved in CSV: LinkedIn/Inputs/LINKEDIN_COMPANY_POSTS_LIKES_70506391.csv\n",
      "🔄 5 - Update started on: 'Critical thinking and problem solving is very important in data. ' (https://www.linkedin.com/feed/update/urn:li:activity:6943172495990509568)\n",
      "---> 3 interactions fetched.\n",
      "👌 Well done! Your Dependency has been sent to production. \n",
      "\n",
      "PS: to remove the \"Dependency\" feature, just replace .add by .delete\n",
      "✅ Dataframe successfully saved in CSV: LinkedIn/Inputs/LINKEDIN_COMPANY_POSTS_LIKES_70506391.csv\n",
      "🔄 6 - Update started on: 'Do you want to download files in your AWS bucket on your local drive?' (https://www.linkedin.com/feed/update/urn:li:activity:6943152697692860416)\n",
      "---> 3 interactions fetched.\n",
      "👌 Well done! Your Dependency has been sent to production. \n",
      "\n",
      "PS: to remove the \"Dependency\" feature, just replace .add by .delete\n",
      "✅ Dataframe successfully saved in CSV: LinkedIn/Inputs/LINKEDIN_COMPANY_POSTS_LIKES_70506391.csv\n",
      "🔄 7 - Update started on: 'Did you know you can send daily billing notification from your AWS account to Slack using Naas?' (https://www.linkedin.com/feed/update/urn:li:activity:6943103969527275520)\n",
      "---> 6 interactions fetched.\n",
      "👌 Well done! Your Dependency has been sent to production. \n",
      "\n",
      "PS: to remove the \"Dependency\" feature, just replace .add by .delete\n",
      "✅ Dataframe successfully saved in CSV: LinkedIn/Inputs/LINKEDIN_COMPANY_POSTS_LIKES_70506391.csv\n",
      "🔄 8 - Update started on: '⚡️ We started a challenge this Monday: aggregate all our social media content stats in one place.' (https://www.linkedin.com/feed/update/urn:li:activity:6942728516627050496)\n",
      "---> 9 interactions fetched.\n",
      "👌 Well done! Your Dependency has been sent to production. \n",
      "\n",
      "PS: to remove the \"Dependency\" feature, just replace .add by .delete\n",
      "✅ Dataframe successfully saved in CSV: LinkedIn/Inputs/LINKEDIN_COMPANY_POSTS_LIKES_70506391.csv\n",
      "🔄 9 - Update started on: 'Good read ! ' (https://www.linkedin.com/feed/update/urn:li:activity:6942561768913166337)\n",
      "---> 3 interactions fetched.\n",
      "👌 Well done! Your Dependency has been sent to production. \n",
      "\n",
      "PS: to remove the \"Dependency\" feature, just replace .add by .delete\n",
      "✅ Dataframe successfully saved in CSV: LinkedIn/Inputs/LINKEDIN_COMPANY_POSTS_LIKES_70506391.csv\n",
      "🔄 10 - Update started on: 'Dashboards do not need to be perfect the first round !! ' (https://www.linkedin.com/feed/update/urn:li:activity:6942459301701550080)\n",
      "---> 3 interactions fetched.\n",
      "👌 Well done! Your Dependency has been sent to production. \n",
      "\n",
      "PS: to remove the \"Dependency\" feature, just replace .add by .delete\n",
      "✅ Dataframe successfully saved in CSV: LinkedIn/Inputs/LINKEDIN_COMPANY_POSTS_LIKES_70506391.csv\n",
      "🔄 11 - Update started on: '💎 Brand your charts with your company logo! ' (https://www.linkedin.com/feed/update/urn:li:activity:6941287766353702912)\n",
      "🔄 12 - Update started on: '💚🤙' (https://www.linkedin.com/feed/update/urn:li:activity:6941286581018238976)\n",
      "---> 2 interactions fetched.\n",
      "👌 Well done! Your Dependency has been sent to production. \n",
      "\n",
      "PS: to remove the \"Dependency\" feature, just replace .add by .delete\n",
      "✅ Dataframe successfully saved in CSV: LinkedIn/Inputs/LINKEDIN_COMPANY_POSTS_LIKES_70506391.csv\n",
      "🔄 13 - Update started on: 'Rules based approach comes first, and ML can be the cherry on the cake 🍒🎂' (https://www.linkedin.com/feed/update/urn:li:activity:6941285308021805056)\n",
      "---> 3 interactions fetched.\n",
      "👌 Well done! Your Dependency has been sent to production. \n",
      "\n",
      "PS: to remove the \"Dependency\" feature, just replace .add by .delete\n",
      "✅ Dataframe successfully saved in CSV: LinkedIn/Inputs/LINKEDIN_COMPANY_POSTS_LIKES_70506391.csv\n",
      "🔄 14 - Update started on: '🤙 Nikolaj Groeneweg is putting together something very cool using Naas and the amazing Hugging Face library!!' (https://www.linkedin.com/feed/update/urn:li:activity:6940386880890793984)\n",
      "---> 4 interactions fetched.\n",
      "👌 Well done! Your Dependency has been sent to production. \n",
      "\n",
      "PS: to remove the \"Dependency\" feature, just replace .add by .delete\n",
      "✅ Dataframe successfully saved in CSV: LinkedIn/Inputs/LINKEDIN_COMPANY_POSTS_LIKES_70506391.csv\n",
      "🔄 15 - Update started on: 'Congrats Alok Chilka! ' (https://www.linkedin.com/feed/update/urn:li:activity:6940010694893297664)\n",
      "---> 2 interactions fetched.\n",
      "👌 Well done! Your Dependency has been sent to production. \n",
      "\n",
      "PS: to remove the \"Dependency\" feature, just replace .add by .delete\n",
      "✅ Dataframe successfully saved in CSV: LinkedIn/Inputs/LINKEDIN_COMPANY_POSTS_LIKES_70506391.csv\n",
      "🔄 16 - Update started on: 'Build your company metrics database with naas.ai and Notion ⚡️' (https://www.linkedin.com/feed/update/urn:li:activity:6938110348990291968)\n",
      "---> 3 interactions fetched.\n",
      "👌 Well done! Your Dependency has been sent to production. \n",
      "\n",
      "PS: to remove the \"Dependency\" feature, just replace .add by .delete\n",
      "✅ Dataframe successfully saved in CSV: LinkedIn/Inputs/LINKEDIN_COMPANY_POSTS_LIKES_70506391.csv\n",
      "✅ 63 'LIKES' fetched.\n"
     ]
    },
    {
     "data": {
      "text/html": [
       "<div>\n",
       "<style scoped>\n",
       "    .dataframe tbody tr th:only-of-type {\n",
       "        vertical-align: middle;\n",
       "    }\n",
       "\n",
       "    .dataframe tbody tr th {\n",
       "        vertical-align: top;\n",
       "    }\n",
       "\n",
       "    .dataframe thead th {\n",
       "        text-align: right;\n",
       "    }\n",
       "</style>\n",
       "<table border=\"1\" class=\"dataframe\">\n",
       "  <thead>\n",
       "    <tr style=\"text-align: right;\">\n",
       "      <th></th>\n",
       "      <th>PROFILE_ID</th>\n",
       "      <th>PROFILE_URL</th>\n",
       "      <th>PUBLIC_ID</th>\n",
       "      <th>FIRSTNAME</th>\n",
       "      <th>LASTNAME</th>\n",
       "      <th>FULLNAME</th>\n",
       "      <th>OCCUPATION</th>\n",
       "      <th>PROFILE_PICTURE</th>\n",
       "      <th>BACKGROUND_PICTURE</th>\n",
       "      <th>PROFILE_TYPE</th>\n",
       "      <th>REACTION_TYPE</th>\n",
       "      <th>POST_URL</th>\n",
       "      <th>DATE_EXTRACT</th>\n",
       "      <th>TITLE</th>\n",
       "      <th>AUTHOR_NAME</th>\n",
       "      <th>PUBLISHED_DATE</th>\n",
       "    </tr>\n",
       "  </thead>\n",
       "  <tbody>\n",
       "    <tr>\n",
       "      <th>0</th>\n",
       "      <td>ACoAAC5LlP0BtWg2TdS_5IspIp4XYk2X5f1zAtI</td>\n",
       "      <td>https://www.linkedin.com/in/ACoAAC5LlP0BtWg2Td...</td>\n",
       "      <td>sriniketh-jayasendil</td>\n",
       "      <td>Sriniketh</td>\n",
       "      <td>Jayasendil</td>\n",
       "      <td>Sriniketh Jayasendil</td>\n",
       "      <td>DS &amp; ML Enthusiast | Learning Web Dev | Open S...</td>\n",
       "      <td>https://media-exp2.licdn.com/dms/image/C4E03AQ...</td>\n",
       "      <td>https://media-exp2.licdn.com/dms/image/C4E16AQ...</td>\n",
       "      <td>PROFILE</td>\n",
       "      <td>LIKE</td>\n",
       "      <td>https://www.linkedin.com/feed/update/urn:li:ac...</td>\n",
       "      <td>2022-06-28 21:23:28</td>\n",
       "      <td>Build your company metrics database with naas....</td>\n",
       "      <td>naas.ai</td>\n",
       "      <td>2022-06-02 12:53:31+02:00</td>\n",
       "    </tr>\n",
       "  </tbody>\n",
       "</table>\n",
       "</div>"
      ],
      "text/plain": [
       "                                PROFILE_ID  \\\n",
       "0  ACoAAC5LlP0BtWg2TdS_5IspIp4XYk2X5f1zAtI   \n",
       "\n",
       "                                         PROFILE_URL             PUBLIC_ID  \\\n",
       "0  https://www.linkedin.com/in/ACoAAC5LlP0BtWg2Td...  sriniketh-jayasendil   \n",
       "\n",
       "   FIRSTNAME    LASTNAME              FULLNAME  \\\n",
       "0  Sriniketh  Jayasendil  Sriniketh Jayasendil   \n",
       "\n",
       "                                          OCCUPATION  \\\n",
       "0  DS & ML Enthusiast | Learning Web Dev | Open S...   \n",
       "\n",
       "                                     PROFILE_PICTURE  \\\n",
       "0  https://media-exp2.licdn.com/dms/image/C4E03AQ...   \n",
       "\n",
       "                                  BACKGROUND_PICTURE PROFILE_TYPE  \\\n",
       "0  https://media-exp2.licdn.com/dms/image/C4E16AQ...      PROFILE   \n",
       "\n",
       "  REACTION_TYPE                                           POST_URL  \\\n",
       "0          LIKE  https://www.linkedin.com/feed/update/urn:li:ac...   \n",
       "\n",
       "          DATE_EXTRACT                                              TITLE  \\\n",
       "0  2022-06-28 21:23:28  Build your company metrics database with naas....   \n",
       "\n",
       "  AUTHOR_NAME             PUBLISHED_DATE  \n",
       "0     naas.ai  2022-06-02 12:53:31+02:00  "
      ]
     },
     "execution_count": 9,
     "metadata": {},
     "output_type": "execute_result"
    }
   ],
   "source": [
    "df_update_likes = update_interactions(df_posts,\n",
    "                                      df_likes,\n",
    "                                      \"LIKES\",\n",
    "                                      INPUT_LIKES)\n",
    "df_update_likes.head(1)"
   ]
  },
  {
   "cell_type": "markdown",
   "id": "6304b30e-3338-485c-9791-c78cf5b9de41",
   "metadata": {},
   "source": [
    "### Update comments\n",
    "It will update your last 10 posts comment's from LinkedIn API.<br>\n",
    "PS: On the first execution all posts comment's will be retrieved."
   ]
  },
  {
   "cell_type": "code",
   "execution_count": 10,
   "id": "96887ed1-9b31-48e9-83b5-e19e152afd7e",
   "metadata": {
    "execution": {
     "iopub.execute_input": "2022-06-28T19:24:11.467457Z",
     "iopub.status.busy": "2022-06-28T19:24:11.467224Z",
     "iopub.status.idle": "2022-06-28T19:24:47.462485Z",
     "shell.execute_reply": "2022-06-28T19:24:47.461829Z",
     "shell.execute_reply.started": "2022-06-28T19:24:11.467433Z"
    },
    "tags": []
   },
   "outputs": [
    {
     "name": "stdout",
     "output_type": "stream",
     "text": [
      "Posts this month: 16\n",
      "🔄 1 - Update started on: 'No comment. 👌' (https://www.linkedin.com/feed/update/urn:li:activity:6946860124556681216)\n",
      "🔄 2 - Update started on: 'Most of the people working in data think notebooks are only made for experimentation and convey bad practices, but it's more a question of how you use them.' (https://www.linkedin.com/feed/update/urn:li:activity:6945433259858132992)\n",
      "🔄 3 - Update started on: 'Want to use AI to label the sentiment of your comments?' (https://www.linkedin.com/feed/update/urn:li:activity:6944613208842227712)\n",
      "---> 2 interactions fetched.\n",
      "👌 Well done! Your Dependency has been sent to production. \n",
      "\n",
      "PS: to remove the \"Dependency\" feature, just replace .add by .delete\n",
      "✅ Dataframe successfully saved in CSV: LinkedIn/Inputs/LINKEDIN_COMPANY_POSTS_COMMENTS_70506391.csv\n",
      "🔄 4 - Update started on: 'Wondering how to read a dataframe from your files stored in Amazon Web Services (AWS) S3 ? ' (https://www.linkedin.com/feed/update/urn:li:activity:6943185288294760448)\n",
      "🔄 5 - Update started on: 'Critical thinking and problem solving is very important in data. ' (https://www.linkedin.com/feed/update/urn:li:activity:6943172495990509568)\n",
      "---> 2 interactions fetched.\n",
      "👌 Well done! Your Dependency has been sent to production. \n",
      "\n",
      "PS: to remove the \"Dependency\" feature, just replace .add by .delete\n",
      "✅ Dataframe successfully saved in CSV: LinkedIn/Inputs/LINKEDIN_COMPANY_POSTS_COMMENTS_70506391.csv\n",
      "🔄 6 - Update started on: 'Do you want to download files in your AWS bucket on your local drive?' (https://www.linkedin.com/feed/update/urn:li:activity:6943152697692860416)\n",
      "🔄 7 - Update started on: 'Did you know you can send daily billing notification from your AWS account to Slack using Naas?' (https://www.linkedin.com/feed/update/urn:li:activity:6943103969527275520)\n",
      "🔄 8 - Update started on: '⚡️ We started a challenge this Monday: aggregate all our social media content stats in one place.' (https://www.linkedin.com/feed/update/urn:li:activity:6942728516627050496)\n",
      "🔄 9 - Update started on: 'Good read ! ' (https://www.linkedin.com/feed/update/urn:li:activity:6942561768913166337)\n",
      "---> 1 interactions fetched.\n",
      "👌 Well done! Your Dependency has been sent to production. \n",
      "\n",
      "PS: to remove the \"Dependency\" feature, just replace .add by .delete\n",
      "✅ Dataframe successfully saved in CSV: LinkedIn/Inputs/LINKEDIN_COMPANY_POSTS_COMMENTS_70506391.csv\n",
      "🔄 10 - Update started on: 'Dashboards do not need to be perfect the first round !! ' (https://www.linkedin.com/feed/update/urn:li:activity:6942459301701550080)\n",
      "---> 2 interactions fetched.\n",
      "👌 Well done! Your Dependency has been sent to production. \n",
      "\n",
      "PS: to remove the \"Dependency\" feature, just replace .add by .delete\n",
      "✅ Dataframe successfully saved in CSV: LinkedIn/Inputs/LINKEDIN_COMPANY_POSTS_COMMENTS_70506391.csv\n",
      "🔄 11 - Update started on: '💎 Brand your charts with your company logo! ' (https://www.linkedin.com/feed/update/urn:li:activity:6941287766353702912)\n",
      "🔄 12 - Update started on: '💚🤙' (https://www.linkedin.com/feed/update/urn:li:activity:6941286581018238976)\n",
      "🔄 13 - Update started on: 'Rules based approach comes first, and ML can be the cherry on the cake 🍒🎂' (https://www.linkedin.com/feed/update/urn:li:activity:6941285308021805056)\n",
      "🔄 14 - Update started on: '🤙 Nikolaj Groeneweg is putting together something very cool using Naas and the amazing Hugging Face library!!' (https://www.linkedin.com/feed/update/urn:li:activity:6940386880890793984)\n",
      "🔄 15 - Update started on: 'Congrats Alok Chilka! ' (https://www.linkedin.com/feed/update/urn:li:activity:6940010694893297664)\n",
      "🔄 16 - Update started on: 'Build your company metrics database with naas.ai and Notion ⚡️' (https://www.linkedin.com/feed/update/urn:li:activity:6938110348990291968)\n",
      "✅ 7 'COMMENTS' fetched.\n"
     ]
    },
    {
     "data": {
      "text/html": [
       "<div>\n",
       "<style scoped>\n",
       "    .dataframe tbody tr th:only-of-type {\n",
       "        vertical-align: middle;\n",
       "    }\n",
       "\n",
       "    .dataframe tbody tr th {\n",
       "        vertical-align: top;\n",
       "    }\n",
       "\n",
       "    .dataframe thead th {\n",
       "        text-align: right;\n",
       "    }\n",
       "</style>\n",
       "<table border=\"1\" class=\"dataframe\">\n",
       "  <thead>\n",
       "    <tr style=\"text-align: right;\">\n",
       "      <th></th>\n",
       "      <th>PROFILE_ID</th>\n",
       "      <th>PROFILE_URL</th>\n",
       "      <th>PUBLIC_ID</th>\n",
       "      <th>FIRSTNAME</th>\n",
       "      <th>LASTNAME</th>\n",
       "      <th>FULLNAME</th>\n",
       "      <th>OCCUPATION</th>\n",
       "      <th>PROFILE_PICTURE</th>\n",
       "      <th>BACKGROUND_PICTURE</th>\n",
       "      <th>PROFILE_TYPE</th>\n",
       "      <th>...</th>\n",
       "      <th>CREATED_TIME</th>\n",
       "      <th>LANGUAGE</th>\n",
       "      <th>DISTANCE</th>\n",
       "      <th>COMMENTS</th>\n",
       "      <th>LIKES</th>\n",
       "      <th>POST_URL</th>\n",
       "      <th>DATE_EXTRACT</th>\n",
       "      <th>TITLE</th>\n",
       "      <th>AUTHOR_NAME</th>\n",
       "      <th>PUBLISHED_DATE</th>\n",
       "    </tr>\n",
       "  </thead>\n",
       "  <tbody>\n",
       "    <tr>\n",
       "      <th>0</th>\n",
       "      <td>70506391</td>\n",
       "      <td>https://www.linkedin.com/company/70506391</td>\n",
       "      <td>naas-ai</td>\n",
       "      <td>None</td>\n",
       "      <td>None</td>\n",
       "      <td>naas.ai</td>\n",
       "      <td>None</td>\n",
       "      <td>https://media-exp2.licdn.com/dms/image/C560BAQ...</td>\n",
       "      <td>None</td>\n",
       "      <td>COMPANY</td>\n",
       "      <td>...</td>\n",
       "      <td>2022-06-16 12:05:26</td>\n",
       "      <td>English</td>\n",
       "      <td>None</td>\n",
       "      <td>0</td>\n",
       "      <td>0</td>\n",
       "      <td>https://www.linkedin.com/feed/update/urn:li:ac...</td>\n",
       "      <td>2022-06-28 21:24:37</td>\n",
       "      <td>Dashboards do not need to be perfect the first...</td>\n",
       "      <td>naas.ai</td>\n",
       "      <td>2022-06-14 12:54:42+02:00</td>\n",
       "    </tr>\n",
       "  </tbody>\n",
       "</table>\n",
       "<p>1 rows × 21 columns</p>\n",
       "</div>"
      ],
      "text/plain": [
       "  PROFILE_ID                                PROFILE_URL PUBLIC_ID FIRSTNAME  \\\n",
       "0   70506391  https://www.linkedin.com/company/70506391   naas-ai      None   \n",
       "\n",
       "  LASTNAME FULLNAME OCCUPATION  \\\n",
       "0     None  naas.ai       None   \n",
       "\n",
       "                                     PROFILE_PICTURE BACKGROUND_PICTURE  \\\n",
       "0  https://media-exp2.licdn.com/dms/image/C560BAQ...               None   \n",
       "\n",
       "  PROFILE_TYPE  ...         CREATED_TIME LANGUAGE DISTANCE COMMENTS  LIKES  \\\n",
       "0      COMPANY  ...  2022-06-16 12:05:26  English     None        0      0   \n",
       "\n",
       "                                            POST_URL         DATE_EXTRACT  \\\n",
       "0  https://www.linkedin.com/feed/update/urn:li:ac...  2022-06-28 21:24:37   \n",
       "\n",
       "                                               TITLE AUTHOR_NAME  \\\n",
       "0  Dashboards do not need to be perfect the first...     naas.ai   \n",
       "\n",
       "              PUBLISHED_DATE  \n",
       "0  2022-06-14 12:54:42+02:00  \n",
       "\n",
       "[1 rows x 21 columns]"
      ]
     },
     "execution_count": 10,
     "metadata": {},
     "output_type": "execute_result"
    }
   ],
   "source": [
    "df_update_comments = update_interactions(df_posts,\n",
    "                                         df_comments,\n",
    "                                         \"COMMENTS\",\n",
    "                                         INPUT_COMMENTS)\n",
    "df_update_comments.head(1)"
   ]
  },
  {
   "cell_type": "markdown",
   "id": "af194c87-87b3-4379-b870-9ea01e0ff90f",
   "metadata": {},
   "source": [
    "### Create interactions database\n",
    "- Concat LIKES and COMMENTS in single database\n",
    "- Create note for HubSpot"
   ]
  },
  {
   "cell_type": "code",
   "execution_count": 11,
   "id": "648a78c8-2cdd-4ebb-88b3-c960f3b13fbd",
   "metadata": {
    "execution": {
     "iopub.execute_input": "2022-06-28T19:24:56.683647Z",
     "iopub.status.busy": "2022-06-28T19:24:56.683409Z",
     "iopub.status.idle": "2022-06-28T19:24:56.707970Z",
     "shell.execute_reply": "2022-06-28T19:24:56.707285Z",
     "shell.execute_reply.started": "2022-06-28T19:24:56.683623Z"
    },
    "tags": []
   },
   "outputs": [
    {
     "name": "stdout",
     "output_type": "stream",
     "text": [
      "✅ 70 interactions fetched.\n"
     ]
    },
    {
     "data": {
      "text/html": [
       "<div>\n",
       "<style scoped>\n",
       "    .dataframe tbody tr th:only-of-type {\n",
       "        vertical-align: middle;\n",
       "    }\n",
       "\n",
       "    .dataframe tbody tr th {\n",
       "        vertical-align: top;\n",
       "    }\n",
       "\n",
       "    .dataframe thead th {\n",
       "        text-align: right;\n",
       "    }\n",
       "</style>\n",
       "<table border=\"1\" class=\"dataframe\">\n",
       "  <thead>\n",
       "    <tr style=\"text-align: right;\">\n",
       "      <th></th>\n",
       "      <th>PROFILE_ID</th>\n",
       "      <th>PROFILE_URL</th>\n",
       "      <th>PUBLIC_ID</th>\n",
       "      <th>FIRSTNAME</th>\n",
       "      <th>LASTNAME</th>\n",
       "      <th>FULLNAME</th>\n",
       "      <th>OCCUPATION</th>\n",
       "      <th>REACTION</th>\n",
       "      <th>TEXT</th>\n",
       "      <th>TITLE</th>\n",
       "      <th>PUBLISHED_DATE</th>\n",
       "      <th>AUTHOR_NAME</th>\n",
       "      <th>POST_URL</th>\n",
       "    </tr>\n",
       "  </thead>\n",
       "  <tbody>\n",
       "    <tr>\n",
       "      <th>0</th>\n",
       "      <td>ACoAABYVsxEBFJ5cAeOCukhSw2dAK8h_pMtwg1E</td>\n",
       "      <td>https://www.linkedin.com/in/ACoAABYVsxEBFJ5cAe...</td>\n",
       "      <td>valentin-piquard-955105a4</td>\n",
       "      <td>Valentin</td>\n",
       "      <td>Piquard</td>\n",
       "      <td>Valentin Piquard</td>\n",
       "      <td>Product-Led Growth @Naas.ai | Building an Open...</td>\n",
       "      <td>LIKES</td>\n",
       "      <td>Not defined</td>\n",
       "      <td>No comment. 👌</td>\n",
       "      <td>2022-06-26 16:22:00+02:00</td>\n",
       "      <td>naas.ai</td>\n",
       "      <td>https://www.linkedin.com/feed/update/urn:li:ac...</td>\n",
       "    </tr>\n",
       "    <tr>\n",
       "      <th>1</th>\n",
       "      <td>ACoAABRK0_8BfD3WlBxZX0cc7IJj7GfYW087PME</td>\n",
       "      <td>https://www.linkedin.com/in/ACoAABRK0_8BfD3WlB...</td>\n",
       "      <td>hossam-medhat</td>\n",
       "      <td>Hossam</td>\n",
       "      <td>Medhat</td>\n",
       "      <td>Hossam Medhat</td>\n",
       "      <td>Associate Product Manager | Business Analyst |...</td>\n",
       "      <td>LIKES</td>\n",
       "      <td>Not defined</td>\n",
       "      <td>No comment. 👌</td>\n",
       "      <td>2022-06-26 16:22:00+02:00</td>\n",
       "      <td>naas.ai</td>\n",
       "      <td>https://www.linkedin.com/feed/update/urn:li:ac...</td>\n",
       "    </tr>\n",
       "    <tr>\n",
       "      <th>2</th>\n",
       "      <td>ACoAAABbOD8BF_9zDdGmvl0Tu16BnKqThxQEgik</td>\n",
       "      <td>https://www.linkedin.com/in/ACoAAABbOD8BF_9zDd...</td>\n",
       "      <td>njgroene</td>\n",
       "      <td>Nikolaj</td>\n",
       "      <td>Groeneweg</td>\n",
       "      <td>Nikolaj Groeneweg</td>\n",
       "      <td>Data &amp; AI · La French Tech 🚀</td>\n",
       "      <td>COMMENTS</td>\n",
       "      <td>Thanks for the share 🤗</td>\n",
       "      <td>Want to use AI to label the sentiment of your ...</td>\n",
       "      <td>2022-06-20 11:33:33+02:00</td>\n",
       "      <td>naas.ai</td>\n",
       "      <td>https://www.linkedin.com/feed/update/urn:li:ac...</td>\n",
       "    </tr>\n",
       "  </tbody>\n",
       "</table>\n",
       "</div>"
      ],
      "text/plain": [
       "                                PROFILE_ID  \\\n",
       "0  ACoAABYVsxEBFJ5cAeOCukhSw2dAK8h_pMtwg1E   \n",
       "1  ACoAABRK0_8BfD3WlBxZX0cc7IJj7GfYW087PME   \n",
       "2  ACoAAABbOD8BF_9zDdGmvl0Tu16BnKqThxQEgik   \n",
       "\n",
       "                                         PROFILE_URL  \\\n",
       "0  https://www.linkedin.com/in/ACoAABYVsxEBFJ5cAe...   \n",
       "1  https://www.linkedin.com/in/ACoAABRK0_8BfD3WlB...   \n",
       "2  https://www.linkedin.com/in/ACoAAABbOD8BF_9zDd...   \n",
       "\n",
       "                   PUBLIC_ID FIRSTNAME   LASTNAME           FULLNAME  \\\n",
       "0  valentin-piquard-955105a4  Valentin    Piquard   Valentin Piquard   \n",
       "1              hossam-medhat    Hossam     Medhat      Hossam Medhat   \n",
       "2                   njgroene   Nikolaj  Groeneweg  Nikolaj Groeneweg   \n",
       "\n",
       "                                          OCCUPATION  REACTION  \\\n",
       "0  Product-Led Growth @Naas.ai | Building an Open...     LIKES   \n",
       "1  Associate Product Manager | Business Analyst |...     LIKES   \n",
       "2                       Data & AI · La French Tech 🚀  COMMENTS   \n",
       "\n",
       "                     TEXT                                              TITLE  \\\n",
       "0             Not defined                                      No comment. 👌   \n",
       "1             Not defined                                      No comment. 👌   \n",
       "2  Thanks for the share 🤗  Want to use AI to label the sentiment of your ...   \n",
       "\n",
       "              PUBLISHED_DATE AUTHOR_NAME  \\\n",
       "0  2022-06-26 16:22:00+02:00     naas.ai   \n",
       "1  2022-06-26 16:22:00+02:00     naas.ai   \n",
       "2  2022-06-20 11:33:33+02:00     naas.ai   \n",
       "\n",
       "                                            POST_URL  \n",
       "0  https://www.linkedin.com/feed/update/urn:li:ac...  \n",
       "1  https://www.linkedin.com/feed/update/urn:li:ac...  \n",
       "2  https://www.linkedin.com/feed/update/urn:li:ac...  "
      ]
     },
     "execution_count": 11,
     "metadata": {},
     "output_type": "execute_result"
    }
   ],
   "source": [
    "def create_interactions_db(df_likes, df_comments):\n",
    "    # Init outputs\n",
    "    df = pd.DataFrame()\n",
    "    \n",
    "    # Dataframe likes\n",
    "    df_likes[\"REACTION\"] = \"LIKES\"\n",
    "\n",
    "    # Dataframe comments\n",
    "    df_comments[\"REACTION\"] = \"COMMENTS\"\n",
    "    \n",
    "    # Concat\n",
    "    df = pd.concat([df_likes, df_comments]).fillna(\"Not defined\").sort_values(by=\"PUBLISHED_DATE\", ascending=False)\n",
    "    \n",
    "    # Cleaning\n",
    "    to_keep = [\n",
    "        \"PROFILE_ID\",\n",
    "        \"PROFILE_URL\",\n",
    "        \"PUBLIC_ID\",\n",
    "        \"FIRSTNAME\",\n",
    "        \"LASTNAME\",\n",
    "        \"FULLNAME\",\n",
    "        \"OCCUPATION\",\n",
    "        \"REACTION\",\n",
    "        \"TEXT\",\n",
    "        \"TITLE\",\n",
    "        \"PUBLISHED_DATE\",\n",
    "        \"AUTHOR_NAME\",\n",
    "        \"POST_URL\",\n",
    "    ]\n",
    "    df = df[to_keep]\n",
    "    \n",
    "    print(f\"✅ {len(df)} interactions fetched.\")\n",
    "    return df.reset_index(drop=True)\n",
    "\n",
    "df_interactions = create_interactions_db(df_update_likes, df_update_comments)\n",
    "df_interactions.head(3)"
   ]
  },
  {
   "cell_type": "markdown",
   "id": "8fc7dd85-cb09-4564-8741-a59614694195",
   "metadata": {},
   "source": [
    "### Save data"
   ]
  },
  {
   "cell_type": "code",
   "execution_count": 12,
   "id": "c025602b-42d2-4bc3-9089-5c271f7c113f",
   "metadata": {
    "execution": {
     "iopub.execute_input": "2022-06-28T19:25:09.318670Z",
     "iopub.status.busy": "2022-06-28T19:25:09.318444Z",
     "iopub.status.idle": "2022-06-28T19:25:09.690098Z",
     "shell.execute_reply": "2022-06-28T19:25:09.688851Z",
     "shell.execute_reply.started": "2022-06-28T19:25:09.318647Z"
    },
    "tags": []
   },
   "outputs": [
    {
     "name": "stdout",
     "output_type": "stream",
     "text": [
      "👌 Well done! Your Dependency has been sent to production. \n",
      "\n",
      "PS: to remove the \"Dependency\" feature, just replace .add by .delete\n",
      "✅ Dataframe successfully saved in CSV: LinkedIn/Inputs/LINKEDIN_COMPANY_ENGAGEMENTS_70506391.csv\n"
     ]
    }
   ],
   "source": [
    "save_data(df_interactions, OUTPUT_DATABASE)"
   ]
  },
  {
   "cell_type": "code",
   "execution_count": null,
   "id": "0db2f780-9aec-4dd3-b15a-291029f121b6",
   "metadata": {},
   "outputs": [],
   "source": []
  }
 ],
 "metadata": {
  "kernelspec": {
   "display_name": "Python 3",
   "language": "python",
   "name": "python3"
  },
  "language_info": {
   "codemirror_mode": {
    "name": "ipython",
    "version": 3
   },
   "file_extension": ".py",
   "mimetype": "text/x-python",
   "name": "python",
   "nbconvert_exporter": "python",
   "pygments_lexer": "ipython3",
   "version": "3.9.6"
  },
  "papermill": {
   "default_parameters": {},
   "environment_variables": {},
   "parameters": {},
   "version": "2.3.4"
  }
 },
 "nbformat": 4,
 "nbformat_minor": 5
}
