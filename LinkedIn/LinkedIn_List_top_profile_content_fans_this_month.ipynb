{
 "cells": [
  {
   "cell_type": "markdown",
   "id": "a6fcf7c9",
   "metadata": {
    "papermill": {},
    "tags": []
   },
   "source": [
    "<img width=\"10%\" alt=\"Naas\" src=\"https://landen.imgix.net/jtci2pxwjczr/assets/5ice39g4.png?w=160\"/>\n"
   ]
  },
  {
   "cell_type": "markdown",
   "id": "7217870e",
   "metadata": {
    "papermill": {},
    "tags": []
   },
   "source": [
    "# LinkedIn - List top profile content fans\n",
    "<a href=\"https://app.naas.ai/user-redirect/naas/downloader?url=https://raw.githubusercontent.com/jupyter-naas/awesome-notebooks/master/LinkedIn/Linkedin_Follow_number_of_content_published.ipynb\" target=\"_parent\"><img src=\"https://naasai-public.s3.eu-west-3.amazonaws.com/open_in_naas.svg\"/></a>"
   ]
  },
  {
   "cell_type": "markdown",
   "id": "c8756b96",
   "metadata": {
    "papermill": {},
    "tags": []
   },
   "source": [
    "**Tags:** #linkedin #html #plotly #csv #image #content #analytics #automation"
   ]
  },
  {
   "cell_type": "markdown",
   "id": "520d91fd",
   "metadata": {
    "papermill": {},
    "tags": []
   },
   "source": [
    "**Author:** [Florent Ravenel](https://www.linkedin.com/in/florent-ravenel/)"
   ]
  },
  {
   "cell_type": "markdown",
   "id": "50f12968-23e2-4039-aa47-99f4168e63ff",
   "metadata": {
    "papermill": {},
    "tags": []
   },
   "source": [
    "This notebook follows the evolution of content shares on LinkedIn."
   ]
  },
  {
   "cell_type": "markdown",
   "id": "227b8ffb",
   "metadata": {
    "papermill": {},
    "tags": []
   },
   "source": [
    "## Input"
   ]
  },
  {
   "cell_type": "code",
   "execution_count": 1,
   "id": "a9ed07a4-0f86-4282-928d-1c95f2ca8dd2",
   "metadata": {
    "execution": {
     "iopub.execute_input": "2022-06-28T19:45:02.295035Z",
     "iopub.status.busy": "2022-06-28T19:45:02.294831Z",
     "iopub.status.idle": "2022-06-28T19:45:06.778487Z",
     "shell.execute_reply": "2022-06-28T19:45:06.777829Z",
     "shell.execute_reply.started": "2022-06-28T19:45:02.294978Z"
    },
    "tags": []
   },
   "outputs": [],
   "source": [
    "# Except allow to run common.ipynb once using Naas Engine\n",
    "try:\n",
    "    %run \"../common.ipynb\"\n",
    "except:\n",
    "    %run \"common.ipynb\""
   ]
  },
  {
   "cell_type": "markdown",
   "id": "024797b3",
   "metadata": {
    "papermill": {},
    "tags": []
   },
   "source": [
    "### Setup Variables"
   ]
  },
  {
   "cell_type": "code",
   "execution_count": 2,
   "id": "81f1fde6-e3a7-4617-82da-c332ec4a2ee6",
   "metadata": {
    "execution": {
     "iopub.execute_input": "2022-06-28T19:45:06.779985Z",
     "iopub.status.busy": "2022-06-28T19:45:06.779740Z",
     "iopub.status.idle": "2022-06-28T19:45:06.783464Z",
     "shell.execute_reply": "2022-06-28T19:45:06.782864Z",
     "shell.execute_reply.started": "2022-06-28T19:45:06.779955Z"
    },
    "tags": []
   },
   "outputs": [],
   "source": [
    "KPI_TITLE = \"Top fans\"\n",
    "INPUT_DATABASE = LK_PROFILE_ENGAGEMENTS\n",
    "OWNER = LK_FULLNAME\n",
    "OWNER_ID = LK_PROFILE_ID\n",
    "PLATFORM = LINKEDIN\n",
    "LOGO = LINKEDIN_LOGO\n",
    "COLOR = LINKEDIN_COLOR"
   ]
  },
  {
   "cell_type": "markdown",
   "id": "4d4e1379-ea4e-4fb1-ba52-606cf89b114a",
   "metadata": {},
   "source": [
    "### Setup Constants"
   ]
  },
  {
   "cell_type": "code",
   "execution_count": 3,
   "id": "17dcc289",
   "metadata": {
    "execution": {
     "iopub.execute_input": "2022-06-28T19:45:21.708942Z",
     "iopub.status.busy": "2022-06-28T19:45:21.708664Z",
     "iopub.status.idle": "2022-06-28T19:45:21.711794Z",
     "shell.execute_reply": "2022-06-28T19:45:21.711112Z",
     "shell.execute_reply.started": "2022-06-28T19:45:21.708911Z"
    },
    "papermill": {},
    "tags": []
   },
   "outputs": [],
   "source": [
    "# Inputs\n",
    "PERIOD = PERIOD_MTD"
   ]
  },
  {
   "cell_type": "markdown",
   "id": "1bb8c4cd",
   "metadata": {
    "papermill": {},
    "tags": []
   },
   "source": [
    "## Model"
   ]
  },
  {
   "cell_type": "markdown",
   "id": "024e9efb-4c80-4c60-a455-103af0884d2d",
   "metadata": {},
   "source": [
    "### Get your engagements"
   ]
  },
  {
   "cell_type": "code",
   "execution_count": 4,
   "id": "6d00847f-e9bf-4f92-a2b4-406468fb09e2",
   "metadata": {
    "execution": {
     "iopub.execute_input": "2022-06-28T19:45:22.638518Z",
     "iopub.status.busy": "2022-06-28T19:45:22.638294Z",
     "iopub.status.idle": "2022-06-28T19:45:22.720824Z",
     "shell.execute_reply": "2022-06-28T19:45:22.717964Z",
     "shell.execute_reply.started": "2022-06-28T19:45:22.638496Z"
    },
    "tags": []
   },
   "outputs": [
    {
     "name": "stdout",
     "output_type": "stream",
     "text": [
      "✅ Engagements fetched: 5565\n"
     ]
    },
    {
     "data": {
      "text/html": [
       "<div>\n",
       "<style scoped>\n",
       "    .dataframe tbody tr th:only-of-type {\n",
       "        vertical-align: middle;\n",
       "    }\n",
       "\n",
       "    .dataframe tbody tr th {\n",
       "        vertical-align: top;\n",
       "    }\n",
       "\n",
       "    .dataframe thead th {\n",
       "        text-align: right;\n",
       "    }\n",
       "</style>\n",
       "<table border=\"1\" class=\"dataframe\">\n",
       "  <thead>\n",
       "    <tr style=\"text-align: right;\">\n",
       "      <th></th>\n",
       "      <th>PROFILE_ID</th>\n",
       "      <th>PROFILE_URL</th>\n",
       "      <th>PUBLIC_ID</th>\n",
       "      <th>FIRSTNAME</th>\n",
       "      <th>LASTNAME</th>\n",
       "      <th>FULLNAME</th>\n",
       "      <th>OCCUPATION</th>\n",
       "      <th>REACTION</th>\n",
       "      <th>TEXT</th>\n",
       "      <th>TITLE</th>\n",
       "      <th>PUBLISHED_DATE</th>\n",
       "      <th>AUTHOR_NAME</th>\n",
       "      <th>POST_URL</th>\n",
       "    </tr>\n",
       "  </thead>\n",
       "  <tbody>\n",
       "    <tr>\n",
       "      <th>0</th>\n",
       "      <td>ACoAAB5zKVIB37Fjtw_HTJEcClYvE8CgL5Z9zUE</td>\n",
       "      <td>https://www.linkedin.com/in/ACoAAB5zKVIB37Fjtw...</td>\n",
       "      <td>ariprabowo</td>\n",
       "      <td>Ari Sulistiyo</td>\n",
       "      <td>Prabowo</td>\n",
       "      <td>Ari Sulistiyo Prabowo</td>\n",
       "      <td>Data &amp; Business | Entrepreneur | Investor</td>\n",
       "      <td>COMMENTS</td>\n",
       "      <td>Nice sharing Jérémy Ravenel</td>\n",
       "      <td>If you are interested in data and business, yo...</td>\n",
       "      <td>2022-06-26 19:26:42+02:00</td>\n",
       "      <td>Jérémy Ravenel</td>\n",
       "      <td>https://www.linkedin.com/feed/update/urn:li:ac...</td>\n",
       "    </tr>\n",
       "  </tbody>\n",
       "</table>\n",
       "</div>"
      ],
      "text/plain": [
       "                                PROFILE_ID  \\\n",
       "0  ACoAAB5zKVIB37Fjtw_HTJEcClYvE8CgL5Z9zUE   \n",
       "\n",
       "                                         PROFILE_URL   PUBLIC_ID  \\\n",
       "0  https://www.linkedin.com/in/ACoAAB5zKVIB37Fjtw...  ariprabowo   \n",
       "\n",
       "       FIRSTNAME LASTNAME               FULLNAME  \\\n",
       "0  Ari Sulistiyo  Prabowo  Ari Sulistiyo Prabowo   \n",
       "\n",
       "                                  OCCUPATION  REACTION  \\\n",
       "0  Data & Business | Entrepreneur | Investor  COMMENTS   \n",
       "\n",
       "                          TEXT  \\\n",
       "0  Nice sharing Jérémy Ravenel   \n",
       "\n",
       "                                               TITLE  \\\n",
       "0  If you are interested in data and business, yo...   \n",
       "\n",
       "              PUBLISHED_DATE     AUTHOR_NAME  \\\n",
       "0  2022-06-26 19:26:42+02:00  Jérémy Ravenel   \n",
       "\n",
       "                                            POST_URL  \n",
       "0  https://www.linkedin.com/feed/update/urn:li:ac...  "
      ]
     },
     "execution_count": 4,
     "metadata": {},
     "output_type": "execute_result"
    }
   ],
   "source": [
    "df_engagements = get_data(INPUT_DATABASE)\n",
    "print(\"✅ Engagements fetched:\", len(df_engagements))\n",
    "df_engagements.head(1)"
   ]
  },
  {
   "cell_type": "markdown",
   "id": "edf02103-3d05-49e7-9db9-8a8b35e5cf1f",
   "metadata": {},
   "source": [
    "### Get fans"
   ]
  },
  {
   "cell_type": "code",
   "execution_count": 10,
   "id": "ea9b6520-6ea4-4521-b813-f41574da2044",
   "metadata": {
    "execution": {
     "iopub.execute_input": "2022-06-28T19:48:57.279228Z",
     "iopub.status.busy": "2022-06-28T19:48:57.279002Z",
     "iopub.status.idle": "2022-06-28T19:48:57.348448Z",
     "shell.execute_reply": "2022-06-28T19:48:57.347744Z",
     "shell.execute_reply.started": "2022-06-28T19:48:57.279204Z"
    },
    "tags": []
   },
   "outputs": [
    {
     "data": {
      "text/html": [
       "<div>\n",
       "<style scoped>\n",
       "    .dataframe tbody tr th:only-of-type {\n",
       "        vertical-align: middle;\n",
       "    }\n",
       "\n",
       "    .dataframe tbody tr th {\n",
       "        vertical-align: top;\n",
       "    }\n",
       "\n",
       "    .dataframe thead th {\n",
       "        text-align: right;\n",
       "    }\n",
       "</style>\n",
       "<table border=\"1\" class=\"dataframe\">\n",
       "  <thead>\n",
       "    <tr style=\"text-align: right;\">\n",
       "      <th></th>\n",
       "      <th>PROFILE_URL</th>\n",
       "      <th>FULLNAME</th>\n",
       "      <th>OCCUPATION</th>\n",
       "      <th>PROFILE_ID</th>\n",
       "    </tr>\n",
       "  </thead>\n",
       "  <tbody>\n",
       "    <tr>\n",
       "      <th>0</th>\n",
       "      <td>https://www.linkedin.com/in/ACoAABCNSioBW3YZHc...</td>\n",
       "      <td>Florent Ravenel</td>\n",
       "      <td>COO @Naas.ai | Automation and data templates i...</td>\n",
       "      <td>31</td>\n",
       "    </tr>\n",
       "    <tr>\n",
       "      <th>1</th>\n",
       "      <td>https://www.linkedin.com/in/ACoAAADBjXIBw4w3X7...</td>\n",
       "      <td>Luca Zanna</td>\n",
       "      <td>I help CEOs/CFOs take actions from data with s...</td>\n",
       "      <td>29</td>\n",
       "    </tr>\n",
       "    <tr>\n",
       "      <th>2</th>\n",
       "      <td>https://www.linkedin.com/in/ACoAABYVsxEBFJ5cAe...</td>\n",
       "      <td>Valentin Piquard</td>\n",
       "      <td>Product-Led Growth @Naas.ai | Building an Open...</td>\n",
       "      <td>26</td>\n",
       "    </tr>\n",
       "    <tr>\n",
       "      <th>3</th>\n",
       "      <td>https://www.linkedin.com/in/ACoAACYz11UBCVJUFf...</td>\n",
       "      <td>Hind Ahajjam</td>\n",
       "      <td>Data Scientist @ Ewattch ✔</td>\n",
       "      <td>26</td>\n",
       "    </tr>\n",
       "    <tr>\n",
       "      <th>4</th>\n",
       "      <td>https://www.linkedin.com/in/ACoAAAPVK1IBJrwyQV...</td>\n",
       "      <td>Greg Coquillo</td>\n",
       "      <td>AI @Amazon | 2X Linkedin Top Voice - 2021 Tech...</td>\n",
       "      <td>22</td>\n",
       "    </tr>\n",
       "    <tr>\n",
       "      <th>5</th>\n",
       "      <td>https://www.linkedin.com/in/ACoAACPdECQB8bvouG...</td>\n",
       "      <td>Anirban Sarkar</td>\n",
       "      <td>Data Scientist | Azure | SQL | Python | PySpark</td>\n",
       "      <td>22</td>\n",
       "    </tr>\n",
       "    <tr>\n",
       "      <th>6</th>\n",
       "      <td>https://www.linkedin.com/in/ACoAAC7TUu8B0SwMT9...</td>\n",
       "      <td>Alen Abraham</td>\n",
       "      <td>SRE @TCS, OSC @naas.ai | Cloud, DevOps, SRE, S...</td>\n",
       "      <td>20</td>\n",
       "    </tr>\n",
       "    <tr>\n",
       "      <th>7</th>\n",
       "      <td>https://www.linkedin.com/in/ACoAAAG50TIB7_wBRA...</td>\n",
       "      <td>Thom Ives, Ph.D.</td>\n",
       "      <td>Sr. Data Scientist, Echo Global Logistics | Fo...</td>\n",
       "      <td>19</td>\n",
       "    </tr>\n",
       "    <tr>\n",
       "      <th>8</th>\n",
       "      <td>https://www.linkedin.com/in/ACoAAAsZyGYB84Tu3U...</td>\n",
       "      <td>𝙰𝚜𝚒𝚏 𝚂𝚢𝚎𝚍</td>\n",
       "      <td>I swear I wasn't wearing a life vest when I ju...</td>\n",
       "      <td>19</td>\n",
       "    </tr>\n",
       "    <tr>\n",
       "      <th>9</th>\n",
       "      <td>https://www.linkedin.com/in/ACoAACrFqU0Bpe-oL2...</td>\n",
       "      <td>Ritvik Chebolu</td>\n",
       "      <td>Data Science Co-op @ Carrier | Data Science gr...</td>\n",
       "      <td>17</td>\n",
       "    </tr>\n",
       "    <tr>\n",
       "      <th>10</th>\n",
       "      <td>https://www.linkedin.com/in/ACoAAABFvlkBIKRZTA...</td>\n",
       "      <td>Debbie Botha</td>\n",
       "      <td>Women in AI Global Chief Partnership Officer</td>\n",
       "      <td>17</td>\n",
       "    </tr>\n",
       "    <tr>\n",
       "      <th>11</th>\n",
       "      <td>https://www.linkedin.com/in/ACoAAAdhaXIBiTWnJ_...</td>\n",
       "      <td>Marc H. Guirand</td>\n",
       "      <td>Discarding bad ideas quickly 🗑🚮</td>\n",
       "      <td>15</td>\n",
       "    </tr>\n",
       "    <tr>\n",
       "      <th>12</th>\n",
       "      <td>https://www.linkedin.com/in/ACoAABOsK_0B0po1gB...</td>\n",
       "      <td>Rodney Beard</td>\n",
       "      <td>International vagabond and vagrant at sprachsp...</td>\n",
       "      <td>15</td>\n",
       "    </tr>\n",
       "    <tr>\n",
       "      <th>13</th>\n",
       "      <td>https://www.linkedin.com/in/ACoAAA4h6c0Bk9Ab30...</td>\n",
       "      <td>Andréa Bensaid ❄️</td>\n",
       "      <td>CEO at Eskimoz | Hiring 100 people in the next...</td>\n",
       "      <td>15</td>\n",
       "    </tr>\n",
       "    <tr>\n",
       "      <th>14</th>\n",
       "      <td>https://www.linkedin.com/in/ACoAAALNqWYBJ3V7GE...</td>\n",
       "      <td>Muhammad Ali Syed</td>\n",
       "      <td>Technical Manager ❯ R&amp;D, BI Reporting, Report ...</td>\n",
       "      <td>14</td>\n",
       "    </tr>\n",
       "    <tr>\n",
       "      <th>15</th>\n",
       "      <td>https://www.linkedin.com/in/ACoAADECqNcBio1wz7...</td>\n",
       "      <td>Shruthi Jain</td>\n",
       "      <td>|Data Analyst at Xeno|</td>\n",
       "      <td>14</td>\n",
       "    </tr>\n",
       "    <tr>\n",
       "      <th>16</th>\n",
       "      <td>https://www.linkedin.com/in/ACoAABbT004By4Yzdy...</td>\n",
       "      <td>Grzegorz Mrukwa</td>\n",
       "      <td>Helping innovators to make sense out of their ...</td>\n",
       "      <td>13</td>\n",
       "    </tr>\n",
       "    <tr>\n",
       "      <th>17</th>\n",
       "      <td>https://www.linkedin.com/in/ACoAACe40BsBSuovfl...</td>\n",
       "      <td>Iko Tumangan</td>\n",
       "      <td>Data Consultant | Visual Analyst | Tableau | P...</td>\n",
       "      <td>13</td>\n",
       "    </tr>\n",
       "    <tr>\n",
       "      <th>18</th>\n",
       "      <td>https://www.linkedin.com/in/ACoAAARc-FMB58xFyk...</td>\n",
       "      <td>Abhinaba Banerjee</td>\n",
       "      <td>Data Analyst (Python| Jupyter| Pandas| EDA| NL...</td>\n",
       "      <td>12</td>\n",
       "    </tr>\n",
       "    <tr>\n",
       "      <th>19</th>\n",
       "      <td>https://www.linkedin.com/in/ACoAAADS0WQBhQQVMD...</td>\n",
       "      <td>Vin Vashishta</td>\n",
       "      <td>Chief Data Officer | AI Strategist | DataScien...</td>\n",
       "      <td>10</td>\n",
       "    </tr>\n",
       "  </tbody>\n",
       "</table>\n",
       "</div>"
      ],
      "text/plain": [
       "                                          PROFILE_URL           FULLNAME  \\\n",
       "0   https://www.linkedin.com/in/ACoAABCNSioBW3YZHc...    Florent Ravenel   \n",
       "1   https://www.linkedin.com/in/ACoAAADBjXIBw4w3X7...         Luca Zanna   \n",
       "2   https://www.linkedin.com/in/ACoAABYVsxEBFJ5cAe...   Valentin Piquard   \n",
       "3   https://www.linkedin.com/in/ACoAACYz11UBCVJUFf...       Hind Ahajjam   \n",
       "4   https://www.linkedin.com/in/ACoAAAPVK1IBJrwyQV...      Greg Coquillo   \n",
       "5   https://www.linkedin.com/in/ACoAACPdECQB8bvouG...     Anirban Sarkar   \n",
       "6   https://www.linkedin.com/in/ACoAAC7TUu8B0SwMT9...       Alen Abraham   \n",
       "7   https://www.linkedin.com/in/ACoAAAG50TIB7_wBRA...   Thom Ives, Ph.D.   \n",
       "8   https://www.linkedin.com/in/ACoAAAsZyGYB84Tu3U...          𝙰𝚜𝚒𝚏 𝚂𝚢𝚎𝚍   \n",
       "9   https://www.linkedin.com/in/ACoAACrFqU0Bpe-oL2...     Ritvik Chebolu   \n",
       "10  https://www.linkedin.com/in/ACoAAABFvlkBIKRZTA...       Debbie Botha   \n",
       "11  https://www.linkedin.com/in/ACoAAAdhaXIBiTWnJ_...    Marc H. Guirand   \n",
       "12  https://www.linkedin.com/in/ACoAABOsK_0B0po1gB...       Rodney Beard   \n",
       "13  https://www.linkedin.com/in/ACoAAA4h6c0Bk9Ab30...  Andréa Bensaid ❄️   \n",
       "14  https://www.linkedin.com/in/ACoAAALNqWYBJ3V7GE...  Muhammad Ali Syed   \n",
       "15  https://www.linkedin.com/in/ACoAADECqNcBio1wz7...       Shruthi Jain   \n",
       "16  https://www.linkedin.com/in/ACoAABbT004By4Yzdy...    Grzegorz Mrukwa   \n",
       "17  https://www.linkedin.com/in/ACoAACe40BsBSuovfl...       Iko Tumangan   \n",
       "18  https://www.linkedin.com/in/ACoAAARc-FMB58xFyk...  Abhinaba Banerjee   \n",
       "19  https://www.linkedin.com/in/ACoAAADS0WQBhQQVMD...      Vin Vashishta   \n",
       "\n",
       "                                           OCCUPATION  PROFILE_ID  \n",
       "0   COO @Naas.ai | Automation and data templates i...          31  \n",
       "1   I help CEOs/CFOs take actions from data with s...          29  \n",
       "2   Product-Led Growth @Naas.ai | Building an Open...          26  \n",
       "3                          Data Scientist @ Ewattch ✔          26  \n",
       "4   AI @Amazon | 2X Linkedin Top Voice - 2021 Tech...          22  \n",
       "5     Data Scientist | Azure | SQL | Python | PySpark          22  \n",
       "6   SRE @TCS, OSC @naas.ai | Cloud, DevOps, SRE, S...          20  \n",
       "7   Sr. Data Scientist, Echo Global Logistics | Fo...          19  \n",
       "8   I swear I wasn't wearing a life vest when I ju...          19  \n",
       "9   Data Science Co-op @ Carrier | Data Science gr...          17  \n",
       "10       Women in AI Global Chief Partnership Officer          17  \n",
       "11                    Discarding bad ideas quickly 🗑🚮          15  \n",
       "12  International vagabond and vagrant at sprachsp...          15  \n",
       "13  CEO at Eskimoz | Hiring 100 people in the next...          15  \n",
       "14  Technical Manager ❯ R&D, BI Reporting, Report ...          14  \n",
       "15                             |Data Analyst at Xeno|          14  \n",
       "16  Helping innovators to make sense out of their ...          13  \n",
       "17  Data Consultant | Visual Analyst | Tableau | P...          13  \n",
       "18  Data Analyst (Python| Jupyter| Pandas| EDA| NL...          12  \n",
       "19  Chief Data Officer | AI Strategist | DataScien...          10  "
      ]
     },
     "execution_count": 10,
     "metadata": {},
     "output_type": "execute_result"
    }
   ],
   "source": [
    "def get_fans(df):\n",
    "    # Init\n",
    "    df_fans = df.copy()\n",
    "    \n",
    "    # Filter\n",
    "    df_fans[\"SCENARIO\"] = pd.to_datetime(df_fans[\"PUBLISHED_DATE\"].str[:-6]).dt.strftime(PERIOD)\n",
    "    df_fans = df_fans[(df_fans[\"SCENARIO\"] == datetime.now().strftime(PERIOD)) & (df_fans[\"FULLNAME\"] != OWNER)].reset_index(drop=True)\n",
    "\n",
    "    # Groupby\n",
    "    to_group = [\"PROFILE_URL\", \"FULLNAME\", \"OCCUPATION\"]\n",
    "    to_agg = {\"PROFILE_ID\": \"count\"}\n",
    "    \n",
    "    df_fans = df_fans.groupby(to_group, as_index=False).agg(to_agg)\n",
    "    df_fans = df_fans.sort_values(by=\"PROFILE_ID\", ascending=False).reset_index(drop=True)[:20]\n",
    "    return df_fans\n",
    "\n",
    "df_fans = get_fans(df_engagements)\n",
    "df_fans"
   ]
  },
  {
   "cell_type": "markdown",
   "id": "942c681d",
   "metadata": {
    "papermill": {},
    "tags": []
   },
   "source": [
    "## Output"
   ]
  },
  {
   "cell_type": "markdown",
   "id": "3338b963-dd53-4340-a5f7-aa232fa09970",
   "metadata": {
    "execution": {
     "iopub.execute_input": "2022-06-16T12:40:24.017252Z",
     "iopub.status.busy": "2022-06-16T12:40:24.016941Z",
     "iopub.status.idle": "2022-06-16T12:40:24.020164Z",
     "shell.execute_reply": "2022-06-16T12:40:24.019527Z",
     "shell.execute_reply.started": "2022-06-16T12:40:24.017224Z"
    },
    "tags": []
   },
   "source": [
    "### Update Notion Report"
   ]
  },
  {
   "cell_type": "code",
   "execution_count": 11,
   "id": "1d3af86d-4c96-48d2-a0fa-101bbfa3090f",
   "metadata": {
    "execution": {
     "iopub.execute_input": "2022-06-28T19:48:59.983336Z",
     "iopub.status.busy": "2022-06-28T19:48:59.983110Z",
     "iopub.status.idle": "2022-06-28T19:49:02.828362Z",
     "shell.execute_reply": "2022-06-28T19:49:02.827342Z",
     "shell.execute_reply.started": "2022-06-28T19:48:59.983313Z"
    },
    "tags": []
   },
   "outputs": [
    {
     "name": "stdout",
     "output_type": "stream",
     "text": [
      "✅ Page 'Top fans - LinkedIn - Jérémy Ravenel' updated in Notion.\n"
     ]
    }
   ],
   "source": [
    "def update_report_status(report,\n",
    "                         platform,\n",
    "                         owner,\n",
    "                         df=pd.DataFrame(),\n",
    "                         image_link=None,\n",
    "                         html_link=None,\n",
    "                         csv_link=None,\n",
    "                         page_icon=LOGO,\n",
    "                         ):\n",
    "    # Decode database id\n",
    "    database_id = naas.secret.get(name=\"NOTION_DATABASE_URL\").split(\"/\")[-1].split(\"?v=\")[0]\n",
    "    \n",
    "    # Get pages from notion database\n",
    "    pages = notion.connect(NOTION_TOKEN).database.query(database_id)\n",
    "    \n",
    "    # Create or update page\n",
    "    page_new = True\n",
    "    for page in pages:\n",
    "        page_temp = page.df()\n",
    "        page_id = page_temp.loc[page_temp.Name == \"Report name\", \"Value\"].values\n",
    "        page_id2 = page_temp.loc[page_temp.Name == \"Platform\", \"Value\"].values\n",
    "        page_id3 = page_temp.loc[page_temp.Name == \"Owner\", \"Value\"].values\n",
    "        if page_id == report and page_id2 == platform and page_id3 == owner:\n",
    "            page_new = False\n",
    "            break\n",
    "    try:\n",
    "        if page_new:\n",
    "            page = notion.connect(NOTION_TOKEN).Page.new(database_id=database_id).create()\n",
    "            page.title(\"Report name\", report)\n",
    "            page.multi_select(\"Platform\", [platform])\n",
    "            page.select(\"Owner\", owner)\n",
    "            notion.client.pages.update(page_id=page.id, icon={'type': 'external', 'external': {'url': page_icon}})\n",
    "            \n",
    "        # Check if image already exists\n",
    "        blocks = page.get_blocks()\n",
    "        if len(blocks) > 0:\n",
    "            while True:\n",
    "                for block in blocks:\n",
    "                    notion.connect(NOTION_TOKEN).blocks.delete(block.id)\n",
    "                blocks = page.get_blocks()\n",
    "                if len(blocks) == 0:\n",
    "                    break\n",
    "        page.update()\n",
    "        \n",
    "        for index, row in df.iterrows():\n",
    "            text = f\"{row.FULLNAME} - {row.OCCUPATION} ({str(row.PROFILE_ID)})\"\n",
    "            res = page.numbered_list_item(text)\n",
    "            res.numbered_list_item.text[0].href = row.PROFILE_URL\n",
    "            res.numbered_list_item.text[0].text.link = Link(row.PROFILE_URL)\n",
    "\n",
    "        # Create page in Notion\n",
    "        page.date(\"Last updated date\", datetime.now(pytz.timezone(TIMEZONE)).strftime(\"%Y-%m-%d %H:%M:%S%z\"))\n",
    "        page.update()\n",
    "        print(f\"✅ Page '{report} - {platform} - {owner}' updated in Notion.\")\n",
    "    except Exception as e:\n",
    "        raise(e)\n",
    "\n",
    "update_report_status(KPI_TITLE,\n",
    "                     PLATFORM,\n",
    "                     OWNER,\n",
    "                     df_fans)"
   ]
  },
  {
   "cell_type": "code",
   "execution_count": null,
   "id": "b7025cd4-1bd3-4c05-abb4-9cb7a96be0fe",
   "metadata": {},
   "outputs": [],
   "source": []
  }
 ],
 "metadata": {
  "kernelspec": {
   "display_name": "Python 3",
   "language": "python",
   "name": "python3"
  },
  "language_info": {
   "codemirror_mode": {
    "name": "ipython",
    "version": 3
   },
   "file_extension": ".py",
   "mimetype": "text/x-python",
   "name": "python",
   "nbconvert_exporter": "python",
   "pygments_lexer": "ipython3",
   "version": "3.9.6"
  },
  "papermill": {
   "default_parameters": {},
   "environment_variables": {},
   "parameters": {},
   "version": "2.3.4"
  }
 },
 "nbformat": 4,
 "nbformat_minor": 5
}
