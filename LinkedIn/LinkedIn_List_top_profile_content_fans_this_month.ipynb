{
 "cells": [
  {
   "cell_type": "markdown",
   "id": "a6fcf7c9",
   "metadata": {
    "papermill": {},
    "tags": []
   },
   "source": [
    "<img width=\"10%\" alt=\"Naas\" src=\"https://landen.imgix.net/jtci2pxwjczr/assets/5ice39g4.png?w=160\"/>\n"
   ]
  },
  {
   "cell_type": "markdown",
   "id": "7217870e",
   "metadata": {
    "papermill": {},
    "tags": []
   },
   "source": [
    "# LinkedIn - List top profile content fans\n",
    "<a href=\"https://app.naas.ai/user-redirect/naas/downloader?url=https://raw.githubusercontent.com/jupyter-naas/awesome-notebooks/master/LinkedIn/Linkedin_Follow_number_of_content_published.ipynb\" target=\"_parent\"><img src=\"https://naasai-public.s3.eu-west-3.amazonaws.com/open_in_naas.svg\"/></a>"
   ]
  },
  {
   "cell_type": "markdown",
   "id": "c8756b96",
   "metadata": {
    "papermill": {},
    "tags": []
   },
   "source": [
    "**Tags:** #linkedin #html #plotly #csv #image #content #analytics #automation"
   ]
  },
  {
   "cell_type": "markdown",
   "id": "520d91fd",
   "metadata": {
    "papermill": {},
    "tags": []
   },
   "source": [
    "**Author:** [Florent Ravenel](https://www.linkedin.com/in/florent-ravenel/)"
   ]
  },
  {
   "cell_type": "markdown",
   "id": "50f12968-23e2-4039-aa47-99f4168e63ff",
   "metadata": {
    "papermill": {},
    "tags": []
   },
   "source": [
    "This notebook list the profile post fans this month on LinkedIn."
   ]
  },
  {
   "cell_type": "markdown",
   "id": "227b8ffb",
   "metadata": {
    "papermill": {},
    "tags": []
   },
   "source": [
    "## Input"
   ]
  },
  {
   "cell_type": "code",
   "execution_count": null,
   "id": "a9ed07a4-0f86-4282-928d-1c95f2ca8dd2",
   "metadata": {
    "tags": []
   },
   "outputs": [],
   "source": [
    "# Except allow to run common.ipynb once using Naas Engine\n",
    "try:\n",
    "    %run \"../common.ipynb\"\n",
    "except:\n",
    "    %run \"common.ipynb\""
   ]
  },
  {
   "cell_type": "markdown",
   "id": "024797b3",
   "metadata": {
    "papermill": {},
    "tags": []
   },
   "source": [
    "### Setup Variables"
   ]
  },
  {
   "cell_type": "code",
   "execution_count": null,
   "id": "81f1fde6-e3a7-4617-82da-c332ec4a2ee6",
   "metadata": {
    "tags": []
   },
   "outputs": [],
   "source": [
    "# Inputs\n",
    "KPI_TITLE = \"Top fans\"\n",
    "INPUT_DATABASE = LK_PROFILE_ENGAGEMENTS\n",
    "OWNER = LK_FULLNAME\n",
    "OWNER_ID = LK_PROFILE_ID\n",
    "PLATFORM = LINKEDIN\n",
    "LOGO = LINKEDIN_LOGO\n",
    "COLOR = LINKEDIN_COLOR\n",
    "PERIOD = PERIOD_MTD\n",
    "\n",
    "# Outputs\n",
    "FANS_DATABASE = path.join(LINKEDIN_OUTPUTS, f\"LINKEDIN_TOP_PROFILE_FANS_TM_{OWNER_ID}.csv\")"
   ]
  },
  {
   "cell_type": "markdown",
   "id": "1bb8c4cd",
   "metadata": {
    "papermill": {},
    "tags": []
   },
   "source": [
    "## Model"
   ]
  },
  {
   "cell_type": "markdown",
   "id": "024e9efb-4c80-4c60-a455-103af0884d2d",
   "metadata": {},
   "source": [
    "### Get your engagements"
   ]
  },
  {
   "cell_type": "code",
   "execution_count": null,
   "id": "6d00847f-e9bf-4f92-a2b4-406468fb09e2",
   "metadata": {
    "tags": []
   },
   "outputs": [],
   "source": [
    "df_engagements = get_data(INPUT_DATABASE)\n",
    "print(\"✅ Engagements fetched:\", len(df_engagements))\n",
    "df_engagements.head(1)"
   ]
  },
  {
   "cell_type": "markdown",
   "id": "fa3d4eeb-9860-4f10-950b-9be05d505929",
   "metadata": {},
   "source": [
    "### Get fans"
   ]
  },
  {
   "cell_type": "code",
   "execution_count": null,
   "id": "d8e0ea07-7f9c-4576-b94d-5d4273aaf839",
   "metadata": {
    "tags": []
   },
   "outputs": [],
   "source": [
    "df_fans = get_data(FANS_DATABASE)\n",
    "print(\"✅ Fans fetched:\", len(df_fans))\n",
    "df_fans.head(1)"
   ]
  },
  {
   "cell_type": "markdown",
   "id": "edf02103-3d05-49e7-9db9-8a8b35e5cf1f",
   "metadata": {},
   "source": [
    "### Get updated fans"
   ]
  },
  {
   "cell_type": "code",
   "execution_count": null,
   "id": "becd94c6-913a-4cc1-983e-a63873324287",
   "metadata": {
    "tags": []
   },
   "outputs": [],
   "source": [
    "df_update_fans = get_fans(df_engagements)\n",
    "print(\"✅ Updated Fans fetched:\", len(df_update_fans))\n",
    "df_update_fans.head(1)"
   ]
  },
  {
   "cell_type": "code",
   "execution_count": null,
   "id": "ea9b6520-6ea4-4521-b813-f41574da2044",
   "metadata": {
    "tags": []
   },
   "outputs": [],
   "source": [
    "df_update = check_new_fans(df_fans, df_update_fans)\n",
    "df_update"
   ]
  },
  {
   "cell_type": "markdown",
   "id": "942c681d",
   "metadata": {
    "papermill": {},
    "tags": []
   },
   "source": [
    "## Output"
   ]
  },
  {
   "cell_type": "markdown",
   "id": "2ae009a1-1a2b-48f2-aba5-f9b09a39a2ec",
   "metadata": {},
   "source": [
    "### Save data"
   ]
  },
  {
   "cell_type": "code",
   "execution_count": null,
   "id": "a6c8f47d-3274-4cef-8416-68c38fdf6dde",
   "metadata": {
    "tags": []
   },
   "outputs": [],
   "source": [
    "# Save your dataframe in CSV\n",
    "save_data(df_update_fans, FANS_DATABASE)"
   ]
  },
  {
   "cell_type": "markdown",
   "id": "3338b963-dd53-4340-a5f7-aa232fa09970",
   "metadata": {
    "execution": {
     "iopub.execute_input": "2022-06-16T12:40:24.017252Z",
     "iopub.status.busy": "2022-06-16T12:40:24.016941Z",
     "iopub.status.idle": "2022-06-16T12:40:24.020164Z",
     "shell.execute_reply": "2022-06-16T12:40:24.019527Z",
     "shell.execute_reply.started": "2022-06-16T12:40:24.017224Z"
    },
    "tags": []
   },
   "source": [
    "### Update Notion Report"
   ]
  },
  {
   "cell_type": "code",
   "execution_count": null,
   "id": "1d3af86d-4c96-48d2-a0fa-101bbfa3090f",
   "metadata": {
    "tags": []
   },
   "outputs": [],
   "source": [
    "list_top_fans(KPI_TITLE,\n",
    "              PLATFORM,\n",
    "              OWNER,\n",
    "              df_update)"
   ]
  },
  {
   "cell_type": "code",
   "execution_count": null,
   "id": "b7025cd4-1bd3-4c05-abb4-9cb7a96be0fe",
   "metadata": {},
   "outputs": [],
   "source": []
  }
 ],
 "metadata": {
  "kernelspec": {
   "display_name": "Python 3",
   "language": "python",
   "name": "python3"
  },
  "language_info": {
   "codemirror_mode": {
    "name": "ipython",
    "version": 3
   },
   "file_extension": ".py",
   "mimetype": "text/x-python",
   "name": "python",
   "nbconvert_exporter": "python",
   "pygments_lexer": "ipython3",
   "version": "3.9.6"
  },
  "papermill": {
   "default_parameters": {},
   "environment_variables": {},
   "parameters": {},
   "version": "2.3.4"
  }
 },
 "nbformat": 4,
 "nbformat_minor": 5
}
