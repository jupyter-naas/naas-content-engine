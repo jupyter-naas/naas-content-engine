{
 "cells": [
  {
   "cell_type": "markdown",
   "id": "fresh-danish",
   "metadata": {
    "execution": {
     "iopub.execute_input": "2021-01-25T08:00:35.294800Z",
     "iopub.status.busy": "2021-01-25T08:00:35.294557Z",
     "iopub.status.idle": "2021-01-25T08:00:35.307281Z",
     "shell.execute_reply": "2021-01-25T08:00:35.306468Z",
     "shell.execute_reply.started": "2021-01-25T08:00:35.294775Z"
    },
    "papermill": {},
    "tags": []
   },
   "source": [
    "<img width=\"10%\" alt=\"Naas\" src=\"https://landen.imgix.net/jtci2pxwjczr/assets/5ice39g4.png?w=160\"/>"
   ]
  },
  {
   "cell_type": "markdown",
   "id": "federal-pixel",
   "metadata": {
    "papermill": {},
    "tags": []
   },
   "source": [
    "# LinkedIn - Follow company followers monthly\n",
    "<a href=\"https://app.naas.ai/user-redirect/naas/downloader?url=https://raw.githubusercontent.com/jupyter-naas/awesome-notebooks/master/LinkedIn/LinkedIn_Follow_connections_from_profile.ipynb\" target=\"_parent\"><img src=\"https://naasai-public.s3.eu-west-3.amazonaws.com/open_in_naas.svg\"/></a>"
   ]
  },
  {
   "cell_type": "markdown",
   "id": "be29252a-5f47-44cc-a178-c734ab5f042b",
   "metadata": {
    "papermill": {},
    "tags": []
   },
   "source": [
    "**Tags:** #linkedin #network #connections #naas_drivers #analytics #csv #html #image #content #plotly"
   ]
  },
  {
   "cell_type": "markdown",
   "id": "ce9b6fcd-b307-40ba-b872-668562f81947",
   "metadata": {
    "papermill": {},
    "tags": []
   },
   "source": [
    "**Author:** [Florent Ravenel](https://www.linkedin.com/in/florent-ravenel/)"
   ]
  },
  {
   "cell_type": "markdown",
   "id": "normal-rochester",
   "metadata": {
    "papermill": {},
    "tags": []
   },
   "source": [
    "## Input"
   ]
  },
  {
   "cell_type": "markdown",
   "id": "a81b0540-56cd-4a76-978a-0118875baa02",
   "metadata": {},
   "source": [
    "### Get common variables, functions"
   ]
  },
  {
   "cell_type": "code",
   "execution_count": null,
   "id": "7da9305f-ee3d-4f22-8045-0d5444c3fbe9",
   "metadata": {
    "tags": []
   },
   "outputs": [],
   "source": [
    "# Except allow to run common.ipynb once using Naas Engine\n",
    "try:\n",
    "    %run \"../common.ipynb\"\n",
    "except:\n",
    "    %run \"common.ipynb\""
   ]
  },
  {
   "cell_type": "markdown",
   "id": "wrapped-benjamin",
   "metadata": {
    "papermill": {},
    "tags": []
   },
   "source": [
    "### Setup Variables"
   ]
  },
  {
   "cell_type": "code",
   "execution_count": null,
   "id": "yellow-footage",
   "metadata": {
    "papermill": {},
    "tags": []
   },
   "outputs": [],
   "source": [
    "KPI_TITLE = \"Followers\""
   ]
  },
  {
   "cell_type": "markdown",
   "id": "66b77860-a95b-486c-a153-9cab521de365",
   "metadata": {
    "papermill": {},
    "tags": []
   },
   "source": [
    "### Setup Constantes"
   ]
  },
  {
   "cell_type": "code",
   "execution_count": null,
   "id": "63ba2bd2-cc65-4ddf-8d01-42460006a159",
   "metadata": {
    "papermill": {},
    "tags": []
   },
   "outputs": [],
   "source": [
    "# Inputs\n",
    "PLATFORM = LINKEDIN\n",
    "OWNER = LK_COMPANY_NAME\n",
    "LOGO = LINKEDIN_LOGO\n",
    "COLOR = LINKEDIN_COLOR\n",
    "COLOR2 = LINKEDIN_COLOR2\n",
    "PERIOD = PERIOD_MTD\n",
    "PERIOD_D = DISPLAY_MTD\n",
    "PERIOD_TEXT = TEXT_MTD\n",
    "PERIOD_TEXT2 = TEXT2_MTD\n",
    "SCENARIO = SCENARIO_MTD\n",
    "TITLE = f\"{KPI_TITLE.lower().capitalize()} over the past {str(MONTH_ROLLING)} {PERIOD_TEXT2}\"\n",
    "COL_DATE = \"FOLLOWED_AT\"\n",
    "\n",
    "# Outputs\n",
    "name_output = f\"LINKEDIN_FOLLOW_COMPANY_FOLLOWERS_{SCENARIO}_{LK_COMPANY_ID}\"\n",
    "csv_output = path.join(LINKEDIN_OUTPUTS, f\"{name_output}.csv\")\n",
    "html_output = path.join(LINKEDIN_OUTPUTS, f\"{name_output}.html\")\n",
    "image_output = path.join(LINKEDIN_OUTPUTS, f\"{name_output}.png\")"
   ]
  },
  {
   "cell_type": "markdown",
   "id": "pediatric-emerald",
   "metadata": {
    "papermill": {},
    "tags": []
   },
   "source": [
    "## Model"
   ]
  },
  {
   "cell_type": "markdown",
   "id": "differential-agenda",
   "metadata": {
    "execution": {
     "iopub.execute_input": "2021-05-15T10:12:55.887028Z",
     "iopub.status.busy": "2021-05-15T10:12:55.886761Z",
     "iopub.status.idle": "2021-05-15T10:12:55.899441Z",
     "shell.execute_reply": "2021-05-15T10:12:55.898476Z",
     "shell.execute_reply.started": "2021-05-15T10:12:55.886964Z"
    },
    "papermill": {},
    "tags": []
   },
   "source": [
    "### Get followers from company"
   ]
  },
  {
   "cell_type": "code",
   "execution_count": null,
   "id": "indoor-colon",
   "metadata": {
    "papermill": {},
    "tags": []
   },
   "outputs": [],
   "source": [
    "df_init = get_data(LK_COMPANY_FOLLOWERS)\n",
    "print(\"Data fetched:\", len(df_init))\n",
    "df_init.head(1)"
   ]
  },
  {
   "cell_type": "markdown",
   "id": "963ffdc2-eb5c-4b31-9b1e-cf7842e20374",
   "metadata": {
    "papermill": {},
    "tags": []
   },
   "source": [
    "### Prep trend data"
   ]
  },
  {
   "cell_type": "code",
   "execution_count": null,
   "id": "68ea26fd-88f4-4703-9c9a-8148d05fa340",
   "metadata": {
    "papermill": {},
    "tags": []
   },
   "outputs": [],
   "source": [
    "def get_trend(df_init,\n",
    "              col_date,\n",
    "              col_value,\n",
    "              agg_value):\n",
    "    # Init variable\n",
    "    df = df_init.copy()\n",
    "    \n",
    "    # Groupby period\n",
    "    df[col_date] = pd.to_datetime(df[col_date]).dt.strftime(PERIOD)\n",
    "    df = df.groupby(col_date, as_index=False).agg({col_value: agg_value})\n",
    "    \n",
    "    # Rename column\n",
    "    to_rename = {\n",
    "        col_date: \"DATE\",\n",
    "        col_value: \"VARV\"\n",
    "    }\n",
    "    df = df.rename(columns=to_rename)\n",
    "    df.insert(loc=1, column=\"VALUE\", value=df[\"VARV\"].cumsum())\n",
    "    df.insert(loc=2, column=\"VALUE_COMP\", value=df[\"VALUE\"] - df[\"VARV\"])\n",
    "    df[\"VARP\"] = df[\"VARV\"] / df[\"VALUE_COMP\"]\n",
    "    \n",
    "    # Add last month in not in dataframe\n",
    "    if df.loc[df.index[-1], \"DATE\"] != datetime.now().strftime(PERIOD):\n",
    "        tmp_df = df[-1:].reset_index(drop=True)\n",
    "        tmp_df.loc[0, \"DATE\"] = datetime.now().strftime(PERIOD)\n",
    "        tmp_df.loc[0, \"VALUE\"] = 0\n",
    "        df = pd.concat([df, tmp_df]).reset_index(drop=True)\n",
    "    \n",
    "    # Plotly: Date display\n",
    "    df[\"DATE_D\"] = pd.to_datetime(df[\"DATE\"], format=PERIOD).dt.strftime(PERIOD_D)\n",
    "    \n",
    "    # Plotly: Value display\n",
    "    df[\"VALUE_D\"] = \"<b><span style=font-size: 16px; style=font-family: Arial>\" + df[\"VALUE\"].map(\"{:,.0f}\".format).str.replace(\",\", \" \") + \"</span></b>\"\n",
    "    \n",
    "    # Plotly: Variation display\n",
    "    df[\"VARV_D\"] = df[\"VARV\"].map(\"{:,.0f}\".format).str.replace(\",\", \" \")\n",
    "    df.loc[df[\"VARV\"] >= 0, \"VARV_D\"] = \"+\" + df[\"VARV_D\"]\n",
    "    df[\"VARP_D\"] = df[\"VARP\"].map(\"{:,.0%}\".format).str.replace(\",\", \" \")\n",
    "    df.loc[df[\"VARP\"] >= 0, \"VARP_D\"] = \"+\" + df[\"VARP_D\"]\n",
    "    \n",
    "    # Plotly: hovertext\n",
    "    df[\"TEXT\"] = (\"<b><span style='font-size: 14px;'>\" + df[\"DATE_D\"].astype(str) + \": \" + df[\"VALUE_D\"] + \"</span></b><br>\"\n",
    "                  \"<span style='font-size: 12px;'>\" + f\"{PERIOD_TEXT}: \" + df[\"VARV_D\"] + \" (\" + df[\"VARP_D\"] + \")</span>\")\n",
    "    \n",
    "    # Return month rolling\n",
    "    return df[-MONTH_ROLLING:].reset_index(drop=True)\n",
    "\n",
    "df_actual = get_trend_barline(df_init,\n",
    "                              col_date=COL_DATE,\n",
    "                              col_value=\"PROFILE_ID\",\n",
    "                              agg_value=\"count\")\n",
    "df_actual"
   ]
  },
  {
   "cell_type": "markdown",
   "id": "af9e19f3-cb92-468b-8327-e5c7a320cbf0",
   "metadata": {
    "papermill": {},
    "tags": []
   },
   "source": [
    "### Create barlinechart"
   ]
  },
  {
   "cell_type": "code",
   "execution_count": null,
   "id": "fd3324f3-3e84-49aa-9aea-f0df4e4ebdb0",
   "metadata": {
    "papermill": {},
    "tags": []
   },
   "outputs": [],
   "source": [
    "fig = create_barlinechart(df_actual,\n",
    "                          yaxes_left=\"New followers\",\n",
    "                          yaxes_right=\"Total followers\")"
   ]
  },
  {
   "cell_type": "markdown",
   "id": "piano-stylus",
   "metadata": {
    "papermill": {},
    "tags": []
   },
   "source": [
    "## Output"
   ]
  },
  {
   "cell_type": "markdown",
   "id": "0bbe4f5f-0962-4f32-b2b9-ddd9f2183093",
   "metadata": {
    "papermill": {},
    "tags": []
   },
   "source": [
    "### Save and share your csv file"
   ]
  },
  {
   "cell_type": "code",
   "execution_count": null,
   "id": "a995ab0f-eb82-4dc2-8741-c397255702b3",
   "metadata": {
    "papermill": {},
    "tags": []
   },
   "outputs": [],
   "source": [
    "# Save your dataframe in CSV\n",
    "output_path = save_graph_asset(df_actual, csv_output)\n",
    "\n",
    "# Share output with naas\n",
    "csv_link = naas.asset.add(output_path)\n",
    "\n",
    "#-> Uncomment the line below to remove your asset\n",
    "# naas.asset.delete(csv_output)"
   ]
  },
  {
   "cell_type": "markdown",
   "id": "02eff17b-4453-4f57-a9ba-66702798eb88",
   "metadata": {
    "papermill": {},
    "tags": []
   },
   "source": [
    "### Save and share your graph in HTML"
   ]
  },
  {
   "cell_type": "code",
   "execution_count": null,
   "id": "243d65a3-a387-4545-ac55-ca3a87c6979c",
   "metadata": {
    "papermill": {},
    "tags": []
   },
   "outputs": [],
   "source": [
    "# Save your graph in HTML\n",
    "output_path = save_graph_asset(fig, html_output)\n",
    "\n",
    "# Share output with naas\n",
    "html_link = naas.asset.add(output_path, params={\"inline\": True})\n",
    "\n",
    "#-> Uncomment the line below to remove your asset\n",
    "# naas.asset.delete(html_output)"
   ]
  },
  {
   "cell_type": "markdown",
   "id": "a39d2f58-93a1-4cdb-bc36-a2fe6b9c1a77",
   "metadata": {
    "papermill": {},
    "tags": []
   },
   "source": [
    "### Save and share your graph in image"
   ]
  },
  {
   "cell_type": "code",
   "execution_count": null,
   "id": "bdb3e886-a3f6-4fc4-90ef-e60ef3580dbe",
   "metadata": {
    "papermill": {},
    "tags": []
   },
   "outputs": [],
   "source": [
    "# Save your graph in PNG\n",
    "output_path = save_graph_asset(fig, image_output)\n",
    "\n",
    "# Share output with naas\n",
    "image_link = naas.asset.add(output_path)\n",
    "\n",
    "#-> Uncomment the line below to remove your asset\n",
    "# naas.asset.delete(image_output)"
   ]
  },
  {
   "cell_type": "markdown",
   "id": "e6adabbe-6e45-43f8-9b7e-c27f1ce21807",
   "metadata": {},
   "source": [
    "### Update Notion Report"
   ]
  },
  {
   "cell_type": "code",
   "execution_count": null,
   "id": "5916d0af-eed4-42be-8e74-e1dad1cf6af4",
   "metadata": {
    "tags": []
   },
   "outputs": [],
   "source": [
    "update_report_status(KPI_TITLE,\n",
    "                     PLATFORM,\n",
    "                     OWNER,\n",
    "                     df_actual,\n",
    "                     image_link=image_link,\n",
    "                     html_link=html_link,\n",
    "                     csv_link=csv_link)"
   ]
  }
 ],
 "metadata": {
  "kernelspec": {
   "display_name": "Python 3",
   "language": "python",
   "name": "python3"
  },
  "language_info": {
   "codemirror_mode": {
    "name": "ipython",
    "version": 3
   },
   "file_extension": ".py",
   "mimetype": "text/x-python",
   "name": "python",
   "nbconvert_exporter": "python",
   "pygments_lexer": "ipython3",
   "version": "3.9.6"
  },
  "naas": {
   "notebook_id": "c45ccb48-ed43-40a5-bb29-abb054d43357",
   "notebook_path": "LinkedIn/LinkedIn_Get_connections_from_network.ipynb"
  },
  "papermill": {
   "default_parameters": {},
   "environment_variables": {},
   "parameters": {},
   "version": "2.3.3"
  },
  "widgets": {
   "application/vnd.jupyter.widget-state+json": {
    "state": {},
    "version_major": 2,
    "version_minor": 0
   }
  }
 },
 "nbformat": 4,
 "nbformat_minor": 5
}
