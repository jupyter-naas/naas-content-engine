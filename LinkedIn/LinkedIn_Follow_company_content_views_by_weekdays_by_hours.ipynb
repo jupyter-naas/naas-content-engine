{
 "cells": [
  {
   "cell_type": "markdown",
   "id": "a6fcf7c9",
   "metadata": {
    "papermill": {},
    "tags": []
   },
   "source": [
    "<img width=\"10%\" alt=\"Naas\" src=\"https://landen.imgix.net/jtci2pxwjczr/assets/5ice39g4.png?w=160\"/>\n"
   ]
  },
  {
   "cell_type": "markdown",
   "id": "7217870e",
   "metadata": {
    "papermill": {},
    "tags": []
   },
   "source": [
    "# LinkedIn - Follow profile content views reach by weekdays by hours\n",
    "<a href=\"https://app.naas.ai/user-redirect/naas/downloader?url=https://raw.githubusercontent.com/jupyter-naas/awesome-notebooks/master/LinkedIn/Linkedin_Follow_content_views_monthly_from_company.ipynb\" target=\"_parent\"><img src=\"https://naasai-public.s3.eu-west-3.amazonaws.com/open_in_naas.svg\"/></a>"
   ]
  },
  {
   "cell_type": "markdown",
   "id": "c8756b96",
   "metadata": {
    "papermill": {},
    "tags": []
   },
   "source": [
    "**Tags:** #linkedin #html #plotly #csv #image #content #analytics #automation"
   ]
  },
  {
   "cell_type": "markdown",
   "id": "520d91fd",
   "metadata": {
    "papermill": {},
    "tags": []
   },
   "source": [
    "**Author:** [Florent Ravenel](https://www.linkedin.com/in/florent-ravenel/)"
   ]
  },
  {
   "cell_type": "markdown",
   "id": "227b8ffb",
   "metadata": {
    "papermill": {},
    "tags": []
   },
   "source": [
    "## Input"
   ]
  },
  {
   "cell_type": "code",
   "execution_count": null,
   "id": "fd0002e5-a9df-401e-b03e-42f026f6d44a",
   "metadata": {
    "tags": []
   },
   "outputs": [],
   "source": [
    "# Except allow to run common.ipynb once using Naas Engine\n",
    "try:\n",
    "    %run \"../common.ipynb\"\n",
    "except:\n",
    "    %run \"common.ipynb\""
   ]
  },
  {
   "cell_type": "markdown",
   "id": "88b8b60b-3da5-44e1-8c78-30ee5e2ed039",
   "metadata": {},
   "source": [
    "### Import libraries"
   ]
  },
  {
   "cell_type": "code",
   "execution_count": null,
   "id": "dcc3882a-2ff9-41fc-8fa4-3984f055d8c9",
   "metadata": {
    "tags": []
   },
   "outputs": [],
   "source": [
    "from pandas.tseries.offsets import MonthEnd\n",
    "import calendar\n",
    "from dateutil.relativedelta import relativedelta"
   ]
  },
  {
   "cell_type": "markdown",
   "id": "fb2817fb",
   "metadata": {
    "papermill": {},
    "tags": []
   },
   "source": [
    "### Setup Variables"
   ]
  },
  {
   "cell_type": "code",
   "execution_count": null,
   "id": "423e1f0b",
   "metadata": {
    "papermill": {},
    "tags": []
   },
   "outputs": [],
   "source": [
    "KPI_TITLE = \"Views reach\"\n",
    "INPUT_DATABASE = LK_COMPANY_POSTS\n",
    "OWNER = LK_COMPANY_NAME\n",
    "OWNER_ID = LK_COMPANY_ID\n",
    "PLATFORM = LINKEDIN\n",
    "LOGO = LINKEDIN_LOGO\n",
    "COLOR = LINKEDIN_COLOR\n",
    "COL_VALUE = KPI_TITLE.upper().replace(' ', '_')"
   ]
  },
  {
   "cell_type": "markdown",
   "id": "024797b3",
   "metadata": {
    "papermill": {},
    "tags": []
   },
   "source": [
    "### Setup Constants"
   ]
  },
  {
   "cell_type": "code",
   "execution_count": null,
   "id": "17dcc289",
   "metadata": {
    "papermill": {},
    "tags": []
   },
   "outputs": [],
   "source": [
    "# Inputs\n",
    "PERIOD = PERIOD_MTD\n",
    "ORDER = ORDER_MTD\n",
    "PERIOD_D = DISPLAY_MTD\n",
    "PERIOD_TEXT = TEXT_MTD\n",
    "PERIOD_TEXT2 = TEXT2_MTD\n",
    "SCENARIO = SCENARIO_MTD\n",
    "TITLE = f\"Content {KPI_TITLE.lower()} over the past {str(MONTH_ROLLING)} {PERIOD_TEXT2}\"\n",
    "\n",
    "# Outputs\n",
    "name_output = f\"LINKEDIN_FOLLOW_COMPANY_{KPI_TITLE.upper().replace(' ', '_')}_{SCENARIO}_{OWNER_ID}\"\n",
    "csv_output = path.join(LINKEDIN_OUTPUTS, f\"{name_output}.csv\")\n",
    "html_output = path.join(LINKEDIN_OUTPUTS, f\"{name_output}.html\")\n",
    "image_output = path.join(LINKEDIN_OUTPUTS, f\"{name_output}.png\")"
   ]
  },
  {
   "cell_type": "markdown",
   "id": "1bb8c4cd",
   "metadata": {
    "papermill": {},
    "tags": []
   },
   "source": [
    "## Model"
   ]
  },
  {
   "cell_type": "markdown",
   "id": "024e9efb-4c80-4c60-a455-103af0884d2d",
   "metadata": {
    "papermill": {},
    "tags": []
   },
   "source": [
    "### Get your posts"
   ]
  },
  {
   "cell_type": "code",
   "execution_count": null,
   "id": "6d00847f-e9bf-4f92-a2b4-406468fb09e2",
   "metadata": {
    "papermill": {},
    "tags": []
   },
   "outputs": [],
   "source": [
    "df_posts = get_data(INPUT_DATABASE)\n",
    "print(\"✅ Posts fetched:\", len(df_posts))\n",
    "df_posts.head(1)"
   ]
  },
  {
   "cell_type": "markdown",
   "id": "b28cd5c7-0d68-41dd-9da4-7950131516bc",
   "metadata": {},
   "source": [
    "### Get frequency"
   ]
  },
  {
   "cell_type": "code",
   "execution_count": null,
   "id": "12efcdac-acf5-4881-b408-4533b2f1fd26",
   "metadata": {
    "tags": []
   },
   "outputs": [],
   "source": [
    "df_actual = get_frequency(df_posts,\n",
    "                          col_date=\"PUBLISHED_DATE\",\n",
    "                          x_axis=\"%H\",\n",
    "                          y_axis=\"%u\",\n",
    "                          col_value=\"VIEWS\",\n",
    "                          type_value=\"sum\")\n",
    "df_actual"
   ]
  },
  {
   "cell_type": "markdown",
   "id": "6ccdd570-df2c-4756-9441-2e8f3fc2bb6c",
   "metadata": {},
   "source": [
    "### Plot Heatmap"
   ]
  },
  {
   "cell_type": "code",
   "execution_count": null,
   "id": "37f95764-2e42-493d-b357-7f029a1abdff",
   "metadata": {
    "tags": []
   },
   "outputs": [],
   "source": [
    "fig = create_heatmap(df_actual,\n",
    "                     x_value=\"X_AXIS\",\n",
    "                     y_value=\"Y_AXIS\",\n",
    "                     z_value=\"VALUE\")"
   ]
  },
  {
   "cell_type": "markdown",
   "id": "942c681d",
   "metadata": {
    "papermill": {},
    "tags": []
   },
   "source": [
    "## Output\n"
   ]
  },
  {
   "cell_type": "markdown",
   "id": "b4bb71da",
   "metadata": {
    "papermill": {},
    "tags": []
   },
   "source": [
    "### Save and share your csv file"
   ]
  },
  {
   "cell_type": "code",
   "execution_count": null,
   "id": "d43c7763",
   "metadata": {
    "papermill": {},
    "tags": []
   },
   "outputs": [],
   "source": [
    "# Save your dataframe in CSV\n",
    "output_path = save_graph_asset(df_actual, csv_output)\n",
    "\n",
    "# Share output with naas\n",
    "csv_link = naas.asset.add(output_path)\n",
    "\n",
    "#-> Uncomment the line below to remove your asset\n",
    "# naas.asset.delete(csv_output)"
   ]
  },
  {
   "cell_type": "markdown",
   "id": "2f26c093",
   "metadata": {
    "papermill": {},
    "tags": []
   },
   "source": [
    "### Save and share your graph in HTML"
   ]
  },
  {
   "cell_type": "code",
   "execution_count": null,
   "id": "6e0caceb",
   "metadata": {
    "papermill": {},
    "tags": []
   },
   "outputs": [],
   "source": [
    "# Save your graph in HTML\n",
    "output_path = save_graph_asset(fig, html_output)\n",
    "\n",
    "# Share output with naas\n",
    "html_link = naas.asset.add(output_path, params={\"inline\": True})\n",
    "\n",
    "#-> Uncomment the line below to remove your asset\n",
    "# naas.asset.delete(html_output)"
   ]
  },
  {
   "cell_type": "markdown",
   "id": "e327122e",
   "metadata": {
    "papermill": {},
    "tags": []
   },
   "source": [
    "### Save and share your graph in image"
   ]
  },
  {
   "cell_type": "code",
   "execution_count": null,
   "id": "124b1576",
   "metadata": {
    "papermill": {},
    "tags": []
   },
   "outputs": [],
   "source": [
    "# Save your graph in PNG\n",
    "output_path = save_graph_asset(fig, image_output)\n",
    "\n",
    "# Share output with naas\n",
    "image_link = naas.asset.add(output_path)\n",
    "\n",
    "#-> Uncomment the line below to remove your asset\n",
    "# naas.asset.delete(image_output)"
   ]
  },
  {
   "cell_type": "markdown",
   "id": "4b6e7bd4-9114-436a-a91c-b094eeaed81d",
   "metadata": {},
   "source": [
    "### Update Notion Report"
   ]
  },
  {
   "cell_type": "code",
   "execution_count": null,
   "id": "e304c726-78db-4473-be8e-0c880ce59d88",
   "metadata": {
    "tags": []
   },
   "outputs": [],
   "source": [
    "update_report_status(KPI_TITLE,\n",
    "                     PLATFORM,\n",
    "                     OWNER,\n",
    "                     pd.DataFrame(),\n",
    "                     image_link=image_link,\n",
    "                     html_link=html_link,\n",
    "                     csv_link=csv_link)"
   ]
  },
  {
   "cell_type": "code",
   "execution_count": null,
   "id": "b8980b40-c02a-48ad-9360-22aff17e254e",
   "metadata": {},
   "outputs": [],
   "source": []
  }
 ],
 "metadata": {
  "kernelspec": {
   "display_name": "Python 3",
   "language": "python",
   "name": "python3"
  },
  "language_info": {
   "codemirror_mode": {
    "name": "ipython",
    "version": 3
   },
   "file_extension": ".py",
   "mimetype": "text/x-python",
   "name": "python",
   "nbconvert_exporter": "python",
   "pygments_lexer": "ipython3",
   "version": "3.9.6"
  },
  "papermill": {
   "default_parameters": {},
   "environment_variables": {},
   "parameters": {},
   "version": "2.3.4"
  }
 },
 "nbformat": 4,
 "nbformat_minor": 5
}
