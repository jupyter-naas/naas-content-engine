{
 "cells": [
  {
   "cell_type": "markdown",
   "id": "f93fe18d-8ad2-4958-816b-6b75af8681e4",
   "metadata": {
    "papermill": {},
    "tags": []
   },
   "source": [
    "<img width=\"10%\" alt=\"Naas\" src=\"https://landen.imgix.net/jtci2pxwjczr/assets/5ice39g4.png?w=160\"/>"
   ]
  },
  {
   "cell_type": "markdown",
   "id": "5f0737bc-6f32-4ae3-a951-5779adaa7a97",
   "metadata": {
    "papermill": {},
    "tags": []
   },
   "source": [
    "# LinkedIn - Get profile posts engagements\n",
    "<a href=\"https://app.naas.ai/user-redirect/naas/downloader?url=https://raw.githubusercontent.com/jupyter-naas/awesome-notebooks/master/LinkedIn/LinkedIn_Send_weekly_post_engagement_metrics_by_email.ipynb\" target=\"_parent\"><img src=\"https://naasai-public.s3.eu-west-3.amazonaws.com/open_in_naas.svg\"/></a>"
   ]
  },
  {
   "cell_type": "markdown",
   "id": "616d1d23-6ae5-4cc6-95e8-40aa98a017f9",
   "metadata": {
    "papermill": {},
    "tags": []
   },
   "source": [
    "**Tags:** #linkedin #posts #interactions #metrics #analytics #automation #naas #hubspot"
   ]
  },
  {
   "cell_type": "markdown",
   "id": "c22c0060-616a-43ba-91e9-96e7034e71c7",
   "metadata": {
    "papermill": {},
    "tags": []
   },
   "source": [
    "**Author:** [Florent Ravenel](https://www.linkedin.com/in/florent-ravenel/)"
   ]
  },
  {
   "cell_type": "markdown",
   "id": "937ac7d6-bfe3-41aa-a0b6-61b1f7bba93f",
   "metadata": {
    "papermill": {},
    "tags": []
   },
   "source": [
    "## Input"
   ]
  },
  {
   "cell_type": "markdown",
   "id": "2d77b522-f032-4e23-9135-6dca6ec9eae6",
   "metadata": {},
   "source": [
    "### Get common variables, functions"
   ]
  },
  {
   "cell_type": "code",
   "execution_count": 5,
   "id": "102a0d00-c53f-4bd3-be95-d0b37171da8c",
   "metadata": {
    "execution": {
     "iopub.execute_input": "2022-06-29T10:58:31.389623Z",
     "iopub.status.busy": "2022-06-29T10:58:31.389396Z",
     "iopub.status.idle": "2022-06-29T10:58:32.689804Z",
     "shell.execute_reply": "2022-06-29T10:58:32.689202Z",
     "shell.execute_reply.started": "2022-06-29T10:58:31.389600Z"
    },
    "tags": []
   },
   "outputs": [
    {
     "name": "stdout",
     "output_type": "stream",
     "text": [
      "/home/ftp/Naas Content Engine\n"
     ]
    }
   ],
   "source": [
    "# Except allow to run common.ipynb once using Naas Engine\n",
    "try:\n",
    "    %run \"../common.ipynb\"\n",
    "except:\n",
    "    %run \"common.ipynb\""
   ]
  },
  {
   "cell_type": "markdown",
   "id": "ecb37b6d-b27f-4932-b8a7-1464095f989d",
   "metadata": {
    "papermill": {},
    "tags": []
   },
   "source": [
    "### Setup Variables"
   ]
  },
  {
   "cell_type": "code",
   "execution_count": 2,
   "id": "e2c3df60-aced-4dd9-a94b-11d8ae4b5caf",
   "metadata": {
    "execution": {
     "iopub.execute_input": "2022-06-28T19:18:12.139696Z",
     "iopub.status.busy": "2022-06-28T19:18:12.139367Z",
     "iopub.status.idle": "2022-06-28T19:18:12.143220Z",
     "shell.execute_reply": "2022-06-28T19:18:12.142591Z",
     "shell.execute_reply.started": "2022-06-28T19:18:12.139668Z"
    },
    "papermill": {},
    "tags": []
   },
   "outputs": [],
   "source": [
    "# Inputs\n",
    "INPUT_DATABASE = LK_PROFILE_POSTS\n",
    "OWNER = LK_FULLNAME\n",
    "OWNER_ID = LK_PROFILE_ID\n",
    "INPUT_LIKES = LK_PROFILE_POSTS_LIKES\n",
    "INPUT_COMMENTS = LK_PROFILE_POSTS_COMMENTS\n",
    "PERIOD = PERIOD_MTD\n",
    "\n",
    "# Outputs\n",
    "OUTPUT_DATABASE = LK_PROFILE_ENGAGEMENTS"
   ]
  },
  {
   "cell_type": "markdown",
   "id": "78fd3b62-5ca4-4468-9cf1-7fd6d079320f",
   "metadata": {
    "execution": {
     "iopub.execute_input": "2022-04-12T10:09:23.296057Z",
     "iopub.status.busy": "2022-04-12T10:09:23.295748Z",
     "iopub.status.idle": "2022-04-12T10:09:23.299059Z",
     "shell.execute_reply": "2022-04-12T10:09:23.298449Z",
     "shell.execute_reply.started": "2022-04-12T10:09:23.296024Z"
    },
    "papermill": {},
    "tags": []
   },
   "source": [
    "## Model"
   ]
  },
  {
   "cell_type": "markdown",
   "id": "b8f8248d-2bb7-4659-bec3-57bba6badc1e",
   "metadata": {
    "papermill": {},
    "tags": []
   },
   "source": [
    "### Get your posts"
   ]
  },
  {
   "cell_type": "code",
   "execution_count": 3,
   "id": "96b095ed-c57b-446b-b4a3-6e985f0f83d2",
   "metadata": {
    "execution": {
     "iopub.execute_input": "2022-06-28T19:18:13.276754Z",
     "iopub.status.busy": "2022-06-28T19:18:13.276530Z",
     "iopub.status.idle": "2022-06-28T19:18:13.357383Z",
     "shell.execute_reply": "2022-06-28T19:18:13.338166Z",
     "shell.execute_reply.started": "2022-06-28T19:18:13.276733Z"
    },
    "tags": []
   },
   "outputs": [
    {
     "name": "stdout",
     "output_type": "stream",
     "text": [
      "✅ Posts fetched: 296\n"
     ]
    },
    {
     "data": {
      "text/html": [
       "<div>\n",
       "<style scoped>\n",
       "    .dataframe tbody tr th:only-of-type {\n",
       "        vertical-align: middle;\n",
       "    }\n",
       "\n",
       "    .dataframe tbody tr th {\n",
       "        vertical-align: top;\n",
       "    }\n",
       "\n",
       "    .dataframe thead th {\n",
       "        text-align: right;\n",
       "    }\n",
       "</style>\n",
       "<table border=\"1\" class=\"dataframe\">\n",
       "  <thead>\n",
       "    <tr style=\"text-align: right;\">\n",
       "      <th></th>\n",
       "      <th>ACTIVITY_ID</th>\n",
       "      <th>PAGINATION_TOKEN</th>\n",
       "      <th>PUBLISHED_DATE</th>\n",
       "      <th>AUTHOR_NAME</th>\n",
       "      <th>AUTHOR_URL</th>\n",
       "      <th>SUBDESCRIPTION</th>\n",
       "      <th>TITLE</th>\n",
       "      <th>TEXT</th>\n",
       "      <th>CHARACTER_COUNT</th>\n",
       "      <th>TAGS</th>\n",
       "      <th>...</th>\n",
       "      <th>POLL_ID</th>\n",
       "      <th>POLL_QUESTION</th>\n",
       "      <th>POLL_RESULTS</th>\n",
       "      <th>POST_URL</th>\n",
       "      <th>VIEWS</th>\n",
       "      <th>COMMENTS</th>\n",
       "      <th>LIKES</th>\n",
       "      <th>SHARES</th>\n",
       "      <th>ENGAGEMENT_SCORE</th>\n",
       "      <th>DATE_EXTRACT</th>\n",
       "    </tr>\n",
       "  </thead>\n",
       "  <tbody>\n",
       "    <tr>\n",
       "      <th>0</th>\n",
       "      <td>6946906609415544832</td>\n",
       "      <td>dXJuOmxpOmFjdGl2aXR5OjY5NDY5MDY2MDk0MTU1NDQ4Mz...</td>\n",
       "      <td>2022-06-26 19:26:42+02:00</td>\n",
       "      <td>Jérémy Ravenel</td>\n",
       "      <td>https://www.linkedin.com/in/ACoAAAJHE7sB5OxuKH...</td>\n",
       "      <td>20 hours ago</td>\n",
       "      <td>If you are interested in data and business, yo...</td>\n",
       "      <td>If you are interested in data and business, yo...</td>\n",
       "      <td>1711</td>\n",
       "      <td>#66daysofdata #data #business #sales #people #...</td>\n",
       "      <td>...</td>\n",
       "      <td>NaN</td>\n",
       "      <td>NaN</td>\n",
       "      <td>NaN</td>\n",
       "      <td>https://www.linkedin.com/feed/update/urn:li:ac...</td>\n",
       "      <td>3153</td>\n",
       "      <td>1</td>\n",
       "      <td>26</td>\n",
       "      <td>0</td>\n",
       "      <td>0.0086</td>\n",
       "      <td>2022-06-27 18:07:27</td>\n",
       "    </tr>\n",
       "  </tbody>\n",
       "</table>\n",
       "<p>1 rows × 32 columns</p>\n",
       "</div>"
      ],
      "text/plain": [
       "           ACTIVITY_ID                                   PAGINATION_TOKEN  \\\n",
       "0  6946906609415544832  dXJuOmxpOmFjdGl2aXR5OjY5NDY5MDY2MDk0MTU1NDQ4Mz...   \n",
       "\n",
       "              PUBLISHED_DATE     AUTHOR_NAME  \\\n",
       "0  2022-06-26 19:26:42+02:00  Jérémy Ravenel   \n",
       "\n",
       "                                          AUTHOR_URL SUBDESCRIPTION  \\\n",
       "0  https://www.linkedin.com/in/ACoAAAJHE7sB5OxuKH...   20 hours ago   \n",
       "\n",
       "                                               TITLE  \\\n",
       "0  If you are interested in data and business, yo...   \n",
       "\n",
       "                                                TEXT  CHARACTER_COUNT  \\\n",
       "0  If you are interested in data and business, yo...             1711   \n",
       "\n",
       "                                                TAGS  ...  POLL_ID  \\\n",
       "0  #66daysofdata #data #business #sales #people #...  ...      NaN   \n",
       "\n",
       "  POLL_QUESTION  POLL_RESULTS  \\\n",
       "0           NaN           NaN   \n",
       "\n",
       "                                            POST_URL  VIEWS COMMENTS LIKES  \\\n",
       "0  https://www.linkedin.com/feed/update/urn:li:ac...   3153        1    26   \n",
       "\n",
       "  SHARES ENGAGEMENT_SCORE         DATE_EXTRACT  \n",
       "0      0           0.0086  2022-06-27 18:07:27  \n",
       "\n",
       "[1 rows x 32 columns]"
      ]
     },
     "execution_count": 3,
     "metadata": {},
     "output_type": "execute_result"
    }
   ],
   "source": [
    "df_posts = get_data(INPUT_DATABASE)\n",
    "print(\"✅ Posts fetched:\", len(df_posts))\n",
    "df_posts.head(1)"
   ]
  },
  {
   "cell_type": "markdown",
   "id": "22040cda-8fea-43cf-90ea-ea7edc725d7f",
   "metadata": {},
   "source": [
    "### Get who likes your posts"
   ]
  },
  {
   "cell_type": "code",
   "execution_count": 4,
   "id": "6b8ab7f4-9dba-4191-9461-848040629a7b",
   "metadata": {
    "execution": {
     "iopub.execute_input": "2022-06-28T19:18:14.669785Z",
     "iopub.status.busy": "2022-06-28T19:18:14.669557Z",
     "iopub.status.idle": "2022-06-28T19:18:14.757811Z",
     "shell.execute_reply": "2022-06-28T19:18:14.757239Z",
     "shell.execute_reply.started": "2022-06-28T19:18:14.669764Z"
    },
    "tags": []
   },
   "outputs": [
    {
     "name": "stdout",
     "output_type": "stream",
     "text": [
      "✅ Likes fetched: 5170\n"
     ]
    },
    {
     "data": {
      "text/html": [
       "<div>\n",
       "<style scoped>\n",
       "    .dataframe tbody tr th:only-of-type {\n",
       "        vertical-align: middle;\n",
       "    }\n",
       "\n",
       "    .dataframe tbody tr th {\n",
       "        vertical-align: top;\n",
       "    }\n",
       "\n",
       "    .dataframe thead th {\n",
       "        text-align: right;\n",
       "    }\n",
       "</style>\n",
       "<table border=\"1\" class=\"dataframe\">\n",
       "  <thead>\n",
       "    <tr style=\"text-align: right;\">\n",
       "      <th></th>\n",
       "      <th>PROFILE_ID</th>\n",
       "      <th>PROFILE_URL</th>\n",
       "      <th>PUBLIC_ID</th>\n",
       "      <th>FIRSTNAME</th>\n",
       "      <th>LASTNAME</th>\n",
       "      <th>FULLNAME</th>\n",
       "      <th>OCCUPATION</th>\n",
       "      <th>PROFILE_PICTURE</th>\n",
       "      <th>BACKGROUND_PICTURE</th>\n",
       "      <th>PROFILE_TYPE</th>\n",
       "      <th>REACTION_TYPE</th>\n",
       "      <th>POST_URL</th>\n",
       "      <th>DATE_EXTRACT</th>\n",
       "      <th>TITLE</th>\n",
       "      <th>AUTHOR_NAME</th>\n",
       "      <th>PUBLISHED_DATE</th>\n",
       "    </tr>\n",
       "  </thead>\n",
       "  <tbody>\n",
       "    <tr>\n",
       "      <th>0</th>\n",
       "      <td>ACoAAChHnMwBQ2zQadJd9cuma2eplAgjzGgew_A</td>\n",
       "      <td>https://www.linkedin.com/in/ACoAAChHnMwBQ2zQad...</td>\n",
       "      <td>amir-memon-55039916a</td>\n",
       "      <td>Amir</td>\n",
       "      <td>Memon</td>\n",
       "      <td>Amir Memon</td>\n",
       "      <td>Graduate Data Scientist👨‍💻 by profession ◾ Pet...</td>\n",
       "      <td>https://media-exp2.licdn.com/dms/image/C4E03AQ...</td>\n",
       "      <td>https://media-exp2.licdn.com/dms/image/C5616AQ...</td>\n",
       "      <td>PROFILE</td>\n",
       "      <td>PRAISE</td>\n",
       "      <td>https://www.linkedin.com/feed/update/urn:li:ac...</td>\n",
       "      <td>2022-06-28 17:36:36</td>\n",
       "      <td>🎨✍️Back at the design board.</td>\n",
       "      <td>Jérémy Ravenel</td>\n",
       "      <td>2022-06-20 20:50:56+02:00</td>\n",
       "    </tr>\n",
       "  </tbody>\n",
       "</table>\n",
       "</div>"
      ],
      "text/plain": [
       "                                PROFILE_ID  \\\n",
       "0  ACoAAChHnMwBQ2zQadJd9cuma2eplAgjzGgew_A   \n",
       "\n",
       "                                         PROFILE_URL             PUBLIC_ID  \\\n",
       "0  https://www.linkedin.com/in/ACoAAChHnMwBQ2zQad...  amir-memon-55039916a   \n",
       "\n",
       "  FIRSTNAME LASTNAME    FULLNAME  \\\n",
       "0      Amir    Memon  Amir Memon   \n",
       "\n",
       "                                          OCCUPATION  \\\n",
       "0  Graduate Data Scientist👨‍💻 by profession ◾ Pet...   \n",
       "\n",
       "                                     PROFILE_PICTURE  \\\n",
       "0  https://media-exp2.licdn.com/dms/image/C4E03AQ...   \n",
       "\n",
       "                                  BACKGROUND_PICTURE PROFILE_TYPE  \\\n",
       "0  https://media-exp2.licdn.com/dms/image/C5616AQ...      PROFILE   \n",
       "\n",
       "  REACTION_TYPE                                           POST_URL  \\\n",
       "0        PRAISE  https://www.linkedin.com/feed/update/urn:li:ac...   \n",
       "\n",
       "          DATE_EXTRACT                          TITLE     AUTHOR_NAME  \\\n",
       "0  2022-06-28 17:36:36  🎨✍️Back at the design board.   Jérémy Ravenel   \n",
       "\n",
       "              PUBLISHED_DATE  \n",
       "0  2022-06-20 20:50:56+02:00  "
      ]
     },
     "execution_count": 4,
     "metadata": {},
     "output_type": "execute_result"
    }
   ],
   "source": [
    "df_likes = get_data(INPUT_LIKES)\n",
    "print(\"✅ Likes fetched:\", len(df_likes))\n",
    "df_likes.head(1)"
   ]
  },
  {
   "cell_type": "markdown",
   "id": "ba290f36-91bc-4a3d-80ea-103624bcc360",
   "metadata": {},
   "source": [
    "### Get who comments your posts"
   ]
  },
  {
   "cell_type": "code",
   "execution_count": 5,
   "id": "847a1ac8-0859-4af7-b4d1-316bb38e01d3",
   "metadata": {
    "execution": {
     "iopub.execute_input": "2022-06-28T19:18:16.112438Z",
     "iopub.status.busy": "2022-06-28T19:18:16.112123Z",
     "iopub.status.idle": "2022-06-28T19:18:16.155342Z",
     "shell.execute_reply": "2022-06-28T19:18:16.154662Z",
     "shell.execute_reply.started": "2022-06-28T19:18:16.112407Z"
    },
    "tags": []
   },
   "outputs": [
    {
     "name": "stdout",
     "output_type": "stream",
     "text": [
      "✅ Comments fetched: 395\n"
     ]
    },
    {
     "data": {
      "text/html": [
       "<div>\n",
       "<style scoped>\n",
       "    .dataframe tbody tr th:only-of-type {\n",
       "        vertical-align: middle;\n",
       "    }\n",
       "\n",
       "    .dataframe tbody tr th {\n",
       "        vertical-align: top;\n",
       "    }\n",
       "\n",
       "    .dataframe thead th {\n",
       "        text-align: right;\n",
       "    }\n",
       "</style>\n",
       "<table border=\"1\" class=\"dataframe\">\n",
       "  <thead>\n",
       "    <tr style=\"text-align: right;\">\n",
       "      <th></th>\n",
       "      <th>PROFILE_ID</th>\n",
       "      <th>PROFILE_URL</th>\n",
       "      <th>PUBLIC_ID</th>\n",
       "      <th>FIRSTNAME</th>\n",
       "      <th>LASTNAME</th>\n",
       "      <th>FULLNAME</th>\n",
       "      <th>OCCUPATION</th>\n",
       "      <th>PROFILE_PICTURE</th>\n",
       "      <th>BACKGROUND_PICTURE</th>\n",
       "      <th>PROFILE_TYPE</th>\n",
       "      <th>...</th>\n",
       "      <th>CREATED_TIME</th>\n",
       "      <th>LANGUAGE</th>\n",
       "      <th>DISTANCE</th>\n",
       "      <th>COMMENTS</th>\n",
       "      <th>LIKES</th>\n",
       "      <th>POST_URL</th>\n",
       "      <th>DATE_EXTRACT</th>\n",
       "      <th>TITLE</th>\n",
       "      <th>AUTHOR_NAME</th>\n",
       "      <th>PUBLISHED_DATE</th>\n",
       "    </tr>\n",
       "  </thead>\n",
       "  <tbody>\n",
       "    <tr>\n",
       "      <th>0</th>\n",
       "      <td>ACoAAAABPb8BgKkixeVN7cfz8qcUC28KUHQBfg4</td>\n",
       "      <td>https://www.linkedin.com/in/ACoAAAABPb8BgKkixe...</td>\n",
       "      <td>jeremywischusen</td>\n",
       "      <td>Jeremy</td>\n",
       "      <td>W.</td>\n",
       "      <td>Jeremy W.</td>\n",
       "      <td>Senior Full Stack Developer - The opinions I e...</td>\n",
       "      <td>https://media-exp2.licdn.com/dms/image/C5603AQ...</td>\n",
       "      <td>NaN</td>\n",
       "      <td>PROFILE</td>\n",
       "      <td>...</td>\n",
       "      <td>2022-06-24 05:05:45</td>\n",
       "      <td>English</td>\n",
       "      <td>DISTANCE_2</td>\n",
       "      <td>0</td>\n",
       "      <td>2</td>\n",
       "      <td>https://www.linkedin.com/feed/update/urn:li:ac...</td>\n",
       "      <td>2022-06-28 17:37:14</td>\n",
       "      <td>What's so hard about applied AI?</td>\n",
       "      <td>Jérémy Ravenel</td>\n",
       "      <td>2022-06-23 19:23:41+02:00</td>\n",
       "    </tr>\n",
       "  </tbody>\n",
       "</table>\n",
       "<p>1 rows × 21 columns</p>\n",
       "</div>"
      ],
      "text/plain": [
       "                                PROFILE_ID  \\\n",
       "0  ACoAAAABPb8BgKkixeVN7cfz8qcUC28KUHQBfg4   \n",
       "\n",
       "                                         PROFILE_URL        PUBLIC_ID  \\\n",
       "0  https://www.linkedin.com/in/ACoAAAABPb8BgKkixe...  jeremywischusen   \n",
       "\n",
       "  FIRSTNAME LASTNAME   FULLNAME  \\\n",
       "0    Jeremy       W.  Jeremy W.   \n",
       "\n",
       "                                          OCCUPATION  \\\n",
       "0  Senior Full Stack Developer - The opinions I e...   \n",
       "\n",
       "                                     PROFILE_PICTURE BACKGROUND_PICTURE  \\\n",
       "0  https://media-exp2.licdn.com/dms/image/C5603AQ...                NaN   \n",
       "\n",
       "  PROFILE_TYPE  ...         CREATED_TIME LANGUAGE    DISTANCE COMMENTS  LIKES  \\\n",
       "0      PROFILE  ...  2022-06-24 05:05:45  English  DISTANCE_2        0      2   \n",
       "\n",
       "                                            POST_URL         DATE_EXTRACT  \\\n",
       "0  https://www.linkedin.com/feed/update/urn:li:ac...  2022-06-28 17:37:14   \n",
       "\n",
       "                               TITLE     AUTHOR_NAME  \\\n",
       "0  What's so hard about applied AI?   Jérémy Ravenel   \n",
       "\n",
       "              PUBLISHED_DATE  \n",
       "0  2022-06-23 19:23:41+02:00  \n",
       "\n",
       "[1 rows x 21 columns]"
      ]
     },
     "execution_count": 5,
     "metadata": {},
     "output_type": "execute_result"
    }
   ],
   "source": [
    "df_comments = get_data(INPUT_COMMENTS)\n",
    "print(\"✅ Comments fetched:\", len(df_comments))\n",
    "df_comments.head(1)"
   ]
  },
  {
   "cell_type": "markdown",
   "id": "8b76191a-686b-4ac8-a0e7-b56ac9f1bfbb",
   "metadata": {
    "execution": {
     "iopub.execute_input": "2022-04-12T14:42:10.762125Z",
     "iopub.status.busy": "2022-04-12T14:42:10.761884Z",
     "iopub.status.idle": "2022-04-12T14:42:10.764880Z",
     "shell.execute_reply": "2022-04-12T14:42:10.764227Z",
     "shell.execute_reply.started": "2022-04-12T14:42:10.762100Z"
    },
    "papermill": {},
    "tags": []
   },
   "source": [
    "## Output"
   ]
  },
  {
   "cell_type": "code",
   "execution_count": 6,
   "id": "bb517108-065c-4a78-9c37-cf1ab486daff",
   "metadata": {
    "execution": {
     "iopub.execute_input": "2022-06-28T19:18:18.350441Z",
     "iopub.status.busy": "2022-06-28T19:18:18.350197Z",
     "iopub.status.idle": "2022-06-28T19:18:18.360257Z",
     "shell.execute_reply": "2022-06-28T19:18:18.359546Z",
     "shell.execute_reply.started": "2022-06-28T19:18:18.350417Z"
    },
    "tags": []
   },
   "outputs": [],
   "source": [
    "# Get interactions\n",
    "def get_interactions(interaction, post_url):\n",
    "    df = pd.DataFrame()\n",
    "    try:\n",
    "        if interaction == \"LIKES\":\n",
    "            df = linkedin.connect(LI_AT, JSESSIONID).post.get_likes(post_url)\n",
    "        elif interaction == \"COMMENTS\":\n",
    "            df = linkedin.connect(LI_AT, JSESSIONID).post.get_comments(post_url)\n",
    "    except Exception as e:\n",
    "        if e.response.status_code:\n",
    "            print(e)\n",
    "    return df"
   ]
  },
  {
   "cell_type": "code",
   "execution_count": 7,
   "id": "6cedc8b2-bfee-4706-af52-e3bea953cd2e",
   "metadata": {
    "execution": {
     "iopub.execute_input": "2022-06-28T19:18:19.623261Z",
     "iopub.status.busy": "2022-06-28T19:18:19.623035Z",
     "iopub.status.idle": "2022-06-28T19:18:19.633046Z",
     "shell.execute_reply": "2022-06-28T19:18:19.632291Z",
     "shell.execute_reply.started": "2022-06-28T19:18:19.623239Z"
    },
    "papermill": {},
    "tags": []
   },
   "outputs": [],
   "source": [
    "def update_interactions(df_posts,\n",
    "                        df_interaction,\n",
    "                        interaction,\n",
    "                        csv_output,\n",
    "                        no_posts=10,\n",
    "                        min_updated_time=300):\n",
    "    # Init\n",
    "    df_out = df_interaction.copy()\n",
    "    \n",
    "    # Get all interactions if dataframe init empty or not complete\n",
    "    if len(df_posts) == 0:\n",
    "        return pd.DataFrame()\n",
    "\n",
    "    if len(df_out) > 0:\n",
    "        if \"DATE_EXTRACT\" in df_out.columns:\n",
    "            last_update_date = df_out[\"DATE_EXTRACT\"].max()\n",
    "            time_last_update = datetime.now() - datetime.strptime(last_update_date, \"%Y-%m-%d %H:%M:%S\")\n",
    "            minute_last_update = time_last_update.total_seconds() / 60\n",
    "            if minute_last_update > min_updated_time:\n",
    "                df_posts = df_posts[:no_posts]\n",
    "            else:\n",
    "                print(f\"🛑 Nothing to update. Last update done {int(minute_last_update)} minutes ago.\")\n",
    "                return df_out.reset_index(drop=True)\n",
    "    else:\n",
    "        df_posts[\"SCENARIO\"] = pd.to_datetime(df_posts[\"PUBLISHED_DATE\"].str[:-6]).dt.strftime(PERIOD)\n",
    "        df_posts = df_posts[df_posts[\"SCENARIO\"] == datetime.now().strftime(PERIOD)].reset_index(drop=True)\n",
    "        \n",
    "    # Loop on posts\n",
    "    for index, row in df_posts.iterrows():\n",
    "        df_update = pd.DataFrame()\n",
    "        post_title = row.TITLE\n",
    "        post_author = row.AUTHOR_NAME\n",
    "        post_url = row.POST_URL\n",
    "        post_date = row.PUBLISHED_DATE\n",
    "        count_interactions = row[interaction]\n",
    "        print(f\"🔄 {index+1} - Update started on: '{post_title}' ({post_url})\")\n",
    "        \n",
    "        # Get interactions from post URL\n",
    "        if len(df_interaction) > 0:\n",
    "            tmp_df = df_interaction[df_interaction.POST_URL == post_url]\n",
    "            no_interactions = len(tmp_df)\n",
    "            if count_interactions != no_interactions:\n",
    "                print(f\"--> {count_interactions} post interaction count vs {no_interactions} interactions.\")\n",
    "                df_update = get_interactions(interaction, post_url)\n",
    "            else:\n",
    "                print(\"--->🛑 Nothing to update.\")\n",
    "        else:\n",
    "            df_update = get_interactions(interaction, post_url)\n",
    "        \n",
    "        # Concat dataframe and save dataframe in CSV\n",
    "        if len(df_update) > 0:\n",
    "            print(f\"---> {len(df_update)} interactions fetched.\")\n",
    "            df_update['TITLE'] = post_title\n",
    "            df_update['AUTHOR_NAME'] = post_author\n",
    "            df_update['PUBLISHED_DATE'] = post_date\n",
    "            keys = [\"POST_URL\", \"PROFILE_ID\"]\n",
    "            if interaction == \"COMMENTS\":\n",
    "                keys = [\"POST_URL\", \"PROFILE_ID\", \"CREATED_TIME\"]\n",
    "            df_out = pd.concat([df_update, df_out]).drop_duplicates(keys, keep=\"first\")\n",
    "            output_path = save_data(df_out, csv_output)\n",
    "            \n",
    "    # Add dependency in production\n",
    "    print(f\"✅ {len(df_out)} '{interaction}' fetched.\")\n",
    "    # Return all interactions\n",
    "    return df_out.reset_index(drop=True)"
   ]
  },
  {
   "cell_type": "markdown",
   "id": "10765e57-8597-4b08-9157-a4ef78082328",
   "metadata": {
    "papermill": {},
    "tags": []
   },
   "source": [
    "### Update likes\n",
    "It will update your last 10 posts like's from LinkedIn API.<br>\n",
    "PS: On the first execution all posts like's will be retrieved."
   ]
  },
  {
   "cell_type": "code",
   "execution_count": 8,
   "id": "c9787390-25c5-4c82-8901-160aea26ca92",
   "metadata": {
    "execution": {
     "iopub.execute_input": "2022-06-28T19:18:47.871512Z",
     "iopub.status.busy": "2022-06-28T19:18:47.871292Z",
     "iopub.status.idle": "2022-06-28T19:18:47.889319Z",
     "shell.execute_reply": "2022-06-28T19:18:47.888575Z",
     "shell.execute_reply.started": "2022-06-28T19:18:47.871489Z"
    },
    "tags": []
   },
   "outputs": [
    {
     "name": "stdout",
     "output_type": "stream",
     "text": [
      "🛑 Nothing to update. Last update done 222 minutes ago.\n"
     ]
    },
    {
     "data": {
      "text/html": [
       "<div>\n",
       "<style scoped>\n",
       "    .dataframe tbody tr th:only-of-type {\n",
       "        vertical-align: middle;\n",
       "    }\n",
       "\n",
       "    .dataframe tbody tr th {\n",
       "        vertical-align: top;\n",
       "    }\n",
       "\n",
       "    .dataframe thead th {\n",
       "        text-align: right;\n",
       "    }\n",
       "</style>\n",
       "<table border=\"1\" class=\"dataframe\">\n",
       "  <thead>\n",
       "    <tr style=\"text-align: right;\">\n",
       "      <th></th>\n",
       "      <th>PROFILE_ID</th>\n",
       "      <th>PROFILE_URL</th>\n",
       "      <th>PUBLIC_ID</th>\n",
       "      <th>FIRSTNAME</th>\n",
       "      <th>LASTNAME</th>\n",
       "      <th>FULLNAME</th>\n",
       "      <th>OCCUPATION</th>\n",
       "      <th>PROFILE_PICTURE</th>\n",
       "      <th>BACKGROUND_PICTURE</th>\n",
       "      <th>PROFILE_TYPE</th>\n",
       "      <th>REACTION_TYPE</th>\n",
       "      <th>POST_URL</th>\n",
       "      <th>DATE_EXTRACT</th>\n",
       "      <th>TITLE</th>\n",
       "      <th>AUTHOR_NAME</th>\n",
       "      <th>PUBLISHED_DATE</th>\n",
       "    </tr>\n",
       "  </thead>\n",
       "  <tbody>\n",
       "    <tr>\n",
       "      <th>0</th>\n",
       "      <td>ACoAAChHnMwBQ2zQadJd9cuma2eplAgjzGgew_A</td>\n",
       "      <td>https://www.linkedin.com/in/ACoAAChHnMwBQ2zQad...</td>\n",
       "      <td>amir-memon-55039916a</td>\n",
       "      <td>Amir</td>\n",
       "      <td>Memon</td>\n",
       "      <td>Amir Memon</td>\n",
       "      <td>Graduate Data Scientist👨‍💻 by profession ◾ Pet...</td>\n",
       "      <td>https://media-exp2.licdn.com/dms/image/C4E03AQ...</td>\n",
       "      <td>https://media-exp2.licdn.com/dms/image/C5616AQ...</td>\n",
       "      <td>PROFILE</td>\n",
       "      <td>PRAISE</td>\n",
       "      <td>https://www.linkedin.com/feed/update/urn:li:ac...</td>\n",
       "      <td>2022-06-28 17:36:36</td>\n",
       "      <td>🎨✍️Back at the design board.</td>\n",
       "      <td>Jérémy Ravenel</td>\n",
       "      <td>2022-06-20 20:50:56+02:00</td>\n",
       "    </tr>\n",
       "  </tbody>\n",
       "</table>\n",
       "</div>"
      ],
      "text/plain": [
       "                                PROFILE_ID  \\\n",
       "0  ACoAAChHnMwBQ2zQadJd9cuma2eplAgjzGgew_A   \n",
       "\n",
       "                                         PROFILE_URL             PUBLIC_ID  \\\n",
       "0  https://www.linkedin.com/in/ACoAAChHnMwBQ2zQad...  amir-memon-55039916a   \n",
       "\n",
       "  FIRSTNAME LASTNAME    FULLNAME  \\\n",
       "0      Amir    Memon  Amir Memon   \n",
       "\n",
       "                                          OCCUPATION  \\\n",
       "0  Graduate Data Scientist👨‍💻 by profession ◾ Pet...   \n",
       "\n",
       "                                     PROFILE_PICTURE  \\\n",
       "0  https://media-exp2.licdn.com/dms/image/C4E03AQ...   \n",
       "\n",
       "                                  BACKGROUND_PICTURE PROFILE_TYPE  \\\n",
       "0  https://media-exp2.licdn.com/dms/image/C5616AQ...      PROFILE   \n",
       "\n",
       "  REACTION_TYPE                                           POST_URL  \\\n",
       "0        PRAISE  https://www.linkedin.com/feed/update/urn:li:ac...   \n",
       "\n",
       "          DATE_EXTRACT                          TITLE     AUTHOR_NAME  \\\n",
       "0  2022-06-28 17:36:36  🎨✍️Back at the design board.   Jérémy Ravenel   \n",
       "\n",
       "              PUBLISHED_DATE  \n",
       "0  2022-06-20 20:50:56+02:00  "
      ]
     },
     "execution_count": 8,
     "metadata": {},
     "output_type": "execute_result"
    }
   ],
   "source": [
    "df_update_likes = update_interactions(df_posts,\n",
    "                                      df_likes,\n",
    "                                      \"LIKES\",\n",
    "                                      INPUT_LIKES)\n",
    "df_update_likes.head(1)"
   ]
  },
  {
   "cell_type": "markdown",
   "id": "6304b30e-3338-485c-9791-c78cf5b9de41",
   "metadata": {},
   "source": [
    "### Update comments\n",
    "It will update your last 10 posts comment's from LinkedIn API.<br>\n",
    "PS: On the first execution all posts comment's will be retrieved."
   ]
  },
  {
   "cell_type": "code",
   "execution_count": 9,
   "id": "96887ed1-9b31-48e9-83b5-e19e152afd7e",
   "metadata": {
    "execution": {
     "iopub.execute_input": "2022-06-28T19:18:53.822631Z",
     "iopub.status.busy": "2022-06-28T19:18:53.822410Z",
     "iopub.status.idle": "2022-06-28T19:18:53.844320Z",
     "shell.execute_reply": "2022-06-28T19:18:53.843642Z",
     "shell.execute_reply.started": "2022-06-28T19:18:53.822609Z"
    },
    "tags": []
   },
   "outputs": [
    {
     "name": "stdout",
     "output_type": "stream",
     "text": [
      "🛑 Nothing to update. Last update done 221 minutes ago.\n"
     ]
    },
    {
     "data": {
      "text/html": [
       "<div>\n",
       "<style scoped>\n",
       "    .dataframe tbody tr th:only-of-type {\n",
       "        vertical-align: middle;\n",
       "    }\n",
       "\n",
       "    .dataframe tbody tr th {\n",
       "        vertical-align: top;\n",
       "    }\n",
       "\n",
       "    .dataframe thead th {\n",
       "        text-align: right;\n",
       "    }\n",
       "</style>\n",
       "<table border=\"1\" class=\"dataframe\">\n",
       "  <thead>\n",
       "    <tr style=\"text-align: right;\">\n",
       "      <th></th>\n",
       "      <th>PROFILE_ID</th>\n",
       "      <th>PROFILE_URL</th>\n",
       "      <th>PUBLIC_ID</th>\n",
       "      <th>FIRSTNAME</th>\n",
       "      <th>LASTNAME</th>\n",
       "      <th>FULLNAME</th>\n",
       "      <th>OCCUPATION</th>\n",
       "      <th>PROFILE_PICTURE</th>\n",
       "      <th>BACKGROUND_PICTURE</th>\n",
       "      <th>PROFILE_TYPE</th>\n",
       "      <th>...</th>\n",
       "      <th>CREATED_TIME</th>\n",
       "      <th>LANGUAGE</th>\n",
       "      <th>DISTANCE</th>\n",
       "      <th>COMMENTS</th>\n",
       "      <th>LIKES</th>\n",
       "      <th>POST_URL</th>\n",
       "      <th>DATE_EXTRACT</th>\n",
       "      <th>TITLE</th>\n",
       "      <th>AUTHOR_NAME</th>\n",
       "      <th>PUBLISHED_DATE</th>\n",
       "    </tr>\n",
       "  </thead>\n",
       "  <tbody>\n",
       "    <tr>\n",
       "      <th>0</th>\n",
       "      <td>ACoAAAABPb8BgKkixeVN7cfz8qcUC28KUHQBfg4</td>\n",
       "      <td>https://www.linkedin.com/in/ACoAAAABPb8BgKkixe...</td>\n",
       "      <td>jeremywischusen</td>\n",
       "      <td>Jeremy</td>\n",
       "      <td>W.</td>\n",
       "      <td>Jeremy W.</td>\n",
       "      <td>Senior Full Stack Developer - The opinions I e...</td>\n",
       "      <td>https://media-exp2.licdn.com/dms/image/C5603AQ...</td>\n",
       "      <td>NaN</td>\n",
       "      <td>PROFILE</td>\n",
       "      <td>...</td>\n",
       "      <td>2022-06-24 05:05:45</td>\n",
       "      <td>English</td>\n",
       "      <td>DISTANCE_2</td>\n",
       "      <td>0</td>\n",
       "      <td>2</td>\n",
       "      <td>https://www.linkedin.com/feed/update/urn:li:ac...</td>\n",
       "      <td>2022-06-28 17:37:14</td>\n",
       "      <td>What's so hard about applied AI?</td>\n",
       "      <td>Jérémy Ravenel</td>\n",
       "      <td>2022-06-23 19:23:41+02:00</td>\n",
       "    </tr>\n",
       "  </tbody>\n",
       "</table>\n",
       "<p>1 rows × 21 columns</p>\n",
       "</div>"
      ],
      "text/plain": [
       "                                PROFILE_ID  \\\n",
       "0  ACoAAAABPb8BgKkixeVN7cfz8qcUC28KUHQBfg4   \n",
       "\n",
       "                                         PROFILE_URL        PUBLIC_ID  \\\n",
       "0  https://www.linkedin.com/in/ACoAAAABPb8BgKkixe...  jeremywischusen   \n",
       "\n",
       "  FIRSTNAME LASTNAME   FULLNAME  \\\n",
       "0    Jeremy       W.  Jeremy W.   \n",
       "\n",
       "                                          OCCUPATION  \\\n",
       "0  Senior Full Stack Developer - The opinions I e...   \n",
       "\n",
       "                                     PROFILE_PICTURE BACKGROUND_PICTURE  \\\n",
       "0  https://media-exp2.licdn.com/dms/image/C5603AQ...                NaN   \n",
       "\n",
       "  PROFILE_TYPE  ...         CREATED_TIME LANGUAGE    DISTANCE COMMENTS  LIKES  \\\n",
       "0      PROFILE  ...  2022-06-24 05:05:45  English  DISTANCE_2        0      2   \n",
       "\n",
       "                                            POST_URL         DATE_EXTRACT  \\\n",
       "0  https://www.linkedin.com/feed/update/urn:li:ac...  2022-06-28 17:37:14   \n",
       "\n",
       "                               TITLE     AUTHOR_NAME  \\\n",
       "0  What's so hard about applied AI?   Jérémy Ravenel   \n",
       "\n",
       "              PUBLISHED_DATE  \n",
       "0  2022-06-23 19:23:41+02:00  \n",
       "\n",
       "[1 rows x 21 columns]"
      ]
     },
     "execution_count": 9,
     "metadata": {},
     "output_type": "execute_result"
    }
   ],
   "source": [
    "df_update_comments = update_interactions(df_posts,\n",
    "                                         df_comments,\n",
    "                                         \"COMMENTS\",\n",
    "                                         INPUT_COMMENTS)\n",
    "df_update_comments.head(1)"
   ]
  },
  {
   "cell_type": "markdown",
   "id": "af194c87-87b3-4379-b870-9ea01e0ff90f",
   "metadata": {},
   "source": [
    "### Create interactions database\n",
    "- Concat LIKES and COMMENTS in single database\n",
    "- Create note for HubSpot"
   ]
  },
  {
   "cell_type": "code",
   "execution_count": 10,
   "id": "648a78c8-2cdd-4ebb-88b3-c960f3b13fbd",
   "metadata": {
    "execution": {
     "iopub.execute_input": "2022-06-28T19:18:57.935731Z",
     "iopub.status.busy": "2022-06-28T19:18:57.935507Z",
     "iopub.status.idle": "2022-06-28T19:18:57.986363Z",
     "shell.execute_reply": "2022-06-28T19:18:57.985697Z",
     "shell.execute_reply.started": "2022-06-28T19:18:57.935707Z"
    },
    "tags": []
   },
   "outputs": [
    {
     "name": "stdout",
     "output_type": "stream",
     "text": [
      "✅ 5565 interactions fetched.\n"
     ]
    },
    {
     "data": {
      "text/html": [
       "<div>\n",
       "<style scoped>\n",
       "    .dataframe tbody tr th:only-of-type {\n",
       "        vertical-align: middle;\n",
       "    }\n",
       "\n",
       "    .dataframe tbody tr th {\n",
       "        vertical-align: top;\n",
       "    }\n",
       "\n",
       "    .dataframe thead th {\n",
       "        text-align: right;\n",
       "    }\n",
       "</style>\n",
       "<table border=\"1\" class=\"dataframe\">\n",
       "  <thead>\n",
       "    <tr style=\"text-align: right;\">\n",
       "      <th></th>\n",
       "      <th>PROFILE_ID</th>\n",
       "      <th>PROFILE_URL</th>\n",
       "      <th>PUBLIC_ID</th>\n",
       "      <th>FIRSTNAME</th>\n",
       "      <th>LASTNAME</th>\n",
       "      <th>FULLNAME</th>\n",
       "      <th>OCCUPATION</th>\n",
       "      <th>REACTION</th>\n",
       "      <th>TEXT</th>\n",
       "      <th>TITLE</th>\n",
       "      <th>PUBLISHED_DATE</th>\n",
       "      <th>AUTHOR_NAME</th>\n",
       "      <th>POST_URL</th>\n",
       "    </tr>\n",
       "  </thead>\n",
       "  <tbody>\n",
       "    <tr>\n",
       "      <th>0</th>\n",
       "      <td>ACoAAB5zKVIB37Fjtw_HTJEcClYvE8CgL5Z9zUE</td>\n",
       "      <td>https://www.linkedin.com/in/ACoAAB5zKVIB37Fjtw...</td>\n",
       "      <td>ariprabowo</td>\n",
       "      <td>Ari Sulistiyo</td>\n",
       "      <td>Prabowo</td>\n",
       "      <td>Ari Sulistiyo Prabowo</td>\n",
       "      <td>Data &amp; Business | Entrepreneur | Investor</td>\n",
       "      <td>COMMENTS</td>\n",
       "      <td>Nice sharing Jérémy Ravenel</td>\n",
       "      <td>If you are interested in data and business, yo...</td>\n",
       "      <td>2022-06-26 19:26:42+02:00</td>\n",
       "      <td>Jérémy Ravenel</td>\n",
       "      <td>https://www.linkedin.com/feed/update/urn:li:ac...</td>\n",
       "    </tr>\n",
       "    <tr>\n",
       "      <th>1</th>\n",
       "      <td>ACoAAAW5nOsBFnNwysowDAZ9t87XbBuKTo47tsE</td>\n",
       "      <td>https://www.linkedin.com/in/ACoAAAW5nOsBFnNwys...</td>\n",
       "      <td>syree</td>\n",
       "      <td>Dr. Syreeta</td>\n",
       "      <td>Charles-Cole</td>\n",
       "      <td>Dr. Syreeta Charles-Cole</td>\n",
       "      <td>Interests | Ethical AI &amp; Machine Learning</td>\n",
       "      <td>LIKES</td>\n",
       "      <td>Not defined</td>\n",
       "      <td>If you are interested in data and business, yo...</td>\n",
       "      <td>2022-06-26 19:26:42+02:00</td>\n",
       "      <td>Jérémy Ravenel</td>\n",
       "      <td>https://www.linkedin.com/feed/update/urn:li:ac...</td>\n",
       "    </tr>\n",
       "    <tr>\n",
       "      <th>2</th>\n",
       "      <td>ACoAAADS0WQBhQQVMD2eFJNZgjOOjDTH6ptbScU</td>\n",
       "      <td>https://www.linkedin.com/in/ACoAAADS0WQBhQQVMD...</td>\n",
       "      <td>vineetvashishta</td>\n",
       "      <td>Vin</td>\n",
       "      <td>Vashishta</td>\n",
       "      <td>Vin Vashishta</td>\n",
       "      <td>Chief Data Officer | AI Strategist | DataScien...</td>\n",
       "      <td>LIKES</td>\n",
       "      <td>Not defined</td>\n",
       "      <td>If you are interested in data and business, yo...</td>\n",
       "      <td>2022-06-26 19:26:42+02:00</td>\n",
       "      <td>Jérémy Ravenel</td>\n",
       "      <td>https://www.linkedin.com/feed/update/urn:li:ac...</td>\n",
       "    </tr>\n",
       "  </tbody>\n",
       "</table>\n",
       "</div>"
      ],
      "text/plain": [
       "                                PROFILE_ID  \\\n",
       "0  ACoAAB5zKVIB37Fjtw_HTJEcClYvE8CgL5Z9zUE   \n",
       "1  ACoAAAW5nOsBFnNwysowDAZ9t87XbBuKTo47tsE   \n",
       "2  ACoAAADS0WQBhQQVMD2eFJNZgjOOjDTH6ptbScU   \n",
       "\n",
       "                                         PROFILE_URL        PUBLIC_ID  \\\n",
       "0  https://www.linkedin.com/in/ACoAAB5zKVIB37Fjtw...       ariprabowo   \n",
       "1  https://www.linkedin.com/in/ACoAAAW5nOsBFnNwys...            syree   \n",
       "2  https://www.linkedin.com/in/ACoAAADS0WQBhQQVMD...  vineetvashishta   \n",
       "\n",
       "       FIRSTNAME      LASTNAME                  FULLNAME  \\\n",
       "0  Ari Sulistiyo       Prabowo     Ari Sulistiyo Prabowo   \n",
       "1    Dr. Syreeta  Charles-Cole  Dr. Syreeta Charles-Cole   \n",
       "2            Vin     Vashishta             Vin Vashishta   \n",
       "\n",
       "                                          OCCUPATION  REACTION  \\\n",
       "0          Data & Business | Entrepreneur | Investor  COMMENTS   \n",
       "1          Interests | Ethical AI & Machine Learning     LIKES   \n",
       "2  Chief Data Officer | AI Strategist | DataScien...     LIKES   \n",
       "\n",
       "                          TEXT  \\\n",
       "0  Nice sharing Jérémy Ravenel   \n",
       "1                  Not defined   \n",
       "2                  Not defined   \n",
       "\n",
       "                                               TITLE  \\\n",
       "0  If you are interested in data and business, yo...   \n",
       "1  If you are interested in data and business, yo...   \n",
       "2  If you are interested in data and business, yo...   \n",
       "\n",
       "              PUBLISHED_DATE     AUTHOR_NAME  \\\n",
       "0  2022-06-26 19:26:42+02:00  Jérémy Ravenel   \n",
       "1  2022-06-26 19:26:42+02:00  Jérémy Ravenel   \n",
       "2  2022-06-26 19:26:42+02:00  Jérémy Ravenel   \n",
       "\n",
       "                                            POST_URL  \n",
       "0  https://www.linkedin.com/feed/update/urn:li:ac...  \n",
       "1  https://www.linkedin.com/feed/update/urn:li:ac...  \n",
       "2  https://www.linkedin.com/feed/update/urn:li:ac...  "
      ]
     },
     "execution_count": 10,
     "metadata": {},
     "output_type": "execute_result"
    }
   ],
   "source": [
    "def create_interactions_db(df_likes, df_comments):\n",
    "    # Init outputs\n",
    "    df = pd.DataFrame()\n",
    "    \n",
    "    # Dataframe likes\n",
    "    df_likes[\"REACTION\"] = \"LIKES\"\n",
    "\n",
    "    # Dataframe comments\n",
    "    df_comments[\"REACTION\"] = \"COMMENTS\"\n",
    "    \n",
    "    # Concat\n",
    "    df = pd.concat([df_likes, df_comments]).fillna(\"Not defined\").sort_values(by=\"PUBLISHED_DATE\", ascending=False)\n",
    "    \n",
    "    # Cleaning\n",
    "    to_keep = [\n",
    "        \"PROFILE_ID\",\n",
    "        \"PROFILE_URL\",\n",
    "        \"PUBLIC_ID\",\n",
    "        \"FIRSTNAME\",\n",
    "        \"LASTNAME\",\n",
    "        \"FULLNAME\",\n",
    "        \"OCCUPATION\",\n",
    "        \"REACTION\",\n",
    "        \"TEXT\",\n",
    "        \"TITLE\",\n",
    "        \"PUBLISHED_DATE\",\n",
    "        \"AUTHOR_NAME\",\n",
    "        \"POST_URL\",\n",
    "    ]\n",
    "    df = df[to_keep]\n",
    "    \n",
    "    print(f\"✅ {len(df)} interactions fetched.\")\n",
    "    return df.reset_index(drop=True)\n",
    "\n",
    "df_interactions = create_interactions_db(df_update_likes, df_update_comments)\n",
    "df_interactions.head(3)"
   ]
  },
  {
   "cell_type": "markdown",
   "id": "8fc7dd85-cb09-4564-8741-a59614694195",
   "metadata": {},
   "source": [
    "### Save data"
   ]
  },
  {
   "cell_type": "code",
   "execution_count": 11,
   "id": "c025602b-42d2-4bc3-9089-5c271f7c113f",
   "metadata": {
    "execution": {
     "iopub.execute_input": "2022-06-28T19:19:06.414788Z",
     "iopub.status.busy": "2022-06-28T19:19:06.414565Z",
     "iopub.status.idle": "2022-06-28T19:19:07.272766Z",
     "shell.execute_reply": "2022-06-28T19:19:07.272068Z",
     "shell.execute_reply.started": "2022-06-28T19:19:06.414764Z"
    },
    "tags": []
   },
   "outputs": [
    {
     "name": "stdout",
     "output_type": "stream",
     "text": [
      "👌 Well done! Your Dependency has been sent to production. \n",
      "\n",
      "PS: to remove the \"Dependency\" feature, just replace .add by .delete\n",
      "✅ Dataframe successfully saved in CSV: LinkedIn/Inputs/LINKEDIN_PROFILE_ENGAGEMENTS_ACoAAAJHE7sB5OxuKHuzguZ9L6lfDHqw--cdnJg.csv\n"
     ]
    }
   ],
   "source": [
    "save_data(df_interactions, OUTPUT_DATABASE)"
   ]
  },
  {
   "cell_type": "code",
   "execution_count": null,
   "id": "0db2f780-9aec-4dd3-b15a-291029f121b6",
   "metadata": {},
   "outputs": [],
   "source": []
  }
 ],
 "metadata": {
  "kernelspec": {
   "display_name": "Python 3",
   "language": "python",
   "name": "python3"
  },
  "language_info": {
   "codemirror_mode": {
    "name": "ipython",
    "version": 3
   },
   "file_extension": ".py",
   "mimetype": "text/x-python",
   "name": "python",
   "nbconvert_exporter": "python",
   "pygments_lexer": "ipython3",
   "version": "3.9.6"
  },
  "papermill": {
   "default_parameters": {},
   "environment_variables": {},
   "parameters": {},
   "version": "2.3.4"
  }
 },
 "nbformat": 4,
 "nbformat_minor": 5
}
