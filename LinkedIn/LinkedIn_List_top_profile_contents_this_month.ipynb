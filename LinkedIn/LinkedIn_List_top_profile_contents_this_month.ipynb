{
 "cells": [
  {
   "cell_type": "markdown",
   "id": "a6fcf7c9",
   "metadata": {
    "papermill": {},
    "tags": []
   },
   "source": [
    "<img width=\"10%\" alt=\"Naas\" src=\"https://landen.imgix.net/jtci2pxwjczr/assets/5ice39g4.png?w=160\"/>\n"
   ]
  },
  {
   "cell_type": "markdown",
   "id": "7217870e",
   "metadata": {
    "papermill": {},
    "tags": []
   },
   "source": [
    "# LinkedIn - List top profile contents\n",
    "<a href=\"https://app.naas.ai/user-redirect/naas/downloader?url=https://raw.githubusercontent.com/jupyter-naas/awesome-notebooks/master/LinkedIn/Linkedin_Follow_number_of_content_published.ipynb\" target=\"_parent\"><img src=\"https://naasai-public.s3.eu-west-3.amazonaws.com/open_in_naas.svg\"/></a>"
   ]
  },
  {
   "cell_type": "markdown",
   "id": "c8756b96",
   "metadata": {
    "papermill": {},
    "tags": []
   },
   "source": [
    "**Tags:** #linkedin #html #plotly #csv #image #content #analytics #automation"
   ]
  },
  {
   "cell_type": "markdown",
   "id": "520d91fd",
   "metadata": {
    "papermill": {},
    "tags": []
   },
   "source": [
    "**Author:** [Florent Ravenel](https://www.linkedin.com/in/florent-ravenel/)"
   ]
  },
  {
   "cell_type": "markdown",
   "id": "227b8ffb",
   "metadata": {
    "papermill": {},
    "tags": []
   },
   "source": [
    "## Input"
   ]
  },
  {
   "cell_type": "code",
   "execution_count": null,
   "id": "a9ed07a4-0f86-4282-928d-1c95f2ca8dd2",
   "metadata": {
    "tags": []
   },
   "outputs": [],
   "source": [
    "# Except allow to run common.ipynb once using Naas Engine\n",
    "try:\n",
    "    %run \"../common.ipynb\"\n",
    "except:\n",
    "    %run \"common.ipynb\""
   ]
  },
  {
   "cell_type": "markdown",
   "id": "024797b3",
   "metadata": {
    "papermill": {},
    "tags": []
   },
   "source": [
    "### Setup Variables"
   ]
  },
  {
   "cell_type": "code",
   "execution_count": null,
   "id": "81f1fde6-e3a7-4617-82da-c332ec4a2ee6",
   "metadata": {
    "tags": []
   },
   "outputs": [],
   "source": [
    "KPI_TITLE = \"Top posts\"\n",
    "INPUT_DATABASE = LK_PROFILE_POSTS\n",
    "OWNER = LK_FULLNAME\n",
    "OWNER_ID = LK_PROFILE_ID\n",
    "PLATFORM = LINKEDIN\n",
    "LOGO = LINKEDIN_LOGO\n",
    "COLOR = LINKEDIN_COLOR"
   ]
  },
  {
   "cell_type": "markdown",
   "id": "4d4e1379-ea4e-4fb1-ba52-606cf89b114a",
   "metadata": {},
   "source": [
    "### Setup Constants"
   ]
  },
  {
   "cell_type": "code",
   "execution_count": null,
   "id": "17dcc289",
   "metadata": {
    "papermill": {},
    "tags": []
   },
   "outputs": [],
   "source": [
    "# Inputs\n",
    "SCENARIO = SCENARIO_MTD\n",
    "PERIOD = PERIOD_MTD\n",
    "PERIOD_D = DISPLAY_MTD\n",
    "PERIOD_TEXT = TEXT_MTD\n",
    "PERIOD_TEXT2 = TEXT2_MTD"
   ]
  },
  {
   "cell_type": "markdown",
   "id": "1bb8c4cd",
   "metadata": {
    "papermill": {},
    "tags": []
   },
   "source": [
    "## Model"
   ]
  },
  {
   "cell_type": "markdown",
   "id": "024e9efb-4c80-4c60-a455-103af0884d2d",
   "metadata": {},
   "source": [
    "### Get your posts"
   ]
  },
  {
   "cell_type": "code",
   "execution_count": null,
   "id": "6d00847f-e9bf-4f92-a2b4-406468fb09e2",
   "metadata": {
    "tags": []
   },
   "outputs": [],
   "source": [
    "df_posts = get_data(INPUT_DATABASE)\n",
    "print(\"✅ Posts fetched:\", len(df_posts))\n",
    "df_posts.head(1)"
   ]
  },
  {
   "cell_type": "markdown",
   "id": "b3511284-f35d-44e7-9a81-f75f6c4534ca",
   "metadata": {},
   "source": [
    "### Get top posts"
   ]
  },
  {
   "cell_type": "code",
   "execution_count": null,
   "id": "e9f40339-4618-42a7-a2c1-37cb46437bb2",
   "metadata": {
    "tags": []
   },
   "outputs": [],
   "source": [
    "def get_posts(df_init,\n",
    "              col_date):\n",
    "    \n",
    "    # Init variable\n",
    "    df = df_init.copy()\n",
    "    df[\"VIEWS\"] = df[\"VIEWS\"].astype(int)\n",
    "    df[\"LIKES\"] = df[\"LIKES\"].astype(int)\n",
    "    df[\"COMMENTS\"] = df[\"COMMENTS\"].astype(int)\n",
    "    df[\"ENGAGEMENT_SCORE\"] = df[\"ENGAGEMENT_SCORE\"].astype(float)\n",
    "    df[SCENARIO] = pd.to_datetime(df[col_date].str[:-6]).dt.strftime(PERIOD)\n",
    "    \n",
    "    # Filter\n",
    "    df = df[df[SCENARIO] == datetime.now().strftime(PERIOD)].reset_index(drop=True)\n",
    "    \n",
    "    # Sort\n",
    "    df = df.sort_values(by=\"VIEWS\", ascending=False)\n",
    "    \n",
    "    # Order\n",
    "    df = df[[\"TITLE\", \"PUBLISHED_DATE\", \"AUTHOR_NAME\", \"POST_URL\", \"VIEWS\", \"LIKES\", \"COMMENTS\", \"SHARES\", \"ENGAGEMENT_SCORE\"]]\n",
    "    return df.reset_index(drop=True)\n",
    "\n",
    "df_top = get_posts(df_posts,\n",
    "                   col_date=\"PUBLISHED_DATE\")\n",
    "df_top"
   ]
  },
  {
   "cell_type": "markdown",
   "id": "942c681d",
   "metadata": {
    "papermill": {},
    "tags": []
   },
   "source": [
    "## Output"
   ]
  },
  {
   "cell_type": "markdown",
   "id": "3338b963-dd53-4340-a5f7-aa232fa09970",
   "metadata": {
    "execution": {
     "iopub.execute_input": "2022-06-16T12:40:24.017252Z",
     "iopub.status.busy": "2022-06-16T12:40:24.016941Z",
     "iopub.status.idle": "2022-06-16T12:40:24.020164Z",
     "shell.execute_reply": "2022-06-16T12:40:24.019527Z",
     "shell.execute_reply.started": "2022-06-16T12:40:24.017224Z"
    },
    "tags": []
   },
   "source": [
    "### Update Notion Report"
   ]
  },
  {
   "cell_type": "code",
   "execution_count": null,
   "id": "1d3af86d-4c96-48d2-a0fa-101bbfa3090f",
   "metadata": {
    "tags": []
   },
   "outputs": [],
   "source": [
    "list_top_posts(KPI_TITLE,\n",
    "               PLATFORM,\n",
    "               OWNER,\n",
    "               df_top)"
   ]
  },
  {
   "cell_type": "code",
   "execution_count": null,
   "id": "cc94ba25-8dd4-4392-a55e-9273f365c733",
   "metadata": {},
   "outputs": [],
   "source": []
  }
 ],
 "metadata": {
  "kernelspec": {
   "display_name": "Python 3",
   "language": "python",
   "name": "python3"
  },
  "language_info": {
   "codemirror_mode": {
    "name": "ipython",
    "version": 3
   },
   "file_extension": ".py",
   "mimetype": "text/x-python",
   "name": "python",
   "nbconvert_exporter": "python",
   "pygments_lexer": "ipython3",
   "version": "3.9.6"
  },
  "papermill": {
   "default_parameters": {},
   "environment_variables": {},
   "parameters": {},
   "version": "2.3.4"
  }
 },
 "nbformat": 4,
 "nbformat_minor": 5
}
