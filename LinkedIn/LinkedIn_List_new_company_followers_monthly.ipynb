{
 "cells": [
  {
   "cell_type": "markdown",
   "id": "a6fcf7c9",
   "metadata": {
    "papermill": {},
    "tags": []
   },
   "source": [
    "<img width=\"10%\" alt=\"Naas\" src=\"https://landen.imgix.net/jtci2pxwjczr/assets/5ice39g4.png?w=160\"/>\n"
   ]
  },
  {
   "cell_type": "markdown",
   "id": "7217870e",
   "metadata": {
    "papermill": {},
    "tags": []
   },
   "source": [
    "# LinkedIn - List new company follower monthly\n",
    "<a href=\"https://app.naas.ai/user-redirect/naas/downloader?url=https://raw.githubusercontent.com/jupyter-naas/awesome-notebooks/master/LinkedIn/Linkedin_Follow_number_of_content_published.ipynb\" target=\"_parent\"><img src=\"https://naasai-public.s3.eu-west-3.amazonaws.com/open_in_naas.svg\"/></a>"
   ]
  },
  {
   "cell_type": "markdown",
   "id": "c8756b96",
   "metadata": {
    "papermill": {},
    "tags": []
   },
   "source": [
    "**Tags:** #linkedin #html #plotly #csv #image #content #analytics #automation"
   ]
  },
  {
   "cell_type": "markdown",
   "id": "520d91fd",
   "metadata": {
    "papermill": {},
    "tags": []
   },
   "source": [
    "**Author:** [Florent Ravenel](https://www.linkedin.com/in/florent-ravenel/)"
   ]
  },
  {
   "cell_type": "markdown",
   "id": "227b8ffb",
   "metadata": {
    "papermill": {},
    "tags": []
   },
   "source": [
    "## Input"
   ]
  },
  {
   "cell_type": "markdown",
   "id": "8278ae03-f76b-49fb-b8e1-57101e2836ad",
   "metadata": {},
   "source": [
    "### Get common variables, functions"
   ]
  },
  {
   "cell_type": "code",
   "execution_count": 1,
   "id": "a9ed07a4-0f86-4282-928d-1c95f2ca8dd2",
   "metadata": {
    "execution": {
     "iopub.execute_input": "2022-07-03T11:36:31.035167Z",
     "iopub.status.busy": "2022-07-03T11:36:31.034608Z",
     "iopub.status.idle": "2022-07-03T11:36:40.194551Z",
     "shell.execute_reply": "2022-07-03T11:36:40.193923Z",
     "shell.execute_reply.started": "2022-07-03T11:36:31.034963Z"
    },
    "tags": []
   },
   "outputs": [],
   "source": [
    "# Except allow to run common.ipynb once using Naas Engine\n",
    "try:\n",
    "    %run \"../common.ipynb\"\n",
    "except:\n",
    "    %run \"common.ipynb\""
   ]
  },
  {
   "cell_type": "markdown",
   "id": "024797b3",
   "metadata": {
    "papermill": {},
    "tags": []
   },
   "source": [
    "### Setup Variables"
   ]
  },
  {
   "cell_type": "code",
   "execution_count": 2,
   "id": "81f1fde6-e3a7-4617-82da-c332ec4a2ee6",
   "metadata": {
    "execution": {
     "iopub.execute_input": "2022-07-03T11:36:40.196051Z",
     "iopub.status.busy": "2022-07-03T11:36:40.195801Z",
     "iopub.status.idle": "2022-07-03T11:36:40.200644Z",
     "shell.execute_reply": "2022-07-03T11:36:40.200090Z",
     "shell.execute_reply.started": "2022-07-03T11:36:40.196021Z"
    },
    "tags": []
   },
   "outputs": [],
   "source": [
    "KPI_TITLE = \"New followers\""
   ]
  },
  {
   "cell_type": "markdown",
   "id": "4d4e1379-ea4e-4fb1-ba52-606cf89b114a",
   "metadata": {},
   "source": [
    "### Setup Constants"
   ]
  },
  {
   "cell_type": "code",
   "execution_count": 3,
   "id": "17dcc289",
   "metadata": {
    "execution": {
     "iopub.execute_input": "2022-07-03T11:36:40.201775Z",
     "iopub.status.busy": "2022-07-03T11:36:40.201533Z",
     "iopub.status.idle": "2022-07-03T11:36:40.306717Z",
     "shell.execute_reply": "2022-07-03T11:36:40.305950Z",
     "shell.execute_reply.started": "2022-07-03T11:36:40.201743Z"
    },
    "papermill": {},
    "tags": []
   },
   "outputs": [],
   "source": [
    "# Inputs\n",
    "PLATFORM = LINKEDIN\n",
    "OWNER = LK_COMPANY_NAME\n",
    "SCENARIO = SCENARIO_MTD\n",
    "PERIOD = PERIOD_MTD\n",
    "COL_DATE = \"FOLLOWED_AT\"\n",
    "\n",
    "# Input\n",
    "csv_input = path.join(LINKEDIN_OUTPUTS, f\"LINKEDIN_FOLLOW_COMPANY_FOLLOWERS_{SCENARIO}_{LK_COMPANY_ID}.csv\")"
   ]
  },
  {
   "cell_type": "markdown",
   "id": "1bb8c4cd",
   "metadata": {
    "papermill": {},
    "tags": []
   },
   "source": [
    "## Model"
   ]
  },
  {
   "cell_type": "markdown",
   "id": "024e9efb-4c80-4c60-a455-103af0884d2d",
   "metadata": {},
   "source": [
    "### Get company followers"
   ]
  },
  {
   "cell_type": "code",
   "execution_count": 4,
   "id": "6d00847f-e9bf-4f92-a2b4-406468fb09e2",
   "metadata": {
    "execution": {
     "iopub.execute_input": "2022-07-03T11:36:40.308278Z",
     "iopub.status.busy": "2022-07-03T11:36:40.307814Z",
     "iopub.status.idle": "2022-07-03T11:36:40.459413Z",
     "shell.execute_reply": "2022-07-03T11:36:40.458837Z",
     "shell.execute_reply.started": "2022-07-03T11:36:40.308244Z"
    },
    "tags": []
   },
   "outputs": [
    {
     "name": "stdout",
     "output_type": "stream",
     "text": [
      "Data fetched: 1902\n"
     ]
    },
    {
     "data": {
      "text/html": [
       "<div>\n",
       "<style scoped>\n",
       "    .dataframe tbody tr th:only-of-type {\n",
       "        vertical-align: middle;\n",
       "    }\n",
       "\n",
       "    .dataframe tbody tr th {\n",
       "        vertical-align: top;\n",
       "    }\n",
       "\n",
       "    .dataframe thead th {\n",
       "        text-align: right;\n",
       "    }\n",
       "</style>\n",
       "<table border=\"1\" class=\"dataframe\">\n",
       "  <thead>\n",
       "    <tr style=\"text-align: right;\">\n",
       "      <th></th>\n",
       "      <th>FIRSTNAME</th>\n",
       "      <th>LASTNAME</th>\n",
       "      <th>OCCUPATION</th>\n",
       "      <th>PROFILE_PICTURE</th>\n",
       "      <th>PROFILE_URL</th>\n",
       "      <th>PROFILE_ID</th>\n",
       "      <th>PUBLIC_ID</th>\n",
       "      <th>FOLLOWED_AT</th>\n",
       "      <th>DISTANCE</th>\n",
       "      <th>STATUS</th>\n",
       "      <th>DATE_EXTRACT</th>\n",
       "    </tr>\n",
       "  </thead>\n",
       "  <tbody>\n",
       "    <tr>\n",
       "      <th>0</th>\n",
       "      <td>Justin</td>\n",
       "      <td>MAHORO</td>\n",
       "      <td>Technical Staff</td>\n",
       "      <td>NaN</td>\n",
       "      <td>https://www.linkedin.com/in/ACoAAA3XCo4B0Za6hb...</td>\n",
       "      <td>ACoAAA3XCo4B0Za6hbfdDuu7Lvlu1H50rjclgU4</td>\n",
       "      <td>justin-mahoro-15291965</td>\n",
       "      <td>2022-07-03 10:41:33</td>\n",
       "      <td>DISTANCE_3</td>\n",
       "      <td>Successfull</td>\n",
       "      <td>2022-07-03 13:24:23</td>\n",
       "    </tr>\n",
       "  </tbody>\n",
       "</table>\n",
       "</div>"
      ],
      "text/plain": [
       "  FIRSTNAME LASTNAME       OCCUPATION PROFILE_PICTURE  \\\n",
       "0    Justin   MAHORO  Technical Staff             NaN   \n",
       "\n",
       "                                         PROFILE_URL  \\\n",
       "0  https://www.linkedin.com/in/ACoAAA3XCo4B0Za6hb...   \n",
       "\n",
       "                                PROFILE_ID               PUBLIC_ID  \\\n",
       "0  ACoAAA3XCo4B0Za6hbfdDuu7Lvlu1H50rjclgU4  justin-mahoro-15291965   \n",
       "\n",
       "           FOLLOWED_AT    DISTANCE       STATUS         DATE_EXTRACT  \n",
       "0  2022-07-03 10:41:33  DISTANCE_3  Successfull  2022-07-03 13:24:23  "
      ]
     },
     "execution_count": 4,
     "metadata": {},
     "output_type": "execute_result"
    }
   ],
   "source": [
    "df_init = get_data(LK_COMPANY_FOLLOWERS)\n",
    "print(\"Data fetched:\", len(df_init))\n",
    "df_init.head(1)"
   ]
  },
  {
   "cell_type": "markdown",
   "id": "02b70a9a-637c-499f-b21f-cf2696666a14",
   "metadata": {},
   "source": [
    "### Get data"
   ]
  },
  {
   "cell_type": "code",
   "execution_count": 5,
   "id": "2dd9dc60-6abb-4594-b0e6-687edcf944e9",
   "metadata": {
    "execution": {
     "iopub.execute_input": "2022-07-03T11:36:40.461605Z",
     "iopub.status.busy": "2022-07-03T11:36:40.461333Z",
     "iopub.status.idle": "2022-07-03T11:36:40.527188Z",
     "shell.execute_reply": "2022-07-03T11:36:40.526548Z",
     "shell.execute_reply.started": "2022-07-03T11:36:40.461583Z"
    },
    "tags": []
   },
   "outputs": [],
   "source": [
    "def calc_value(csv_input):\n",
    "    df = get_data(csv_input)\n",
    "    if len(df) > 0:\n",
    "        value = df.loc[df.index[-1], \"VARV\"]\n",
    "        value_comp = df.loc[df.index[-2], \"VARV\"]\n",
    "        varv = value - value_comp\n",
    "        varp = varv / abs(value_comp)\n",
    "        return value, value_comp, varv, varp\n",
    "    else:\n",
    "        return 0, 0, 0, 0\n",
    "\n",
    "value, value_comp, varv, varp = calc_value(csv_input)\n",
    "# print(value, value_comp, varv, varp)"
   ]
  },
  {
   "cell_type": "markdown",
   "id": "b3511284-f35d-44e7-9a81-f75f6c4534ca",
   "metadata": {},
   "source": [
    "### Get list"
   ]
  },
  {
   "cell_type": "code",
   "execution_count": 6,
   "id": "e9f40339-4618-42a7-a2c1-37cb46437bb2",
   "metadata": {
    "execution": {
     "iopub.execute_input": "2022-07-03T11:36:40.528467Z",
     "iopub.status.busy": "2022-07-03T11:36:40.528232Z",
     "iopub.status.idle": "2022-07-03T11:36:40.665423Z",
     "shell.execute_reply": "2022-07-03T11:36:40.664811Z",
     "shell.execute_reply.started": "2022-07-03T11:36:40.528435Z"
    },
    "tags": []
   },
   "outputs": [
    {
     "name": "stdout",
     "output_type": "stream",
     "text": [
      "New rows: 4\n"
     ]
    },
    {
     "data": {
      "text/html": [
       "<div>\n",
       "<style scoped>\n",
       "    .dataframe tbody tr th:only-of-type {\n",
       "        vertical-align: middle;\n",
       "    }\n",
       "\n",
       "    .dataframe tbody tr th {\n",
       "        vertical-align: top;\n",
       "    }\n",
       "\n",
       "    .dataframe thead th {\n",
       "        text-align: right;\n",
       "    }\n",
       "</style>\n",
       "<table border=\"1\" class=\"dataframe\">\n",
       "  <thead>\n",
       "    <tr style=\"text-align: right;\">\n",
       "      <th></th>\n",
       "      <th>FIRSTNAME</th>\n",
       "      <th>LASTNAME</th>\n",
       "      <th>OCCUPATION</th>\n",
       "      <th>PROFILE_PICTURE</th>\n",
       "      <th>PROFILE_URL</th>\n",
       "      <th>PROFILE_ID</th>\n",
       "      <th>PUBLIC_ID</th>\n",
       "      <th>FOLLOWED_AT</th>\n",
       "      <th>DISTANCE</th>\n",
       "      <th>STATUS</th>\n",
       "      <th>DATE_EXTRACT</th>\n",
       "      <th>MTD</th>\n",
       "      <th>DATE</th>\n",
       "      <th>HOURS</th>\n",
       "    </tr>\n",
       "  </thead>\n",
       "  <tbody>\n",
       "    <tr>\n",
       "      <th>0</th>\n",
       "      <td>Justin</td>\n",
       "      <td>MAHORO</td>\n",
       "      <td>Technical Staff</td>\n",
       "      <td>NaN</td>\n",
       "      <td>https://www.linkedin.com/in/ACoAAA3XCo4B0Za6hb...</td>\n",
       "      <td>ACoAAA3XCo4B0Za6hbfdDuu7Lvlu1H50rjclgU4</td>\n",
       "      <td>justin-mahoro-15291965</td>\n",
       "      <td>2022-07-03 10:41:33</td>\n",
       "      <td>DISTANCE_3</td>\n",
       "      <td>Successfull</td>\n",
       "      <td>2022-07-03 13:24:23</td>\n",
       "      <td>2022-07</td>\n",
       "      <td>2022-07-03</td>\n",
       "      <td>10:41:33</td>\n",
       "    </tr>\n",
       "  </tbody>\n",
       "</table>\n",
       "</div>"
      ],
      "text/plain": [
       "  FIRSTNAME LASTNAME       OCCUPATION PROFILE_PICTURE  \\\n",
       "0    Justin   MAHORO  Technical Staff             NaN   \n",
       "\n",
       "                                         PROFILE_URL  \\\n",
       "0  https://www.linkedin.com/in/ACoAAA3XCo4B0Za6hb...   \n",
       "\n",
       "                                PROFILE_ID               PUBLIC_ID  \\\n",
       "0  ACoAAA3XCo4B0Za6hbfdDuu7Lvlu1H50rjclgU4  justin-mahoro-15291965   \n",
       "\n",
       "           FOLLOWED_AT    DISTANCE       STATUS         DATE_EXTRACT      MTD  \\\n",
       "0  2022-07-03 10:41:33  DISTANCE_3  Successfull  2022-07-03 13:24:23  2022-07   \n",
       "\n",
       "         DATE     HOURS  \n",
       "0  2022-07-03  10:41:33  "
      ]
     },
     "execution_count": 6,
     "metadata": {},
     "output_type": "execute_result"
    }
   ],
   "source": [
    "def get_list(df_init,\n",
    "              col_date):\n",
    "    \n",
    "    # Init variable\n",
    "    df = df_init.copy()\n",
    "    df[SCENARIO] = pd.to_datetime(df[col_date]).dt.strftime(PERIOD)\n",
    "    df[\"DATE\"] = pd.to_datetime(df[col_date]).dt.strftime(\"%Y-%m-%d\")\n",
    "    df[\"DATE_NUMBER\"] = pd.to_datetime(df[col_date]).dt.strftime(\"%Y%m%d\")\n",
    "    df[\"HOURS\"] = pd.to_datetime(df[col_date]).dt.strftime(\"%H:%M:%S\")\n",
    "    \n",
    "    # Filter\n",
    "    df = df[df[SCENARIO] == datetime.now().strftime(PERIOD)].reset_index(drop=True)\n",
    "    \n",
    "    # Sort\n",
    "    df = df.sort_values(by=col_date, ascending=False)\n",
    "    return df.reset_index(drop=True)\n",
    "\n",
    "df_new = get_list(df_init,\n",
    "                  col_date=COL_DATE)\n",
    "print(\"New rows:\", len(df_new))\n",
    "df_new.head(1)"
   ]
  },
  {
   "cell_type": "markdown",
   "id": "942c681d",
   "metadata": {
    "papermill": {},
    "tags": []
   },
   "source": [
    "## Output"
   ]
  },
  {
   "cell_type": "markdown",
   "id": "3338b963-dd53-4340-a5f7-aa232fa09970",
   "metadata": {
    "execution": {
     "iopub.execute_input": "2022-06-16T12:40:24.017252Z",
     "iopub.status.busy": "2022-06-16T12:40:24.016941Z",
     "iopub.status.idle": "2022-06-16T12:40:24.020164Z",
     "shell.execute_reply": "2022-06-16T12:40:24.019527Z",
     "shell.execute_reply.started": "2022-06-16T12:40:24.017224Z"
    },
    "tags": []
   },
   "source": [
    "### Update Notion Report"
   ]
  },
  {
   "cell_type": "code",
   "execution_count": 7,
   "id": "1d3af86d-4c96-48d2-a0fa-101bbfa3090f",
   "metadata": {
    "execution": {
     "iopub.execute_input": "2022-07-03T11:36:40.667566Z",
     "iopub.status.busy": "2022-07-03T11:36:40.667323Z",
     "iopub.status.idle": "2022-07-03T11:38:16.297173Z",
     "shell.execute_reply": "2022-07-03T11:38:16.295673Z",
     "shell.execute_reply.started": "2022-07-03T11:36:40.667534Z"
    },
    "tags": []
   },
   "outputs": [
    {
     "name": "stdout",
     "output_type": "stream",
     "text": [
      "✅ Page 'New followers - LinkedIn - naas.ai' updated in Notion.\n"
     ]
    }
   ],
   "source": [
    "page = list_new_connections(KPI_TITLE,\n",
    "                            PLATFORM,\n",
    "                            OWNER,\n",
    "                            df_new)"
   ]
  },
  {
   "cell_type": "code",
   "execution_count": null,
   "id": "0ebab75c-07b0-46f6-bdad-f3fc0de7a17f",
   "metadata": {},
   "outputs": [],
   "source": []
  }
 ],
 "metadata": {
  "kernelspec": {
   "display_name": "Python 3",
   "language": "python",
   "name": "python3"
  },
  "language_info": {
   "codemirror_mode": {
    "name": "ipython",
    "version": 3
   },
   "file_extension": ".py",
   "mimetype": "text/x-python",
   "name": "python",
   "nbconvert_exporter": "python",
   "pygments_lexer": "ipython3",
   "version": "3.9.6"
  },
  "papermill": {
   "default_parameters": {},
   "environment_variables": {},
   "parameters": {},
   "version": "2.3.4"
  }
 },
 "nbformat": 4,
 "nbformat_minor": 5
}
