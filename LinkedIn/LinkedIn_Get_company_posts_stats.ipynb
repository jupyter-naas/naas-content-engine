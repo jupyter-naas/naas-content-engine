{
 "cells": [
  {
   "cell_type": "markdown",
   "id": "recreational-precipitation",
   "metadata": {
    "execution": {
     "iopub.execute_input": "2021-01-25T08:00:35.294800Z",
     "iopub.status.busy": "2021-01-25T08:00:35.294557Z",
     "iopub.status.idle": "2021-01-25T08:00:35.307281Z",
     "shell.execute_reply": "2021-01-25T08:00:35.306468Z",
     "shell.execute_reply.started": "2021-01-25T08:00:35.294775Z"
    },
    "papermill": {},
    "tags": []
   },
   "source": [
    "<img width=\"10%\" alt=\"Naas\" src=\"https://landen.imgix.net/jtci2pxwjczr/assets/5ice39g4.png?w=160\"/>"
   ]
  },
  {
   "cell_type": "markdown",
   "id": "anticipated-teach",
   "metadata": {
    "papermill": {},
    "tags": []
   },
   "source": [
    "# LinkedIn - Get posts stats from company\n",
    "<a href=\"https://app.naas.ai/user-redirect/naas/downloader?url=https://raw.githubusercontent.com/jupyter-naas/awesome-notebooks/master/LinkedIn/LinkedIn_Get_posts_stats_from_profile.ipynb\" target=\"_parent\"><img src=\"https://naasai-public.s3.eu-west-3.amazonaws.com/open_in_naas.svg\"/></a>"
   ]
  },
  {
   "cell_type": "markdown",
   "id": "6f9a2cbe-a573-488b-88aa-c505a38b3ef5",
   "metadata": {
    "papermill": {},
    "tags": []
   },
   "source": [
    "**Tags:** #linkedin #profile #post #stats #naas_drivers #content #automation #csv"
   ]
  },
  {
   "cell_type": "markdown",
   "id": "412447a1-7aba-4cdf-afec-b5a94515b619",
   "metadata": {
    "papermill": {},
    "tags": []
   },
   "source": [
    "**Author:** [Florent Ravenel](https://www.linkedin.com/in/florent-ravenel/)"
   ]
  },
  {
   "cell_type": "markdown",
   "id": "a8fb1355-8d76-45d3-8243-f68e3b4a80b9",
   "metadata": {
    "papermill": {},
    "tags": []
   },
   "source": [
    "With this notebook, you can get post stats from your company in LinkedIn.<br>\n",
    "A dataframe will be returned and saved in CSV on your local.<br><br>\n",
    "**Available columns :**\n",
    "- **ACTIVITY_ID:** Post unique ID.\n",
    "- **PAGINATION_TOKEN:** Token used to decode published date.\n",
    "- **PUBLISHED_DATE:** When the post has been published.\n",
    "- **AUTHOR_NAME:** Name of post author.\n",
    "- **AUTHOR_URL:** LinkedIn URL of post author.\n",
    "- **SUBDESCRIPTION:** Subdescription of post (Time since published).\n",
    "- **TITLE:** First sentence of post.\n",
    "- **TEXT:** Content of post.\n",
    "- **CHARACTER_COUNT:** Number of characters in the post.  \n",
    "- **TAGS:** List of the hashtags. \n",
    "- **TAGS_COUNT:** Number of hashtags.\n",
    "- **EMOJIS:** List of emojis.\n",
    "- **EMOJIS_COUNT:** Number of emojis.\n",
    "- **LINKS:** Links used in post.\n",
    "- **LINKS_COUNT:** Number of links.\n",
    "- **PROFILE_MENTION:** People mentioned in post. \n",
    "- **COMPANY_MENTION:** Companies mentioned in post.\n",
    "- **CONTENT:** Type of content.\n",
    "- **CONTENT_TITLE:** Type of post content.\n",
    "- **CONTENT_URL:** Title of content.\n",
    "- **CONTENT_ID:** ID of content.\n",
    "- **IMAGE_URL:** Image URL linked in post.\n",
    "- **POLL_ID:** Poll unique ID.\n",
    "- **POLL_QUESTION:** Poll question.\n",
    "- **POLL_RESULTS:** Poll results.\n",
    "- **POST_URL:** Post URL.\n",
    "- **VIEWS:** Amount of people who saw the content (Only available on your post profile).\n",
    "- **COMMENTS:** Amount of people who wrote something in the comment section.\n",
    "- **LIKES:** Amount of people who pushed the like (or other reaction) button.\n",
    "- **SHARES:** Amount of people who shared the content.\n",
    "- **ENGAGEMENT_SCORE:** Ratio between views and likes/comments (It will be at 0 if you are not the author of the post).\n",
    "- **DATE_EXTRACT:** Date of last extraction."
   ]
  },
  {
   "cell_type": "markdown",
   "id": "attractive-bandwidth",
   "metadata": {
    "papermill": {},
    "tags": []
   },
   "source": [
    "## Input"
   ]
  },
  {
   "cell_type": "markdown",
   "id": "import_cell",
   "metadata": {
    "papermill": {},
    "tags": []
   },
   "source": [
    "### Get common variables, functions"
   ]
  },
  {
   "cell_type": "code",
   "execution_count": 1,
   "id": "dangerous-christianity",
   "metadata": {
    "execution": {
     "iopub.execute_input": "2022-07-03T11:46:52.370269Z",
     "iopub.status.busy": "2022-07-03T11:46:52.369845Z",
     "iopub.status.idle": "2022-07-03T11:47:03.588182Z",
     "shell.execute_reply": "2022-07-03T11:47:03.587549Z",
     "shell.execute_reply.started": "2022-07-03T11:46:52.370191Z"
    },
    "papermill": {},
    "tags": []
   },
   "outputs": [],
   "source": [
    "# Except allow to run common.ipynb once using Naas Engine\n",
    "try:\n",
    "    %run \"../common.ipynb\"\n",
    "except:\n",
    "    %run \"common.ipynb\""
   ]
  },
  {
   "cell_type": "markdown",
   "id": "polished-prior",
   "metadata": {
    "papermill": {},
    "tags": []
   },
   "source": [
    "## Model"
   ]
  },
  {
   "cell_type": "markdown",
   "id": "7298f063-3ea6-464b-a3ef-ee158e584f5b",
   "metadata": {
    "execution": {
     "iopub.execute_input": "2022-01-24T11:24:35.716122Z",
     "iopub.status.busy": "2022-01-24T11:24:35.715845Z",
     "iopub.status.idle": "2022-01-24T11:24:35.719349Z",
     "shell.execute_reply": "2022-01-24T11:24:35.718736Z",
     "shell.execute_reply.started": "2022-01-24T11:24:35.716056Z"
    },
    "papermill": {},
    "tags": []
   },
   "source": [
    "### Get your posts"
   ]
  },
  {
   "cell_type": "code",
   "execution_count": 2,
   "id": "miniature-manitoba",
   "metadata": {
    "execution": {
     "iopub.execute_input": "2022-07-03T11:47:03.589849Z",
     "iopub.status.busy": "2022-07-03T11:47:03.589631Z",
     "iopub.status.idle": "2022-07-03T11:47:03.643420Z",
     "shell.execute_reply": "2022-07-03T11:47:03.642712Z",
     "shell.execute_reply.started": "2022-07-03T11:47:03.589821Z"
    },
    "papermill": {},
    "tags": []
   },
   "outputs": [
    {
     "name": "stdout",
     "output_type": "stream",
     "text": [
      "✅ Init posts fetched: 127\n"
     ]
    },
    {
     "data": {
      "text/html": [
       "<div>\n",
       "<style scoped>\n",
       "    .dataframe tbody tr th:only-of-type {\n",
       "        vertical-align: middle;\n",
       "    }\n",
       "\n",
       "    .dataframe tbody tr th {\n",
       "        vertical-align: top;\n",
       "    }\n",
       "\n",
       "    .dataframe thead th {\n",
       "        text-align: right;\n",
       "    }\n",
       "</style>\n",
       "<table border=\"1\" class=\"dataframe\">\n",
       "  <thead>\n",
       "    <tr style=\"text-align: right;\">\n",
       "      <th></th>\n",
       "      <th>ACTIVITY_ID</th>\n",
       "      <th>PUBLISHED_DATE</th>\n",
       "      <th>AUTHOR_NAME</th>\n",
       "      <th>AUTHOR_URL</th>\n",
       "      <th>SUBDESCRIPTION</th>\n",
       "      <th>TITLE</th>\n",
       "      <th>TEXT</th>\n",
       "      <th>CHARACTER_COUNT</th>\n",
       "      <th>TAGS</th>\n",
       "      <th>TAGS_COUNT</th>\n",
       "      <th>...</th>\n",
       "      <th>POLL_ID</th>\n",
       "      <th>POLL_QUESTION</th>\n",
       "      <th>POLL_RESULTS</th>\n",
       "      <th>POST_URL</th>\n",
       "      <th>VIEWS</th>\n",
       "      <th>COMMENTS</th>\n",
       "      <th>LIKES</th>\n",
       "      <th>SHARES</th>\n",
       "      <th>ENGAGEMENT_SCORE</th>\n",
       "      <th>DATE_EXTRACT</th>\n",
       "    </tr>\n",
       "  </thead>\n",
       "  <tbody>\n",
       "    <tr>\n",
       "      <th>0</th>\n",
       "      <td>6948675435887001600</td>\n",
       "      <td>2022-07-01 16:35:24+02:00</td>\n",
       "      <td>naas.ai</td>\n",
       "      <td>https://www.linkedin.com/company/70506391</td>\n",
       "      <td>1 day ago</td>\n",
       "      <td>⚡️Want to know how to build data products from...</td>\n",
       "      <td>⚡️Want to know how to build data products from...</td>\n",
       "      <td>91</td>\n",
       "      <td>NaN</td>\n",
       "      <td>0</td>\n",
       "      <td>...</td>\n",
       "      <td>NaN</td>\n",
       "      <td>NaN</td>\n",
       "      <td>NaN</td>\n",
       "      <td>https://www.linkedin.com/feed/update/urn:li:ac...</td>\n",
       "      <td>180</td>\n",
       "      <td>0</td>\n",
       "      <td>3</td>\n",
       "      <td>0</td>\n",
       "      <td>0.016667</td>\n",
       "      <td>2022-07-03 13:44:47</td>\n",
       "    </tr>\n",
       "  </tbody>\n",
       "</table>\n",
       "<p>1 rows × 31 columns</p>\n",
       "</div>"
      ],
      "text/plain": [
       "           ACTIVITY_ID             PUBLISHED_DATE AUTHOR_NAME  \\\n",
       "0  6948675435887001600  2022-07-01 16:35:24+02:00     naas.ai   \n",
       "\n",
       "                                  AUTHOR_URL SUBDESCRIPTION  \\\n",
       "0  https://www.linkedin.com/company/70506391      1 day ago   \n",
       "\n",
       "                                               TITLE  \\\n",
       "0  ⚡️Want to know how to build data products from...   \n",
       "\n",
       "                                                TEXT  CHARACTER_COUNT TAGS  \\\n",
       "0  ⚡️Want to know how to build data products from...               91  NaN   \n",
       "\n",
       "   TAGS_COUNT  ... POLL_ID  POLL_QUESTION POLL_RESULTS  \\\n",
       "0           0  ...     NaN            NaN          NaN   \n",
       "\n",
       "                                            POST_URL VIEWS COMMENTS LIKES  \\\n",
       "0  https://www.linkedin.com/feed/update/urn:li:ac...   180        0     3   \n",
       "\n",
       "  SHARES ENGAGEMENT_SCORE         DATE_EXTRACT  \n",
       "0      0         0.016667  2022-07-03 13:44:47  \n",
       "\n",
       "[1 rows x 31 columns]"
      ]
     },
     "execution_count": 2,
     "metadata": {},
     "output_type": "execute_result"
    }
   ],
   "source": [
    "df_posts = get_data(LK_COMPANY_POSTS)\n",
    "print(\"✅ Init posts fetched:\", len(df_posts))\n",
    "df_posts.head(1)"
   ]
  },
  {
   "cell_type": "markdown",
   "id": "36e8dcc0-6963-4aa1-8583-c5c1058c7c49",
   "metadata": {
    "papermill": {},
    "tags": []
   },
   "source": [
    "### Update last posts\n",
    "It will get the last 10 posts from LinkedIn API and update it.<br>\n",
    "PS: On the first execution all posts will be retrieved."
   ]
  },
  {
   "cell_type": "code",
   "execution_count": 3,
   "id": "96c0d82f-c939-4fde-a5b0-d5577cf081a1",
   "metadata": {
    "execution": {
     "iopub.execute_input": "2022-07-03T11:47:03.644891Z",
     "iopub.status.busy": "2022-07-03T11:47:03.644650Z",
     "iopub.status.idle": "2022-07-03T11:47:03.723850Z",
     "shell.execute_reply": "2022-07-03T11:47:03.723305Z",
     "shell.execute_reply.started": "2022-07-03T11:47:03.644861Z"
    },
    "papermill": {},
    "tags": []
   },
   "outputs": [
    {
     "name": "stdout",
     "output_type": "stream",
     "text": [
      "🛑 Nothing to update. Last update done 2 minutes ago.\n",
      "✅ Updated posts fetched: 127\n"
     ]
    },
    {
     "data": {
      "text/html": [
       "<div>\n",
       "<style scoped>\n",
       "    .dataframe tbody tr th:only-of-type {\n",
       "        vertical-align: middle;\n",
       "    }\n",
       "\n",
       "    .dataframe tbody tr th {\n",
       "        vertical-align: top;\n",
       "    }\n",
       "\n",
       "    .dataframe thead th {\n",
       "        text-align: right;\n",
       "    }\n",
       "</style>\n",
       "<table border=\"1\" class=\"dataframe\">\n",
       "  <thead>\n",
       "    <tr style=\"text-align: right;\">\n",
       "      <th></th>\n",
       "      <th>ACTIVITY_ID</th>\n",
       "      <th>PUBLISHED_DATE</th>\n",
       "      <th>AUTHOR_NAME</th>\n",
       "      <th>AUTHOR_URL</th>\n",
       "      <th>SUBDESCRIPTION</th>\n",
       "      <th>TITLE</th>\n",
       "      <th>TEXT</th>\n",
       "      <th>CHARACTER_COUNT</th>\n",
       "      <th>TAGS</th>\n",
       "      <th>TAGS_COUNT</th>\n",
       "      <th>...</th>\n",
       "      <th>POLL_ID</th>\n",
       "      <th>POLL_QUESTION</th>\n",
       "      <th>POLL_RESULTS</th>\n",
       "      <th>POST_URL</th>\n",
       "      <th>VIEWS</th>\n",
       "      <th>COMMENTS</th>\n",
       "      <th>LIKES</th>\n",
       "      <th>SHARES</th>\n",
       "      <th>ENGAGEMENT_SCORE</th>\n",
       "      <th>DATE_EXTRACT</th>\n",
       "    </tr>\n",
       "  </thead>\n",
       "  <tbody>\n",
       "    <tr>\n",
       "      <th>0</th>\n",
       "      <td>6948675435887001600</td>\n",
       "      <td>2022-07-01 16:35:24+02:00</td>\n",
       "      <td>naas.ai</td>\n",
       "      <td>https://www.linkedin.com/company/70506391</td>\n",
       "      <td>1 day ago</td>\n",
       "      <td>⚡️Want to know how to build data products from...</td>\n",
       "      <td>⚡️Want to know how to build data products from...</td>\n",
       "      <td>91</td>\n",
       "      <td>NaN</td>\n",
       "      <td>0</td>\n",
       "      <td>...</td>\n",
       "      <td>NaN</td>\n",
       "      <td>NaN</td>\n",
       "      <td>NaN</td>\n",
       "      <td>https://www.linkedin.com/feed/update/urn:li:ac...</td>\n",
       "      <td>180</td>\n",
       "      <td>0</td>\n",
       "      <td>3</td>\n",
       "      <td>0</td>\n",
       "      <td>0.016667</td>\n",
       "      <td>2022-07-03 13:44:47</td>\n",
       "    </tr>\n",
       "  </tbody>\n",
       "</table>\n",
       "<p>1 rows × 31 columns</p>\n",
       "</div>"
      ],
      "text/plain": [
       "           ACTIVITY_ID             PUBLISHED_DATE AUTHOR_NAME  \\\n",
       "0  6948675435887001600  2022-07-01 16:35:24+02:00     naas.ai   \n",
       "\n",
       "                                  AUTHOR_URL SUBDESCRIPTION  \\\n",
       "0  https://www.linkedin.com/company/70506391      1 day ago   \n",
       "\n",
       "                                               TITLE  \\\n",
       "0  ⚡️Want to know how to build data products from...   \n",
       "\n",
       "                                                TEXT  CHARACTER_COUNT TAGS  \\\n",
       "0  ⚡️Want to know how to build data products from...               91  NaN   \n",
       "\n",
       "   TAGS_COUNT  ... POLL_ID  POLL_QUESTION POLL_RESULTS  \\\n",
       "0           0  ...     NaN            NaN          NaN   \n",
       "\n",
       "                                            POST_URL VIEWS COMMENTS LIKES  \\\n",
       "0  https://www.linkedin.com/feed/update/urn:li:ac...   180        0     3   \n",
       "\n",
       "  SHARES ENGAGEMENT_SCORE         DATE_EXTRACT  \n",
       "0      0         0.016667  2022-07-03 13:44:47  \n",
       "\n",
       "[1 rows x 31 columns]"
      ]
     },
     "execution_count": 3,
     "metadata": {},
     "output_type": "execute_result"
    }
   ],
   "source": [
    "def update_posts(df_posts,\n",
    "                 profile_url,\n",
    "                 key=\"POST_URL\",\n",
    "                 no_posts=7,\n",
    "                 min_updated_time=300):\n",
    "    # Init output\n",
    "    df = pd.DataFrame()\n",
    "    df_new = pd.DataFrame()\n",
    "    \n",
    "    # Init df posts is empty then return entire database\n",
    "    if len(df_posts) > 0:\n",
    "        if \"DATE_EXTRACT\" in df_posts.columns:\n",
    "            last_update_date = df_posts[\"DATE_EXTRACT\"].max()\n",
    "            time_last_update = datetime.now() - datetime.strptime(last_update_date, \"%Y-%m-%d %H:%M:%S\")\n",
    "            minute_last_update = time_last_update.total_seconds() / 60\n",
    "            if minute_last_update > min_updated_time:\n",
    "                # If df posts not empty get the last X posts (new and already existing)\n",
    "                df_new = linkedin.connect(LI_AT, JSESSIONID).company.get_posts_feed(profile_url,\n",
    "                                                                                    limit=no_posts)\n",
    "            else:\n",
    "                print(f\"🛑 Nothing to update. Last update done {int(minute_last_update)} minutes ago.\")\n",
    "    else:\n",
    "        df_new = linkedin.connect(LI_AT, JSESSIONID).company.get_posts_feed(profile_url,\n",
    "                                                                            limit=-1)\n",
    "\n",
    "    # Concat, save database in CSV and dependency in production\n",
    "    df = pd.concat([df_new, df_posts]).drop_duplicates(key, keep=\"first\")\n",
    "\n",
    "    # Return all posts\n",
    "    print(f\"✅ Updated posts fetched:\", len(df))\n",
    "    return df.reset_index(drop=True)\n",
    "\n",
    "df_update = update_posts(df_posts, LINKEDIN_COMPANY_URL)\n",
    "df_update.head(1)"
   ]
  },
  {
   "cell_type": "markdown",
   "id": "comic-sucking",
   "metadata": {
    "papermill": {},
    "tags": []
   },
   "source": [
    "## Output"
   ]
  },
  {
   "cell_type": "markdown",
   "id": "killing-trust",
   "metadata": {
    "papermill": {},
    "tags": []
   },
   "source": [
    "### Save dataframe"
   ]
  },
  {
   "cell_type": "code",
   "execution_count": 4,
   "id": "052ab7dd-8f5b-449a-9948-781c9709a9b7",
   "metadata": {
    "execution": {
     "iopub.execute_input": "2022-07-03T11:47:03.725099Z",
     "iopub.status.busy": "2022-07-03T11:47:03.724864Z",
     "iopub.status.idle": "2022-07-03T11:47:04.323502Z",
     "shell.execute_reply": "2022-07-03T11:47:04.322811Z",
     "shell.execute_reply.started": "2022-07-03T11:47:03.725067Z"
    },
    "tags": []
   },
   "outputs": [
    {
     "name": "stdout",
     "output_type": "stream",
     "text": [
      "👌 Well done! Your Dependency has been sent to production. \n",
      "\n",
      "PS: to remove the \"Dependency\" feature, just replace .add by .delete\n",
      "✅ Dataframe successfully saved in CSV: LinkedIn/Inputs/LINKEDIN_COMPANY_POSTS_70506391.csv\n"
     ]
    }
   ],
   "source": [
    "save_data(df_update, LK_COMPANY_POSTS)"
   ]
  },
  {
   "cell_type": "code",
   "execution_count": null,
   "id": "cd6723c8-94ad-4e90-b5c3-8a2e60da3004",
   "metadata": {},
   "outputs": [],
   "source": []
  }
 ],
 "metadata": {
  "kernelspec": {
   "display_name": "Python 3",
   "language": "python",
   "name": "python3"
  },
  "language_info": {
   "codemirror_mode": {
    "name": "ipython",
    "version": 3
   },
   "file_extension": ".py",
   "mimetype": "text/x-python",
   "name": "python",
   "nbconvert_exporter": "python",
   "pygments_lexer": "ipython3",
   "version": "3.9.6"
  },
  "naas": {
   "notebook_id": "3eb6e1d9-0303-4742-be8a-9c10d22f6ac3",
   "notebook_path": "LinkedIn/LinkedIn_Get_posts_feed_from_profile.ipynb"
  },
  "papermill": {
   "default_parameters": {},
   "environment_variables": {},
   "parameters": {},
   "version": "2.3.3"
  },
  "widgets": {
   "application/vnd.jupyter.widget-state+json": {
    "state": {},
    "version_major": 2,
    "version_minor": 0
   }
  }
 },
 "nbformat": 4,
 "nbformat_minor": 5
}
