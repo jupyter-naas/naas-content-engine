{
 "cells": [
  {
   "cell_type": "markdown",
   "id": "a6fcf7c9",
   "metadata": {
    "papermill": {},
    "tags": []
   },
   "source": [
    "<img width=\"10%\" alt=\"Naas\" src=\"https://landen.imgix.net/jtci2pxwjczr/assets/5ice39g4.png?w=160\"/>\n"
   ]
  },
  {
   "cell_type": "markdown",
   "id": "7217870e",
   "metadata": {
    "papermill": {},
    "tags": []
   },
   "source": [
    "# LinkedIn - List new profile content fans\n",
    "<a href=\"https://app.naas.ai/user-redirect/naas/downloader?url=https://raw.githubusercontent.com/jupyter-naas/awesome-notebooks/master/LinkedIn/Linkedin_Follow_number_of_content_published.ipynb\" target=\"_parent\"><img src=\"https://naasai-public.s3.eu-west-3.amazonaws.com/open_in_naas.svg\"/></a>"
   ]
  },
  {
   "cell_type": "markdown",
   "id": "c8756b96",
   "metadata": {
    "papermill": {},
    "tags": []
   },
   "source": [
    "**Tags:** #linkedin #html #plotly #csv #image #content #analytics #automation"
   ]
  },
  {
   "cell_type": "markdown",
   "id": "520d91fd",
   "metadata": {
    "papermill": {},
    "tags": []
   },
   "source": [
    "**Author:** [Florent Ravenel](https://www.linkedin.com/in/florent-ravenel/)"
   ]
  },
  {
   "cell_type": "markdown",
   "id": "50f12968-23e2-4039-aa47-99f4168e63ff",
   "metadata": {
    "papermill": {},
    "tags": []
   },
   "source": [
    "This notebook lists your new fans on your post this month on LinkedIn."
   ]
  },
  {
   "cell_type": "markdown",
   "id": "227b8ffb",
   "metadata": {
    "papermill": {},
    "tags": []
   },
   "source": [
    "## Input"
   ]
  },
  {
   "cell_type": "code",
   "execution_count": null,
   "id": "a9ed07a4-0f86-4282-928d-1c95f2ca8dd2",
   "metadata": {
    "tags": []
   },
   "outputs": [],
   "source": [
    "# Get common path and run it\n",
    "from os import path\n",
    "\n",
    "common_path = \"../common.ipynb\"\n",
    "if not path.exists(common_path):\n",
    "    common_path = f\"{naas.secret.get('GIT_REPO_NAME')}/common.ipynb\"\n",
    "\n",
    "%run \"$common_path\""
   ]
  },
  {
   "cell_type": "markdown",
   "id": "024797b3",
   "metadata": {
    "papermill": {},
    "tags": []
   },
   "source": [
    "### Setup Variables"
   ]
  },
  {
   "cell_type": "code",
   "execution_count": null,
   "id": "81f1fde6-e3a7-4617-82da-c332ec4a2ee6",
   "metadata": {
    "tags": []
   },
   "outputs": [],
   "source": [
    "# Inputs\n",
    "KPI_TITLE = \"New fans\"\n",
    "INPUT_DATABASE = LK_PROFILE_ENGAGEMENTS\n",
    "OWNER = LK_FULLNAME\n",
    "OWNER_ID = LK_PROFILE_ID\n",
    "PLATFORM = LINKEDIN\n",
    "LOGO = LINKEDIN_LOGO\n",
    "PERIOD = PERIOD_MTD"
   ]
  },
  {
   "cell_type": "markdown",
   "id": "1bb8c4cd",
   "metadata": {
    "papermill": {},
    "tags": []
   },
   "source": [
    "## Model"
   ]
  },
  {
   "cell_type": "markdown",
   "id": "024e9efb-4c80-4c60-a455-103af0884d2d",
   "metadata": {},
   "source": [
    "### Get your engagements"
   ]
  },
  {
   "cell_type": "code",
   "execution_count": null,
   "id": "6d00847f-e9bf-4f92-a2b4-406468fb09e2",
   "metadata": {
    "tags": []
   },
   "outputs": [],
   "source": [
    "df_engagements = get_data(INPUT_DATABASE)\n",
    "print(\"✅ Engagements fetched:\", len(df_engagements))\n",
    "df_engagements.head(1)"
   ]
  },
  {
   "cell_type": "markdown",
   "id": "edf02103-3d05-49e7-9db9-8a8b35e5cf1f",
   "metadata": {},
   "source": [
    "### Get fans data"
   ]
  },
  {
   "cell_type": "code",
   "execution_count": null,
   "id": "4dc4d781-dc35-4f18-83fc-bff9e5bb9f00",
   "metadata": {
    "tags": []
   },
   "outputs": [],
   "source": [
    "df_fans = get_fans_data(df_engagements)\n",
    "print(\"✅ Unique fans fetched:\", len(df_fans))\n",
    "df_fans.head(1)"
   ]
  },
  {
   "cell_type": "markdown",
   "id": "942c681d",
   "metadata": {
    "papermill": {},
    "tags": []
   },
   "source": [
    "## Output"
   ]
  },
  {
   "cell_type": "markdown",
   "id": "3338b963-dd53-4340-a5f7-aa232fa09970",
   "metadata": {
    "execution": {
     "iopub.execute_input": "2022-06-16T12:40:24.017252Z",
     "iopub.status.busy": "2022-06-16T12:40:24.016941Z",
     "iopub.status.idle": "2022-06-16T12:40:24.020164Z",
     "shell.execute_reply": "2022-06-16T12:40:24.019527Z",
     "shell.execute_reply.started": "2022-06-16T12:40:24.017224Z"
    },
    "tags": []
   },
   "source": [
    "### Update Notion Report"
   ]
  },
  {
   "cell_type": "code",
   "execution_count": null,
   "id": "1d3af86d-4c96-48d2-a0fa-101bbfa3090f",
   "metadata": {
    "tags": []
   },
   "outputs": [],
   "source": [
    "page = list_new_fans(KPI_TITLE,\n",
    "                     PLATFORM,\n",
    "                     OWNER,\n",
    "                     df_engagements,\n",
    "                     df_fans)\n",
    "page"
   ]
  },
  {
   "cell_type": "code",
   "execution_count": null,
   "id": "b7025cd4-1bd3-4c05-abb4-9cb7a96be0fe",
   "metadata": {},
   "outputs": [],
   "source": []
  }
 ],
 "metadata": {
  "kernelspec": {
   "display_name": "Python 3",
   "language": "python",
   "name": "python3"
  },
  "language_info": {
   "codemirror_mode": {
    "name": "ipython",
    "version": 3
   },
   "file_extension": ".py",
   "mimetype": "text/x-python",
   "name": "python",
   "nbconvert_exporter": "python",
   "pygments_lexer": "ipython3",
   "version": "3.9.6"
  },
  "papermill": {
   "default_parameters": {},
   "environment_variables": {},
   "parameters": {},
   "version": "2.3.4"
  }
 },
 "nbformat": 4,
 "nbformat_minor": 5
}
