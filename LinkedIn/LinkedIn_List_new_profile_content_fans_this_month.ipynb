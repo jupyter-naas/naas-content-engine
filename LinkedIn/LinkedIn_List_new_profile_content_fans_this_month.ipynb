{
 "cells": [
  {
   "cell_type": "markdown",
   "id": "a6fcf7c9",
   "metadata": {
    "papermill": {},
    "tags": []
   },
   "source": [
    "<img width=\"10%\" alt=\"Naas\" src=\"https://landen.imgix.net/jtci2pxwjczr/assets/5ice39g4.png?w=160\"/>\n"
   ]
  },
  {
   "cell_type": "markdown",
   "id": "7217870e",
   "metadata": {
    "papermill": {},
    "tags": []
   },
   "source": [
    "# LinkedIn - List new profile content fans\n",
    "<a href=\"https://app.naas.ai/user-redirect/naas/downloader?url=https://raw.githubusercontent.com/jupyter-naas/awesome-notebooks/master/LinkedIn/Linkedin_Follow_number_of_content_published.ipynb\" target=\"_parent\"><img src=\"https://naasai-public.s3.eu-west-3.amazonaws.com/open_in_naas.svg\"/></a>"
   ]
  },
  {
   "cell_type": "markdown",
   "id": "c8756b96",
   "metadata": {
    "papermill": {},
    "tags": []
   },
   "source": [
    "**Tags:** #linkedin #html #plotly #csv #image #content #analytics #automation"
   ]
  },
  {
   "cell_type": "markdown",
   "id": "520d91fd",
   "metadata": {
    "papermill": {},
    "tags": []
   },
   "source": [
    "**Author:** [Florent Ravenel](https://www.linkedin.com/in/florent-ravenel/)"
   ]
  },
  {
   "cell_type": "markdown",
   "id": "50f12968-23e2-4039-aa47-99f4168e63ff",
   "metadata": {
    "papermill": {},
    "tags": []
   },
   "source": [
    "This notebook follows the evolution of content shares on LinkedIn."
   ]
  },
  {
   "cell_type": "markdown",
   "id": "227b8ffb",
   "metadata": {
    "papermill": {},
    "tags": []
   },
   "source": [
    "## Input"
   ]
  },
  {
   "cell_type": "code",
   "execution_count": null,
   "id": "a9ed07a4-0f86-4282-928d-1c95f2ca8dd2",
   "metadata": {
    "tags": []
   },
   "outputs": [],
   "source": [
    "# Except allow to run common.ipynb once using Naas Engine\n",
    "try:\n",
    "    %run \"../common.ipynb\"\n",
    "except:\n",
    "    %run \"common.ipynb\""
   ]
  },
  {
   "cell_type": "markdown",
   "id": "024797b3",
   "metadata": {
    "papermill": {},
    "tags": []
   },
   "source": [
    "### Setup Variables"
   ]
  },
  {
   "cell_type": "code",
   "execution_count": null,
   "id": "81f1fde6-e3a7-4617-82da-c332ec4a2ee6",
   "metadata": {
    "tags": []
   },
   "outputs": [],
   "source": [
    "KPI_TITLE = \"New fans\"\n",
    "INPUT_DATABASE = LK_PROFILE_ENGAGEMENTS\n",
    "OWNER = LK_FULLNAME\n",
    "OWNER_ID = LK_PROFILE_ID\n",
    "PLATFORM = LINKEDIN\n",
    "LOGO = LINKEDIN_LOGO"
   ]
  },
  {
   "cell_type": "markdown",
   "id": "4d4e1379-ea4e-4fb1-ba52-606cf89b114a",
   "metadata": {},
   "source": [
    "### Setup Constants"
   ]
  },
  {
   "cell_type": "code",
   "execution_count": null,
   "id": "17dcc289",
   "metadata": {
    "papermill": {},
    "tags": []
   },
   "outputs": [],
   "source": [
    "# Inputs\n",
    "PERIOD = PERIOD_MTD"
   ]
  },
  {
   "cell_type": "markdown",
   "id": "1bb8c4cd",
   "metadata": {
    "papermill": {},
    "tags": []
   },
   "source": [
    "## Model"
   ]
  },
  {
   "cell_type": "markdown",
   "id": "024e9efb-4c80-4c60-a455-103af0884d2d",
   "metadata": {},
   "source": [
    "### Get your engagements"
   ]
  },
  {
   "cell_type": "code",
   "execution_count": null,
   "id": "6d00847f-e9bf-4f92-a2b4-406468fb09e2",
   "metadata": {
    "tags": []
   },
   "outputs": [],
   "source": [
    "df_engagements = get_data(INPUT_DATABASE)\n",
    "print(\"✅ Engagements fetched:\", len(df_engagements))\n",
    "df_engagements.head(1)"
   ]
  },
  {
   "cell_type": "markdown",
   "id": "edf02103-3d05-49e7-9db9-8a8b35e5cf1f",
   "metadata": {},
   "source": [
    "### Get fans"
   ]
  },
  {
   "cell_type": "code",
   "execution_count": null,
   "id": "ea9b6520-6ea4-4521-b813-f41574da2044",
   "metadata": {
    "tags": []
   },
   "outputs": [],
   "source": [
    "def get_fans(df):\n",
    "    # Init\n",
    "    df_fans = df.copy()\n",
    "    \n",
    "    # Filter\n",
    "    df_fans = df_fans.drop_duplicates([\"PROFILE_ID\", \"REACTION\"], keep=\"last\").reset_index(drop=True)\n",
    "    df_fans[\"SCENARIO\"] = pd.to_datetime(df_fans[\"PUBLISHED_DATE\"].str[:-6]).dt.strftime(PERIOD)\n",
    "    df_fans = df_fans[(df_fans[\"SCENARIO\"] == datetime.now().strftime(PERIOD)) & (df_fans[\"FULLNAME\"] != OWNER)].reset_index(drop=True)\n",
    "    return df_fans\n",
    "\n",
    "df_fans = get_fans(df_engagements)\n",
    "df_fans"
   ]
  },
  {
   "cell_type": "markdown",
   "id": "942c681d",
   "metadata": {
    "papermill": {},
    "tags": []
   },
   "source": [
    "## Output"
   ]
  },
  {
   "cell_type": "markdown",
   "id": "3338b963-dd53-4340-a5f7-aa232fa09970",
   "metadata": {
    "execution": {
     "iopub.execute_input": "2022-06-16T12:40:24.017252Z",
     "iopub.status.busy": "2022-06-16T12:40:24.016941Z",
     "iopub.status.idle": "2022-06-16T12:40:24.020164Z",
     "shell.execute_reply": "2022-06-16T12:40:24.019527Z",
     "shell.execute_reply.started": "2022-06-16T12:40:24.017224Z"
    },
    "tags": []
   },
   "source": [
    "### Update Notion Report"
   ]
  },
  {
   "cell_type": "code",
   "execution_count": null,
   "id": "1d3af86d-4c96-48d2-a0fa-101bbfa3090f",
   "metadata": {
    "tags": []
   },
   "outputs": [],
   "source": [
    "def update_report_status(report,\n",
    "                         platform,\n",
    "                         owner,\n",
    "                         df_engagements,\n",
    "                         df=pd.DataFrame(),\n",
    "                         image_link=None,\n",
    "                         html_link=None,\n",
    "                         csv_link=None,\n",
    "                         page_icon=LOGO,\n",
    "                         ):\n",
    "    # Decode database id\n",
    "    database_id = naas.secret.get(name=\"NOTION_DATABASE_URL\").split(\"/\")[-1].split(\"?v=\")[0]\n",
    "    \n",
    "    # Get pages from notion database\n",
    "    pages = notion.connect(NOTION_TOKEN).database.query(database_id)\n",
    "    \n",
    "    # Create or update page\n",
    "    page_new = True\n",
    "    for page in pages:\n",
    "        page_temp = page.df()\n",
    "        page_id = page_temp.loc[page_temp.Name == \"Report name\", \"Value\"].values\n",
    "        page_id2 = page_temp.loc[page_temp.Name == \"Platform\", \"Value\"].values\n",
    "        page_id3 = page_temp.loc[page_temp.Name == \"Owner\", \"Value\"].values\n",
    "        if page_id == report and page_id2 == platform and page_id3 == owner:\n",
    "            page_new = False\n",
    "            break\n",
    "    try:\n",
    "#         notion.connect(NOTION_TOKEN).blocks.delete(page.id)\n",
    "        if page_new:\n",
    "            page = notion.connect(NOTION_TOKEN).Page.new(database_id=database_id).create()\n",
    "            page.title(\"Report name\", report)\n",
    "            page.multi_select(\"Platform\", [platform])\n",
    "            page.select(\"Owner\", owner)\n",
    "            notion.client.pages.update(page_id=page.id, icon={'type': 'external', 'external': {'url': page_icon}})\n",
    "            \n",
    "        # Check if image already exists\n",
    "        blocks = page.get_blocks()\n",
    "        if len(blocks) > 0:\n",
    "            while True:\n",
    "                for block in blocks:\n",
    "                    notion.connect(NOTION_TOKEN).blocks.delete(block.id)\n",
    "                blocks = page.get_blocks()\n",
    "                if len(blocks) == 0:\n",
    "                    break\n",
    "        page.update()\n",
    "        \n",
    "        # Add new fans by posts\n",
    "        df_posts = df_engagements[[\"TITLE\", \"POST_URL\", \"PUBLISHED_DATE\"]].drop_duplicates().reset_index(drop=True)[:10]\n",
    "        for index, row in df_posts.iterrows():\n",
    "            # Add posts\n",
    "            res = page.heading_3(row.TITLE)\n",
    "            res.heading_3.text[0].href = row.POST_URL\n",
    "            res.heading_3.text[0].text.link = Link(row.POST_URL)\n",
    "            \n",
    "            # Add new\n",
    "            tmp_df = df[df.POST_URL == row.POST_URL].reset_index(drop=True)\n",
    "            def add_reactions(df, reaction):\n",
    "                df = df[df.REACTION == reaction]\n",
    "                if reaction == \"LIKES\":\n",
    "                    page.paragraph(f\"New profile who liked ({len(df)}):\")\n",
    "                elif reaction == \"COMMENTS\":\n",
    "                    page.paragraph(f\"New profile who commented ({len(df)}):\")\n",
    "                for index, row in df.iterrows():\n",
    "                    text = f\"{row.FULLNAME} - {row.OCCUPATION}\"\n",
    "                    res = page.bulleted_list_item(text)\n",
    "                    res.bulleted_list_item.text[0].href = row.PROFILE_URL\n",
    "                    res.bulleted_list_item.text[0].text.link = Link(row.PROFILE_URL)\n",
    "                page.paragraph(\"\")\n",
    "            add_reactions(tmp_df, \"COMMENTS\")\n",
    "            add_reactions(tmp_df, \"LIKES\")\n",
    "\n",
    "\n",
    "        # Create page in Notion\n",
    "        page.date(\"Last updated date\", datetime.now(pytz.timezone(TIMEZONE)).strftime(\"%Y-%m-%d %H:%M:%S%z\"))\n",
    "        page.update()\n",
    "        print(f\"✅ Page '{report} - {platform} - {owner}' updated in Notion.\")\n",
    "    except Exception as e:\n",
    "        raise(e)\n",
    "\n",
    "update_report_status(KPI_TITLE,\n",
    "                     PLATFORM,\n",
    "                     OWNER,\n",
    "                     df_engagements,\n",
    "                     df_fans)"
   ]
  },
  {
   "cell_type": "code",
   "execution_count": null,
   "id": "b7025cd4-1bd3-4c05-abb4-9cb7a96be0fe",
   "metadata": {},
   "outputs": [],
   "source": []
  }
 ],
 "metadata": {
  "kernelspec": {
   "display_name": "Python 3",
   "language": "python",
   "name": "python3"
  },
  "language_info": {
   "codemirror_mode": {
    "name": "ipython",
    "version": 3
   },
   "file_extension": ".py",
   "mimetype": "text/x-python",
   "name": "python",
   "nbconvert_exporter": "python",
   "pygments_lexer": "ipython3",
   "version": "3.9.6"
  },
  "papermill": {
   "default_parameters": {},
   "environment_variables": {},
   "parameters": {},
   "version": "2.3.4"
  }
 },
 "nbformat": 4,
 "nbformat_minor": 5
}
