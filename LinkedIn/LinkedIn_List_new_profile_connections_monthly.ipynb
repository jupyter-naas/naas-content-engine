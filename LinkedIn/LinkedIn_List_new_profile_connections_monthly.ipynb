{
 "cells": [
  {
   "cell_type": "markdown",
   "id": "a6fcf7c9",
   "metadata": {
    "papermill": {},
    "tags": []
   },
   "source": [
    "<img width=\"10%\" alt=\"Naas\" src=\"https://landen.imgix.net/jtci2pxwjczr/assets/5ice39g4.png?w=160\"/>\n"
   ]
  },
  {
   "cell_type": "markdown",
   "id": "7217870e",
   "metadata": {
    "papermill": {},
    "tags": []
   },
   "source": [
    "# LinkedIn - List new connections monthly\n",
    "<a href=\"https://app.naas.ai/user-redirect/naas/downloader?url=https://raw.githubusercontent.com/jupyter-naas/awesome-notebooks/master/LinkedIn/Linkedin_Follow_number_of_content_published.ipynb\" target=\"_parent\"><img src=\"https://naasai-public.s3.eu-west-3.amazonaws.com/open_in_naas.svg\"/></a>"
   ]
  },
  {
   "cell_type": "markdown",
   "id": "c8756b96",
   "metadata": {
    "papermill": {},
    "tags": []
   },
   "source": [
    "**Tags:** #linkedin #html #plotly #csv #image #content #analytics #automation"
   ]
  },
  {
   "cell_type": "markdown",
   "id": "520d91fd",
   "metadata": {
    "papermill": {},
    "tags": []
   },
   "source": [
    "**Author:** [Florent Ravenel](https://www.linkedin.com/in/florent-ravenel/)"
   ]
  },
  {
   "cell_type": "markdown",
   "id": "227b8ffb",
   "metadata": {
    "papermill": {},
    "tags": []
   },
   "source": [
    "## Input"
   ]
  },
  {
   "cell_type": "markdown",
   "id": "8278ae03-f76b-49fb-b8e1-57101e2836ad",
   "metadata": {},
   "source": [
    "### Get common variables, functions"
   ]
  },
  {
   "cell_type": "code",
   "execution_count": 1,
   "id": "a9ed07a4-0f86-4282-928d-1c95f2ca8dd2",
   "metadata": {
    "execution": {
     "iopub.execute_input": "2022-06-28T14:12:23.929562Z",
     "iopub.status.busy": "2022-06-28T14:12:23.929202Z",
     "iopub.status.idle": "2022-06-28T14:12:32.630725Z",
     "shell.execute_reply": "2022-06-28T14:12:32.630098Z",
     "shell.execute_reply.started": "2022-06-28T14:12:23.929464Z"
    },
    "tags": []
   },
   "outputs": [],
   "source": [
    "# Except allow to run common.ipynb once using Naas Engine\n",
    "try:\n",
    "    %run \"../common.ipynb\"\n",
    "except:\n",
    "    %run \"common.ipynb\""
   ]
  },
  {
   "cell_type": "markdown",
   "id": "024797b3",
   "metadata": {
    "papermill": {},
    "tags": []
   },
   "source": [
    "### Setup Variables"
   ]
  },
  {
   "cell_type": "code",
   "execution_count": 2,
   "id": "81f1fde6-e3a7-4617-82da-c332ec4a2ee6",
   "metadata": {
    "execution": {
     "iopub.execute_input": "2022-06-28T14:12:32.632657Z",
     "iopub.status.busy": "2022-06-28T14:12:32.632485Z",
     "iopub.status.idle": "2022-06-28T14:12:32.637294Z",
     "shell.execute_reply": "2022-06-28T14:12:32.636748Z",
     "shell.execute_reply.started": "2022-06-28T14:12:32.632638Z"
    },
    "tags": []
   },
   "outputs": [],
   "source": [
    "KPI_TITLE = \"New connections\""
   ]
  },
  {
   "cell_type": "markdown",
   "id": "4d4e1379-ea4e-4fb1-ba52-606cf89b114a",
   "metadata": {},
   "source": [
    "### Setup Constants"
   ]
  },
  {
   "cell_type": "code",
   "execution_count": 3,
   "id": "17dcc289",
   "metadata": {
    "execution": {
     "iopub.execute_input": "2022-06-28T14:12:32.639823Z",
     "iopub.status.busy": "2022-06-28T14:12:32.639635Z",
     "iopub.status.idle": "2022-06-28T14:12:32.755278Z",
     "shell.execute_reply": "2022-06-28T14:12:32.754613Z",
     "shell.execute_reply.started": "2022-06-28T14:12:32.639802Z"
    },
    "papermill": {},
    "tags": []
   },
   "outputs": [],
   "source": [
    "# Inputs\n",
    "PLATFORM = LINKEDIN\n",
    "OWNER = LK_FULLNAME\n",
    "SCENARIO = SCENARIO_MTD\n",
    "PERIOD = PERIOD_MTD\n",
    "COL_DATE = \"CREATED_AT\"\n",
    "\n",
    "# Input\n",
    "csv_input = path.join(LINKEDIN_OUTPUTS, f\"LINKEDIN_FOLLOW_PROFILE_CONNECTIONS_{SCENARIO}_{LK_PROFILE_ID}.csv\")"
   ]
  },
  {
   "cell_type": "markdown",
   "id": "1bb8c4cd",
   "metadata": {
    "papermill": {},
    "tags": []
   },
   "source": [
    "## Model"
   ]
  },
  {
   "cell_type": "markdown",
   "id": "024e9efb-4c80-4c60-a455-103af0884d2d",
   "metadata": {},
   "source": [
    "### Get connections from LinkedIn network"
   ]
  },
  {
   "cell_type": "code",
   "execution_count": 4,
   "id": "6d00847f-e9bf-4f92-a2b4-406468fb09e2",
   "metadata": {
    "execution": {
     "iopub.execute_input": "2022-06-25T12:23:47.243984Z",
     "iopub.status.busy": "2022-06-25T12:23:47.241116Z",
     "iopub.status.idle": "2022-06-25T12:23:47.479350Z",
     "shell.execute_reply": "2022-06-25T12:23:47.478726Z",
     "shell.execute_reply.started": "2022-06-25T12:23:47.243957Z"
    },
    "tags": []
   },
   "outputs": [
    {
     "name": "stdout",
     "output_type": "stream",
     "text": [
      "Data fetched: 9228\n"
     ]
    },
    {
     "data": {
      "text/html": [
       "<div>\n",
       "<style scoped>\n",
       "    .dataframe tbody tr th:only-of-type {\n",
       "        vertical-align: middle;\n",
       "    }\n",
       "\n",
       "    .dataframe tbody tr th {\n",
       "        vertical-align: top;\n",
       "    }\n",
       "\n",
       "    .dataframe thead th {\n",
       "        text-align: right;\n",
       "    }\n",
       "</style>\n",
       "<table border=\"1\" class=\"dataframe\">\n",
       "  <thead>\n",
       "    <tr style=\"text-align: right;\">\n",
       "      <th></th>\n",
       "      <th>FIRSTNAME</th>\n",
       "      <th>LASTNAME</th>\n",
       "      <th>OCCUPATION</th>\n",
       "      <th>CREATED_AT</th>\n",
       "      <th>PROFILE_URL</th>\n",
       "      <th>PROFILE_PICTURE</th>\n",
       "      <th>PROFILE_ID</th>\n",
       "      <th>PUBLIC_ID</th>\n",
       "      <th>DATE_EXTRACT</th>\n",
       "      <th>OWNER_ID</th>\n",
       "      <th>OWNER_NAME</th>\n",
       "    </tr>\n",
       "  </thead>\n",
       "  <tbody>\n",
       "    <tr>\n",
       "      <th>0</th>\n",
       "      <td>Gerry</td>\n",
       "      <td>VanderStel</td>\n",
       "      <td>Principal Data Analyst at Medtronic</td>\n",
       "      <td>2022-06-25 00:29:29</td>\n",
       "      <td>https://www.linkedin.com/in/ACoAAA7tG_cBPxSxwX...</td>\n",
       "      <td>https://media-exp2.licdn.com/dms/image/C5603AQ...</td>\n",
       "      <td>ACoAAA7tG_cBPxSxwXLTOqMmr88tYF-6qd7Pptc</td>\n",
       "      <td>gerry-vanderstel-133a476b</td>\n",
       "      <td>2022-06-25 11:09:04</td>\n",
       "      <td>ACoAAAJHE7sB5OxuKHuzguZ9L6lfDHqw--cdnJg</td>\n",
       "      <td>Jérémy Ravenel</td>\n",
       "    </tr>\n",
       "  </tbody>\n",
       "</table>\n",
       "</div>"
      ],
      "text/plain": [
       "  FIRSTNAME    LASTNAME                           OCCUPATION  \\\n",
       "0     Gerry  VanderStel  Principal Data Analyst at Medtronic   \n",
       "\n",
       "            CREATED_AT                                        PROFILE_URL  \\\n",
       "0  2022-06-25 00:29:29  https://www.linkedin.com/in/ACoAAA7tG_cBPxSxwX...   \n",
       "\n",
       "                                     PROFILE_PICTURE  \\\n",
       "0  https://media-exp2.licdn.com/dms/image/C5603AQ...   \n",
       "\n",
       "                                PROFILE_ID                  PUBLIC_ID  \\\n",
       "0  ACoAAA7tG_cBPxSxwXLTOqMmr88tYF-6qd7Pptc  gerry-vanderstel-133a476b   \n",
       "\n",
       "          DATE_EXTRACT                                 OWNER_ID  \\\n",
       "0  2022-06-25 11:09:04  ACoAAAJHE7sB5OxuKHuzguZ9L6lfDHqw--cdnJg   \n",
       "\n",
       "       OWNER_NAME  \n",
       "0  Jérémy Ravenel  "
      ]
     },
     "execution_count": 4,
     "metadata": {},
     "output_type": "execute_result"
    }
   ],
   "source": [
    "df_connections = get_data(LK_PROFILE_CONNECTIONS)\n",
    "print(\"Data fetched:\", len(df_connections))\n",
    "df_connections.head(1)"
   ]
  },
  {
   "cell_type": "markdown",
   "id": "02b70a9a-637c-499f-b21f-cf2696666a14",
   "metadata": {},
   "source": [
    "### Get data"
   ]
  },
  {
   "cell_type": "code",
   "execution_count": 5,
   "id": "2dd9dc60-6abb-4594-b0e6-687edcf944e9",
   "metadata": {
    "execution": {
     "iopub.execute_input": "2022-06-25T12:23:47.480558Z",
     "iopub.status.busy": "2022-06-25T12:23:47.480322Z",
     "iopub.status.idle": "2022-06-25T12:23:47.543360Z",
     "shell.execute_reply": "2022-06-25T12:23:47.542753Z",
     "shell.execute_reply.started": "2022-06-25T12:23:47.480527Z"
    },
    "tags": []
   },
   "outputs": [],
   "source": [
    "def calc_value(csv_input):\n",
    "    df = get_data(csv_input)\n",
    "    if len(df) > 0:\n",
    "        value = df.loc[df.index[-1], \"VARV\"]\n",
    "        value_comp = df.loc[df.index[-2], \"VARV\"]\n",
    "        varv = value - value_comp\n",
    "        varp = varv / abs(value_comp)\n",
    "        return value, value_comp, varv, varp\n",
    "    else:\n",
    "        return 0, 0, 0, 0\n",
    "\n",
    "value, value_comp, varv, varp = calc_value(csv_input)\n",
    "# print(value, value_comp, varv, varp)"
   ]
  },
  {
   "cell_type": "markdown",
   "id": "b3511284-f35d-44e7-9a81-f75f6c4534ca",
   "metadata": {},
   "source": [
    "### Get list"
   ]
  },
  {
   "cell_type": "code",
   "execution_count": 6,
   "id": "e9f40339-4618-42a7-a2c1-37cb46437bb2",
   "metadata": {
    "execution": {
     "iopub.execute_input": "2022-06-25T12:23:47.544825Z",
     "iopub.status.busy": "2022-06-25T12:23:47.544419Z",
     "iopub.status.idle": "2022-06-25T12:23:47.865285Z",
     "shell.execute_reply": "2022-06-25T12:23:47.864660Z",
     "shell.execute_reply.started": "2022-06-25T12:23:47.544793Z"
    },
    "tags": []
   },
   "outputs": [
    {
     "name": "stdout",
     "output_type": "stream",
     "text": [
      "New rows: 210\n"
     ]
    },
    {
     "data": {
      "text/html": [
       "<div>\n",
       "<style scoped>\n",
       "    .dataframe tbody tr th:only-of-type {\n",
       "        vertical-align: middle;\n",
       "    }\n",
       "\n",
       "    .dataframe tbody tr th {\n",
       "        vertical-align: top;\n",
       "    }\n",
       "\n",
       "    .dataframe thead th {\n",
       "        text-align: right;\n",
       "    }\n",
       "</style>\n",
       "<table border=\"1\" class=\"dataframe\">\n",
       "  <thead>\n",
       "    <tr style=\"text-align: right;\">\n",
       "      <th></th>\n",
       "      <th>FIRSTNAME</th>\n",
       "      <th>LASTNAME</th>\n",
       "      <th>OCCUPATION</th>\n",
       "      <th>CREATED_AT</th>\n",
       "      <th>PROFILE_URL</th>\n",
       "      <th>PROFILE_PICTURE</th>\n",
       "      <th>PROFILE_ID</th>\n",
       "      <th>PUBLIC_ID</th>\n",
       "      <th>DATE_EXTRACT</th>\n",
       "      <th>OWNER_ID</th>\n",
       "      <th>OWNER_NAME</th>\n",
       "      <th>MTD</th>\n",
       "      <th>DATE</th>\n",
       "      <th>HOURS</th>\n",
       "    </tr>\n",
       "  </thead>\n",
       "  <tbody>\n",
       "    <tr>\n",
       "      <th>0</th>\n",
       "      <td>Gerry</td>\n",
       "      <td>VanderStel</td>\n",
       "      <td>Principal Data Analyst at Medtronic</td>\n",
       "      <td>2022-06-25 00:29:29</td>\n",
       "      <td>https://www.linkedin.com/in/ACoAAA7tG_cBPxSxwX...</td>\n",
       "      <td>https://media-exp2.licdn.com/dms/image/C5603AQ...</td>\n",
       "      <td>ACoAAA7tG_cBPxSxwXLTOqMmr88tYF-6qd7Pptc</td>\n",
       "      <td>gerry-vanderstel-133a476b</td>\n",
       "      <td>2022-06-25 11:09:04</td>\n",
       "      <td>ACoAAAJHE7sB5OxuKHuzguZ9L6lfDHqw--cdnJg</td>\n",
       "      <td>Jérémy Ravenel</td>\n",
       "      <td>2022-06</td>\n",
       "      <td>2022-06-25</td>\n",
       "      <td>00:29:29</td>\n",
       "    </tr>\n",
       "  </tbody>\n",
       "</table>\n",
       "</div>"
      ],
      "text/plain": [
       "  FIRSTNAME    LASTNAME                           OCCUPATION  \\\n",
       "0     Gerry  VanderStel  Principal Data Analyst at Medtronic   \n",
       "\n",
       "            CREATED_AT                                        PROFILE_URL  \\\n",
       "0  2022-06-25 00:29:29  https://www.linkedin.com/in/ACoAAA7tG_cBPxSxwX...   \n",
       "\n",
       "                                     PROFILE_PICTURE  \\\n",
       "0  https://media-exp2.licdn.com/dms/image/C5603AQ...   \n",
       "\n",
       "                                PROFILE_ID                  PUBLIC_ID  \\\n",
       "0  ACoAAA7tG_cBPxSxwXLTOqMmr88tYF-6qd7Pptc  gerry-vanderstel-133a476b   \n",
       "\n",
       "          DATE_EXTRACT                                 OWNER_ID  \\\n",
       "0  2022-06-25 11:09:04  ACoAAAJHE7sB5OxuKHuzguZ9L6lfDHqw--cdnJg   \n",
       "\n",
       "       OWNER_NAME      MTD        DATE     HOURS  \n",
       "0  Jérémy Ravenel  2022-06  2022-06-25  00:29:29  "
      ]
     },
     "execution_count": 6,
     "metadata": {},
     "output_type": "execute_result"
    }
   ],
   "source": [
    "def get_list(df_init,\n",
    "              col_date):\n",
    "    \n",
    "    # Init variable\n",
    "    df = df_init.copy()\n",
    "    df[SCENARIO] = pd.to_datetime(df[col_date]).dt.strftime(PERIOD)\n",
    "    df[\"DATE\"] = pd.to_datetime(df[col_date]).dt.strftime(\"%Y-%m-%d\")\n",
    "    df[\"HOURS\"] = pd.to_datetime(df[col_date]).dt.strftime(\"%H:%M:%S\")\n",
    "    \n",
    "    # Filter\n",
    "    df = df[df[SCENARIO] == datetime.now().strftime(PERIOD)].reset_index(drop=True)\n",
    "    \n",
    "    # Sort\n",
    "    df = df.sort_values(by=col_date, ascending=False)\n",
    "    return df.reset_index(drop=True)\n",
    "\n",
    "df_new = get_list(df_connections,\n",
    "                  col_date=COL_DATE)\n",
    "print(\"New rows:\", len(df_new))\n",
    "df_new.head(1)"
   ]
  },
  {
   "cell_type": "markdown",
   "id": "942c681d",
   "metadata": {
    "papermill": {},
    "tags": []
   },
   "source": [
    "## Output"
   ]
  },
  {
   "cell_type": "markdown",
   "id": "3338b963-dd53-4340-a5f7-aa232fa09970",
   "metadata": {
    "execution": {
     "iopub.execute_input": "2022-06-16T12:40:24.017252Z",
     "iopub.status.busy": "2022-06-16T12:40:24.016941Z",
     "iopub.status.idle": "2022-06-16T12:40:24.020164Z",
     "shell.execute_reply": "2022-06-16T12:40:24.019527Z",
     "shell.execute_reply.started": "2022-06-16T12:40:24.017224Z"
    },
    "tags": []
   },
   "source": [
    "### Update Notion Report"
   ]
  },
  {
   "cell_type": "code",
   "execution_count": 7,
   "id": "1d3af86d-4c96-48d2-a0fa-101bbfa3090f",
   "metadata": {
    "execution": {
     "iopub.execute_input": "2022-06-25T12:23:47.866612Z",
     "iopub.status.busy": "2022-06-25T12:23:47.866385Z",
     "iopub.status.idle": "2022-06-25T12:27:37.575463Z",
     "shell.execute_reply": "2022-06-25T12:27:37.574758Z",
     "shell.execute_reply.started": "2022-06-25T12:23:47.866582Z"
    },
    "tags": []
   },
   "outputs": [
    {
     "name": "stdout",
     "output_type": "stream",
     "text": [
      "✅ Page 'New connections - LinkedIn - Jérémy Ravenel' updated in Notion.\n"
     ]
    }
   ],
   "source": [
    "def update_report_status(report,\n",
    "                         platform,\n",
    "                         owner,\n",
    "                         df=pd.DataFrame(),\n",
    "                         image_link=None,\n",
    "                         html_link=None,\n",
    "                         csv_link=None\n",
    "                         ):\n",
    "    # Init\n",
    "    page = None\n",
    "    \n",
    "    # Decode database id\n",
    "    database_id = naas.secret.get(name=\"NOTION_DATABASE_URL\").split(\"/\")[-1].split(\"?v=\")[0]\n",
    "    \n",
    "    # Get pages from notion database\n",
    "    pages = notion.connect(naas.secret.get(\"NOTION_TOKEN\")).database.query(database_id)\n",
    "    \n",
    "    # Create or update page\n",
    "    page_new = True\n",
    "    for page in pages:\n",
    "        page_temp = page.df()\n",
    "        page_id = page_temp.loc[page_temp.Name == \"Report name\", \"Value\"].values\n",
    "        page_id2 = page_temp.loc[page_temp.Name == \"Platform\", \"Value\"].values\n",
    "        page_id3 = page_temp.loc[page_temp.Name == \"Owner\", \"Value\"].values\n",
    "        if page_id == report and page_id2 == platform and page_id3 == owner:\n",
    "            page_new = False\n",
    "            break\n",
    "    try:\n",
    "        if page_new:\n",
    "            page = notion.connect(naas.secret.get(\"NOTION_TOKEN\")).Page.new(database_id=database_id).create()\n",
    "            page.title(\"Report name\", report)\n",
    "            page.multi_select(\"Platform\", [platform])\n",
    "            page.select(\"Owner\", owner)\n",
    "            \n",
    "        # Check if image already exists\n",
    "        blocks = page.get_blocks()\n",
    "        if len(blocks) > 0:\n",
    "            while True:\n",
    "                for block in blocks:\n",
    "                    notion.connect(naas.secret.get(\"NOTION_TOKEN\")).blocks.delete(block.id)\n",
    "                blocks = page.get_blocks()\n",
    "                if len(blocks) == 0:\n",
    "                    break\n",
    "        page.update()\n",
    "        dates = df.DATE.unique()\n",
    "        for d in dates:\n",
    "            tmp_df = df[df.DATE == d].reset_index(drop=True)\n",
    "            page.heading_3(d)\n",
    "            for index, row in tmp_df.iterrows():\n",
    "                res = page.bulleted_list_item(f\"{row.FIRSTNAME} {row.LASTNAME} - {row.OCCUPATION} ({row.HOURS})\")\n",
    "                res.bulleted_list_item.text[0].href = row.PROFILE_URL\n",
    "                res.bulleted_list_item.text[0].text.link = Link(row.PROFILE_URL)\n",
    "\n",
    "        # Create page in Notion\n",
    "        value, value_comp, varv, varp = calc_value(csv_input)\n",
    "        page.number(\"This month\", float(value))\n",
    "        page.number(\"Last month\", float(value_comp))\n",
    "        page.number(\"Variation\", float(varv))\n",
    "        page.number(\"Variation %\", round(float(varp), 4))\n",
    "        page.date(\"Last updated date\", datetime.now(pytz.timezone(TIMEZONE)).strftime(\"%Y-%m-%d %H:%M:%S%z\"))\n",
    "        page.update()\n",
    "        print(f\"✅ Page '{report} - {platform} - {owner}' updated in Notion.\")\n",
    "    except Exception as e:\n",
    "        raise(e)\n",
    "    return page\n",
    "\n",
    "page = update_report_status(KPI_TITLE,\n",
    "                            PLATFORM,\n",
    "                            OWNER,\n",
    "                            df_new)"
   ]
  },
  {
   "cell_type": "code",
   "execution_count": null,
   "id": "0ebab75c-07b0-46f6-bdad-f3fc0de7a17f",
   "metadata": {},
   "outputs": [],
   "source": []
  }
 ],
 "metadata": {
  "kernelspec": {
   "display_name": "Python 3",
   "language": "python",
   "name": "python3"
  },
  "language_info": {
   "codemirror_mode": {
    "name": "ipython",
    "version": 3
   },
   "file_extension": ".py",
   "mimetype": "text/x-python",
   "name": "python",
   "nbconvert_exporter": "python",
   "pygments_lexer": "ipython3",
   "version": "3.9.6"
  },
  "papermill": {
   "default_parameters": {},
   "environment_variables": {},
   "parameters": {},
   "version": "2.3.4"
  }
 },
 "nbformat": 4,
 "nbformat_minor": 5
}
