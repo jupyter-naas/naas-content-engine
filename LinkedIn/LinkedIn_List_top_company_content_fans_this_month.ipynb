{
 "cells": [
  {
   "cell_type": "markdown",
   "id": "a6fcf7c9",
   "metadata": {
    "papermill": {},
    "tags": []
   },
   "source": [
    "<img width=\"10%\" alt=\"Naas\" src=\"https://landen.imgix.net/jtci2pxwjczr/assets/5ice39g4.png?w=160\"/>\n"
   ]
  },
  {
   "cell_type": "markdown",
   "id": "7217870e",
   "metadata": {
    "papermill": {},
    "tags": []
   },
   "source": [
    "# LinkedIn - List top company content fans\n",
    "<a href=\"https://app.naas.ai/user-redirect/naas/downloader?url=https://raw.githubusercontent.com/jupyter-naas/awesome-notebooks/master/LinkedIn/Linkedin_Follow_number_of_content_published.ipynb\" target=\"_parent\"><img src=\"https://naasai-public.s3.eu-west-3.amazonaws.com/open_in_naas.svg\"/></a>"
   ]
  },
  {
   "cell_type": "markdown",
   "id": "c8756b96",
   "metadata": {
    "papermill": {},
    "tags": []
   },
   "source": [
    "**Tags:** #linkedin #html #plotly #csv #image #content #analytics #automation"
   ]
  },
  {
   "cell_type": "markdown",
   "id": "520d91fd",
   "metadata": {
    "papermill": {},
    "tags": []
   },
   "source": [
    "**Author:** [Florent Ravenel](https://www.linkedin.com/in/florent-ravenel/)"
   ]
  },
  {
   "cell_type": "markdown",
   "id": "50f12968-23e2-4039-aa47-99f4168e63ff",
   "metadata": {
    "papermill": {},
    "tags": []
   },
   "source": [
    "This notebook follows the evolution of content shares on LinkedIn."
   ]
  },
  {
   "cell_type": "markdown",
   "id": "227b8ffb",
   "metadata": {
    "papermill": {},
    "tags": []
   },
   "source": [
    "## Input"
   ]
  },
  {
   "cell_type": "code",
   "execution_count": 1,
   "id": "a9ed07a4-0f86-4282-928d-1c95f2ca8dd2",
   "metadata": {
    "execution": {
     "iopub.execute_input": "2022-06-28T19:26:51.840584Z",
     "iopub.status.busy": "2022-06-28T19:26:51.840321Z",
     "iopub.status.idle": "2022-06-28T19:26:56.234171Z",
     "shell.execute_reply": "2022-06-28T19:26:56.233550Z",
     "shell.execute_reply.started": "2022-06-28T19:26:51.840519Z"
    },
    "tags": []
   },
   "outputs": [],
   "source": [
    "# Except allow to run common.ipynb once using Naas Engine\n",
    "try:\n",
    "    %run \"../common.ipynb\"\n",
    "except:\n",
    "    %run \"common.ipynb\""
   ]
  },
  {
   "cell_type": "markdown",
   "id": "024797b3",
   "metadata": {
    "papermill": {},
    "tags": []
   },
   "source": [
    "### Setup Variables"
   ]
  },
  {
   "cell_type": "code",
   "execution_count": 2,
   "id": "81f1fde6-e3a7-4617-82da-c332ec4a2ee6",
   "metadata": {
    "execution": {
     "iopub.execute_input": "2022-06-28T19:26:56.236924Z",
     "iopub.status.busy": "2022-06-28T19:26:56.236725Z",
     "iopub.status.idle": "2022-06-28T19:26:56.249591Z",
     "shell.execute_reply": "2022-06-28T19:26:56.244637Z",
     "shell.execute_reply.started": "2022-06-28T19:26:56.236904Z"
    },
    "tags": []
   },
   "outputs": [],
   "source": [
    "KPI_TITLE = \"Top fans\"\n",
    "INPUT_DATABASE = LK_COMPANY_ENGAGEMENTS\n",
    "OWNER = LK_COMPANY_NAME\n",
    "OWNER_ID = LK_COMPANY_ID\n",
    "PLATFORM = LINKEDIN\n",
    "LOGO = LINKEDIN_LOGO\n",
    "COLOR = LINKEDIN_COLOR"
   ]
  },
  {
   "cell_type": "markdown",
   "id": "4d4e1379-ea4e-4fb1-ba52-606cf89b114a",
   "metadata": {},
   "source": [
    "### Setup Constants"
   ]
  },
  {
   "cell_type": "code",
   "execution_count": 3,
   "id": "17dcc289",
   "metadata": {
    "execution": {
     "iopub.execute_input": "2022-06-28T19:26:56.251783Z",
     "iopub.status.busy": "2022-06-28T19:26:56.251573Z",
     "iopub.status.idle": "2022-06-28T19:26:56.347507Z",
     "shell.execute_reply": "2022-06-28T19:26:56.346898Z",
     "shell.execute_reply.started": "2022-06-28T19:26:56.251756Z"
    },
    "papermill": {},
    "tags": []
   },
   "outputs": [],
   "source": [
    "# Inputs\n",
    "PERIOD = PERIOD_MTD"
   ]
  },
  {
   "cell_type": "markdown",
   "id": "1bb8c4cd",
   "metadata": {
    "papermill": {},
    "tags": []
   },
   "source": [
    "## Model"
   ]
  },
  {
   "cell_type": "markdown",
   "id": "024e9efb-4c80-4c60-a455-103af0884d2d",
   "metadata": {},
   "source": [
    "### Get your engagements"
   ]
  },
  {
   "cell_type": "code",
   "execution_count": 4,
   "id": "6d00847f-e9bf-4f92-a2b4-406468fb09e2",
   "metadata": {
    "execution": {
     "iopub.execute_input": "2022-06-28T19:26:59.613848Z",
     "iopub.status.busy": "2022-06-28T19:26:59.613630Z",
     "iopub.status.idle": "2022-06-28T19:26:59.650303Z",
     "shell.execute_reply": "2022-06-28T19:26:59.649740Z",
     "shell.execute_reply.started": "2022-06-28T19:26:59.613825Z"
    },
    "tags": []
   },
   "outputs": [
    {
     "name": "stdout",
     "output_type": "stream",
     "text": [
      "✅ Engagements fetched: 70\n"
     ]
    },
    {
     "data": {
      "text/html": [
       "<div>\n",
       "<style scoped>\n",
       "    .dataframe tbody tr th:only-of-type {\n",
       "        vertical-align: middle;\n",
       "    }\n",
       "\n",
       "    .dataframe tbody tr th {\n",
       "        vertical-align: top;\n",
       "    }\n",
       "\n",
       "    .dataframe thead th {\n",
       "        text-align: right;\n",
       "    }\n",
       "</style>\n",
       "<table border=\"1\" class=\"dataframe\">\n",
       "  <thead>\n",
       "    <tr style=\"text-align: right;\">\n",
       "      <th></th>\n",
       "      <th>PROFILE_ID</th>\n",
       "      <th>PROFILE_URL</th>\n",
       "      <th>PUBLIC_ID</th>\n",
       "      <th>FIRSTNAME</th>\n",
       "      <th>LASTNAME</th>\n",
       "      <th>FULLNAME</th>\n",
       "      <th>OCCUPATION</th>\n",
       "      <th>REACTION</th>\n",
       "      <th>TEXT</th>\n",
       "      <th>TITLE</th>\n",
       "      <th>PUBLISHED_DATE</th>\n",
       "      <th>AUTHOR_NAME</th>\n",
       "      <th>POST_URL</th>\n",
       "    </tr>\n",
       "  </thead>\n",
       "  <tbody>\n",
       "    <tr>\n",
       "      <th>0</th>\n",
       "      <td>ACoAABYVsxEBFJ5cAeOCukhSw2dAK8h_pMtwg1E</td>\n",
       "      <td>https://www.linkedin.com/in/ACoAABYVsxEBFJ5cAe...</td>\n",
       "      <td>valentin-piquard-955105a4</td>\n",
       "      <td>Valentin</td>\n",
       "      <td>Piquard</td>\n",
       "      <td>Valentin Piquard</td>\n",
       "      <td>Product-Led Growth @Naas.ai | Building an Open...</td>\n",
       "      <td>LIKES</td>\n",
       "      <td>Not defined</td>\n",
       "      <td>No comment. 👌</td>\n",
       "      <td>2022-06-26 16:22:00+02:00</td>\n",
       "      <td>naas.ai</td>\n",
       "      <td>https://www.linkedin.com/feed/update/urn:li:ac...</td>\n",
       "    </tr>\n",
       "  </tbody>\n",
       "</table>\n",
       "</div>"
      ],
      "text/plain": [
       "                                PROFILE_ID  \\\n",
       "0  ACoAABYVsxEBFJ5cAeOCukhSw2dAK8h_pMtwg1E   \n",
       "\n",
       "                                         PROFILE_URL  \\\n",
       "0  https://www.linkedin.com/in/ACoAABYVsxEBFJ5cAe...   \n",
       "\n",
       "                   PUBLIC_ID FIRSTNAME LASTNAME          FULLNAME  \\\n",
       "0  valentin-piquard-955105a4  Valentin  Piquard  Valentin Piquard   \n",
       "\n",
       "                                          OCCUPATION REACTION         TEXT  \\\n",
       "0  Product-Led Growth @Naas.ai | Building an Open...    LIKES  Not defined   \n",
       "\n",
       "           TITLE             PUBLISHED_DATE AUTHOR_NAME  \\\n",
       "0  No comment. 👌  2022-06-26 16:22:00+02:00     naas.ai   \n",
       "\n",
       "                                            POST_URL  \n",
       "0  https://www.linkedin.com/feed/update/urn:li:ac...  "
      ]
     },
     "execution_count": 4,
     "metadata": {},
     "output_type": "execute_result"
    }
   ],
   "source": [
    "df_engagements = get_data(INPUT_DATABASE)\n",
    "print(\"✅ Engagements fetched:\", len(df_engagements))\n",
    "df_engagements.head(1)"
   ]
  },
  {
   "cell_type": "markdown",
   "id": "edf02103-3d05-49e7-9db9-8a8b35e5cf1f",
   "metadata": {},
   "source": [
    "### Get fans"
   ]
  },
  {
   "cell_type": "code",
   "execution_count": 5,
   "id": "ea9b6520-6ea4-4521-b813-f41574da2044",
   "metadata": {
    "execution": {
     "iopub.execute_input": "2022-06-28T19:27:01.229894Z",
     "iopub.status.busy": "2022-06-28T19:27:01.229672Z",
     "iopub.status.idle": "2022-06-28T19:27:01.262394Z",
     "shell.execute_reply": "2022-06-28T19:27:01.261653Z",
     "shell.execute_reply.started": "2022-06-28T19:27:01.229871Z"
    },
    "tags": []
   },
   "outputs": [
    {
     "data": {
      "text/html": [
       "<div>\n",
       "<style scoped>\n",
       "    .dataframe tbody tr th:only-of-type {\n",
       "        vertical-align: middle;\n",
       "    }\n",
       "\n",
       "    .dataframe tbody tr th {\n",
       "        vertical-align: top;\n",
       "    }\n",
       "\n",
       "    .dataframe thead th {\n",
       "        text-align: right;\n",
       "    }\n",
       "</style>\n",
       "<table border=\"1\" class=\"dataframe\">\n",
       "  <thead>\n",
       "    <tr style=\"text-align: right;\">\n",
       "      <th></th>\n",
       "      <th>PROFILE_URL</th>\n",
       "      <th>FULLNAME</th>\n",
       "      <th>OCCUPATION</th>\n",
       "      <th>REACTION</th>\n",
       "      <th>PROFILE_ID</th>\n",
       "    </tr>\n",
       "  </thead>\n",
       "  <tbody>\n",
       "    <tr>\n",
       "      <th>0</th>\n",
       "      <td>https://www.linkedin.com/in/ACoAABYVsxEBFJ5cAe...</td>\n",
       "      <td>Valentin Piquard</td>\n",
       "      <td>Product-Led Growth @Naas.ai | Building an Open...</td>\n",
       "      <td>LIKES</td>\n",
       "      <td>7</td>\n",
       "    </tr>\n",
       "    <tr>\n",
       "      <th>1</th>\n",
       "      <td>https://www.linkedin.com/in/ACoAADECqNcBio1wz7...</td>\n",
       "      <td>Shruthi Jain</td>\n",
       "      <td>|Data Analyst at Xeno|</td>\n",
       "      <td>LIKES</td>\n",
       "      <td>4</td>\n",
       "    </tr>\n",
       "    <tr>\n",
       "      <th>2</th>\n",
       "      <td>https://www.linkedin.com/in/ACoAABCNSioBW3YZHc...</td>\n",
       "      <td>Florent Ravenel</td>\n",
       "      <td>COO @Naas.ai | Automation and data templates i...</td>\n",
       "      <td>LIKES</td>\n",
       "      <td>3</td>\n",
       "    </tr>\n",
       "    <tr>\n",
       "      <th>3</th>\n",
       "      <td>https://www.linkedin.com/in/ACoAAABFvlkBIKRZTA...</td>\n",
       "      <td>Debbie Botha</td>\n",
       "      <td>Women in AI Global Chief Partnership Officer</td>\n",
       "      <td>LIKES</td>\n",
       "      <td>2</td>\n",
       "    </tr>\n",
       "    <tr>\n",
       "      <th>4</th>\n",
       "      <td>https://www.linkedin.com/in/ACoAAAJ-AnwBgyHAkS...</td>\n",
       "      <td>Raouf Mazouz</td>\n",
       "      <td>Data Scientist | ERP Expert | ML &amp; AI Enthusia...</td>\n",
       "      <td>LIKES</td>\n",
       "      <td>2</td>\n",
       "    </tr>\n",
       "    <tr>\n",
       "      <th>5</th>\n",
       "      <td>https://www.linkedin.com/in/ACoAAA6EYJABlJdZG2...</td>\n",
       "      <td>Maxime Jublou</td>\n",
       "      <td>CTO @naas.ai | Cloud, DevOps and Software deve...</td>\n",
       "      <td>LIKES</td>\n",
       "      <td>2</td>\n",
       "    </tr>\n",
       "    <tr>\n",
       "      <th>6</th>\n",
       "      <td>https://www.linkedin.com/in/ACoAAAJHE7sB5OxuKH...</td>\n",
       "      <td>Jérémy Ravenel</td>\n",
       "      <td>⚡️ Building @naas.ai - open source data platfo...</td>\n",
       "      <td>LIKES</td>\n",
       "      <td>2</td>\n",
       "    </tr>\n",
       "    <tr>\n",
       "      <th>7</th>\n",
       "      <td>https://www.linkedin.com/in/ACoAAByNUAYBPZEpdf...</td>\n",
       "      <td>Waleed Elhardallou</td>\n",
       "      <td>Digital Marketing Specialist at ShareColours.Se</td>\n",
       "      <td>LIKES</td>\n",
       "      <td>2</td>\n",
       "    </tr>\n",
       "    <tr>\n",
       "      <th>8</th>\n",
       "      <td>https://www.linkedin.com/in/ACoAAC0ndQIBTW3BMy...</td>\n",
       "      <td>Peace Bello</td>\n",
       "      <td>Chemical Engineering Finalist|| Process Optimi...</td>\n",
       "      <td>LIKES</td>\n",
       "      <td>2</td>\n",
       "    </tr>\n",
       "    <tr>\n",
       "      <th>9</th>\n",
       "      <td>https://www.linkedin.com/in/ACoAAAmO4lgBYd3oqz...</td>\n",
       "      <td>Shaheeb Rahman</td>\n",
       "      <td>Data Engineering Architect with 12 yrs experie...</td>\n",
       "      <td>LIKES</td>\n",
       "      <td>2</td>\n",
       "    </tr>\n",
       "  </tbody>\n",
       "</table>\n",
       "</div>"
      ],
      "text/plain": [
       "                                         PROFILE_URL            FULLNAME  \\\n",
       "0  https://www.linkedin.com/in/ACoAABYVsxEBFJ5cAe...    Valentin Piquard   \n",
       "1  https://www.linkedin.com/in/ACoAADECqNcBio1wz7...        Shruthi Jain   \n",
       "2  https://www.linkedin.com/in/ACoAABCNSioBW3YZHc...     Florent Ravenel   \n",
       "3  https://www.linkedin.com/in/ACoAAABFvlkBIKRZTA...        Debbie Botha   \n",
       "4  https://www.linkedin.com/in/ACoAAAJ-AnwBgyHAkS...        Raouf Mazouz   \n",
       "5  https://www.linkedin.com/in/ACoAAA6EYJABlJdZG2...       Maxime Jublou   \n",
       "6  https://www.linkedin.com/in/ACoAAAJHE7sB5OxuKH...      Jérémy Ravenel   \n",
       "7  https://www.linkedin.com/in/ACoAAByNUAYBPZEpdf...  Waleed Elhardallou   \n",
       "8  https://www.linkedin.com/in/ACoAAC0ndQIBTW3BMy...         Peace Bello   \n",
       "9  https://www.linkedin.com/in/ACoAAAmO4lgBYd3oqz...      Shaheeb Rahman   \n",
       "\n",
       "                                          OCCUPATION REACTION  PROFILE_ID  \n",
       "0  Product-Led Growth @Naas.ai | Building an Open...    LIKES           7  \n",
       "1                             |Data Analyst at Xeno|    LIKES           4  \n",
       "2  COO @Naas.ai | Automation and data templates i...    LIKES           3  \n",
       "3       Women in AI Global Chief Partnership Officer    LIKES           2  \n",
       "4  Data Scientist | ERP Expert | ML & AI Enthusia...    LIKES           2  \n",
       "5  CTO @naas.ai | Cloud, DevOps and Software deve...    LIKES           2  \n",
       "6  ⚡️ Building @naas.ai - open source data platfo...    LIKES           2  \n",
       "7    Digital Marketing Specialist at ShareColours.Se    LIKES           2  \n",
       "8  Chemical Engineering Finalist|| Process Optimi...    LIKES           2  \n",
       "9  Data Engineering Architect with 12 yrs experie...    LIKES           2  "
      ]
     },
     "execution_count": 5,
     "metadata": {},
     "output_type": "execute_result"
    }
   ],
   "source": [
    "def get_fans(df):\n",
    "    # Init\n",
    "    df_fans = df.copy()\n",
    "    \n",
    "    # Filter\n",
    "    df_fans[\"SCENARIO\"] = pd.to_datetime(df_fans[\"PUBLISHED_DATE\"].str[:-6]).dt.strftime(PERIOD)\n",
    "    df_fans = df_fans[(df_fans[\"SCENARIO\"] == datetime.now().strftime(PERIOD)) & (df_fans[\"FULLNAME\"] != OWNER)].reset_index(drop=True)\n",
    "\n",
    "    # Groupby\n",
    "    to_group = [\"PROFILE_URL\", \"FULLNAME\", \"OCCUPATION\"]\n",
    "    to_agg = {\"PROFILE_ID\": \"count\"}\n",
    "    \n",
    "    df_fans = df_fans.groupby(to_group, as_index=False).agg(to_agg)\n",
    "    df_fans = df_fans.sort_values(by=\"PROFILE_ID\", ascending=False).reset_index(drop=True)[:20]\n",
    "    return df_fans\n",
    "\n",
    "df_fans = get_fans(df_engagements)\n",
    "df_fans"
   ]
  },
  {
   "cell_type": "markdown",
   "id": "942c681d",
   "metadata": {
    "papermill": {},
    "tags": []
   },
   "source": [
    "## Output"
   ]
  },
  {
   "cell_type": "markdown",
   "id": "3338b963-dd53-4340-a5f7-aa232fa09970",
   "metadata": {
    "execution": {
     "iopub.execute_input": "2022-06-16T12:40:24.017252Z",
     "iopub.status.busy": "2022-06-16T12:40:24.016941Z",
     "iopub.status.idle": "2022-06-16T12:40:24.020164Z",
     "shell.execute_reply": "2022-06-16T12:40:24.019527Z",
     "shell.execute_reply.started": "2022-06-16T12:40:24.017224Z"
    },
    "tags": []
   },
   "source": [
    "### Update Notion Report"
   ]
  },
  {
   "cell_type": "code",
   "execution_count": 6,
   "id": "1d3af86d-4c96-48d2-a0fa-101bbfa3090f",
   "metadata": {
    "execution": {
     "iopub.execute_input": "2022-06-28T19:27:08.586869Z",
     "iopub.status.busy": "2022-06-28T19:27:08.586643Z",
     "iopub.status.idle": "2022-06-28T19:27:14.089271Z",
     "shell.execute_reply": "2022-06-28T19:27:14.088561Z",
     "shell.execute_reply.started": "2022-06-28T19:27:08.586846Z"
    },
    "tags": []
   },
   "outputs": [
    {
     "name": "stdout",
     "output_type": "stream",
     "text": [
      "✅ Page 'Top fans - LinkedIn - naas.ai' updated in Notion.\n"
     ]
    }
   ],
   "source": [
    "def update_report_status(report,\n",
    "                         platform,\n",
    "                         owner,\n",
    "                         df=pd.DataFrame(),\n",
    "                         image_link=None,\n",
    "                         html_link=None,\n",
    "                         csv_link=None,\n",
    "                         page_icon=LOGO,\n",
    "                         ):\n",
    "    # Decode database id\n",
    "    database_id = naas.secret.get(name=\"NOTION_DATABASE_URL\").split(\"/\")[-1].split(\"?v=\")[0]\n",
    "    \n",
    "    # Get pages from notion database\n",
    "    pages = notion.connect(NOTION_TOKEN).database.query(database_id)\n",
    "    \n",
    "    # Create or update page\n",
    "    page_new = True\n",
    "    for page in pages:\n",
    "        page_temp = page.df()\n",
    "        page_id = page_temp.loc[page_temp.Name == \"Report name\", \"Value\"].values\n",
    "        page_id2 = page_temp.loc[page_temp.Name == \"Platform\", \"Value\"].values\n",
    "        page_id3 = page_temp.loc[page_temp.Name == \"Owner\", \"Value\"].values\n",
    "        if page_id == report and page_id2 == platform and page_id3 == owner:\n",
    "            page_new = False\n",
    "            break\n",
    "    try:\n",
    "        if page_new:\n",
    "            page = notion.connect(NOTION_TOKEN).Page.new(database_id=database_id).create()\n",
    "            page.title(\"Report name\", report)\n",
    "            page.multi_select(\"Platform\", [platform])\n",
    "            page.select(\"Owner\", owner)\n",
    "            notion.client.pages.update(page_id=page.id, icon={'type': 'external', 'external': {'url': page_icon}})\n",
    "            \n",
    "        # Check if image already exists\n",
    "        blocks = page.get_blocks()\n",
    "        if len(blocks) > 0:\n",
    "            while True:\n",
    "                for block in blocks:\n",
    "                    notion.connect(NOTION_TOKEN).blocks.delete(block.id)\n",
    "                blocks = page.get_blocks()\n",
    "                if len(blocks) == 0:\n",
    "                    break\n",
    "        page.update()\n",
    "        \n",
    "        \n",
    "        for index, row in df.iterrows():\n",
    "            text = f\"{row.FULLNAME} - {row.OCCUPATION} ({str(row.PROFILE_ID)})\"\n",
    "            res = page.numbered_list_item(text)\n",
    "            res.numbered_list_item.text[0].href = row.PROFILE_URL\n",
    "            res.numbered_list_item.text[0].text.link = Link(row.PROFILE_URL)\n",
    "\n",
    "        # Create page in Notion\n",
    "        page.date(\"Last updated date\", datetime.now(pytz.timezone(TIMEZONE)).strftime(\"%Y-%m-%d %H:%M:%S%z\"))\n",
    "        page.update()\n",
    "        print(f\"✅ Page '{report} - {platform} - {owner}' updated in Notion.\")\n",
    "    except Exception as e:\n",
    "        raise(e)\n",
    "\n",
    "update_report_status(KPI_TITLE,\n",
    "                     PLATFORM,\n",
    "                     OWNER,\n",
    "                     df_fans)"
   ]
  },
  {
   "cell_type": "code",
   "execution_count": null,
   "id": "b7025cd4-1bd3-4c05-abb4-9cb7a96be0fe",
   "metadata": {},
   "outputs": [],
   "source": []
  }
 ],
 "metadata": {
  "kernelspec": {
   "display_name": "Python 3",
   "language": "python",
   "name": "python3"
  },
  "language_info": {
   "codemirror_mode": {
    "name": "ipython",
    "version": 3
   },
   "file_extension": ".py",
   "mimetype": "text/x-python",
   "name": "python",
   "nbconvert_exporter": "python",
   "pygments_lexer": "ipython3",
   "version": "3.9.6"
  },
  "papermill": {
   "default_parameters": {},
   "environment_variables": {},
   "parameters": {},
   "version": "2.3.4"
  }
 },
 "nbformat": 4,
 "nbformat_minor": 5
}
