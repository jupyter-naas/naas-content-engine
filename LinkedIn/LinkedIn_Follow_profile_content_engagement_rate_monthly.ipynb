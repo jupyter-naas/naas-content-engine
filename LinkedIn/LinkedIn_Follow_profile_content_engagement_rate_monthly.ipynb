{
 "cells": [
  {
   "cell_type": "markdown",
   "id": "a6fcf7c9",
   "metadata": {
    "papermill": {},
    "tags": []
   },
   "source": [
    "<img width=\"10%\" alt=\"Naas\" src=\"https://landen.imgix.net/jtci2pxwjczr/assets/5ice39g4.png?w=160\"/>\n"
   ]
  },
  {
   "cell_type": "markdown",
   "id": "7217870e",
   "metadata": {
    "papermill": {},
    "tags": []
   },
   "source": [
    "# LinkedIn - Follow profile content engagement rate monthly\n",
    "<a href=\"https://app.naas.ai/user-redirect/naas/downloader?url=https://raw.githubusercontent.com/jupyter-naas/awesome-notebooks/master/LinkedIn/Linkedin_Follow_number_of_content_published.ipynb\" target=\"_parent\"><img src=\"https://naasai-public.s3.eu-west-3.amazonaws.com/open_in_naas.svg\"/></a>"
   ]
  },
  {
   "cell_type": "markdown",
   "id": "c8756b96",
   "metadata": {
    "papermill": {},
    "tags": []
   },
   "source": [
    "**Tags:** #linkedin #html #plotly #csv #image #content #analytics #automation"
   ]
  },
  {
   "cell_type": "markdown",
   "id": "520d91fd",
   "metadata": {
    "papermill": {},
    "tags": []
   },
   "source": [
    "**Author:** [Florent Ravenel](https://www.linkedin.com/in/florent-ravenel/)"
   ]
  },
  {
   "cell_type": "markdown",
   "id": "50f12968-23e2-4039-aa47-99f4168e63ff",
   "metadata": {
    "papermill": {},
    "tags": []
   },
   "source": [
    "This notebook follows the evolution of content engagement rate (likes +  comments) / views) on LinkedIn."
   ]
  },
  {
   "cell_type": "markdown",
   "id": "227b8ffb",
   "metadata": {
    "papermill": {},
    "tags": []
   },
   "source": [
    "## Input"
   ]
  },
  {
   "cell_type": "code",
   "execution_count": 1,
   "id": "a9ed07a4-0f86-4282-928d-1c95f2ca8dd2",
   "metadata": {
    "execution": {
     "iopub.execute_input": "2022-07-01T14:50:08.033059Z",
     "iopub.status.busy": "2022-07-01T14:50:08.032782Z",
     "iopub.status.idle": "2022-07-01T14:50:20.346653Z",
     "shell.execute_reply": "2022-07-01T14:50:20.345999Z",
     "shell.execute_reply.started": "2022-07-01T14:50:08.032993Z"
    },
    "tags": []
   },
   "outputs": [],
   "source": [
    "# Except allow to run common.ipynb once using Naas Engine\n",
    "try:\n",
    "    %run \"../common.ipynb\"\n",
    "except:\n",
    "    %run \"common.ipynb\""
   ]
  },
  {
   "cell_type": "markdown",
   "id": "024797b3",
   "metadata": {
    "papermill": {},
    "tags": []
   },
   "source": [
    "### Setup Variables"
   ]
  },
  {
   "cell_type": "code",
   "execution_count": 6,
   "id": "81f1fde6-e3a7-4617-82da-c332ec4a2ee6",
   "metadata": {
    "execution": {
     "iopub.execute_input": "2022-07-01T14:56:42.443799Z",
     "iopub.status.busy": "2022-07-01T14:56:42.443568Z",
     "iopub.status.idle": "2022-07-01T14:56:42.447395Z",
     "shell.execute_reply": "2022-07-01T14:56:42.446719Z",
     "shell.execute_reply.started": "2022-07-01T14:56:42.443776Z"
    },
    "tags": []
   },
   "outputs": [],
   "source": [
    "# Inputs\n",
    "KPI_TITLE = \"Engagement rate\"\n",
    "INPUT_DATABASE = LK_PROFILE_POSTS\n",
    "PLATFORM = LINKEDIN\n",
    "LOGO = LINKEDIN_LOGO\n",
    "COLOR = LINKEDIN_COLOR\n",
    "OWNER = LK_FULLNAME\n",
    "OWNER_ID = LK_PROFILE_ID\n",
    "COL_VALUE = KPI_TITLE.upper().replace(' ', '_')"
   ]
  },
  {
   "cell_type": "markdown",
   "id": "4d4e1379-ea4e-4fb1-ba52-606cf89b114a",
   "metadata": {},
   "source": [
    "### Setup Constants"
   ]
  },
  {
   "cell_type": "code",
   "execution_count": 7,
   "id": "17dcc289",
   "metadata": {
    "execution": {
     "iopub.execute_input": "2022-07-01T14:56:43.337726Z",
     "iopub.status.busy": "2022-07-01T14:56:43.337486Z",
     "iopub.status.idle": "2022-07-01T14:56:43.341679Z",
     "shell.execute_reply": "2022-07-01T14:56:43.341007Z",
     "shell.execute_reply.started": "2022-07-01T14:56:43.337704Z"
    },
    "papermill": {},
    "tags": []
   },
   "outputs": [],
   "source": [
    "PERIOD = PERIOD_MTD\n",
    "PERIOD_D = DISPLAY_MTD\n",
    "PERIOD_TEXT = TEXT_MTD\n",
    "PERIOD_TEXT2 = TEXT2_MTD\n",
    "SCENARIO = SCENARIO_MTD\n",
    "TITLE = f\"Content {KPI_TITLE.lower()} over the past {str(MONTH_ROLLING)} {PERIOD_TEXT2}\"\n",
    "\n",
    "# Outputs\n",
    "name_output = f\"LINKEDIN_FOLLOW_PROFILE_{KPI_TITLE.upper().replace(' ', '_')}_{SCENARIO}_{OWNER_ID}\"\n",
    "csv_output = path.join(LINKEDIN_OUTPUTS, f\"{name_output}.csv\")\n",
    "html_output = path.join(LINKEDIN_OUTPUTS, f\"{name_output}.html\")\n",
    "image_output = path.join(LINKEDIN_OUTPUTS, f\"{name_output}.png\")"
   ]
  },
  {
   "cell_type": "markdown",
   "id": "1bb8c4cd",
   "metadata": {
    "papermill": {},
    "tags": []
   },
   "source": [
    "## Model"
   ]
  },
  {
   "cell_type": "markdown",
   "id": "024e9efb-4c80-4c60-a455-103af0884d2d",
   "metadata": {},
   "source": [
    "### Get your posts"
   ]
  },
  {
   "cell_type": "code",
   "execution_count": 4,
   "id": "6d00847f-e9bf-4f92-a2b4-406468fb09e2",
   "metadata": {
    "execution": {
     "iopub.execute_input": "2022-07-01T14:50:22.141821Z",
     "iopub.status.busy": "2022-07-01T14:50:22.141585Z",
     "iopub.status.idle": "2022-07-01T14:50:22.203390Z",
     "shell.execute_reply": "2022-07-01T14:50:22.202752Z",
     "shell.execute_reply.started": "2022-07-01T14:50:22.141798Z"
    },
    "tags": []
   },
   "outputs": [
    {
     "name": "stdout",
     "output_type": "stream",
     "text": [
      "✅ Posts fetched: 23\n"
     ]
    },
    {
     "data": {
      "text/html": [
       "<div>\n",
       "<style scoped>\n",
       "    .dataframe tbody tr th:only-of-type {\n",
       "        vertical-align: middle;\n",
       "    }\n",
       "\n",
       "    .dataframe tbody tr th {\n",
       "        vertical-align: top;\n",
       "    }\n",
       "\n",
       "    .dataframe thead th {\n",
       "        text-align: right;\n",
       "    }\n",
       "</style>\n",
       "<table border=\"1\" class=\"dataframe\">\n",
       "  <thead>\n",
       "    <tr style=\"text-align: right;\">\n",
       "      <th></th>\n",
       "      <th>ACTIVITY_ID</th>\n",
       "      <th>PAGINATION_TOKEN</th>\n",
       "      <th>PUBLISHED_DATE</th>\n",
       "      <th>AUTHOR_NAME</th>\n",
       "      <th>AUTHOR_URL</th>\n",
       "      <th>SUBDESCRIPTION</th>\n",
       "      <th>TITLE</th>\n",
       "      <th>TEXT</th>\n",
       "      <th>CHARACTER_COUNT</th>\n",
       "      <th>TAGS</th>\n",
       "      <th>...</th>\n",
       "      <th>POLL_ID</th>\n",
       "      <th>POLL_QUESTION</th>\n",
       "      <th>POLL_RESULTS</th>\n",
       "      <th>POST_URL</th>\n",
       "      <th>VIEWS</th>\n",
       "      <th>COMMENTS</th>\n",
       "      <th>LIKES</th>\n",
       "      <th>SHARES</th>\n",
       "      <th>ENGAGEMENT_SCORE</th>\n",
       "      <th>DATE_EXTRACT</th>\n",
       "    </tr>\n",
       "  </thead>\n",
       "  <tbody>\n",
       "    <tr>\n",
       "      <th>0</th>\n",
       "      <td>6948301377668317184</td>\n",
       "      <td>dXJuOmxpOmFjdGl2aXR5OjY5NDgzMDEzNzc2NjgzMTcxOD...</td>\n",
       "      <td>2022-06-30 15:49:01+02:00</td>\n",
       "      <td>Florent Ravenel</td>\n",
       "      <td>https://www.linkedin.com/in/ACoAABCNSioBW3YZHc...</td>\n",
       "      <td>22 hours ago</td>\n",
       "      <td>🪄 Use Jupyter notebooks to building up data pi...</td>\n",
       "      <td>🪄 Use Jupyter notebooks to building up data pi...</td>\n",
       "      <td>1040</td>\n",
       "      <td>#naaslife #opensource #buildinpublic #datascie...</td>\n",
       "      <td>...</td>\n",
       "      <td>NaN</td>\n",
       "      <td>NaN</td>\n",
       "      <td>NaN</td>\n",
       "      <td>https://www.linkedin.com/feed/update/urn:li:ac...</td>\n",
       "      <td>3313</td>\n",
       "      <td>3</td>\n",
       "      <td>34</td>\n",
       "      <td>0</td>\n",
       "      <td>0.0112</td>\n",
       "      <td>2022-07-01 16:33:17</td>\n",
       "    </tr>\n",
       "  </tbody>\n",
       "</table>\n",
       "<p>1 rows × 32 columns</p>\n",
       "</div>"
      ],
      "text/plain": [
       "           ACTIVITY_ID                                   PAGINATION_TOKEN  \\\n",
       "0  6948301377668317184  dXJuOmxpOmFjdGl2aXR5OjY5NDgzMDEzNzc2NjgzMTcxOD...   \n",
       "\n",
       "              PUBLISHED_DATE      AUTHOR_NAME  \\\n",
       "0  2022-06-30 15:49:01+02:00  Florent Ravenel   \n",
       "\n",
       "                                          AUTHOR_URL SUBDESCRIPTION  \\\n",
       "0  https://www.linkedin.com/in/ACoAABCNSioBW3YZHc...   22 hours ago   \n",
       "\n",
       "                                               TITLE  \\\n",
       "0  🪄 Use Jupyter notebooks to building up data pi...   \n",
       "\n",
       "                                                TEXT  CHARACTER_COUNT  \\\n",
       "0  🪄 Use Jupyter notebooks to building up data pi...             1040   \n",
       "\n",
       "                                                TAGS  ...  POLL_ID  \\\n",
       "0  #naaslife #opensource #buildinpublic #datascie...  ...      NaN   \n",
       "\n",
       "  POLL_QUESTION  POLL_RESULTS  \\\n",
       "0           NaN           NaN   \n",
       "\n",
       "                                            POST_URL  VIEWS COMMENTS LIKES  \\\n",
       "0  https://www.linkedin.com/feed/update/urn:li:ac...   3313        3    34   \n",
       "\n",
       "  SHARES ENGAGEMENT_SCORE         DATE_EXTRACT  \n",
       "0      0           0.0112  2022-07-01 16:33:17  \n",
       "\n",
       "[1 rows x 32 columns]"
      ]
     },
     "execution_count": 4,
     "metadata": {},
     "output_type": "execute_result"
    }
   ],
   "source": [
    "df_posts = get_data(INPUT_DATABASE)\n",
    "print(\"✅ Posts fetched:\", len(df_posts))\n",
    "df_posts.head(1)"
   ]
  },
  {
   "cell_type": "markdown",
   "id": "833fdb3f",
   "metadata": {
    "papermill": {},
    "tags": []
   },
   "source": [
    "### Get dataframe trend"
   ]
  },
  {
   "cell_type": "code",
   "execution_count": 9,
   "id": "c074f8e3",
   "metadata": {
    "execution": {
     "iopub.execute_input": "2022-07-01T14:57:45.194014Z",
     "iopub.status.busy": "2022-07-01T14:57:45.193768Z",
     "iopub.status.idle": "2022-07-01T14:57:45.331436Z",
     "shell.execute_reply": "2022-07-01T14:57:45.322691Z",
     "shell.execute_reply.started": "2022-07-01T14:57:45.193991Z"
    },
    "papermill": {},
    "tags": []
   },
   "outputs": [
    {
     "data": {
      "text/html": [
       "<div>\n",
       "<style scoped>\n",
       "    .dataframe tbody tr th:only-of-type {\n",
       "        vertical-align: middle;\n",
       "    }\n",
       "\n",
       "    .dataframe tbody tr th {\n",
       "        vertical-align: top;\n",
       "    }\n",
       "\n",
       "    .dataframe thead th {\n",
       "        text-align: right;\n",
       "    }\n",
       "</style>\n",
       "<table border=\"1\" class=\"dataframe\">\n",
       "  <thead>\n",
       "    <tr style=\"text-align: right;\">\n",
       "      <th></th>\n",
       "      <th>DATE</th>\n",
       "      <th>DATE_D</th>\n",
       "      <th>ENGAGEMENTS</th>\n",
       "      <th>VIEWS</th>\n",
       "      <th>VALUE</th>\n",
       "      <th>VALUE_COMP</th>\n",
       "      <th>VARV</th>\n",
       "      <th>VARP</th>\n",
       "      <th>VALUE_D</th>\n",
       "      <th>VARV_D</th>\n",
       "      <th>VARP_D</th>\n",
       "      <th>TEXT</th>\n",
       "    </tr>\n",
       "  </thead>\n",
       "  <tbody>\n",
       "    <tr>\n",
       "      <th>0</th>\n",
       "      <td>2021-08</td>\n",
       "      <td>Aug 2021</td>\n",
       "      <td>0</td>\n",
       "      <td>0</td>\n",
       "      <td>0.000000</td>\n",
       "      <td>0.000000</td>\n",
       "      <td>0.000000</td>\n",
       "      <td>0.000000</td>\n",
       "      <td>&lt;b&gt;&lt;span style=font-size: 16px; style=font-fam...</td>\n",
       "      <td>+0.00 pts</td>\n",
       "      <td>+0%</td>\n",
       "      <td>&lt;b&gt;&lt;span style='font-size: 14px;'&gt;Aug 2021: &lt;b...</td>\n",
       "    </tr>\n",
       "    <tr>\n",
       "      <th>1</th>\n",
       "      <td>2021-09</td>\n",
       "      <td>Sep 2021</td>\n",
       "      <td>0</td>\n",
       "      <td>0</td>\n",
       "      <td>0.000000</td>\n",
       "      <td>0.000000</td>\n",
       "      <td>0.000000</td>\n",
       "      <td>0.000000</td>\n",
       "      <td>&lt;b&gt;&lt;span style=font-size: 16px; style=font-fam...</td>\n",
       "      <td>+0.00 pts</td>\n",
       "      <td>+0%</td>\n",
       "      <td>&lt;b&gt;&lt;span style='font-size: 14px;'&gt;Sep 2021: &lt;b...</td>\n",
       "    </tr>\n",
       "    <tr>\n",
       "      <th>2</th>\n",
       "      <td>2021-10</td>\n",
       "      <td>Oct 2021</td>\n",
       "      <td>0</td>\n",
       "      <td>0</td>\n",
       "      <td>0.000000</td>\n",
       "      <td>0.000000</td>\n",
       "      <td>0.000000</td>\n",
       "      <td>0.000000</td>\n",
       "      <td>&lt;b&gt;&lt;span style=font-size: 16px; style=font-fam...</td>\n",
       "      <td>+0.00 pts</td>\n",
       "      <td>+0%</td>\n",
       "      <td>&lt;b&gt;&lt;span style='font-size: 14px;'&gt;Oct 2021: &lt;b...</td>\n",
       "    </tr>\n",
       "    <tr>\n",
       "      <th>3</th>\n",
       "      <td>2021-11</td>\n",
       "      <td>Nov 2021</td>\n",
       "      <td>0</td>\n",
       "      <td>0</td>\n",
       "      <td>0.000000</td>\n",
       "      <td>0.000000</td>\n",
       "      <td>0.000000</td>\n",
       "      <td>0.000000</td>\n",
       "      <td>&lt;b&gt;&lt;span style=font-size: 16px; style=font-fam...</td>\n",
       "      <td>+0.00 pts</td>\n",
       "      <td>+0%</td>\n",
       "      <td>&lt;b&gt;&lt;span style='font-size: 14px;'&gt;Nov 2021: &lt;b...</td>\n",
       "    </tr>\n",
       "    <tr>\n",
       "      <th>4</th>\n",
       "      <td>2021-12</td>\n",
       "      <td>Dec 2021</td>\n",
       "      <td>0</td>\n",
       "      <td>0</td>\n",
       "      <td>0.000000</td>\n",
       "      <td>0.000000</td>\n",
       "      <td>0.000000</td>\n",
       "      <td>0.000000</td>\n",
       "      <td>&lt;b&gt;&lt;span style=font-size: 16px; style=font-fam...</td>\n",
       "      <td>+0.00 pts</td>\n",
       "      <td>+0%</td>\n",
       "      <td>&lt;b&gt;&lt;span style='font-size: 14px;'&gt;Dec 2021: &lt;b...</td>\n",
       "    </tr>\n",
       "    <tr>\n",
       "      <th>5</th>\n",
       "      <td>2022-01</td>\n",
       "      <td>Jan 2022</td>\n",
       "      <td>0</td>\n",
       "      <td>0</td>\n",
       "      <td>0.000000</td>\n",
       "      <td>0.000000</td>\n",
       "      <td>0.000000</td>\n",
       "      <td>0.000000</td>\n",
       "      <td>&lt;b&gt;&lt;span style=font-size: 16px; style=font-fam...</td>\n",
       "      <td>+0.00 pts</td>\n",
       "      <td>+0%</td>\n",
       "      <td>&lt;b&gt;&lt;span style='font-size: 14px;'&gt;Jan 2022: &lt;b...</td>\n",
       "    </tr>\n",
       "    <tr>\n",
       "      <th>6</th>\n",
       "      <td>2022-02</td>\n",
       "      <td>Feb 2022</td>\n",
       "      <td>0</td>\n",
       "      <td>0</td>\n",
       "      <td>0.000000</td>\n",
       "      <td>0.000000</td>\n",
       "      <td>0.000000</td>\n",
       "      <td>0.000000</td>\n",
       "      <td>&lt;b&gt;&lt;span style=font-size: 16px; style=font-fam...</td>\n",
       "      <td>+0.00 pts</td>\n",
       "      <td>+0%</td>\n",
       "      <td>&lt;b&gt;&lt;span style='font-size: 14px;'&gt;Feb 2022: &lt;b...</td>\n",
       "    </tr>\n",
       "    <tr>\n",
       "      <th>7</th>\n",
       "      <td>2022-03</td>\n",
       "      <td>Mar 2022</td>\n",
       "      <td>0</td>\n",
       "      <td>0</td>\n",
       "      <td>0.000000</td>\n",
       "      <td>0.000000</td>\n",
       "      <td>0.000000</td>\n",
       "      <td>0.000000</td>\n",
       "      <td>&lt;b&gt;&lt;span style=font-size: 16px; style=font-fam...</td>\n",
       "      <td>+0.00 pts</td>\n",
       "      <td>+0%</td>\n",
       "      <td>&lt;b&gt;&lt;span style='font-size: 14px;'&gt;Mar 2022: &lt;b...</td>\n",
       "    </tr>\n",
       "    <tr>\n",
       "      <th>8</th>\n",
       "      <td>2022-04</td>\n",
       "      <td>Apr 2022</td>\n",
       "      <td>35</td>\n",
       "      <td>3011</td>\n",
       "      <td>0.011624</td>\n",
       "      <td>0.000000</td>\n",
       "      <td>0.000000</td>\n",
       "      <td>0.000000</td>\n",
       "      <td>&lt;b&gt;&lt;span style=font-size: 16px; style=font-fam...</td>\n",
       "      <td>+0.00 pts</td>\n",
       "      <td>+0%</td>\n",
       "      <td>&lt;b&gt;&lt;span style='font-size: 14px;'&gt;Apr 2022: &lt;b...</td>\n",
       "    </tr>\n",
       "    <tr>\n",
       "      <th>9</th>\n",
       "      <td>2022-05</td>\n",
       "      <td>May 2022</td>\n",
       "      <td>246</td>\n",
       "      <td>18720</td>\n",
       "      <td>0.013141</td>\n",
       "      <td>0.011624</td>\n",
       "      <td>0.001517</td>\n",
       "      <td>0.130504</td>\n",
       "      <td>&lt;b&gt;&lt;span style=font-size: 16px; style=font-fam...</td>\n",
       "      <td>+0.15 pts</td>\n",
       "      <td>+13%</td>\n",
       "      <td>&lt;b&gt;&lt;span style='font-size: 14px;'&gt;May 2022: &lt;b...</td>\n",
       "    </tr>\n",
       "    <tr>\n",
       "      <th>10</th>\n",
       "      <td>2022-06</td>\n",
       "      <td>Jun 2022</td>\n",
       "      <td>145</td>\n",
       "      <td>12133</td>\n",
       "      <td>0.011951</td>\n",
       "      <td>0.013141</td>\n",
       "      <td>-0.001190</td>\n",
       "      <td>-0.090567</td>\n",
       "      <td>&lt;b&gt;&lt;span style=font-size: 16px; style=font-fam...</td>\n",
       "      <td>-0.12 pts</td>\n",
       "      <td>-9%</td>\n",
       "      <td>&lt;b&gt;&lt;span style='font-size: 14px;'&gt;Jun 2022: &lt;b...</td>\n",
       "    </tr>\n",
       "    <tr>\n",
       "      <th>11</th>\n",
       "      <td>2022-07</td>\n",
       "      <td>Jul 2022</td>\n",
       "      <td>0</td>\n",
       "      <td>0</td>\n",
       "      <td>0.000000</td>\n",
       "      <td>0.011951</td>\n",
       "      <td>0.000000</td>\n",
       "      <td>0.000000</td>\n",
       "      <td>&lt;b&gt;&lt;span style=font-size: 16px; style=font-fam...</td>\n",
       "      <td>+0.00 pts</td>\n",
       "      <td>+0%</td>\n",
       "      <td>&lt;b&gt;&lt;span style='font-size: 14px;'&gt;Jul 2022: &lt;b...</td>\n",
       "    </tr>\n",
       "  </tbody>\n",
       "</table>\n",
       "</div>"
      ],
      "text/plain": [
       "       DATE    DATE_D  ENGAGEMENTS  VIEWS     VALUE  VALUE_COMP      VARV  \\\n",
       "0   2021-08  Aug 2021            0      0  0.000000    0.000000  0.000000   \n",
       "1   2021-09  Sep 2021            0      0  0.000000    0.000000  0.000000   \n",
       "2   2021-10  Oct 2021            0      0  0.000000    0.000000  0.000000   \n",
       "3   2021-11  Nov 2021            0      0  0.000000    0.000000  0.000000   \n",
       "4   2021-12  Dec 2021            0      0  0.000000    0.000000  0.000000   \n",
       "5   2022-01  Jan 2022            0      0  0.000000    0.000000  0.000000   \n",
       "6   2022-02  Feb 2022            0      0  0.000000    0.000000  0.000000   \n",
       "7   2022-03  Mar 2022            0      0  0.000000    0.000000  0.000000   \n",
       "8   2022-04  Apr 2022           35   3011  0.011624    0.000000  0.000000   \n",
       "9   2022-05  May 2022          246  18720  0.013141    0.011624  0.001517   \n",
       "10  2022-06  Jun 2022          145  12133  0.011951    0.013141 -0.001190   \n",
       "11  2022-07  Jul 2022            0      0  0.000000    0.011951  0.000000   \n",
       "\n",
       "        VARP                                            VALUE_D     VARV_D  \\\n",
       "0   0.000000  <b><span style=font-size: 16px; style=font-fam...  +0.00 pts   \n",
       "1   0.000000  <b><span style=font-size: 16px; style=font-fam...  +0.00 pts   \n",
       "2   0.000000  <b><span style=font-size: 16px; style=font-fam...  +0.00 pts   \n",
       "3   0.000000  <b><span style=font-size: 16px; style=font-fam...  +0.00 pts   \n",
       "4   0.000000  <b><span style=font-size: 16px; style=font-fam...  +0.00 pts   \n",
       "5   0.000000  <b><span style=font-size: 16px; style=font-fam...  +0.00 pts   \n",
       "6   0.000000  <b><span style=font-size: 16px; style=font-fam...  +0.00 pts   \n",
       "7   0.000000  <b><span style=font-size: 16px; style=font-fam...  +0.00 pts   \n",
       "8   0.000000  <b><span style=font-size: 16px; style=font-fam...  +0.00 pts   \n",
       "9   0.130504  <b><span style=font-size: 16px; style=font-fam...  +0.15 pts   \n",
       "10 -0.090567  <b><span style=font-size: 16px; style=font-fam...  -0.12 pts   \n",
       "11  0.000000  <b><span style=font-size: 16px; style=font-fam...  +0.00 pts   \n",
       "\n",
       "   VARP_D                                               TEXT  \n",
       "0     +0%  <b><span style='font-size: 14px;'>Aug 2021: <b...  \n",
       "1     +0%  <b><span style='font-size: 14px;'>Sep 2021: <b...  \n",
       "2     +0%  <b><span style='font-size: 14px;'>Oct 2021: <b...  \n",
       "3     +0%  <b><span style='font-size: 14px;'>Nov 2021: <b...  \n",
       "4     +0%  <b><span style='font-size: 14px;'>Dec 2021: <b...  \n",
       "5     +0%  <b><span style='font-size: 14px;'>Jan 2022: <b...  \n",
       "6     +0%  <b><span style='font-size: 14px;'>Feb 2022: <b...  \n",
       "7     +0%  <b><span style='font-size: 14px;'>Mar 2022: <b...  \n",
       "8     +0%  <b><span style='font-size: 14px;'>Apr 2022: <b...  \n",
       "9    +13%  <b><span style='font-size: 14px;'>May 2022: <b...  \n",
       "10    -9%  <b><span style='font-size: 14px;'>Jun 2022: <b...  \n",
       "11    +0%  <b><span style='font-size: 14px;'>Jul 2022: <b...  "
      ]
     },
     "execution_count": 9,
     "metadata": {},
     "output_type": "execute_result"
    }
   ],
   "source": [
    "def get_trend(df_init,\n",
    "              col_date,\n",
    "              col_value,\n",
    "              agg_value):\n",
    "    # Init variable\n",
    "    df = df_init.copy()\n",
    "    \n",
    "    # Groupby period\n",
    "    df[\"ENGAGEMENTS\"] = df[\"LIKES\"].astype(int) + df[\"COMMENTS\"].astype(int)  + df[\"SHARES\"].astype(int)\n",
    "    df[\"VIEWS\"] = df[\"VIEWS\"].astype(int)\n",
    "    df[col_date] = pd.to_datetime(df[col_date].str[:-6]).dt.strftime(PERIOD)\n",
    "    df = df.groupby(col_date, as_index=False).agg({\"ENGAGEMENTS\": agg_value, \"VIEWS\": agg_value})\n",
    "    \n",
    "    # Rename column\n",
    "    to_rename = {\n",
    "        col_date: \"DATE_ISO\",\n",
    "    }\n",
    "    df = df.rename(columns=to_rename)\n",
    "    \n",
    "    # Reindex value\n",
    "    d = datetime.now().date()\n",
    "    d2 = df.loc[df.index[0], \"DATE_ISO\"]\n",
    "    idx = pd.date_range(d2, d, freq = \"D\")    \n",
    "    df.set_index(\"DATE_ISO\", drop=True, inplace=True)\n",
    "    df.index = pd.DatetimeIndex(df.index)\n",
    "    df = df.reindex(idx, fill_value=0)\n",
    "    df[\"DATE_ISO\"] = pd.DatetimeIndex(df.index)\n",
    "    \n",
    "    # Groupby month\n",
    "    df[\"DATE\"] = pd.to_datetime(df[\"DATE_ISO\"], format=DATE_FORMAT).dt.strftime(PERIOD)\n",
    "    # Plotly: Date display\n",
    "    df[\"DATE_D\"] = pd.to_datetime(df[\"DATE_ISO\"], format=DATE_FORMAT).dt.strftime(PERIOD_D)\n",
    "    df = df.groupby([\"DATE\", \"DATE_D\"], as_index=False).agg({\"ENGAGEMENTS\": agg_value, \"VIEWS\": agg_value})\n",
    "    df[\"VALUE\"] = df[\"ENGAGEMENTS\"].astype(int) / df[\"VIEWS\"].astype(int)\n",
    "\n",
    "    # Calc variation\n",
    "    for index, row in df.iterrows():\n",
    "        if index > 0:\n",
    "            n = df.loc[df.index[index], \"VALUE\"]\n",
    "            n_1 = df.loc[df.index[index-1], \"VALUE\"]\n",
    "            df.loc[df.index[index], \"VALUE_COMP\"] = n_1\n",
    "            df.loc[df.index[index], \"VARV\"] = n - n_1\n",
    "            if n_1 > 0:\n",
    "                df.loc[df.index[index], \"VARP\"] = (n - n_1) / abs(n_1)\n",
    "    df = df.fillna(0)\n",
    "    \n",
    "    # Plotly: Date display\n",
    "    df[\"DATE_D\"] = pd.to_datetime(df[\"DATE\"], format=PERIOD).dt.strftime(PERIOD_D)\n",
    "    \n",
    "    # Plotly: Value display\n",
    "    df[\"VALUE_D\"] = \"<b><span style=font-size: 16px; style=font-family: Arial>\" + df[\"VALUE\"].map(\"{:,.2%}\".format).str.replace(\",\", \" \") + \"</span></b>\"\n",
    "    \n",
    "    # Plotly: Variation display\n",
    "    df[\"VARV_D\"] = (df[\"VARV\"] * 100).map(\"{:,.2f} pts\".format).str.replace(\",\", \" \")\n",
    "    df.loc[df[\"VARV\"] >= 0, \"VARV_D\"] = \"+\" + df[\"VARV_D\"]\n",
    "    df[\"VARP_D\"] = df[\"VARP\"].map(\"{:,.0%}\".format).str.replace(\",\", \" \")\n",
    "    df.loc[df[\"VARP\"] >= 0, \"VARP_D\"] = \"+\" + df[\"VARP_D\"]\n",
    "    \n",
    "    # Plotly: hovertext\n",
    "    df[\"TEXT\"] = (\"<b><span style='font-size: 14px;'>\" + df[\"DATE_D\"].astype(str) + \": \" + df[\"VALUE_D\"] + \"</span></b><br>\"\n",
    "                  \"<span style='font-size: 12px;'>\" + f\"{PERIOD_TEXT}: \" + df[\"VARV_D\"] + \" (\" + df[\"VARP_D\"] + \")</span>\")\n",
    "    \n",
    "    # Return month rolling\n",
    "    return df[-MONTH_ROLLING:].reset_index(drop=True)\n",
    "\n",
    "df_actual = get_trend(df_posts,\n",
    "                      col_date=\"PUBLISHED_DATE\",\n",
    "                      col_value=COL_VALUE,\n",
    "                      agg_value=\"sum\")\n",
    "df_actual#.tail(5)"
   ]
  },
  {
   "cell_type": "markdown",
   "id": "804c9127",
   "metadata": {
    "papermill": {},
    "tags": []
   },
   "source": [
    "### Plot linechart"
   ]
  },
  {
   "cell_type": "code",
   "execution_count": 11,
   "id": "fc3bbe4c-4390-4d6d-9356-01076363e33c",
   "metadata": {
    "execution": {
     "iopub.execute_input": "2022-07-01T14:58:10.510458Z",
     "iopub.status.busy": "2022-07-01T14:58:10.510165Z",
     "iopub.status.idle": "2022-07-01T14:58:10.536539Z",
     "shell.execute_reply": "2022-07-01T14:58:10.535825Z",
     "shell.execute_reply.started": "2022-07-01T14:58:10.510427Z"
    },
    "papermill": {},
    "tags": []
   },
   "outputs": [
    {
     "data": {
      "application/vnd.plotly.v1+json": {
       "config": {
        "plotlyServerURL": "https://plot.ly"
       },
       "data": [
        {
         "hoverinfo": "text",
         "hovertext": [
          "<b><span style='font-size: 14px;'>Aug 2021: <b><span style=font-size: 16px; style=font-family: Arial>0.00%</span></b></span></b><br><span style='font-size: 12px;'>This month: +0.00 pts (+0%)</span>",
          "<b><span style='font-size: 14px;'>Sep 2021: <b><span style=font-size: 16px; style=font-family: Arial>0.00%</span></b></span></b><br><span style='font-size: 12px;'>This month: +0.00 pts (+0%)</span>",
          "<b><span style='font-size: 14px;'>Oct 2021: <b><span style=font-size: 16px; style=font-family: Arial>0.00%</span></b></span></b><br><span style='font-size: 12px;'>This month: +0.00 pts (+0%)</span>",
          "<b><span style='font-size: 14px;'>Nov 2021: <b><span style=font-size: 16px; style=font-family: Arial>0.00%</span></b></span></b><br><span style='font-size: 12px;'>This month: +0.00 pts (+0%)</span>",
          "<b><span style='font-size: 14px;'>Dec 2021: <b><span style=font-size: 16px; style=font-family: Arial>0.00%</span></b></span></b><br><span style='font-size: 12px;'>This month: +0.00 pts (+0%)</span>",
          "<b><span style='font-size: 14px;'>Jan 2022: <b><span style=font-size: 16px; style=font-family: Arial>0.00%</span></b></span></b><br><span style='font-size: 12px;'>This month: +0.00 pts (+0%)</span>",
          "<b><span style='font-size: 14px;'>Feb 2022: <b><span style=font-size: 16px; style=font-family: Arial>0.00%</span></b></span></b><br><span style='font-size: 12px;'>This month: +0.00 pts (+0%)</span>",
          "<b><span style='font-size: 14px;'>Mar 2022: <b><span style=font-size: 16px; style=font-family: Arial>0.00%</span></b></span></b><br><span style='font-size: 12px;'>This month: +0.00 pts (+0%)</span>",
          "<b><span style='font-size: 14px;'>Apr 2022: <b><span style=font-size: 16px; style=font-family: Arial>1.16%</span></b></span></b><br><span style='font-size: 12px;'>This month: +0.00 pts (+0%)</span>",
          "<b><span style='font-size: 14px;'>May 2022: <b><span style=font-size: 16px; style=font-family: Arial>1.31%</span></b></span></b><br><span style='font-size: 12px;'>This month: +0.15 pts (+13%)</span>",
          "<b><span style='font-size: 14px;'>Jun 2022: <b><span style=font-size: 16px; style=font-family: Arial>1.20%</span></b></span></b><br><span style='font-size: 12px;'>This month: -0.12 pts (-9%)</span>",
          "<b><span style='font-size: 14px;'>Jul 2022: <b><span style=font-size: 16px; style=font-family: Arial>0.00%</span></b></span></b><br><span style='font-size: 12px;'>This month: +0.00 pts (+0%)</span>"
         ],
         "line": {
          "color": "#1293d2",
          "width": 4
         },
         "mode": "lines+markers+text",
         "showlegend": false,
         "text": [
          "<b><span style=font-size: 16px; style=font-family: Arial>0.00%</span></b>",
          "<b><span style=font-size: 16px; style=font-family: Arial>0.00%</span></b>",
          "<b><span style=font-size: 16px; style=font-family: Arial>0.00%</span></b>",
          "<b><span style=font-size: 16px; style=font-family: Arial>0.00%</span></b>",
          "<b><span style=font-size: 16px; style=font-family: Arial>0.00%</span></b>",
          "<b><span style=font-size: 16px; style=font-family: Arial>0.00%</span></b>",
          "<b><span style=font-size: 16px; style=font-family: Arial>0.00%</span></b>",
          "<b><span style=font-size: 16px; style=font-family: Arial>0.00%</span></b>",
          "<b><span style=font-size: 16px; style=font-family: Arial>1.16%</span></b>",
          "<b><span style=font-size: 16px; style=font-family: Arial>1.31%</span></b>",
          "<b><span style=font-size: 16px; style=font-family: Arial>1.20%</span></b>",
          "<b><span style=font-size: 16px; style=font-family: Arial>0.00%</span></b>"
         ],
         "textposition": "top center",
         "type": "scatter",
         "x": [
          "Aug 2021",
          "Sep 2021",
          "Oct 2021",
          "Nov 2021",
          "Dec 2021",
          "Jan 2022",
          "Feb 2022",
          "Mar 2022",
          "Apr 2022",
          "May 2022",
          "Jun 2022",
          "Jul 2022"
         ],
         "y": [
          0,
          0,
          0,
          0,
          0,
          0,
          0,
          0,
          0.011624045167718366,
          0.013141025641025641,
          0.011950877771367345,
          0
         ]
        }
       ],
       "layout": {
        "height": 600,
        "images": [
         {
          "sizex": 0.12,
          "sizey": 0.12,
          "source": "https://upload.wikimedia.org/wikipedia/commons/thumb/c/ca/LinkedIn_logo_initials.png/800px-LinkedIn_logo_initials.png",
          "x": 0.01,
          "xanchor": "right",
          "xref": "paper",
          "y": 1.045,
          "yanchor": "bottom",
          "yref": "paper"
         }
        ],
        "margin": {
         "pad": 10
        },
        "paper_bgcolor": "#ffffff",
        "plot_bgcolor": "#ffffff",
        "template": {
         "data": {
          "bar": [
           {
            "error_x": {
             "color": "#2a3f5f"
            },
            "error_y": {
             "color": "#2a3f5f"
            },
            "marker": {
             "line": {
              "color": "#E5ECF6",
              "width": 0.5
             },
             "pattern": {
              "fillmode": "overlay",
              "size": 10,
              "solidity": 0.2
             }
            },
            "type": "bar"
           }
          ],
          "barpolar": [
           {
            "marker": {
             "line": {
              "color": "#E5ECF6",
              "width": 0.5
             },
             "pattern": {
              "fillmode": "overlay",
              "size": 10,
              "solidity": 0.2
             }
            },
            "type": "barpolar"
           }
          ],
          "carpet": [
           {
            "aaxis": {
             "endlinecolor": "#2a3f5f",
             "gridcolor": "white",
             "linecolor": "white",
             "minorgridcolor": "white",
             "startlinecolor": "#2a3f5f"
            },
            "baxis": {
             "endlinecolor": "#2a3f5f",
             "gridcolor": "white",
             "linecolor": "white",
             "minorgridcolor": "white",
             "startlinecolor": "#2a3f5f"
            },
            "type": "carpet"
           }
          ],
          "choropleth": [
           {
            "colorbar": {
             "outlinewidth": 0,
             "ticks": ""
            },
            "type": "choropleth"
           }
          ],
          "contour": [
           {
            "colorbar": {
             "outlinewidth": 0,
             "ticks": ""
            },
            "colorscale": [
             [
              0,
              "#0d0887"
             ],
             [
              0.1111111111111111,
              "#46039f"
             ],
             [
              0.2222222222222222,
              "#7201a8"
             ],
             [
              0.3333333333333333,
              "#9c179e"
             ],
             [
              0.4444444444444444,
              "#bd3786"
             ],
             [
              0.5555555555555556,
              "#d8576b"
             ],
             [
              0.6666666666666666,
              "#ed7953"
             ],
             [
              0.7777777777777778,
              "#fb9f3a"
             ],
             [
              0.8888888888888888,
              "#fdca26"
             ],
             [
              1,
              "#f0f921"
             ]
            ],
            "type": "contour"
           }
          ],
          "contourcarpet": [
           {
            "colorbar": {
             "outlinewidth": 0,
             "ticks": ""
            },
            "type": "contourcarpet"
           }
          ],
          "heatmap": [
           {
            "colorbar": {
             "outlinewidth": 0,
             "ticks": ""
            },
            "colorscale": [
             [
              0,
              "#0d0887"
             ],
             [
              0.1111111111111111,
              "#46039f"
             ],
             [
              0.2222222222222222,
              "#7201a8"
             ],
             [
              0.3333333333333333,
              "#9c179e"
             ],
             [
              0.4444444444444444,
              "#bd3786"
             ],
             [
              0.5555555555555556,
              "#d8576b"
             ],
             [
              0.6666666666666666,
              "#ed7953"
             ],
             [
              0.7777777777777778,
              "#fb9f3a"
             ],
             [
              0.8888888888888888,
              "#fdca26"
             ],
             [
              1,
              "#f0f921"
             ]
            ],
            "type": "heatmap"
           }
          ],
          "heatmapgl": [
           {
            "colorbar": {
             "outlinewidth": 0,
             "ticks": ""
            },
            "colorscale": [
             [
              0,
              "#0d0887"
             ],
             [
              0.1111111111111111,
              "#46039f"
             ],
             [
              0.2222222222222222,
              "#7201a8"
             ],
             [
              0.3333333333333333,
              "#9c179e"
             ],
             [
              0.4444444444444444,
              "#bd3786"
             ],
             [
              0.5555555555555556,
              "#d8576b"
             ],
             [
              0.6666666666666666,
              "#ed7953"
             ],
             [
              0.7777777777777778,
              "#fb9f3a"
             ],
             [
              0.8888888888888888,
              "#fdca26"
             ],
             [
              1,
              "#f0f921"
             ]
            ],
            "type": "heatmapgl"
           }
          ],
          "histogram": [
           {
            "marker": {
             "pattern": {
              "fillmode": "overlay",
              "size": 10,
              "solidity": 0.2
             }
            },
            "type": "histogram"
           }
          ],
          "histogram2d": [
           {
            "colorbar": {
             "outlinewidth": 0,
             "ticks": ""
            },
            "colorscale": [
             [
              0,
              "#0d0887"
             ],
             [
              0.1111111111111111,
              "#46039f"
             ],
             [
              0.2222222222222222,
              "#7201a8"
             ],
             [
              0.3333333333333333,
              "#9c179e"
             ],
             [
              0.4444444444444444,
              "#bd3786"
             ],
             [
              0.5555555555555556,
              "#d8576b"
             ],
             [
              0.6666666666666666,
              "#ed7953"
             ],
             [
              0.7777777777777778,
              "#fb9f3a"
             ],
             [
              0.8888888888888888,
              "#fdca26"
             ],
             [
              1,
              "#f0f921"
             ]
            ],
            "type": "histogram2d"
           }
          ],
          "histogram2dcontour": [
           {
            "colorbar": {
             "outlinewidth": 0,
             "ticks": ""
            },
            "colorscale": [
             [
              0,
              "#0d0887"
             ],
             [
              0.1111111111111111,
              "#46039f"
             ],
             [
              0.2222222222222222,
              "#7201a8"
             ],
             [
              0.3333333333333333,
              "#9c179e"
             ],
             [
              0.4444444444444444,
              "#bd3786"
             ],
             [
              0.5555555555555556,
              "#d8576b"
             ],
             [
              0.6666666666666666,
              "#ed7953"
             ],
             [
              0.7777777777777778,
              "#fb9f3a"
             ],
             [
              0.8888888888888888,
              "#fdca26"
             ],
             [
              1,
              "#f0f921"
             ]
            ],
            "type": "histogram2dcontour"
           }
          ],
          "mesh3d": [
           {
            "colorbar": {
             "outlinewidth": 0,
             "ticks": ""
            },
            "type": "mesh3d"
           }
          ],
          "parcoords": [
           {
            "line": {
             "colorbar": {
              "outlinewidth": 0,
              "ticks": ""
             }
            },
            "type": "parcoords"
           }
          ],
          "pie": [
           {
            "automargin": true,
            "type": "pie"
           }
          ],
          "scatter": [
           {
            "fillpattern": {
             "fillmode": "overlay",
             "size": 10,
             "solidity": 0.2
            },
            "type": "scatter"
           }
          ],
          "scatter3d": [
           {
            "line": {
             "colorbar": {
              "outlinewidth": 0,
              "ticks": ""
             }
            },
            "marker": {
             "colorbar": {
              "outlinewidth": 0,
              "ticks": ""
             }
            },
            "type": "scatter3d"
           }
          ],
          "scattercarpet": [
           {
            "marker": {
             "colorbar": {
              "outlinewidth": 0,
              "ticks": ""
             }
            },
            "type": "scattercarpet"
           }
          ],
          "scattergeo": [
           {
            "marker": {
             "colorbar": {
              "outlinewidth": 0,
              "ticks": ""
             }
            },
            "type": "scattergeo"
           }
          ],
          "scattergl": [
           {
            "marker": {
             "colorbar": {
              "outlinewidth": 0,
              "ticks": ""
             }
            },
            "type": "scattergl"
           }
          ],
          "scattermapbox": [
           {
            "marker": {
             "colorbar": {
              "outlinewidth": 0,
              "ticks": ""
             }
            },
            "type": "scattermapbox"
           }
          ],
          "scatterpolar": [
           {
            "marker": {
             "colorbar": {
              "outlinewidth": 0,
              "ticks": ""
             }
            },
            "type": "scatterpolar"
           }
          ],
          "scatterpolargl": [
           {
            "marker": {
             "colorbar": {
              "outlinewidth": 0,
              "ticks": ""
             }
            },
            "type": "scatterpolargl"
           }
          ],
          "scatterternary": [
           {
            "marker": {
             "colorbar": {
              "outlinewidth": 0,
              "ticks": ""
             }
            },
            "type": "scatterternary"
           }
          ],
          "surface": [
           {
            "colorbar": {
             "outlinewidth": 0,
             "ticks": ""
            },
            "colorscale": [
             [
              0,
              "#0d0887"
             ],
             [
              0.1111111111111111,
              "#46039f"
             ],
             [
              0.2222222222222222,
              "#7201a8"
             ],
             [
              0.3333333333333333,
              "#9c179e"
             ],
             [
              0.4444444444444444,
              "#bd3786"
             ],
             [
              0.5555555555555556,
              "#d8576b"
             ],
             [
              0.6666666666666666,
              "#ed7953"
             ],
             [
              0.7777777777777778,
              "#fb9f3a"
             ],
             [
              0.8888888888888888,
              "#fdca26"
             ],
             [
              1,
              "#f0f921"
             ]
            ],
            "type": "surface"
           }
          ],
          "table": [
           {
            "cells": {
             "fill": {
              "color": "#EBF0F8"
             },
             "line": {
              "color": "white"
             }
            },
            "header": {
             "fill": {
              "color": "#C8D4E3"
             },
             "line": {
              "color": "white"
             }
            },
            "type": "table"
           }
          ]
         },
         "layout": {
          "annotationdefaults": {
           "arrowcolor": "#2a3f5f",
           "arrowhead": 0,
           "arrowwidth": 1
          },
          "autotypenumbers": "strict",
          "coloraxis": {
           "colorbar": {
            "outlinewidth": 0,
            "ticks": ""
           }
          },
          "colorscale": {
           "diverging": [
            [
             0,
             "#8e0152"
            ],
            [
             0.1,
             "#c51b7d"
            ],
            [
             0.2,
             "#de77ae"
            ],
            [
             0.3,
             "#f1b6da"
            ],
            [
             0.4,
             "#fde0ef"
            ],
            [
             0.5,
             "#f7f7f7"
            ],
            [
             0.6,
             "#e6f5d0"
            ],
            [
             0.7,
             "#b8e186"
            ],
            [
             0.8,
             "#7fbc41"
            ],
            [
             0.9,
             "#4d9221"
            ],
            [
             1,
             "#276419"
            ]
           ],
           "sequential": [
            [
             0,
             "#0d0887"
            ],
            [
             0.1111111111111111,
             "#46039f"
            ],
            [
             0.2222222222222222,
             "#7201a8"
            ],
            [
             0.3333333333333333,
             "#9c179e"
            ],
            [
             0.4444444444444444,
             "#bd3786"
            ],
            [
             0.5555555555555556,
             "#d8576b"
            ],
            [
             0.6666666666666666,
             "#ed7953"
            ],
            [
             0.7777777777777778,
             "#fb9f3a"
            ],
            [
             0.8888888888888888,
             "#fdca26"
            ],
            [
             1,
             "#f0f921"
            ]
           ],
           "sequentialminus": [
            [
             0,
             "#0d0887"
            ],
            [
             0.1111111111111111,
             "#46039f"
            ],
            [
             0.2222222222222222,
             "#7201a8"
            ],
            [
             0.3333333333333333,
             "#9c179e"
            ],
            [
             0.4444444444444444,
             "#bd3786"
            ],
            [
             0.5555555555555556,
             "#d8576b"
            ],
            [
             0.6666666666666666,
             "#ed7953"
            ],
            [
             0.7777777777777778,
             "#fb9f3a"
            ],
            [
             0.8888888888888888,
             "#fdca26"
            ],
            [
             1,
             "#f0f921"
            ]
           ]
          },
          "colorway": [
           "#636efa",
           "#EF553B",
           "#00cc96",
           "#ab63fa",
           "#FFA15A",
           "#19d3f3",
           "#FF6692",
           "#B6E880",
           "#FF97FF",
           "#FECB52"
          ],
          "font": {
           "color": "#2a3f5f"
          },
          "geo": {
           "bgcolor": "white",
           "lakecolor": "white",
           "landcolor": "#E5ECF6",
           "showlakes": true,
           "showland": true,
           "subunitcolor": "white"
          },
          "hoverlabel": {
           "align": "left"
          },
          "hovermode": "closest",
          "mapbox": {
           "style": "light"
          },
          "paper_bgcolor": "white",
          "plot_bgcolor": "#E5ECF6",
          "polar": {
           "angularaxis": {
            "gridcolor": "white",
            "linecolor": "white",
            "ticks": ""
           },
           "bgcolor": "#E5ECF6",
           "radialaxis": {
            "gridcolor": "white",
            "linecolor": "white",
            "ticks": ""
           }
          },
          "scene": {
           "xaxis": {
            "backgroundcolor": "#E5ECF6",
            "gridcolor": "white",
            "gridwidth": 2,
            "linecolor": "white",
            "showbackground": true,
            "ticks": "",
            "zerolinecolor": "white"
           },
           "yaxis": {
            "backgroundcolor": "#E5ECF6",
            "gridcolor": "white",
            "gridwidth": 2,
            "linecolor": "white",
            "showbackground": true,
            "ticks": "",
            "zerolinecolor": "white"
           },
           "zaxis": {
            "backgroundcolor": "#E5ECF6",
            "gridcolor": "white",
            "gridwidth": 2,
            "linecolor": "white",
            "showbackground": true,
            "ticks": "",
            "zerolinecolor": "white"
           }
          },
          "shapedefaults": {
           "line": {
            "color": "#2a3f5f"
           }
          },
          "ternary": {
           "aaxis": {
            "gridcolor": "white",
            "linecolor": "white",
            "ticks": ""
           },
           "baxis": {
            "gridcolor": "white",
            "linecolor": "white",
            "ticks": ""
           },
           "bgcolor": "#E5ECF6",
           "caxis": {
            "gridcolor": "white",
            "linecolor": "white",
            "ticks": ""
           }
          },
          "title": {
           "x": 0.05
          },
          "xaxis": {
           "automargin": true,
           "gridcolor": "white",
           "linecolor": "white",
           "ticks": "",
           "title": {
            "standoff": 15
           },
           "zerolinecolor": "white",
           "zerolinewidth": 2
          },
          "yaxis": {
           "automargin": true,
           "gridcolor": "white",
           "linecolor": "white",
           "ticks": "",
           "title": {
            "standoff": 15
           },
           "zerolinecolor": "white",
           "zerolinewidth": 2
          }
         }
        },
        "title": {
         "font": {
          "color": "black",
          "family": "Arial"
         },
         "text": "<b><span style='font-size: 20px;'>Content engagement rate over the past 12 months</span></b><br><span style='font-size: 18px;'>Average: 1.26% | This month: +0.00 pts (+0%)</span>",
         "x": 0.09
        },
        "width": 1200,
        "xaxis": {
         "autorange": true,
         "range": [
          -0.6604738826063543,
          11.660473882606354
         ],
         "type": "category"
        },
        "yaxis": {
         "range": [
          0,
          0.014455128205128207
         ],
         "tickformat": ".1%",
         "tickmode": "array",
         "type": "linear"
        }
       }
      },
      "image/png": "[encoded data removed]",
      "text/html": [
       "<div>                            <div id=\"17ce0043-37c2-4826-96a1-660628462a37\" class=\"plotly-graph-div\" style=\"height:600px; width:1200px;\"></div>            <script type=\"text/javascript\">                require([\"plotly\"], function(Plotly) {                    window.PLOTLYENV=window.PLOTLYENV || {};                                    if (document.getElementById(\"17ce0043-37c2-4826-96a1-660628462a37\")) {                    Plotly.newPlot(                        \"17ce0043-37c2-4826-96a1-660628462a37\",                        [{\"hoverinfo\":\"text\",\"hovertext\":[\"<b><span style='font-size: 14px;'>Aug 2021: <b><span style=font-size: 16px; style=font-family: Arial>0.00%</span></b></span></b><br><span style='font-size: 12px;'>This month: +0.00 pts (+0%)</span>\",\"<b><span style='font-size: 14px;'>Sep 2021: <b><span style=font-size: 16px; style=font-family: Arial>0.00%</span></b></span></b><br><span style='font-size: 12px;'>This month: +0.00 pts (+0%)</span>\",\"<b><span style='font-size: 14px;'>Oct 2021: <b><span style=font-size: 16px; style=font-family: Arial>0.00%</span></b></span></b><br><span style='font-size: 12px;'>This month: +0.00 pts (+0%)</span>\",\"<b><span style='font-size: 14px;'>Nov 2021: <b><span style=font-size: 16px; style=font-family: Arial>0.00%</span></b></span></b><br><span style='font-size: 12px;'>This month: +0.00 pts (+0%)</span>\",\"<b><span style='font-size: 14px;'>Dec 2021: <b><span style=font-size: 16px; style=font-family: Arial>0.00%</span></b></span></b><br><span style='font-size: 12px;'>This month: +0.00 pts (+0%)</span>\",\"<b><span style='font-size: 14px;'>Jan 2022: <b><span style=font-size: 16px; style=font-family: Arial>0.00%</span></b></span></b><br><span style='font-size: 12px;'>This month: +0.00 pts (+0%)</span>\",\"<b><span style='font-size: 14px;'>Feb 2022: <b><span style=font-size: 16px; style=font-family: Arial>0.00%</span></b></span></b><br><span style='font-size: 12px;'>This month: +0.00 pts (+0%)</span>\",\"<b><span style='font-size: 14px;'>Mar 2022: <b><span style=font-size: 16px; style=font-family: Arial>0.00%</span></b></span></b><br><span style='font-size: 12px;'>This month: +0.00 pts (+0%)</span>\",\"<b><span style='font-size: 14px;'>Apr 2022: <b><span style=font-size: 16px; style=font-family: Arial>1.16%</span></b></span></b><br><span style='font-size: 12px;'>This month: +0.00 pts (+0%)</span>\",\"<b><span style='font-size: 14px;'>May 2022: <b><span style=font-size: 16px; style=font-family: Arial>1.31%</span></b></span></b><br><span style='font-size: 12px;'>This month: +0.15 pts (+13%)</span>\",\"<b><span style='font-size: 14px;'>Jun 2022: <b><span style=font-size: 16px; style=font-family: Arial>1.20%</span></b></span></b><br><span style='font-size: 12px;'>This month: -0.12 pts (-9%)</span>\",\"<b><span style='font-size: 14px;'>Jul 2022: <b><span style=font-size: 16px; style=font-family: Arial>0.00%</span></b></span></b><br><span style='font-size: 12px;'>This month: +0.00 pts (+0%)</span>\"],\"line\":{\"color\":\"#1293d2\",\"width\":4},\"mode\":\"lines+markers+text\",\"text\":[\"<b><span style=font-size: 16px; style=font-family: Arial>0.00%</span></b>\",\"<b><span style=font-size: 16px; style=font-family: Arial>0.00%</span></b>\",\"<b><span style=font-size: 16px; style=font-family: Arial>0.00%</span></b>\",\"<b><span style=font-size: 16px; style=font-family: Arial>0.00%</span></b>\",\"<b><span style=font-size: 16px; style=font-family: Arial>0.00%</span></b>\",\"<b><span style=font-size: 16px; style=font-family: Arial>0.00%</span></b>\",\"<b><span style=font-size: 16px; style=font-family: Arial>0.00%</span></b>\",\"<b><span style=font-size: 16px; style=font-family: Arial>0.00%</span></b>\",\"<b><span style=font-size: 16px; style=font-family: Arial>1.16%</span></b>\",\"<b><span style=font-size: 16px; style=font-family: Arial>1.31%</span></b>\",\"<b><span style=font-size: 16px; style=font-family: Arial>1.20%</span></b>\",\"<b><span style=font-size: 16px; style=font-family: Arial>0.00%</span></b>\"],\"textposition\":\"top center\",\"x\":[\"Aug 2021\",\"Sep 2021\",\"Oct 2021\",\"Nov 2021\",\"Dec 2021\",\"Jan 2022\",\"Feb 2022\",\"Mar 2022\",\"Apr 2022\",\"May 2022\",\"Jun 2022\",\"Jul 2022\"],\"y\":[0.0,0.0,0.0,0.0,0.0,0.0,0.0,0.0,0.011624045167718366,0.013141025641025641,0.011950877771367345,0.0],\"type\":\"scatter\",\"showlegend\":false}],                        {\"template\":{\"data\":{\"histogram2dcontour\":[{\"type\":\"histogram2dcontour\",\"colorbar\":{\"outlinewidth\":0,\"ticks\":\"\"},\"colorscale\":[[0.0,\"#0d0887\"],[0.1111111111111111,\"#46039f\"],[0.2222222222222222,\"#7201a8\"],[0.3333333333333333,\"#9c179e\"],[0.4444444444444444,\"#bd3786\"],[0.5555555555555556,\"#d8576b\"],[0.6666666666666666,\"#ed7953\"],[0.7777777777777778,\"#fb9f3a\"],[0.8888888888888888,\"#fdca26\"],[1.0,\"#f0f921\"]]}],\"choropleth\":[{\"type\":\"choropleth\",\"colorbar\":{\"outlinewidth\":0,\"ticks\":\"\"}}],\"histogram2d\":[{\"type\":\"histogram2d\",\"colorbar\":{\"outlinewidth\":0,\"ticks\":\"\"},\"colorscale\":[[0.0,\"#0d0887\"],[0.1111111111111111,\"#46039f\"],[0.2222222222222222,\"#7201a8\"],[0.3333333333333333,\"#9c179e\"],[0.4444444444444444,\"#bd3786\"],[0.5555555555555556,\"#d8576b\"],[0.6666666666666666,\"#ed7953\"],[0.7777777777777778,\"#fb9f3a\"],[0.8888888888888888,\"#fdca26\"],[1.0,\"#f0f921\"]]}],\"heatmap\":[{\"type\":\"heatmap\",\"colorbar\":{\"outlinewidth\":0,\"ticks\":\"\"},\"colorscale\":[[0.0,\"#0d0887\"],[0.1111111111111111,\"#46039f\"],[0.2222222222222222,\"#7201a8\"],[0.3333333333333333,\"#9c179e\"],[0.4444444444444444,\"#bd3786\"],[0.5555555555555556,\"#d8576b\"],[0.6666666666666666,\"#ed7953\"],[0.7777777777777778,\"#fb9f3a\"],[0.8888888888888888,\"#fdca26\"],[1.0,\"#f0f921\"]]}],\"heatmapgl\":[{\"type\":\"heatmapgl\",\"colorbar\":{\"outlinewidth\":0,\"ticks\":\"\"},\"colorscale\":[[0.0,\"#0d0887\"],[0.1111111111111111,\"#46039f\"],[0.2222222222222222,\"#7201a8\"],[0.3333333333333333,\"#9c179e\"],[0.4444444444444444,\"#bd3786\"],[0.5555555555555556,\"#d8576b\"],[0.6666666666666666,\"#ed7953\"],[0.7777777777777778,\"#fb9f3a\"],[0.8888888888888888,\"#fdca26\"],[1.0,\"#f0f921\"]]}],\"contourcarpet\":[{\"type\":\"contourcarpet\",\"colorbar\":{\"outlinewidth\":0,\"ticks\":\"\"}}],\"contour\":[{\"type\":\"contour\",\"colorbar\":{\"outlinewidth\":0,\"ticks\":\"\"},\"colorscale\":[[0.0,\"#0d0887\"],[0.1111111111111111,\"#46039f\"],[0.2222222222222222,\"#7201a8\"],[0.3333333333333333,\"#9c179e\"],[0.4444444444444444,\"#bd3786\"],[0.5555555555555556,\"#d8576b\"],[0.6666666666666666,\"#ed7953\"],[0.7777777777777778,\"#fb9f3a\"],[0.8888888888888888,\"#fdca26\"],[1.0,\"#f0f921\"]]}],\"surface\":[{\"type\":\"surface\",\"colorbar\":{\"outlinewidth\":0,\"ticks\":\"\"},\"colorscale\":[[0.0,\"#0d0887\"],[0.1111111111111111,\"#46039f\"],[0.2222222222222222,\"#7201a8\"],[0.3333333333333333,\"#9c179e\"],[0.4444444444444444,\"#bd3786\"],[0.5555555555555556,\"#d8576b\"],[0.6666666666666666,\"#ed7953\"],[0.7777777777777778,\"#fb9f3a\"],[0.8888888888888888,\"#fdca26\"],[1.0,\"#f0f921\"]]}],\"mesh3d\":[{\"type\":\"mesh3d\",\"colorbar\":{\"outlinewidth\":0,\"ticks\":\"\"}}],\"scatter\":[{\"fillpattern\":{\"fillmode\":\"overlay\",\"size\":10,\"solidity\":0.2},\"type\":\"scatter\"}],\"parcoords\":[{\"type\":\"parcoords\",\"line\":{\"colorbar\":{\"outlinewidth\":0,\"ticks\":\"\"}}}],\"scatterpolargl\":[{\"type\":\"scatterpolargl\",\"marker\":{\"colorbar\":{\"outlinewidth\":0,\"ticks\":\"\"}}}],\"bar\":[{\"error_x\":{\"color\":\"#2a3f5f\"},\"error_y\":{\"color\":\"#2a3f5f\"},\"marker\":{\"line\":{\"color\":\"#E5ECF6\",\"width\":0.5},\"pattern\":{\"fillmode\":\"overlay\",\"size\":10,\"solidity\":0.2}},\"type\":\"bar\"}],\"scattergeo\":[{\"type\":\"scattergeo\",\"marker\":{\"colorbar\":{\"outlinewidth\":0,\"ticks\":\"\"}}}],\"scatterpolar\":[{\"type\":\"scatterpolar\",\"marker\":{\"colorbar\":{\"outlinewidth\":0,\"ticks\":\"\"}}}],\"histogram\":[{\"marker\":{\"pattern\":{\"fillmode\":\"overlay\",\"size\":10,\"solidity\":0.2}},\"type\":\"histogram\"}],\"scattergl\":[{\"type\":\"scattergl\",\"marker\":{\"colorbar\":{\"outlinewidth\":0,\"ticks\":\"\"}}}],\"scatter3d\":[{\"type\":\"scatter3d\",\"line\":{\"colorbar\":{\"outlinewidth\":0,\"ticks\":\"\"}},\"marker\":{\"colorbar\":{\"outlinewidth\":0,\"ticks\":\"\"}}}],\"scattermapbox\":[{\"type\":\"scattermapbox\",\"marker\":{\"colorbar\":{\"outlinewidth\":0,\"ticks\":\"\"}}}],\"scatterternary\":[{\"type\":\"scatterternary\",\"marker\":{\"colorbar\":{\"outlinewidth\":0,\"ticks\":\"\"}}}],\"scattercarpet\":[{\"type\":\"scattercarpet\",\"marker\":{\"colorbar\":{\"outlinewidth\":0,\"ticks\":\"\"}}}],\"carpet\":[{\"aaxis\":{\"endlinecolor\":\"#2a3f5f\",\"gridcolor\":\"white\",\"linecolor\":\"white\",\"minorgridcolor\":\"white\",\"startlinecolor\":\"#2a3f5f\"},\"baxis\":{\"endlinecolor\":\"#2a3f5f\",\"gridcolor\":\"white\",\"linecolor\":\"white\",\"minorgridcolor\":\"white\",\"startlinecolor\":\"#2a3f5f\"},\"type\":\"carpet\"}],\"table\":[{\"cells\":{\"fill\":{\"color\":\"#EBF0F8\"},\"line\":{\"color\":\"white\"}},\"header\":{\"fill\":{\"color\":\"#C8D4E3\"},\"line\":{\"color\":\"white\"}},\"type\":\"table\"}],\"barpolar\":[{\"marker\":{\"line\":{\"color\":\"#E5ECF6\",\"width\":0.5},\"pattern\":{\"fillmode\":\"overlay\",\"size\":10,\"solidity\":0.2}},\"type\":\"barpolar\"}],\"pie\":[{\"automargin\":true,\"type\":\"pie\"}]},\"layout\":{\"autotypenumbers\":\"strict\",\"colorway\":[\"#636efa\",\"#EF553B\",\"#00cc96\",\"#ab63fa\",\"#FFA15A\",\"#19d3f3\",\"#FF6692\",\"#B6E880\",\"#FF97FF\",\"#FECB52\"],\"font\":{\"color\":\"#2a3f5f\"},\"hovermode\":\"closest\",\"hoverlabel\":{\"align\":\"left\"},\"paper_bgcolor\":\"white\",\"plot_bgcolor\":\"#E5ECF6\",\"polar\":{\"bgcolor\":\"#E5ECF6\",\"angularaxis\":{\"gridcolor\":\"white\",\"linecolor\":\"white\",\"ticks\":\"\"},\"radialaxis\":{\"gridcolor\":\"white\",\"linecolor\":\"white\",\"ticks\":\"\"}},\"ternary\":{\"bgcolor\":\"#E5ECF6\",\"aaxis\":{\"gridcolor\":\"white\",\"linecolor\":\"white\",\"ticks\":\"\"},\"baxis\":{\"gridcolor\":\"white\",\"linecolor\":\"white\",\"ticks\":\"\"},\"caxis\":{\"gridcolor\":\"white\",\"linecolor\":\"white\",\"ticks\":\"\"}},\"coloraxis\":{\"colorbar\":{\"outlinewidth\":0,\"ticks\":\"\"}},\"colorscale\":{\"sequential\":[[0.0,\"#0d0887\"],[0.1111111111111111,\"#46039f\"],[0.2222222222222222,\"#7201a8\"],[0.3333333333333333,\"#9c179e\"],[0.4444444444444444,\"#bd3786\"],[0.5555555555555556,\"#d8576b\"],[0.6666666666666666,\"#ed7953\"],[0.7777777777777778,\"#fb9f3a\"],[0.8888888888888888,\"#fdca26\"],[1.0,\"#f0f921\"]],\"sequentialminus\":[[0.0,\"#0d0887\"],[0.1111111111111111,\"#46039f\"],[0.2222222222222222,\"#7201a8\"],[0.3333333333333333,\"#9c179e\"],[0.4444444444444444,\"#bd3786\"],[0.5555555555555556,\"#d8576b\"],[0.6666666666666666,\"#ed7953\"],[0.7777777777777778,\"#fb9f3a\"],[0.8888888888888888,\"#fdca26\"],[1.0,\"#f0f921\"]],\"diverging\":[[0,\"#8e0152\"],[0.1,\"#c51b7d\"],[0.2,\"#de77ae\"],[0.3,\"#f1b6da\"],[0.4,\"#fde0ef\"],[0.5,\"#f7f7f7\"],[0.6,\"#e6f5d0\"],[0.7,\"#b8e186\"],[0.8,\"#7fbc41\"],[0.9,\"#4d9221\"],[1,\"#276419\"]]},\"xaxis\":{\"gridcolor\":\"white\",\"linecolor\":\"white\",\"ticks\":\"\",\"title\":{\"standoff\":15},\"zerolinecolor\":\"white\",\"automargin\":true,\"zerolinewidth\":2},\"yaxis\":{\"gridcolor\":\"white\",\"linecolor\":\"white\",\"ticks\":\"\",\"title\":{\"standoff\":15},\"zerolinecolor\":\"white\",\"automargin\":true,\"zerolinewidth\":2},\"scene\":{\"xaxis\":{\"backgroundcolor\":\"#E5ECF6\",\"gridcolor\":\"white\",\"linecolor\":\"white\",\"showbackground\":true,\"ticks\":\"\",\"zerolinecolor\":\"white\",\"gridwidth\":2},\"yaxis\":{\"backgroundcolor\":\"#E5ECF6\",\"gridcolor\":\"white\",\"linecolor\":\"white\",\"showbackground\":true,\"ticks\":\"\",\"zerolinecolor\":\"white\",\"gridwidth\":2},\"zaxis\":{\"backgroundcolor\":\"#E5ECF6\",\"gridcolor\":\"white\",\"linecolor\":\"white\",\"showbackground\":true,\"ticks\":\"\",\"zerolinecolor\":\"white\",\"gridwidth\":2}},\"shapedefaults\":{\"line\":{\"color\":\"#2a3f5f\"}},\"annotationdefaults\":{\"arrowcolor\":\"#2a3f5f\",\"arrowhead\":0,\"arrowwidth\":1},\"geo\":{\"bgcolor\":\"white\",\"landcolor\":\"#E5ECF6\",\"subunitcolor\":\"white\",\"showland\":true,\"showlakes\":true,\"lakecolor\":\"white\"},\"title\":{\"x\":0.05},\"mapbox\":{\"style\":\"light\"}}},\"images\":[{\"sizex\":0.12,\"sizey\":0.12,\"source\":\"https://upload.wikimedia.org/wikipedia/commons/thumb/c/ca/LinkedIn_logo_initials.png/800px-LinkedIn_logo_initials.png\",\"x\":0.01,\"xanchor\":\"right\",\"xref\":\"paper\",\"y\":1.045,\"yanchor\":\"bottom\",\"yref\":\"paper\"}],\"title\":{\"text\":\"<b><span style='font-size: 20px;'>Content engagement rate over the past 12 months</span></b><br><span style='font-size: 18px;'>Average: 1.26% | This month: +0.00 pts (+0%)</span>\",\"x\":0.09,\"font\":{\"family\":\"Arial\",\"color\":\"black\"}},\"margin\":{\"pad\":10},\"yaxis\":{\"range\":[0,0.014455128205128207],\"tickmode\":\"array\",\"tickformat\":\".1%\"},\"paper_bgcolor\":\"#ffffff\",\"plot_bgcolor\":\"#ffffff\",\"width\":1200,\"height\":600},                        {\"responsive\": true}                    ).then(function(){\n",
       "                            \n",
       "var gd = document.getElementById('17ce0043-37c2-4826-96a1-660628462a37');\n",
       "var x = new MutationObserver(function (mutations, observer) {{\n",
       "        var display = window.getComputedStyle(gd).display;\n",
       "        if (!display || display === 'none') {{\n",
       "            console.log([gd, 'removed!']);\n",
       "            Plotly.purge(gd);\n",
       "            observer.disconnect();\n",
       "        }}\n",
       "}});\n",
       "\n",
       "// Listen for the removal of the full notebook cells\n",
       "var notebookContainer = gd.closest('#notebook-container');\n",
       "if (notebookContainer) {{\n",
       "    x.observe(notebookContainer, {childList: true});\n",
       "}}\n",
       "\n",
       "// Listen for the clearing of the current output cell\n",
       "var outputEl = gd.closest('.output');\n",
       "if (outputEl) {{\n",
       "    x.observe(outputEl, {childList: true});\n",
       "}}\n",
       "\n",
       "                        })                };                });            </script>        </div>"
      ]
     },
     "metadata": {},
     "output_type": "display_data"
    }
   ],
   "source": [
    "def create_linechart(df,\n",
    "                    label=\"DATE_D\",\n",
    "                    value=\"VALUE\",\n",
    "                    value_d=\"VALUE_D\",\n",
    "                    text=\"TEXT\"):\n",
    "    # Init\n",
    "    fig = go.Figure()\n",
    "    \n",
    "    # Create fig\n",
    "    fig.add_trace(\n",
    "        go.Scatter(\n",
    "            x=df[label],\n",
    "            y=df[value],\n",
    "            mode=\"lines+markers+text\",\n",
    "            text=df[value_d],\n",
    "            textposition=\"top center\",\n",
    "            hoverinfo=\"text\",\n",
    "            hovertext=df[text],\n",
    "            line=dict(color=COLOR, width=4),\n",
    "        )\n",
    "    )\n",
    "    # Add logo\n",
    "    fig.add_layout_image(\n",
    "        dict(\n",
    "            source=LOGO,\n",
    "            xref=\"paper\",\n",
    "            yref=\"paper\",\n",
    "            x=0.01,\n",
    "            y=1.045,\n",
    "            sizex=0.12,\n",
    "            sizey=0.12,\n",
    "            xanchor=\"right\",\n",
    "            yanchor=\"bottom\"\n",
    "        )\n",
    "    )\n",
    "    fig.update_traces(showlegend=False)\n",
    "    # Plotly: Create title\n",
    "    total_eng = df[\"ENGAGEMENTS\"].sum()\n",
    "    total_views = df[\"VIEWS\"].sum()\n",
    "    total_value = \"{:,.2%}\".format(total_eng / total_views).replace(\",\", \" \")\n",
    "    varv = df.loc[df.index[-1], \"VARV\"] * 100\n",
    "    varp = df.loc[df.index[-1], \"VARP\"]\n",
    "    varv_d = \"{:,.2f} pts\".format(varv).replace(\",\", \" \")\n",
    "    varp_d = \"{:,.0%}\".format(varp).replace(\",\", \" \")\n",
    "    if varv >= 0:\n",
    "        varv_d = f\"+{varv_d}\"\n",
    "        varp_d = f\"+{varp_d}\"\n",
    "    title = f\"<b><span style='font-size: 20px;'>{TITLE}</span></b><br><span style='font-size: 18px;'>Average: {total_value} | {PERIOD_TEXT}: {varv_d} ({varp_d})</span>\"\n",
    "    fig.update_layout(\n",
    "        title=title,\n",
    "        title_x=0.09,\n",
    "        title_font=dict(family=\"Arial\", color=\"black\"),\n",
    "        paper_bgcolor=\"#ffffff\",\n",
    "        plot_bgcolor=\"#ffffff\",\n",
    "        width=1200,\n",
    "        height=600,\n",
    "        margin_pad=10,\n",
    "        yaxis = dict(\n",
    "            range=[0, df[value].max() * 1.1],\n",
    "            tickmode='array',\n",
    "            tickformat='.1%'\n",
    "        )\n",
    "    )\n",
    "    fig.show()\n",
    "    return fig\n",
    "\n",
    "fig = create_barchart(df_actual)"
   ]
  },
  {
   "cell_type": "markdown",
   "id": "942c681d",
   "metadata": {
    "papermill": {},
    "tags": []
   },
   "source": [
    "## Output"
   ]
  },
  {
   "cell_type": "markdown",
   "id": "b4bb71da",
   "metadata": {
    "papermill": {},
    "tags": []
   },
   "source": [
    "### Save and share your csv file"
   ]
  },
  {
   "cell_type": "code",
   "execution_count": 12,
   "id": "d43c7763",
   "metadata": {
    "execution": {
     "iopub.execute_input": "2022-07-01T14:58:13.166913Z",
     "iopub.status.busy": "2022-07-01T14:58:13.166673Z",
     "iopub.status.idle": "2022-07-01T14:58:13.688806Z",
     "shell.execute_reply": "2022-07-01T14:58:13.688143Z",
     "shell.execute_reply.started": "2022-07-01T14:58:13.166889Z"
    },
    "papermill": {},
    "tags": []
   },
   "outputs": [
    {
     "name": "stdout",
     "output_type": "stream",
     "text": [
      "👌 Well done! Your Assets has been sent to production.\n",
      "\n"
     ]
    },
    {
     "data": {
      "application/javascript": [
       "\n",
       "    if (!window.copyToClipboard) {\n",
       "        window.copyToClipboard = (text) => {\n",
       "            const dummy = document.createElement(\"textarea\");\n",
       "            document.body.appendChild(dummy);\n",
       "            dummy.value = text;\n",
       "            dummy.select();\n",
       "            document.execCommand(\"copy\");\n",
       "            document.body.removeChild(dummy);\n",
       "        }\n",
       "    }\n",
       "    "
      ],
      "text/plain": [
       "<IPython.core.display.Javascript object>"
      ]
     },
     "metadata": {},
     "output_type": "display_data"
    },
    {
     "data": {
      "application/vnd.jupyter.widget-view+json": {
       "model_id": "735a564e690e47c49b5b57ae45c97f2a",
       "version_major": 2,
       "version_minor": 0
      },
      "text/plain": [
       "Button(button_style='primary', description='Copy URL', style=ButtonStyle())"
      ]
     },
     "metadata": {},
     "output_type": "display_data"
    },
    {
     "data": {
      "application/vnd.jupyter.widget-view+json": {
       "model_id": "7d0167f63918469f87a145f24b1abcaf",
       "version_major": 2,
       "version_minor": 0
      },
      "text/plain": [
       "Output()"
      ]
     },
     "metadata": {},
     "output_type": "display_data"
    },
    {
     "name": "stdout",
     "output_type": "stream",
     "text": [
      "PS: to remove the \"Assets\" feature, just replace .add by .delete\n"
     ]
    }
   ],
   "source": [
    "# Save your dataframe in CSV\n",
    "output_path = save_graph_asset(df_actual, csv_output)\n",
    "\n",
    "# Share output with naas\n",
    "csv_link = naas.asset.add(output_path)\n",
    "\n",
    "#-> Uncomment the line below to remove your asset\n",
    "# naas.asset.delete(csv_output)"
   ]
  },
  {
   "cell_type": "markdown",
   "id": "2f26c093",
   "metadata": {
    "papermill": {},
    "tags": []
   },
   "source": [
    "### Save and share your graph in HTML"
   ]
  },
  {
   "cell_type": "code",
   "execution_count": 13,
   "id": "6e0caceb",
   "metadata": {
    "execution": {
     "iopub.execute_input": "2022-07-01T14:58:13.690316Z",
     "iopub.status.busy": "2022-07-01T14:58:13.690085Z",
     "iopub.status.idle": "2022-07-01T14:58:14.590207Z",
     "shell.execute_reply": "2022-07-01T14:58:14.589529Z",
     "shell.execute_reply.started": "2022-07-01T14:58:13.690286Z"
    },
    "papermill": {},
    "tags": []
   },
   "outputs": [
    {
     "name": "stdout",
     "output_type": "stream",
     "text": [
      "👌 Well done! Your Assets has been sent to production.\n",
      "\n"
     ]
    },
    {
     "data": {
      "application/javascript": [
       "\n",
       "    if (!window.copyToClipboard) {\n",
       "        window.copyToClipboard = (text) => {\n",
       "            const dummy = document.createElement(\"textarea\");\n",
       "            document.body.appendChild(dummy);\n",
       "            dummy.value = text;\n",
       "            dummy.select();\n",
       "            document.execCommand(\"copy\");\n",
       "            document.body.removeChild(dummy);\n",
       "        }\n",
       "    }\n",
       "    "
      ],
      "text/plain": [
       "<IPython.core.display.Javascript object>"
      ]
     },
     "metadata": {},
     "output_type": "display_data"
    },
    {
     "data": {
      "application/vnd.jupyter.widget-view+json": {
       "model_id": "6c0c40d33b474666a26f69da58111a22",
       "version_major": 2,
       "version_minor": 0
      },
      "text/plain": [
       "Button(button_style='primary', description='Copy URL', style=ButtonStyle())"
      ]
     },
     "metadata": {},
     "output_type": "display_data"
    },
    {
     "data": {
      "application/vnd.jupyter.widget-view+json": {
       "model_id": "faac46e574f44546b2f783c5cba05976",
       "version_major": 2,
       "version_minor": 0
      },
      "text/plain": [
       "Output()"
      ]
     },
     "metadata": {},
     "output_type": "display_data"
    },
    {
     "name": "stdout",
     "output_type": "stream",
     "text": [
      "PS: to remove the \"Assets\" feature, just replace .add by .delete\n"
     ]
    }
   ],
   "source": [
    "# Save your graph in HTML\n",
    "output_path = save_graph_asset(fig, html_output)\n",
    "\n",
    "# Share output with naas\n",
    "html_link = naas.asset.add(output_path, params={\"inline\": True})\n",
    "\n",
    "#-> Uncomment the line below to remove your asset\n",
    "# naas.asset.delete(html_output)"
   ]
  },
  {
   "cell_type": "markdown",
   "id": "e327122e",
   "metadata": {
    "papermill": {},
    "tags": []
   },
   "source": [
    "### Save and share your graph in image"
   ]
  },
  {
   "cell_type": "code",
   "execution_count": 14,
   "id": "124b1576",
   "metadata": {
    "execution": {
     "iopub.execute_input": "2022-07-01T14:58:14.634027Z",
     "iopub.status.busy": "2022-07-01T14:58:14.633802Z",
     "iopub.status.idle": "2022-07-01T14:58:16.592147Z",
     "shell.execute_reply": "2022-07-01T14:58:16.591453Z",
     "shell.execute_reply.started": "2022-07-01T14:58:14.634005Z"
    },
    "papermill": {},
    "tags": []
   },
   "outputs": [
    {
     "name": "stdout",
     "output_type": "stream",
     "text": [
      "👌 Well done! Your Assets has been sent to production.\n",
      "\n"
     ]
    },
    {
     "data": {
      "application/javascript": [
       "\n",
       "    if (!window.copyToClipboard) {\n",
       "        window.copyToClipboard = (text) => {\n",
       "            const dummy = document.createElement(\"textarea\");\n",
       "            document.body.appendChild(dummy);\n",
       "            dummy.value = text;\n",
       "            dummy.select();\n",
       "            document.execCommand(\"copy\");\n",
       "            document.body.removeChild(dummy);\n",
       "        }\n",
       "    }\n",
       "    "
      ],
      "text/plain": [
       "<IPython.core.display.Javascript object>"
      ]
     },
     "metadata": {},
     "output_type": "display_data"
    },
    {
     "data": {
      "application/vnd.jupyter.widget-view+json": {
       "model_id": "0fa436fd10284339b1d8254a0adc1d17",
       "version_major": 2,
       "version_minor": 0
      },
      "text/plain": [
       "Button(button_style='primary', description='Copy URL', style=ButtonStyle())"
      ]
     },
     "metadata": {},
     "output_type": "display_data"
    },
    {
     "data": {
      "application/vnd.jupyter.widget-view+json": {
       "model_id": "a9cae4452c724b02b74974f1060331d2",
       "version_major": 2,
       "version_minor": 0
      },
      "text/plain": [
       "Output()"
      ]
     },
     "metadata": {},
     "output_type": "display_data"
    },
    {
     "name": "stdout",
     "output_type": "stream",
     "text": [
      "PS: to remove the \"Assets\" feature, just replace .add by .delete\n"
     ]
    }
   ],
   "source": [
    "# Save your graph in PNG\n",
    "output_path = save_graph_asset(fig, image_output)\n",
    "\n",
    "# Share output with naas\n",
    "image_link = naas.asset.add(output_path)\n",
    "\n",
    "#-> Uncomment the line below to remove your asset\n",
    "# naas.asset.delete(image_output)"
   ]
  },
  {
   "cell_type": "markdown",
   "id": "3338b963-dd53-4340-a5f7-aa232fa09970",
   "metadata": {
    "execution": {
     "iopub.execute_input": "2022-06-16T12:40:24.017252Z",
     "iopub.status.busy": "2022-06-16T12:40:24.016941Z",
     "iopub.status.idle": "2022-06-16T12:40:24.020164Z",
     "shell.execute_reply": "2022-06-16T12:40:24.019527Z",
     "shell.execute_reply.started": "2022-06-16T12:40:24.017224Z"
    },
    "tags": []
   },
   "source": [
    "### Update Notion Report"
   ]
  },
  {
   "cell_type": "code",
   "execution_count": 15,
   "id": "c5fd0b71-de89-48fd-b2dc-694c12acc7e7",
   "metadata": {
    "execution": {
     "iopub.execute_input": "2022-07-01T14:58:17.379539Z",
     "iopub.status.busy": "2022-07-01T14:58:17.379209Z",
     "iopub.status.idle": "2022-07-01T14:58:17.406086Z",
     "shell.execute_reply": "2022-07-01T14:58:17.405519Z",
     "shell.execute_reply.started": "2022-07-01T14:58:17.379504Z"
    },
    "tags": []
   },
   "outputs": [
    {
     "data": {
      "text/html": [
       "<div>\n",
       "<style scoped>\n",
       "    .dataframe tbody tr th:only-of-type {\n",
       "        vertical-align: middle;\n",
       "    }\n",
       "\n",
       "    .dataframe tbody tr th {\n",
       "        vertical-align: top;\n",
       "    }\n",
       "\n",
       "    .dataframe thead th {\n",
       "        text-align: right;\n",
       "    }\n",
       "</style>\n",
       "<table border=\"1\" class=\"dataframe\">\n",
       "  <thead>\n",
       "    <tr style=\"text-align: right;\">\n",
       "      <th></th>\n",
       "      <th>DATE</th>\n",
       "      <th>DATE_D</th>\n",
       "      <th>ENGAGEMENTS</th>\n",
       "      <th>VIEWS</th>\n",
       "      <th>VALUE</th>\n",
       "      <th>VALUE_COMP</th>\n",
       "      <th>VARV</th>\n",
       "      <th>VARP</th>\n",
       "      <th>VALUE_D</th>\n",
       "      <th>VARV_D</th>\n",
       "      <th>VARP_D</th>\n",
       "      <th>TEXT</th>\n",
       "    </tr>\n",
       "  </thead>\n",
       "  <tbody>\n",
       "    <tr>\n",
       "      <th>0</th>\n",
       "      <td>2021-08</td>\n",
       "      <td>Aug 2021</td>\n",
       "      <td>0</td>\n",
       "      <td>0</td>\n",
       "      <td>0.00</td>\n",
       "      <td>0.00</td>\n",
       "      <td>0.00</td>\n",
       "      <td>0.000000</td>\n",
       "      <td>&lt;b&gt;&lt;span style=font-size: 16px; style=font-fam...</td>\n",
       "      <td>+0.00 pts</td>\n",
       "      <td>+0%</td>\n",
       "      <td>&lt;b&gt;&lt;span style='font-size: 14px;'&gt;Aug 2021: &lt;b...</td>\n",
       "    </tr>\n",
       "    <tr>\n",
       "      <th>1</th>\n",
       "      <td>2021-09</td>\n",
       "      <td>Sep 2021</td>\n",
       "      <td>0</td>\n",
       "      <td>0</td>\n",
       "      <td>0.00</td>\n",
       "      <td>0.00</td>\n",
       "      <td>0.00</td>\n",
       "      <td>0.000000</td>\n",
       "      <td>&lt;b&gt;&lt;span style=font-size: 16px; style=font-fam...</td>\n",
       "      <td>+0.00 pts</td>\n",
       "      <td>+0%</td>\n",
       "      <td>&lt;b&gt;&lt;span style='font-size: 14px;'&gt;Sep 2021: &lt;b...</td>\n",
       "    </tr>\n",
       "    <tr>\n",
       "      <th>2</th>\n",
       "      <td>2021-10</td>\n",
       "      <td>Oct 2021</td>\n",
       "      <td>0</td>\n",
       "      <td>0</td>\n",
       "      <td>0.00</td>\n",
       "      <td>0.00</td>\n",
       "      <td>0.00</td>\n",
       "      <td>0.000000</td>\n",
       "      <td>&lt;b&gt;&lt;span style=font-size: 16px; style=font-fam...</td>\n",
       "      <td>+0.00 pts</td>\n",
       "      <td>+0%</td>\n",
       "      <td>&lt;b&gt;&lt;span style='font-size: 14px;'&gt;Oct 2021: &lt;b...</td>\n",
       "    </tr>\n",
       "    <tr>\n",
       "      <th>3</th>\n",
       "      <td>2021-11</td>\n",
       "      <td>Nov 2021</td>\n",
       "      <td>0</td>\n",
       "      <td>0</td>\n",
       "      <td>0.00</td>\n",
       "      <td>0.00</td>\n",
       "      <td>0.00</td>\n",
       "      <td>0.000000</td>\n",
       "      <td>&lt;b&gt;&lt;span style=font-size: 16px; style=font-fam...</td>\n",
       "      <td>+0.00 pts</td>\n",
       "      <td>+0%</td>\n",
       "      <td>&lt;b&gt;&lt;span style='font-size: 14px;'&gt;Nov 2021: &lt;b...</td>\n",
       "    </tr>\n",
       "    <tr>\n",
       "      <th>4</th>\n",
       "      <td>2021-12</td>\n",
       "      <td>Dec 2021</td>\n",
       "      <td>0</td>\n",
       "      <td>0</td>\n",
       "      <td>0.00</td>\n",
       "      <td>0.00</td>\n",
       "      <td>0.00</td>\n",
       "      <td>0.000000</td>\n",
       "      <td>&lt;b&gt;&lt;span style=font-size: 16px; style=font-fam...</td>\n",
       "      <td>+0.00 pts</td>\n",
       "      <td>+0%</td>\n",
       "      <td>&lt;b&gt;&lt;span style='font-size: 14px;'&gt;Dec 2021: &lt;b...</td>\n",
       "    </tr>\n",
       "    <tr>\n",
       "      <th>5</th>\n",
       "      <td>2022-01</td>\n",
       "      <td>Jan 2022</td>\n",
       "      <td>0</td>\n",
       "      <td>0</td>\n",
       "      <td>0.00</td>\n",
       "      <td>0.00</td>\n",
       "      <td>0.00</td>\n",
       "      <td>0.000000</td>\n",
       "      <td>&lt;b&gt;&lt;span style=font-size: 16px; style=font-fam...</td>\n",
       "      <td>+0.00 pts</td>\n",
       "      <td>+0%</td>\n",
       "      <td>&lt;b&gt;&lt;span style='font-size: 14px;'&gt;Jan 2022: &lt;b...</td>\n",
       "    </tr>\n",
       "    <tr>\n",
       "      <th>6</th>\n",
       "      <td>2022-02</td>\n",
       "      <td>Feb 2022</td>\n",
       "      <td>0</td>\n",
       "      <td>0</td>\n",
       "      <td>0.00</td>\n",
       "      <td>0.00</td>\n",
       "      <td>0.00</td>\n",
       "      <td>0.000000</td>\n",
       "      <td>&lt;b&gt;&lt;span style=font-size: 16px; style=font-fam...</td>\n",
       "      <td>+0.00 pts</td>\n",
       "      <td>+0%</td>\n",
       "      <td>&lt;b&gt;&lt;span style='font-size: 14px;'&gt;Feb 2022: &lt;b...</td>\n",
       "    </tr>\n",
       "    <tr>\n",
       "      <th>7</th>\n",
       "      <td>2022-03</td>\n",
       "      <td>Mar 2022</td>\n",
       "      <td>0</td>\n",
       "      <td>0</td>\n",
       "      <td>0.00</td>\n",
       "      <td>0.00</td>\n",
       "      <td>0.00</td>\n",
       "      <td>0.000000</td>\n",
       "      <td>&lt;b&gt;&lt;span style=font-size: 16px; style=font-fam...</td>\n",
       "      <td>+0.00 pts</td>\n",
       "      <td>+0%</td>\n",
       "      <td>&lt;b&gt;&lt;span style='font-size: 14px;'&gt;Mar 2022: &lt;b...</td>\n",
       "    </tr>\n",
       "    <tr>\n",
       "      <th>8</th>\n",
       "      <td>2022-04</td>\n",
       "      <td>Apr 2022</td>\n",
       "      <td>35</td>\n",
       "      <td>3011</td>\n",
       "      <td>1.16</td>\n",
       "      <td>0.00</td>\n",
       "      <td>0.00</td>\n",
       "      <td>0.000000</td>\n",
       "      <td>&lt;b&gt;&lt;span style=font-size: 16px; style=font-fam...</td>\n",
       "      <td>+0.00 pts</td>\n",
       "      <td>+0%</td>\n",
       "      <td>&lt;b&gt;&lt;span style='font-size: 14px;'&gt;Apr 2022: &lt;b...</td>\n",
       "    </tr>\n",
       "    <tr>\n",
       "      <th>9</th>\n",
       "      <td>2022-05</td>\n",
       "      <td>May 2022</td>\n",
       "      <td>246</td>\n",
       "      <td>18720</td>\n",
       "      <td>1.31</td>\n",
       "      <td>1.16</td>\n",
       "      <td>0.15</td>\n",
       "      <td>0.130504</td>\n",
       "      <td>&lt;b&gt;&lt;span style=font-size: 16px; style=font-fam...</td>\n",
       "      <td>+0.15 pts</td>\n",
       "      <td>+13%</td>\n",
       "      <td>&lt;b&gt;&lt;span style='font-size: 14px;'&gt;May 2022: &lt;b...</td>\n",
       "    </tr>\n",
       "    <tr>\n",
       "      <th>10</th>\n",
       "      <td>2022-06</td>\n",
       "      <td>Jun 2022</td>\n",
       "      <td>145</td>\n",
       "      <td>12133</td>\n",
       "      <td>1.20</td>\n",
       "      <td>1.31</td>\n",
       "      <td>-0.12</td>\n",
       "      <td>-0.090567</td>\n",
       "      <td>&lt;b&gt;&lt;span style=font-size: 16px; style=font-fam...</td>\n",
       "      <td>-0.12 pts</td>\n",
       "      <td>-9%</td>\n",
       "      <td>&lt;b&gt;&lt;span style='font-size: 14px;'&gt;Jun 2022: &lt;b...</td>\n",
       "    </tr>\n",
       "    <tr>\n",
       "      <th>11</th>\n",
       "      <td>2022-07</td>\n",
       "      <td>Jul 2022</td>\n",
       "      <td>0</td>\n",
       "      <td>0</td>\n",
       "      <td>0.00</td>\n",
       "      <td>1.20</td>\n",
       "      <td>0.00</td>\n",
       "      <td>0.000000</td>\n",
       "      <td>&lt;b&gt;&lt;span style=font-size: 16px; style=font-fam...</td>\n",
       "      <td>+0.00 pts</td>\n",
       "      <td>+0%</td>\n",
       "      <td>&lt;b&gt;&lt;span style='font-size: 14px;'&gt;Jul 2022: &lt;b...</td>\n",
       "    </tr>\n",
       "  </tbody>\n",
       "</table>\n",
       "</div>"
      ],
      "text/plain": [
       "       DATE    DATE_D  ENGAGEMENTS  VIEWS  VALUE  VALUE_COMP  VARV      VARP  \\\n",
       "0   2021-08  Aug 2021            0      0   0.00        0.00  0.00  0.000000   \n",
       "1   2021-09  Sep 2021            0      0   0.00        0.00  0.00  0.000000   \n",
       "2   2021-10  Oct 2021            0      0   0.00        0.00  0.00  0.000000   \n",
       "3   2021-11  Nov 2021            0      0   0.00        0.00  0.00  0.000000   \n",
       "4   2021-12  Dec 2021            0      0   0.00        0.00  0.00  0.000000   \n",
       "5   2022-01  Jan 2022            0      0   0.00        0.00  0.00  0.000000   \n",
       "6   2022-02  Feb 2022            0      0   0.00        0.00  0.00  0.000000   \n",
       "7   2022-03  Mar 2022            0      0   0.00        0.00  0.00  0.000000   \n",
       "8   2022-04  Apr 2022           35   3011   1.16        0.00  0.00  0.000000   \n",
       "9   2022-05  May 2022          246  18720   1.31        1.16  0.15  0.130504   \n",
       "10  2022-06  Jun 2022          145  12133   1.20        1.31 -0.12 -0.090567   \n",
       "11  2022-07  Jul 2022            0      0   0.00        1.20  0.00  0.000000   \n",
       "\n",
       "                                              VALUE_D     VARV_D VARP_D  \\\n",
       "0   <b><span style=font-size: 16px; style=font-fam...  +0.00 pts    +0%   \n",
       "1   <b><span style=font-size: 16px; style=font-fam...  +0.00 pts    +0%   \n",
       "2   <b><span style=font-size: 16px; style=font-fam...  +0.00 pts    +0%   \n",
       "3   <b><span style=font-size: 16px; style=font-fam...  +0.00 pts    +0%   \n",
       "4   <b><span style=font-size: 16px; style=font-fam...  +0.00 pts    +0%   \n",
       "5   <b><span style=font-size: 16px; style=font-fam...  +0.00 pts    +0%   \n",
       "6   <b><span style=font-size: 16px; style=font-fam...  +0.00 pts    +0%   \n",
       "7   <b><span style=font-size: 16px; style=font-fam...  +0.00 pts    +0%   \n",
       "8   <b><span style=font-size: 16px; style=font-fam...  +0.00 pts    +0%   \n",
       "9   <b><span style=font-size: 16px; style=font-fam...  +0.15 pts   +13%   \n",
       "10  <b><span style=font-size: 16px; style=font-fam...  -0.12 pts    -9%   \n",
       "11  <b><span style=font-size: 16px; style=font-fam...  +0.00 pts    +0%   \n",
       "\n",
       "                                                 TEXT  \n",
       "0   <b><span style='font-size: 14px;'>Aug 2021: <b...  \n",
       "1   <b><span style='font-size: 14px;'>Sep 2021: <b...  \n",
       "2   <b><span style='font-size: 14px;'>Oct 2021: <b...  \n",
       "3   <b><span style='font-size: 14px;'>Nov 2021: <b...  \n",
       "4   <b><span style='font-size: 14px;'>Dec 2021: <b...  \n",
       "5   <b><span style='font-size: 14px;'>Jan 2022: <b...  \n",
       "6   <b><span style='font-size: 14px;'>Feb 2022: <b...  \n",
       "7   <b><span style='font-size: 14px;'>Mar 2022: <b...  \n",
       "8   <b><span style='font-size: 14px;'>Apr 2022: <b...  \n",
       "9   <b><span style='font-size: 14px;'>May 2022: <b...  \n",
       "10  <b><span style='font-size: 14px;'>Jun 2022: <b...  \n",
       "11  <b><span style='font-size: 14px;'>Jul 2022: <b...  "
      ]
     },
     "execution_count": 15,
     "metadata": {},
     "output_type": "execute_result"
    }
   ],
   "source": [
    "df_actual[\"VALUE\"] = round(df_actual[\"VALUE\"] * 100, 2)\n",
    "df_actual[\"VALUE_COMP\"] = round(df_actual[\"VALUE_COMP\"] * 100, 2)\n",
    "df_actual[\"VARV\"] = round(df_actual[\"VARV\"] * 100, 2)\n",
    "df_actual"
   ]
  },
  {
   "cell_type": "code",
   "execution_count": 16,
   "id": "5724e0d8-58f7-43e6-ab32-347e993c3c8c",
   "metadata": {
    "execution": {
     "iopub.execute_input": "2022-07-01T14:58:33.855994Z",
     "iopub.status.busy": "2022-07-01T14:58:33.855763Z",
     "iopub.status.idle": "2022-07-01T14:58:38.283631Z",
     "shell.execute_reply": "2022-07-01T14:58:38.282985Z",
     "shell.execute_reply.started": "2022-07-01T14:58:33.855971Z"
    },
    "tags": []
   },
   "outputs": [
    {
     "name": "stdout",
     "output_type": "stream",
     "text": [
      "✅ Page 'Engagement rate - LinkedIn - Florent Ravenel' updated in Notion.\n"
     ]
    }
   ],
   "source": [
    "update_report_status(KPI_TITLE,\n",
    "                     PLATFORM,\n",
    "                     OWNER,\n",
    "                     df_actual,\n",
    "                     image_link=image_link,\n",
    "                     html_link=html_link,\n",
    "                     csv_link=csv_link)"
   ]
  },
  {
   "cell_type": "code",
   "execution_count": null,
   "id": "b7025cd4-1bd3-4c05-abb4-9cb7a96be0fe",
   "metadata": {},
   "outputs": [],
   "source": []
  }
 ],
 "metadata": {
  "kernelspec": {
   "display_name": "Python 3",
   "language": "python",
   "name": "python3"
  },
  "language_info": {
   "codemirror_mode": {
    "name": "ipython",
    "version": 3
   },
   "file_extension": ".py",
   "mimetype": "text/x-python",
   "name": "python",
   "nbconvert_exporter": "python",
   "pygments_lexer": "ipython3",
   "version": "3.9.6"
  },
  "papermill": {
   "default_parameters": {},
   "environment_variables": {},
   "parameters": {},
   "version": "2.3.4"
  }
 },
 "nbformat": 4,
 "nbformat_minor": 5
}
